{
 "cells": [
  {
   "cell_type": "markdown",
   "metadata": {},
   "source": [
    "# This notebook calcs the yields and uncertainties using the original cuts\n",
    "\n",
    "## original basic cuts:\n",
    "- mll > 12\n",
    "- qT > 30\n",
    "- MET Projected > 20\n",
    "- number of extra leptons  = 0\n",
    "- number of jet < 0, 1\n",
    "\n",
    "In addition: \n",
    "if lepton pair is the same flavor: \n",
    "- mll < 76 or mll > 106 \n",
    "- qT > 45 \n",
    "\n",
    "\n",
    "## RF cut: .98"
   ]
  },
  {
   "cell_type": "code",
   "execution_count": 1,
   "metadata": {
    "collapsed": false
   },
   "outputs": [
    {
     "name": "stdout",
     "output_type": "stream",
     "text": [
      "loading data frame named df.\n",
      "finished loading data frame\n",
      "unc_mc_process and scales are dictionaries\n",
      "scale_data = (5.27/19.7)\n"
     ]
    },
    {
     "name": "stderr",
     "output_type": "stream",
     "text": [
      "/usr/local/lib/python2.7/site-packages/matplotlib/font_manager.py:273: UserWarning: Matplotlib is building the font cache using fc-list. This may take a moment.\n",
      "  warnings.warn('Matplotlib is building the font cache using fc-list. This may take a moment.')\n"
     ]
    }
   ],
   "source": [
    "run prep_ana.py"
   ]
  },
  {
   "cell_type": "code",
   "execution_count": 2,
   "metadata": {
    "collapsed": false
   },
   "outputs": [],
   "source": [
    "%matplotlib inline"
   ]
  },
  {
   "cell_type": "code",
   "execution_count": null,
   "metadata": {
    "collapsed": true
   },
   "outputs": [],
   "source": [
    "initial_cuts = (df.mll > 12 ) & (df.qT > 30) & (df.METProj > 20) & (df.numbExtraLep == 0)\n",
    "same_flavor_cut = (df.lep_Type < 0)\n",
    "dif_flavor_cut = (df.lep_Type > 0)\n",
    "z_peak_cut = (df.mll > 106) | (df.mll < 76)\n"
   ]
  },
  {
   "cell_type": "code",
   "execution_count": null,
   "metadata": {
    "collapsed": false
   },
   "outputs": [],
   "source": [
    "#\"Same flavor cuts\"\n",
    "basic_sf_0j_cuts = initial_cuts & (df.qT > 45) &same_flavor_cut & z_peak_cut& (df.numb_jets == 0)"
   ]
  },
  {
   "cell_type": "code",
   "execution_count": null,
   "metadata": {
    "collapsed": true
   },
   "outputs": [],
   "source": [
    "# \"Different flavor cuts\"\n",
    "basic_df_0j_cuts = initial_cuts & dif_flavor_cut &(df.numb_jets == 0)"
   ]
  },
  {
   "cell_type": "code",
   "execution_count": null,
   "metadata": {
    "collapsed": true
   },
   "outputs": [],
   "source": [
    "results_0j = { \"same_flavor\":{\"WW\": df[ basic_sf_0j_cuts &(df.WW == 1)].shape[0] * scales[\"WW\"] ,\n",
    "            \"DY\": df[ basic_sf_0j_cuts &(df.DY == 1)].shape[0] * scales[\"DY\"],\n",
    "            \"TT\": df[ basic_sf_0j_cuts &(df.TT == 1)].shape[0] * scales[\"TT\"] ,\n",
    "            \"ZZ\": df[ basic_sf_0j_cuts &(df.ZZ == 1)].shape[0] * scales[\"ZZ\"],\n",
    "            \"WZ\": df[ basic_sf_0j_cuts &(df.WZ == 1)].shape[0] * scales[\"WZ\"] }}\n",
    "\n",
    "results_0j[\"diff_flavor\"] = {\"WW\": df[ basic_df_0j_cuts &( df.WW == 1)].shape[0] * scales[\"WW\"] ,\n",
    "                            \"DY\": df[ basic_df_0j_cuts &( df.DY == 1)].shape[0] * scales[\"DY\"] ,\n",
    "                            \"TT\": df[ basic_df_0j_cuts &(df.TT == 1)].shape[0] * scales[\"TT\"] ,\n",
    "                            \"ZZ\": df[ basic_df_0j_cuts &(df.ZZ == 1)].shape[0] * scales[\"ZZ\"] ,\n",
    "                            \"WZ\": df[ basic_df_0j_cuts &(df.WZ == 1)].shape[0] * scales[\"WZ\"] }"
   ]
  },
  {
   "cell_type": "code",
   "execution_count": null,
   "metadata": {
    "collapsed": true
   },
   "outputs": [],
   "source": [
    "def create_table( data, round_digit ):\n",
    "    for flavor in data.keys():\n",
    "        print flavor\n",
    "        print \"\\t\",{ process : round(data[flavor][process], round_digit) for process in data[flavor].keys() }"
   ]
  },
  {
   "cell_type": "markdown",
   "metadata": {},
   "source": [
    "## Basic cuts Yields"
   ]
  },
  {
   "cell_type": "code",
   "execution_count": null,
   "metadata": {
    "collapsed": false
   },
   "outputs": [],
   "source": [
    "# results\n",
    "create_table(results_0j, 0)"
   ]
  },
  {
   "cell_type": "code",
   "execution_count": null,
   "metadata": {
    "collapsed": true
   },
   "outputs": [],
   "source": [
    "def combine_unc( data ):\n",
    "    comb_unc = {}\n",
    "    for process in data[data.keys()[0]].keys():\n",
    "        comb_unc[process] = 0\n",
    "    for flavor in data.keys():\n",
    "        for process in data[flavor].keys():\n",
    "            comb_unc[process] += pow( data[flavor][process], 2 )\n",
    "    print { process : round( pow( comb_unc[process], .5) , 2) for process in comb_unc.keys()}"
   ]
  },
  {
   "cell_type": "code",
   "execution_count": null,
   "metadata": {
    "collapsed": false
   },
   "outputs": [],
   "source": [
    "total_number = 0\n",
    "for flavor in results_0j.keys():\n",
    "    for process in results_0j[flavor].keys():\n",
    "        total_number += results_0j[flavor][process]\n",
    "print total_number"
   ]
  },
  {
   "cell_type": "code",
   "execution_count": null,
   "metadata": {
    "collapsed": true
   },
   "outputs": [],
   "source": [
    "summary_stat_unc = {}\n",
    "summary_norm_unc = {}\n",
    "\n",
    "relative_stat_unc = {}\n",
    "relative_norm_unc = {}\n",
    "\n",
    "post_cut_WW = results_0j[\"same_flavor\"][\"WW\"] + results_0j[\"diff_flavor\"][\"WW\"]\n",
    "\n",
    "coeff = 1. / ( 19.3e3 * (3*.108)**2 *.15 * (post_cut_WW / (df[df.WW==1].shape[0]*scales[\"WW\"])))\n",
    "\n",
    "\n",
    "for flavor in results_0j.keys():\n",
    "    summary_stat_unc[flavor] = {}\n",
    "    summary_norm_unc[flavor] = {}\n",
    "    \n",
    "    relative_stat_unc[flavor] = {}\n",
    "    relative_norm_unc[flavor] = {}\n",
    "    \n",
    "    for process in results_0j[flavor].keys():\n",
    "        if \"WW\" not in process: \n",
    "            summary_stat_unc[flavor][process] = coeff * scales[process] * pow( results_0j[flavor][process] / scales[process], .5)  \n",
    "            relative_stat_unc[flavor][process] = summary_stat_unc[flavor][process] / 58.77\n",
    "\n",
    "            summary_norm_unc[flavor][process] = coeff * unc_mc_process[process] * results_0j[flavor][process]   \n",
    "            relative_norm_unc[flavor][process] = summary_norm_unc[flavor][process] / 58.77\n"
   ]
  },
  {
   "cell_type": "markdown",
   "metadata": {},
   "source": [
    "## Basic cuts uncertainties\n",
    "\n",
    "the uncertainties calc were derived in updated_cuts"
   ]
  },
  {
   "cell_type": "code",
   "execution_count": null,
   "metadata": {
    "collapsed": false
   },
   "outputs": [],
   "source": [
    "print \"Stat uncertainty\"\n",
    "create_table( summary_stat_unc, 2)\n",
    "\n",
    "print \"\\n\\nRelative Stat uncertainty\"\n",
    "create_table( relative_stat_unc, 4)"
   ]
  },
  {
   "cell_type": "code",
   "execution_count": null,
   "metadata": {
    "collapsed": false
   },
   "outputs": [],
   "source": [
    "combine_unc(summary_stat_unc)"
   ]
  },
  {
   "cell_type": "code",
   "execution_count": null,
   "metadata": {
    "collapsed": false
   },
   "outputs": [],
   "source": [
    "print \"Norm uncertainty\"\n",
    "create_table( summary_norm_unc, 2)\n",
    "\n",
    "print \"\\n\\nRelative Norm uncertainty\"\n",
    "create_table( relative_norm_unc, 4)"
   ]
  },
  {
   "cell_type": "code",
   "execution_count": null,
   "metadata": {
    "collapsed": false
   },
   "outputs": [],
   "source": [
    "combine_unc(summary_norm_unc)"
   ]
  },
  {
   "cell_type": "code",
   "execution_count": null,
   "metadata": {
    "collapsed": false
   },
   "outputs": [],
   "source": [
    "print \"total stat unc\", pow( 0.06**2+ 0.22**2 + 0.09**2 + 0.79**2 , .5)\n",
    "print \"total norm unc\", pow( 0.36**2+ 0.31**2 + 0.07**2 + 0.71**2 , .5)"
   ]
  },
  {
   "cell_type": "markdown",
   "metadata": {},
   "source": [
    "## Random forest cut @ .98"
   ]
  },
  {
   "cell_type": "code",
   "execution_count": null,
   "metadata": {
    "collapsed": true
   },
   "outputs": [],
   "source": [
    "rf_cut = (df.rf_result > .98) & (df.numbExtraLep == 0)"
   ]
  },
  {
   "cell_type": "code",
   "execution_count": null,
   "metadata": {
    "collapsed": true
   },
   "outputs": [],
   "source": [
    "results_rf = {\"same_flavor\":{ process: df[ (df[process] == 1) & rf_cut & same_flavor_cut].shape[0]*scales[process] for process in scales.keys() if \"WJ\" not in process },\n",
    "              \"diff_flavor\":{ process: df[ (df[process] == 1) & rf_cut & dif_flavor_cut].shape[0]*scales[process] for process in scales.keys() if \"WJ\" not in process }}"
   ]
  },
  {
   "cell_type": "markdown",
   "metadata": {},
   "source": [
    "## RF Yields"
   ]
  },
  {
   "cell_type": "code",
   "execution_count": null,
   "metadata": {
    "collapsed": false
   },
   "outputs": [],
   "source": [
    "create_table(results_rf, 0)"
   ]
  },
  {
   "cell_type": "code",
   "execution_count": null,
   "metadata": {
    "collapsed": true
   },
   "outputs": [],
   "source": [
    "summary_stat_unc_rf = {}\n",
    "summary_norm_unc_rf = {}\n",
    "\n",
    "relative_stat_unc_rf = {}\n",
    "relative_norm_unc_rf = {}\n",
    "\n",
    "post_cut_WW = results_rf[\"same_flavor\"][\"WW\"] + results_rf[\"diff_flavor\"][\"WW\"]\n",
    "\n",
    "coeff = 1. / ( 19.3e3 * (3*.108)**2 *.15 * (post_cut_WW / (df[df.WW==1].shape[0]*scales[\"WW\"])))\n",
    "\n",
    "\n",
    "for flavor in results_rf.keys():\n",
    "    summary_stat_unc_rf[flavor] = {}\n",
    "    summary_norm_unc_rf[flavor] = {}\n",
    "    \n",
    "    relative_stat_unc_rf[flavor] = {}\n",
    "    relative_norm_unc_rf[flavor] = {}\n",
    "    \n",
    "    for process in results_rf[flavor].keys():\n",
    "        if \"WW\" not in process: \n",
    "            summary_stat_unc_rf[flavor][process] = coeff * scales[process] * pow( results_rf[flavor][process] / scales[process], .5)  \n",
    "            relative_stat_unc_rf[flavor][process] = summary_stat_unc_rf[flavor][process] / 58.77\n",
    "\n",
    "            summary_norm_unc_rf[flavor][process] = coeff * unc_mc_process[process] * results_rf[flavor][process]   \n",
    "            relative_norm_unc_rf[flavor][process] = summary_norm_unc_rf[flavor][process] / 58.77"
   ]
  },
  {
   "cell_type": "markdown",
   "metadata": {},
   "source": [
    "## RF uncertainties"
   ]
  },
  {
   "cell_type": "code",
   "execution_count": null,
   "metadata": {
    "collapsed": false
   },
   "outputs": [],
   "source": [
    "print \"Random forest stat uncertainty \"\n",
    "create_table(summary_stat_unc_rf, 3)"
   ]
  },
  {
   "cell_type": "code",
   "execution_count": null,
   "metadata": {
    "collapsed": false
   },
   "outputs": [],
   "source": [
    "print \"rf stat relative uncertainty \"\n",
    "create_table(relative_stat_unc_rf, 5)"
   ]
  },
  {
   "cell_type": "code",
   "execution_count": null,
   "metadata": {
    "collapsed": false
   },
   "outputs": [],
   "source": [
    "print \"Norm uncertainty\"\n",
    "create_table( summary_norm_unc_rf, 2)\n",
    "\n",
    "print \"\\n\\nRelative Norm uncertainty\"\n",
    "create_table( relative_norm_unc_rf, 5)"
   ]
  },
  {
   "cell_type": "markdown",
   "metadata": {},
   "source": [
    "## Comparing basic cuts and rf\n",
    "### Stat"
   ]
  },
  {
   "cell_type": "code",
   "execution_count": null,
   "metadata": {
    "collapsed": false
   },
   "outputs": [],
   "source": [
    "print \"Basic cuts stat unc\"\n",
    "create_table(summary_stat_unc, 3)"
   ]
  },
  {
   "cell_type": "code",
   "execution_count": null,
   "metadata": {
    "collapsed": false
   },
   "outputs": [],
   "source": [
    "print \"Random forest stat uncertainty \"\n",
    "create_table(summary_stat_unc_rf, 3)"
   ]
  },
  {
   "cell_type": "markdown",
   "metadata": {},
   "source": [
    "### Norm"
   ]
  },
  {
   "cell_type": "code",
   "execution_count": null,
   "metadata": {
    "collapsed": false
   },
   "outputs": [],
   "source": [
    "print \"Basic cuts Norm uncertainty\"\n",
    "create_table( summary_norm_unc, 2)"
   ]
  },
  {
   "cell_type": "code",
   "execution_count": null,
   "metadata": {
    "collapsed": false
   },
   "outputs": [],
   "source": [
    "print \"Random forest Norm uncertainty\"\n",
    "create_table( summary_norm_unc_rf, 2)"
   ]
  },
  {
   "cell_type": "markdown",
   "metadata": {},
   "source": [
    "## NJets "
   ]
  },
  {
   "cell_type": "code",
   "execution_count": 122,
   "metadata": {
    "collapsed": false
   },
   "outputs": [
    {
     "name": "stdout",
     "output_type": "stream",
     "text": [
      "[0.9988, 0.9788, 0.9588, 0.9388, 0.9188000000000001]\n"
     ]
    }
   ],
   "source": [
    "df_rf_cuts = []\n",
    "rf_cuts = [ .9988 - .1*i/5 for i in range(5)]\n",
    "for cut in rf_cuts:\n",
    "    df_rf_cuts.append(df[df.rf_result > cut])\n",
    "print rf_cuts"
   ]
  },
  {
   "cell_type": "code",
   "execution_count": 123,
   "metadata": {
    "collapsed": false
   },
   "outputs": [],
   "source": [
    "def sum_hist( bins ):\n",
    "    a = np.zeros(len(bins[bins.keys()[0]][0]))\n",
    "    for process in bins:\n",
    "        a += bins[process][0]\n",
    "    return a"
   ]
  },
  {
   "cell_type": "code",
   "execution_count": 111,
   "metadata": {
    "collapsed": false
   },
   "outputs": [],
   "source": [
    "bins = []\n",
    "for i in range(len(df_rf_cuts)):\n",
    "    bins.append({})\n",
    "    for process in scales.keys():\n",
    "        if \"WJ\" in process:\n",
    "            continue\n",
    "\n",
    "        bins[i][process] = list(np.histogram(df_rf_cuts[i][df_rf_cuts[i][process]==1].numb_jets , bins=6, range=(-.5,5.5))) \n",
    "        bins[i][process][0] = bins[i][process][0] * scales[process]\n",
    "    \n",
    "bins_tot = {}\n",
    "for process in scales.keys():\n",
    "    if \"WJ\" in process:\n",
    "        continue\n",
    "    bins_tot[process] = list(np.histogram(df[df[process]==1].numb_jets , bins=6, range=(-.5,5.5)))\n",
    "    bins_tot[process][0] = bins_tot[process][0] * scales[process]"
   ]
  },
  {
   "cell_type": "code",
   "execution_count": 120,
   "metadata": {
    "collapsed": false
   },
   "outputs": [
    {
     "data": {
      "text/plain": [
       "<matplotlib.legend.Legend at 0x148a24c90>"
      ]
     },
     "execution_count": 120,
     "metadata": {},
     "output_type": "execute_result"
    },
    {
     "data": {
      "image/png": "[encoded data removed]",
      "text/plain": [
       "<matplotlib.figure.Figure at 0x148a24cd0>"
      ]
     },
     "metadata": {},
     "output_type": "display_data"
    }
   ],
   "source": [
    "fig, ax = plt.subplots(1,5, figsize=(15, 5.5))\n",
    "for i in range(len(df_rf_cuts)):\n",
    "    rectpre = ax[i].bar(bins[i][\"TT\"][1][:-1], sum_hist(bins_tot)/sum_hist(bins_tot)[0], 1, color='w')\n",
    "    rect1 = ax[i].bar(bins[i][\"TT\"][1][:-1], sum_hist(bins[i])/sum_hist(bins[i])[0], 1, color='b', alpha=.6)\n",
    "    rect = ax[i].bar(bins[i][\"TT\"][1][:-1], bins[i][\"TT\"][0]/sum_hist(bins[i])[0], 1, color='r')\n",
    "    ax[i].set_xlim({5,-0.5})\n",
    "    ax[i].set_ylim( top= 1.05)\n",
    "    ax[i].get_xaxis().tick_bottom()\n",
    "    ax[i].get_yaxis().tick_left()\n",
    "    ax[i].set_title(\"RF >\"+str(rf_cuts[i]), fontsize=15)\n",
    "ax[2].set_xlabel(\"N Jets\", va='top', ha='center', fontsize=15, fontname='Arial', position=(.5, 0.))\n",
    "ax[0].set_ylabel(\"Events / 0 Jet Bin\", va='top', ha='right', fontsize=15, fontname='Arial', position=(-.05, 1.))\n",
    "ax[0].yaxis.labelpad = 10\n",
    "plt.legend([rectpre, rect1,rect], [\"Before Cut \",\"After Cut\",\"TT After Cut\"], frameon=True,loc=0, fontsize=18,bbox_to_anchor=(.6, 1.) )"
   ]
  },
  {
   "cell_type": "code",
   "execution_count": null,
   "metadata": {
    "collapsed": false
   },
   "outputs": [],
   "source": [
    "bins[i][\"TT\"]"
   ]
  },
  {
   "cell_type": "code",
   "execution_count": null,
   "metadata": {
    "collapsed": false
   },
   "outputs": [],
   "source": []
  },
  {
   "cell_type": "code",
   "execution_count": null,
   "metadata": {
    "collapsed": false
   },
   "outputs": [],
   "source": []
  },
  {
   "cell_type": "code",
   "execution_count": null,
   "metadata": {
    "collapsed": false
   },
   "outputs": [],
   "source": []
  },
  {
   "cell_type": "code",
   "execution_count": null,
   "metadata": {
    "collapsed": true
   },
   "outputs": [],
   "source": [
    "bins_rf = {}\n",
    "for process in scales.keys():\n",
    "    if \"WJ\" in process:\n",
    "        continue\n",
    "    bins_rf[process] = list(np.histogram(df[(df[process]==1) & (df.mll > 50.)  ].dPhiLLJet , bins=75, range=(0,3.14)))\n",
    "    bins_rf[process][0] = bins_rf[process][0] * scales[process]*(5.27/19.4)"
   ]
  },
  {
   "cell_type": "code",
   "execution_count": null,
   "metadata": {
    "collapsed": false
   },
   "outputs": [],
   "source": [
    "colors = {\"WW\": (0.993248, 0.906157, 0.143936),\\\n",
    "          \"DY\": (0.344074, 0.780029, 0.397381),\\\n",
    "          \"TT\": (0.121380, 0.629492, 0.531973),\\\n",
    "          \"ZZ\": (1. ,  0.85490196,  0.7254902 ),\\\n",
    "          \"WZ\": (0.165117, 0.467423, 0.558141),\\\n",
    "          \"WJ\": (0.267004, 0.004874, 0.329415)}\n",
    "\n",
    "fig, ax = plt.subplots(figsize=(12, 6))\n",
    "\n",
    "rect = []\n",
    "processes = [ \"WW\", \"TT\", \"WZ\", \"ZZ\", \"DY\"]\n",
    "sum_bins = np.zeros(len(bins_rf[processes[0]][0]))\n",
    "for process in processes:\n",
    "    #if len(rect) == 0:\n",
    "    #    bottom = 0\n",
    "    #else:\n",
    "    bottom = sum_bins\n",
    "\n",
    "    rect.append(ax.bar( bins_rf[process][1][:-1], bins_rf[process][0],\n",
    "                      bins_rf[process][1][1]-bins_rf[process][1][0] , color = colors[process],\n",
    "                      edgecolor = colors[process], bottom=bottom ))\n",
    "    sum_bins +=bins_rf[process][0] \n",
    "\n",
    "\n",
    "\n",
    "\n",
    "ax.set_yscale(\"log\", nonposy='clip')\n",
    "ax.set_xlim([0, 3.14])\n",
    "ax.set_ylim( bottom=1,  top= sum_bins.max()*20.)\n",
    "plt.legend(rect, processes, frameon=False)"
   ]
  },
  {
   "cell_type": "code",
   "execution_count": null,
   "metadata": {
    "collapsed": false
   },
   "outputs": [],
   "source": [
    "sum_bins.max()"
   ]
  },
  {
   "cell_type": "code",
   "execution_count": null,
   "metadata": {
    "collapsed": false
   },
   "outputs": [],
   "source": [
    ".9988"
   ]
  },
  {
   "cell_type": "code",
   "execution_count": null,
   "metadata": {
    "collapsed": false
   },
   "outputs": [],
   "source": [
    "scales"
   ]
  },
  {
   "cell_type": "code",
   "execution_count": null,
   "metadata": {
    "collapsed": false
   },
   "outputs": [],
   "source": [
    "def bin_df( df, binned_feature, scales=scales, range=None,bins=100, lumi_scale=(5.27/19.4)):\n",
    "    bins_rf = {}\n",
    "    \n",
    "    for process in scales.keys():\n",
    "        if \"WJ\" in process:\n",
    "            continue\n",
    "        bins_rf[process] = list(np.histogram(df[ (df[process]==1) ][binned_feature] , bins=bins, range=range))\n",
    "        bins_rf[process][0] = bins_rf[process][0] * scales[process]*lumi_scale\n",
    "    return bins_rf"
   ]
  },
  {
   "cell_type": "code",
   "execution_count": null,
   "metadata": {
    "collapsed": false
   },
   "outputs": [],
   "source": [
    "def plot_hist( bins, processes=[ \"WW\", \"TT\", \"WZ\", \"ZZ\", \"DY\"], x_range=None, y_range=None, title=None, y_label=None, color=colors, logy=True, x_minor_ticks=True):\n",
    "    \n",
    "    fig, ax = plt.subplots(figsize=(11, 5.5))\n",
    "\n",
    "    rect = []\n",
    "    sum_bins = np.zeros(len(bins[processes[0]][0]))\n",
    "    for process in processes:\n",
    "\n",
    "        bottom = sum_bins\n",
    "        rect.append(ax.bar( bins[process][1][:-1], bins[process][0],\n",
    "                          bins[process][1][1]-bins[process][1][0] , color = colors[process],\n",
    "                          edgecolor = colors[process], bottom=bottom ))\n",
    "        sum_bins +=bins[process][0] \n",
    "\n",
    "    #ax.text(2, 2, r'an equation: $E=mc^2$', fontsize=15,verticalalignment='top', horizontalalignment='left')\n",
    "        \n",
    "    \n",
    "    #Configurables\n",
    "    ax.set_yscale(\"log\", nonposy='clip')\n",
    "    if x_range!=None:ax.set_xlim(x_range)\n",
    "    if y_range==None:ax.set_ylim( bottom=1,  top= sum_bins.max()*20.)\n",
    "\n",
    "    if y_label != None:\n",
    "        plt.ylabel(y_label, position=(-0.5, 1.), va='top', ha='right', fontsize=14, fontname='Arial')\n",
    "    if title != None:\n",
    "        plt.xlabel( title, position=(1., 0.), va='bottom', ha='right', fontsize=14, fontname='Arial')\n",
    "        \n",
    "    plt.legend(rect, processes, frameon=False, fontsize=\"x-large\")\n",
    "    \n",
    "    ####################################\n",
    "    #Add minor tick marks to the x-axis\n",
    "    if x_minor_ticks == False:\n",
    "        loc = matplotlib.ticker.MultipleLocator(base=1) # this locator puts ticks at regular intervals\n",
    "        ax.xaxis.set_major_locator(loc)\n",
    "    else:\n",
    "        for i in ax.xaxis.majorTicks:\n",
    "            print i.get_loc()\n",
    "        loc = matplotlib.ticker.MultipleLocator( (bins[process][1][-1] - bins[process][1][0])/25. ) # this locator puts ticks at regular intervals\n",
    "        ax.xaxis.set_minor_locator(loc)\n",
    "    \n",
    "    ###################################\n",
    "    #Increase major tick label sizes\n",
    "    for label in (ax.get_xticklabels() + ax.get_yticklabels()):\n",
    "        label.set_fontsize(16)\n",
    "    ###################################\n",
    "    # alter tick lengths\n",
    "    ax.yaxis.set_tick_params(length=10)\n",
    "    ax.yaxis.set_tick_params(which='minor',length=5)\n",
    "    ax.xaxis.set_tick_params(length=10)\n",
    "    ax.xaxis.set_tick_params(which='minor',length=5)\n",
    "        \n",
    "        \n",
    "    ax.xaxis.labelpad = 20\n",
    "    ax.yaxis.labelpad = 20\n",
    "    \n",
    "    plt.tight_layout()\n",
    "    return fig, ax"
   ]
  },
  {
   "cell_type": "code",
   "execution_count": null,
   "metadata": {
    "collapsed": false
   },
   "outputs": [],
   "source": [
    "[\"TT\",\"DY\",\"WW\",\"ZZ\",\"WZ\"]"
   ]
  },
  {
   "cell_type": "code",
   "execution_count": 87,
   "metadata": {
    "collapsed": false
   },
   "outputs": [],
   "source": [
    "bins = bin_df(df[(df.mll > 50) ], \"rf_result\", range=(-1.01,1.01), lumi_scale=1, bins=100)"
   ]
  },
  {
   "cell_type": "code",
   "execution_count": 90,
   "metadata": {
    "collapsed": false
   },
   "outputs": [
    {
     "data": {
      "image/png": "[encoded data removed]",
      "text/plain": [
       "<matplotlib.figure.Figure at 0x1321ea450>"
      ]
     },
     "metadata": {},
     "output_type": "display_data"
    }
   ],
   "source": [
    "plot = plot_hist(bins, title=r\"RF score\", y_label=\"Events\", x_range=(-1.2,1.2), x_minor_ticks=True)\n",
    "plot[1].text(0, 1,r\"$\\mathcal{L}=19.4 fb^{-1}$\", ha='left', fontsize=15, transform=plot[1].transAxes)\n",
    "plot[1].xaxis.set_minor_locator( matplotlib.ticker.MultipleLocator( 1./8. ))"
   ]
  },
  {
   "cell_type": "code",
   "execution_count": 66,
   "metadata": {
    "collapsed": false
   },
   "outputs": [],
   "source": [
    "plot[0].savefig(\"../new_rf_result_eu.png\")"
   ]
  },
  {
   "cell_type": "code",
   "execution_count": 45,
   "metadata": {
    "collapsed": false
   },
   "outputs": [],
   "source": [
    "plt.legend?"
   ]
  },
  {
   "cell_type": "code",
   "execution_count": 104,
   "metadata": {
    "collapsed": false
   },
   "outputs": [],
   "source": [
    "bins = bin_df(df[(df.mll > 50) & (df.rf_result > .98 )], \"mll\", range=(0,250), lumi_scale=1, bins=100)"
   ]
  },
  {
   "cell_type": "code",
   "execution_count": 105,
   "metadata": {
    "collapsed": false
   },
   "outputs": [
    {
     "data": {
      "text/plain": [
       "<matplotlib.text.Text at 0x13f737d10>"
      ]
     },
     "execution_count": 105,
     "metadata": {},
     "output_type": "execute_result"
    },
    {
     "data": {
      "image/png": "[encoded data removed]",
      "text/plain": [
       "<matplotlib.figure.Figure at 0x13e3a4c90>"
      ]
     },
     "metadata": {},
     "output_type": "display_data"
    }
   ],
   "source": [
    "plot = plot_hist(bins, title=r\"mll\", processes=[\"TT\",\"DY\",\"WW\",\"ZZ\",\"WZ\"],y_label=\"Events\", x_range=(0,250), x_minor_ticks=True)\n",
    "plot[1].text(0, 1,r\"$\\mathcal{L}=19.4 fb^{-1}$\", ha='left', fontsize=15, transform=plot[1].transAxes)\n",
    "plot[1].text(0,.91,r\" RF > .98\", ha='left', fontsize=20, transform=plot[1].transAxes)"
   ]
  },
  {
   "cell_type": "code",
   "execution_count": 108,
   "metadata": {
    "collapsed": true
   },
   "outputs": [],
   "source": [
    "bins = bin_df(df[(df.mll > 50) & (df.rf_result > .98 )], \"numb_jets\", range=(-0.5,4.5), lumi_scale=1, bins=5)"
   ]
  },
  {
   "cell_type": "code",
   "execution_count": 109,
   "metadata": {
    "collapsed": false
   },
   "outputs": [
    {
     "data": {
      "text/plain": [
       "<matplotlib.text.Text at 0x13f997cd0>"
      ]
     },
     "execution_count": 109,
     "metadata": {},
     "output_type": "execute_result"
    },
    {
     "data": {
      "image/png": "[encoded data removed]",
      "text/plain": [
       "<matplotlib.figure.Figure at 0x13e6afa90>"
      ]
     },
     "metadata": {},
     "output_type": "display_data"
    }
   ],
   "source": [
    "plot = plot_hist(bins, title=r\"Njets\", processes=[\"TT\",\"DY\",\"WW\",\"ZZ\",\"WZ\"], y_label=\"Events\", x_range=(-0.5,4.50), x_minor_ticks=False)\n",
    "plot[1].text(0, 1,r\"$\\mathcal{L}=19.4 fb^{-1}$\", ha='left', fontsize=15, transform=plot[1].transAxes)\n",
    "plot[1].text(0,.91,r\" RF > .98\", ha='left', fontsize=20, transform=plot[1].transAxes)"
   ]
  },
  {
   "cell_type": "code",
   "execution_count": 121,
   "metadata": {
    "collapsed": false
   },
   "outputs": [
    {
     "data": {
      "text/plain": [
       "18576.692854832916"
      ]
     },
     "execution_count": 121,
     "metadata": {},
     "output_type": "execute_result"
    }
   ],
   "source": [
    "(df[df.WW==1].shape[0]*scales[\"WW\"])"
   ]
  },
  {
   "cell_type": "code",
   "execution_count": null,
   "metadata": {
    "collapsed": true
   },
   "outputs": [],
   "source": []
  },
  {
   "cell_type": "code",
   "execution_count": null,
   "metadata": {
    "collapsed": true
   },
   "outputs": [],
   "source": []
  },
  {
   "cell_type": "code",
   "execution_count": null,
   "metadata": {
    "collapsed": true
   },
   "outputs": [],
   "source": []
  }
 ],
 "metadata": {
  "kernelspec": {
   "display_name": "Python 2",
   "language": "python",
   "name": "python2"
  },
  "language_info": {
   "codemirror_mode": {
    "name": "ipython",
    "version": 2
   },
   "file_extension": ".py",
   "mimetype": "text/x-python",
   "name": "python",
   "nbconvert_exporter": "python",
   "pygments_lexer": "ipython2",
   "version": "2.7.10"
  }
 },
 "nbformat": 4,
 "nbformat_minor": 0
}
