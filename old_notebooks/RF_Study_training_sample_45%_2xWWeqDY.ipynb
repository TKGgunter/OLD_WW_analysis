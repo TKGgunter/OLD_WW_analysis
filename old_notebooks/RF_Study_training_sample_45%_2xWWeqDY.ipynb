{
 "cells": [
  {
   "cell_type": "markdown",
   "metadata": {},
   "source": [
    "# Validating the use of Random Forest for WW Cross-section Measurement ( 45% WW, n_WW*2 = DY, n_WW = TT)"
   ]
  },
  {
   "cell_type": "code",
   "execution_count": 1,
   "metadata": {
    "collapsed": false
   },
   "outputs": [
    {
     "name": "stdout",
     "output_type": "stream",
     "text": [
      "loading data frame named df.\n",
      "finished loading data frame\n",
      "unc_mc_process and scales are dictionaries\n",
      "scale_data = (5.27/19.7)\n"
     ]
    },
    {
     "name": "stderr",
     "output_type": "stream",
     "text": [
      "/usr/local/lib/python2.7/site-packages/matplotlib/font_manager.py:273: UserWarning: Matplotlib is building the font cache using fc-list. This may take a moment.\n",
      "  warnings.warn('Matplotlib is building the font cache using fc-list. This may take a moment.')\n"
     ]
    }
   ],
   "source": [
    "run prep_ana.py"
   ]
  },
  {
   "cell_type": "code",
   "execution_count": 2,
   "metadata": {
    "collapsed": true
   },
   "outputs": [],
   "source": [
    "%matplotlib inline"
   ]
  },
  {
   "cell_type": "code",
   "execution_count": 3,
   "metadata": {
    "collapsed": true
   },
   "outputs": [],
   "source": [
    "#load root files\n",
    "df_WW = rp.read_root(\"data/WW_tot_complete.root\", \"trees_vec\")\n",
    "df_DY = rp.read_root(\"data/DY_ll_complete.root\", \"trees_vec\")\n",
    "df_TT = rp.read_root(\"data/TT_ll_complete.root\", \"trees_vec\")\n",
    "\n",
    "df = pd.concat( [df_WW, df_TT, df_DY] )\n",
    "df = df.reset_index()"
   ]
  },
  {
   "cell_type": "code",
   "execution_count": 4,
   "metadata": {
    "collapsed": false
   },
   "outputs": [
    {
     "name": "stdout",
     "output_type": "stream",
     "text": [
      "WW (113599, 59)\n",
      "TT (1631022, 59)\n",
      "DY (3293145, 59)\n"
     ]
    }
   ],
   "source": [
    "for process in df.process.unique():\n",
    "    print process, df[ df.process == process].shape"
   ]
  },
  {
   "cell_type": "code",
   "execution_count": 5,
   "metadata": {
    "collapsed": false
   },
   "outputs": [
    {
     "name": "stdout",
     "output_type": "stream",
     "text": [
      "(204480, 59) (4833286, 59)\n"
     ]
    }
   ],
   "source": [
    "train_WW = df[df.process==\"WW\"].sample( frac= 0.45 )\n",
    "train_DY = df[df.process==\"DY\"].sample( n=train_WW.shape[0]*2 )\n",
    "train_TT = df[df.process==\"TT\"].sample( n=train_WW.shape[0] )\n",
    "train = pd.concat( [train_WW, train_DY, train_TT] )\n",
    "\n",
    "test = df.drop( train.index )\n",
    "print train.shape, test.shape"
   ]
  },
  {
   "cell_type": "code",
   "execution_count": 6,
   "metadata": {
    "collapsed": true
   },
   "outputs": [],
   "source": [
    "features = ['nBJet', 'numb_jets', 'lep1_pt', 'lep2_pt', 'METProj', 'METProj_trk_sin', 'qT', 'mll', 'metMod', 'dPhiLLMET', 'dPhiLLJet', 'dPhiLL', 'HT', 'lep_Type', 'mllMET', 'recoil' ] +\\\n",
    "            ['jetPt'+str(i) for i in range(1,3)] + [ 'jet'+str(i)+'_csv' for i in range(1,3) ]"
   ]
  },
  {
   "cell_type": "markdown",
   "metadata": {},
   "source": [
    "# RF"
   ]
  },
  {
   "cell_type": "code",
   "execution_count": 7,
   "metadata": {
    "collapsed": false
   },
   "outputs": [],
   "source": [
    "#labels\n",
    "labels = np.empty( train.shape[0] )\n",
    "weights = np.empty( train.shape[0])\n",
    "\n",
    "labels[(train.process == \"WW\").as_matrix()] = 1\n",
    "labels[(train.process == \"DY\").as_matrix()] = 2\n",
    "labels[(train.process == \"TT\").as_matrix()] = 2\n",
    "\n",
    "weights[(train.process == \"WW\").as_matrix()] = 1.\n",
    "weights[(train.process == \"DY\").as_matrix()] = 1\n",
    "weights[(train.process == \"TT\").as_matrix()] = 1"
   ]
  },
  {
   "cell_type": "code",
   "execution_count": 8,
   "metadata": {
    "collapsed": false
   },
   "outputs": [],
   "source": [
    "from sklearn.ensemble import RandomForestClassifier\n",
    "\n",
    "clf = RandomForestClassifier(n_estimators=100, n_jobs=-1, min_samples_split=10, max_depth=15, max_features='sqrt')\n",
    "clf = clf.fit( np.float32(train[features].values) , np.float32(labels), sample_weight=weights)"
   ]
  },
  {
   "cell_type": "code",
   "execution_count": 9,
   "metadata": {
    "collapsed": false
   },
   "outputs": [
    {
     "name": "stdout",
     "output_type": "stream",
     "text": [
      "0.958299100156\n"
     ]
    }
   ],
   "source": [
    "print clf.score(np.float32(train[features].values), np.float32(labels), weights)"
   ]
  },
  {
   "cell_type": "code",
   "execution_count": 10,
   "metadata": {
    "collapsed": false
   },
   "outputs": [
    {
     "name": "stdout",
     "output_type": "stream",
     "text": [
      "0.961680832337\n"
     ]
    }
   ],
   "source": [
    "#labels and weights\n",
    "df_labels = np.empty( df.shape[0] )\n",
    "df_weights = np.empty( df.shape[0])\n",
    "\n",
    "df_labels[(df.process == \"WW\").as_matrix()] = 1\n",
    "df_labels[(df.process == \"DY\").as_matrix()] = 2\n",
    "df_labels[(df.process == \"TT\").as_matrix()] = 2\n",
    "\n",
    "df_weights[(df.process == \"WW\").as_matrix()] = 1.\n",
    "df_weights[(df.process == \"DY\").as_matrix()] = 1\n",
    "df_weights[(df.process == \"TT\").as_matrix()] = 1\n",
    "\n",
    "print clf.score(np.float32(df[features].values), np.float32(df_labels), df_weights)"
   ]
  },
  {
   "cell_type": "code",
   "execution_count": 11,
   "metadata": {
    "collapsed": false
   },
   "outputs": [],
   "source": [
    "pred = clf.predict_proba(np.float32(test[features].values))\n",
    "\n",
    "test[\"pred_WW\"] = pred[:,0]\n",
    "test[\"pred_DY\"] = pred[:,1]\n",
    "test[\"pred_TT\"] = pred[:,1]"
   ]
  },
  {
   "cell_type": "code",
   "execution_count": 12,
   "metadata": {
    "collapsed": false
   },
   "outputs": [
    {
     "data": {
      "text/plain": [
       "<matplotlib.axes._subplots.AxesSubplot at 0x1200bead0>"
      ]
     },
     "execution_count": 12,
     "metadata": {},
     "output_type": "execute_result"
    },
    {
     "data": {
      "image/png": "[encoded data removed]",
      "text/plain": [
       "<matplotlib.figure.Figure at 0x1200be150>"
      ]
     },
     "metadata": {},
     "output_type": "display_data"
    }
   ],
   "source": [
    "test[ (test.process == \"WW\") ].pred_WW.hist( bins= 50 )"
   ]
  },
  {
   "cell_type": "code",
   "execution_count": 27,
   "metadata": {
    "collapsed": false
   },
   "outputs": [
    {
     "name": "stdout",
     "output_type": "stream",
     "text": [
      "\tdiff \tsame\n",
      "WW 3252.39981119 1194.29577525\n",
      "DY 381.91247831 747.322565582\n",
      "TT 216.66850213 79.9724402779\n"
     ]
    }
   ],
   "source": [
    "cut = 0.964\n",
    "feature_cuts =  (test.pred_WW > cut) & (test.numbExtraLep == 0) #& (test_df.qT > 0) & ()\n",
    "feature_cuts_diff =( test.lep_Type > 0 ) & feature_cuts\n",
    "feature_cuts_same = (test.lep_Type < 0) & feature_cuts #& (test.METProj_trk_sin > 30)\n",
    "print \"\\tdiff\", \"\\tsame\"\n",
    "for process in scales.keys():\n",
    "    if process in test.process.unique():\n",
    "        print process, test[ (test.process == process) & feature_cuts_diff].shape[0] * scales[process] * float(df[df.process == process].shape[0])/float(test[test.process == process].shape[0]),\\\n",
    "    test[ (test.process == process) & feature_cuts_same].shape[0] * scales[process] * float(df[df.process == process].shape[0])/float(test[test.process == process].shape[0])"
   ]
  },
  {
   "cell_type": "markdown",
   "metadata": {},
   "source": [
    "\tdiff \tsame\n",
    "WW 3822.56038396 1396.70063673\n",
    "DY 926.491382568 879.341693887\n",
    "TT 296.422420831 129.310621147"
   ]
  },
  {
   "cell_type": "code",
   "execution_count": 14,
   "metadata": {
    "collapsed": false
   },
   "outputs": [
    {
     "data": {
      "text/plain": [
       "(164657, 58)"
      ]
     },
     "execution_count": 14,
     "metadata": {},
     "output_type": "execute_result"
    }
   ],
   "source": [
    "df_DY.sample( frac=.05).shape"
   ]
  },
  {
   "cell_type": "code",
   "execution_count": 15,
   "metadata": {
    "collapsed": false
   },
   "outputs": [
    {
     "data": {
      "text/plain": [
       "(102240, 59)"
      ]
     },
     "execution_count": 15,
     "metadata": {},
     "output_type": "execute_result"
    }
   ],
   "source": [
    "train[train.process == \"DY\"].shape"
   ]
  },
  {
   "cell_type": "code",
   "execution_count": 16,
   "metadata": {
    "collapsed": false
   },
   "outputs": [],
   "source": [
    "s_ww = float(df[df.process == \"WW\"].shape[0])/float(test[test.process == \"WW\"].shape[0])\n",
    "s_dy = float(df[df.process == \"DY\"].shape[0])/float(test[test.process == \"DY\"].shape[0])\n",
    "s_tt = float(df[df.process == \"TT\"].shape[0])/float(test[test.process == \"TT\"].shape[0])"
   ]
  },
  {
   "cell_type": "code",
   "execution_count": 1,
   "metadata": {
    "collapsed": false
   },
   "outputs": [
    {
     "ename": "NameError",
     "evalue": "name 'test' is not defined",
     "output_type": "error",
     "traceback": [
      "\u001b[0;31m---------------------------------------------------------------------------\u001b[0m",
      "\u001b[0;31mNameError\u001b[0m                                 Traceback (most recent call last)",
      "\u001b[0;32m<ipython-input-1-1cc8e541bdf3>\u001b[0m in \u001b[0;36m<module>\u001b[0;34m()\u001b[0m\n\u001b[1;32m      5\u001b[0m \u001b[0;31m#test.METProj_trk_sin\u001b[0m\u001b[0;34m\u001b[0m\u001b[0;34m\u001b[0m\u001b[0m\n\u001b[1;32m      6\u001b[0m \u001b[0;34m\u001b[0m\u001b[0m\n\u001b[0;32m----> 7\u001b[0;31m \u001b[0mcuts\u001b[0m \u001b[0;34m=\u001b[0m \u001b[0;34m(\u001b[0m\u001b[0mtest\u001b[0m\u001b[0;34m.\u001b[0m\u001b[0mpred_WW\u001b[0m \u001b[0;34m>\u001b[0m \u001b[0mcut\u001b[0m\u001b[0;34m)\u001b[0m \u001b[0;34m&\u001b[0m \u001b[0;34m(\u001b[0m\u001b[0mtest\u001b[0m\u001b[0;34m.\u001b[0m\u001b[0mMETProj_trk_sin\u001b[0m \u001b[0;34m>\u001b[0m \u001b[0;36m25\u001b[0m\u001b[0;34m)\u001b[0m\u001b[0;34m\u001b[0m\u001b[0m\n\u001b[0m\u001b[1;32m      8\u001b[0m \u001b[0;34m\u001b[0m\u001b[0m\n\u001b[1;32m      9\u001b[0m \u001b[0mbin_mc\u001b[0m \u001b[0;34m=\u001b[0m \u001b[0mbin_df\u001b[0m\u001b[0;34m(\u001b[0m \u001b[0mtest\u001b[0m\u001b[0;34m[\u001b[0m\u001b[0mcuts\u001b[0m\u001b[0;34m]\u001b[0m\u001b[0;34m,\u001b[0m \u001b[0mfeature\u001b[0m\u001b[0;34m,\u001b[0m \u001b[0mrange\u001b[0m\u001b[0;34m=\u001b[0m\u001b[0mrange\u001b[0m\u001b[0;34m,\u001b[0m \u001b[0mscales\u001b[0m\u001b[0;34m=\u001b[0m\u001b[0;34m{\u001b[0m\u001b[0;34m\"WW\"\u001b[0m\u001b[0;34m:\u001b[0m\u001b[0mscales\u001b[0m\u001b[0;34m[\u001b[0m\u001b[0;34m\"WW\"\u001b[0m\u001b[0;34m]\u001b[0m \u001b[0;34m*\u001b[0m \u001b[0ms_ww\u001b[0m\u001b[0;34m,\u001b[0m \u001b[0;34m\"DY\"\u001b[0m\u001b[0;34m:\u001b[0m\u001b[0mscales\u001b[0m\u001b[0;34m[\u001b[0m\u001b[0;34m\"DY\"\u001b[0m\u001b[0;34m]\u001b[0m \u001b[0;34m*\u001b[0m \u001b[0ms_dy\u001b[0m\u001b[0;34m,\u001b[0m \u001b[0;34m\"TT\"\u001b[0m\u001b[0;34m:\u001b[0m\u001b[0mscales\u001b[0m\u001b[0;34m[\u001b[0m\u001b[0;34m\"TT\"\u001b[0m\u001b[0;34m]\u001b[0m \u001b[0;34m*\u001b[0m \u001b[0ms_tt\u001b[0m \u001b[0;34m,\u001b[0m                                                          \u001b[0;34m'WZ_2l2q'\u001b[0m\u001b[0;34m:\u001b[0m \u001b[0;36m1\u001b[0m\u001b[0;34m,\u001b[0m \u001b[0;34m'WZ_3ln'\u001b[0m\u001b[0;34m:\u001b[0m \u001b[0;36m1\u001b[0m\u001b[0;34m,\u001b[0m \u001b[0;34m'ZZ'\u001b[0m\u001b[0;34m:\u001b[0m\u001b[0;36m1\u001b[0m\u001b[0;34m,\u001b[0m \u001b[0;34m\"WZ\"\u001b[0m\u001b[0;34m:\u001b[0m\u001b[0;36m1\u001b[0m\u001b[0;34m}\u001b[0m\u001b[0;34m,\u001b[0m \u001b[0mbins\u001b[0m\u001b[0;34m=\u001b[0m\u001b[0mbins\u001b[0m\u001b[0;34m)\u001b[0m\u001b[0;34m\u001b[0m\u001b[0m\n",
      "\u001b[0;31mNameError\u001b[0m: name 'test' is not defined"
     ]
    }
   ],
   "source": [
    "feature = 'HT'\n",
    "range= (0,200)#(-.5,9.5)\n",
    "cut = 0#.954\n",
    "bins=100\n",
    "#test.METProj_trk_sin\n",
    "\n",
    "cuts = (test.pred_WW > cut) & (test.METProj_trk_sin > 25)\n",
    "\n",
    "bin_mc = bin_df( test[cuts], feature, range=range, scales={\"WW\":scales[\"WW\"] * s_ww, \"DY\":scales[\"DY\"] * s_dy, \"TT\":scales[\"TT\"] * s_tt ,\\\n",
    "                                                          'WZ_2l2q': 1, 'WZ_3ln': 1, 'ZZ':1, \"WZ\":1}, bins=bins)\n",
    "plot_hist(bin_mc, processes=[\"DY\",\"TT\",\"WW\"])#y_range=True, logy=False)"
   ]
  },
  {
   "cell_type": "code",
   "execution_count": 18,
   "metadata": {
    "collapsed": false
   },
   "outputs": [
    {
     "name": "stdout",
     "output_type": "stream",
     "text": [
      "0.0\n",
      "0.0\n"
     ]
    }
   ],
   "source": [
    "print test[ cuts & (test.process == \"DY\") & (test.METProj_trk_sin < 25)].shape[0] * s_dy * scales[\"DY\"]\n",
    "print test[ cuts & (test.process == \"WW\") & (test.METProj_trk_sin < 25)].shape[0] * s_ww * scales[\"WW\"]"
   ]
  },
  {
   "cell_type": "code",
   "execution_count": 19,
   "metadata": {
    "collapsed": false
   },
   "outputs": [
    {
     "name": "stdout",
     "output_type": "stream",
     "text": [
      "nBJet 0.042036209528\n",
      "numb_jets 0.0450778800525\n",
      "lep1_pt 0.0167730707086\n",
      "lep2_pt 0.0163748081771\n",
      "METProj 0.0481749571144\n",
      "METProj_trk_sin 0.0316292847884\n",
      "qT 0.0545511554693\n",
      "mll 0.0973330540225\n",
      "metMod 0.0412086163323\n",
      "dPhiLLMET 0.0472525080989\n",
      "dPhiLLJet 0.0204340168363\n",
      "dPhiLL 0.0313920203119\n",
      "HT 0.0821758804173\n",
      "lep_Type 0.133187140781\n",
      "mllMET 0.0557320923101\n",
      "recoil 0.0283258226979\n",
      "jetPt1 0.0378036722011\n",
      "jetPt2 0.0531904001381\n",
      "jet1_csv 0.0654891077633\n",
      "jet2_csv 0.051858302251\n"
     ]
    }
   ],
   "source": [
    "for e, f in enumerate(clf.feature_importances_):\n",
    "    print features[e], f"
   ]
  },
  {
   "cell_type": "code",
   "execution_count": null,
   "metadata": {
    "collapsed": true
   },
   "outputs": [],
   "source": []
  },
  {
   "cell_type": "code",
   "execution_count": null,
   "metadata": {
    "collapsed": true
   },
   "outputs": [],
   "source": []
  },
  {
   "cell_type": "code",
   "execution_count": null,
   "metadata": {
    "collapsed": true
   },
   "outputs": [],
   "source": []
  },
  {
   "cell_type": "code",
   "execution_count": null,
   "metadata": {
    "collapsed": true
   },
   "outputs": [],
   "source": []
  },
  {
   "cell_type": "code",
   "execution_count": null,
   "metadata": {
    "collapsed": true
   },
   "outputs": [],
   "source": []
  },
  {
   "cell_type": "code",
   "execution_count": null,
   "metadata": {
    "collapsed": true
   },
   "outputs": [],
   "source": []
  },
  {
   "cell_type": "code",
   "execution_count": null,
   "metadata": {
    "collapsed": true
   },
   "outputs": [],
   "source": []
  },
  {
   "cell_type": "code",
   "execution_count": null,
   "metadata": {
    "collapsed": true
   },
   "outputs": [],
   "source": []
  },
  {
   "cell_type": "code",
   "execution_count": null,
   "metadata": {
    "collapsed": true
   },
   "outputs": [],
   "source": []
  },
  {
   "cell_type": "code",
   "execution_count": null,
   "metadata": {
    "collapsed": true
   },
   "outputs": [],
   "source": []
  },
  {
   "cell_type": "code",
   "execution_count": null,
   "metadata": {
    "collapsed": true
   },
   "outputs": [],
   "source": []
  },
  {
   "cell_type": "code",
   "execution_count": null,
   "metadata": {
    "collapsed": true
   },
   "outputs": [],
   "source": []
  },
  {
   "cell_type": "code",
   "execution_count": null,
   "metadata": {
    "collapsed": true
   },
   "outputs": [],
   "source": []
  },
  {
   "cell_type": "code",
   "execution_count": null,
   "metadata": {
    "collapsed": true
   },
   "outputs": [],
   "source": []
  }
 ],
 "metadata": {
  "kernelspec": {
   "display_name": "Python 2",
   "language": "python",
   "name": "python2"
  },
  "language_info": {
   "codemirror_mode": {
    "name": "ipython",
    "version": 2
   },
   "file_extension": ".py",
   "mimetype": "text/x-python",
   "name": "python",
   "nbconvert_exporter": "python",
   "pygments_lexer": "ipython2",
   "version": "2.7.10"
  },
  "toc": {
   "navigate_menu": false,
   "number_sections": true,
   "sideBar": true,
   "threshold": "4",
   "toc_cell": false,
   "toc_section_display": "block",
   "toc_window_display": true
  }
 },
 "nbformat": 4,
 "nbformat_minor": 0
}
