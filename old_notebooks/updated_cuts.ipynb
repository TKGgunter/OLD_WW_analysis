{
 "cells": [
  {
   "cell_type": "markdown",
   "metadata": {},
   "source": [
    "Thoth Gunter july 2016\n",
    "# Updating Based analysis\n",
    "\n",
    "Originally the basic cuts analysis used the cuts below.  After reviewing ATLAS' WW cross-section analysis the an additional cut was made for same flavor events METProj > 45.  \n",
    "\n",
    "Original cuts:\n",
    "- mll > 12\n",
    "- qT > 30\n",
    "- MET Projected > 20\n",
    "- number of extra leptons  = 0\n",
    "- number of jet < 0, 1\n",
    "\n",
    "In addition: \n",
    "if lepton pair is the same flavor: \n",
    "- mll < 76 or mll > 106 \n",
    "- qT > 45 "
   ]
  },
  {
   "cell_type": "code",
   "execution_count": 1,
   "metadata": {
    "collapsed": true
   },
   "outputs": [],
   "source": [
    "import root_pandas as rp\n",
    "import numpy as np"
   ]
  },
  {
   "cell_type": "code",
   "execution_count": 2,
   "metadata": {
    "collapsed": false
   },
   "outputs": [
    {
     "data": {
      "text/html": [
       "<div>\n",
       "<table border=\"1\" class=\"dataframe\">\n",
       "  <thead>\n",
       "    <tr style=\"text-align: right;\">\n",
       "      <th></th>\n",
       "      <th>sub_lep_eta</th>\n",
       "      <th>runNum</th>\n",
       "      <th>nBJet</th>\n",
       "      <th>lep_Charge</th>\n",
       "      <th>HT</th>\n",
       "      <th>WW</th>\n",
       "      <th>DY</th>\n",
       "      <th>numb_jets</th>\n",
       "      <th>lead_lep_eta</th>\n",
       "      <th>Da</th>\n",
       "      <th>...</th>\n",
       "      <th>ZZ</th>\n",
       "      <th>npv</th>\n",
       "      <th>dPhiLLMET</th>\n",
       "      <th>lep_Type</th>\n",
       "      <th>METProj_parr</th>\n",
       "      <th>lep3_pt</th>\n",
       "      <th>mll</th>\n",
       "      <th>rf_result</th>\n",
       "      <th>weights</th>\n",
       "      <th>lead_lep_type</th>\n",
       "    </tr>\n",
       "  </thead>\n",
       "  <tbody>\n",
       "    <tr>\n",
       "      <th>0</th>\n",
       "      <td>1.202665</td>\n",
       "      <td>1</td>\n",
       "      <td>0</td>\n",
       "      <td>-1</td>\n",
       "      <td>0.000000</td>\n",
       "      <td>1</td>\n",
       "      <td>0</td>\n",
       "      <td>0</td>\n",
       "      <td>-1.430588</td>\n",
       "      <td>0</td>\n",
       "      <td>...</td>\n",
       "      <td>0</td>\n",
       "      <td>19</td>\n",
       "      <td>2.813456</td>\n",
       "      <td>1</td>\n",
       "      <td>216.957748</td>\n",
       "      <td>0</td>\n",
       "      <td>170.901596</td>\n",
       "      <td>0.999333</td>\n",
       "      <td>1.302513</td>\n",
       "      <td>13</td>\n",
       "    </tr>\n",
       "    <tr>\n",
       "      <th>1</th>\n",
       "      <td>-1.885126</td>\n",
       "      <td>1</td>\n",
       "      <td>0</td>\n",
       "      <td>-1</td>\n",
       "      <td>57.011757</td>\n",
       "      <td>1</td>\n",
       "      <td>0</td>\n",
       "      <td>1</td>\n",
       "      <td>-1.709151</td>\n",
       "      <td>0</td>\n",
       "      <td>...</td>\n",
       "      <td>0</td>\n",
       "      <td>28</td>\n",
       "      <td>0.349567</td>\n",
       "      <td>1</td>\n",
       "      <td>130.962906</td>\n",
       "      <td>0</td>\n",
       "      <td>83.166290</td>\n",
       "      <td>0.919333</td>\n",
       "      <td>0.550025</td>\n",
       "      <td>13</td>\n",
       "    </tr>\n",
       "    <tr>\n",
       "      <th>2</th>\n",
       "      <td>1.828307</td>\n",
       "      <td>1</td>\n",
       "      <td>0</td>\n",
       "      <td>-1</td>\n",
       "      <td>189.272278</td>\n",
       "      <td>1</td>\n",
       "      <td>0</td>\n",
       "      <td>1</td>\n",
       "      <td>1.029058</td>\n",
       "      <td>0</td>\n",
       "      <td>...</td>\n",
       "      <td>0</td>\n",
       "      <td>34</td>\n",
       "      <td>1.225897</td>\n",
       "      <td>1</td>\n",
       "      <td>843.469299</td>\n",
       "      <td>0</td>\n",
       "      <td>70.566330</td>\n",
       "      <td>0.999333</td>\n",
       "      <td>0.236836</td>\n",
       "      <td>13</td>\n",
       "    </tr>\n",
       "    <tr>\n",
       "      <th>3</th>\n",
       "      <td>1.337142</td>\n",
       "      <td>1</td>\n",
       "      <td>0</td>\n",
       "      <td>-1</td>\n",
       "      <td>227.126526</td>\n",
       "      <td>1</td>\n",
       "      <td>0</td>\n",
       "      <td>2</td>\n",
       "      <td>-0.363505</td>\n",
       "      <td>0</td>\n",
       "      <td>...</td>\n",
       "      <td>0</td>\n",
       "      <td>17</td>\n",
       "      <td>0.706413</td>\n",
       "      <td>1</td>\n",
       "      <td>7163.877930</td>\n",
       "      <td>0</td>\n",
       "      <td>154.645264</td>\n",
       "      <td>0.884667</td>\n",
       "      <td>1.946137</td>\n",
       "      <td>13</td>\n",
       "    </tr>\n",
       "    <tr>\n",
       "      <th>4</th>\n",
       "      <td>0.653018</td>\n",
       "      <td>1</td>\n",
       "      <td>0</td>\n",
       "      <td>-1</td>\n",
       "      <td>37.855759</td>\n",
       "      <td>1</td>\n",
       "      <td>0</td>\n",
       "      <td>1</td>\n",
       "      <td>2.135821</td>\n",
       "      <td>0</td>\n",
       "      <td>...</td>\n",
       "      <td>0</td>\n",
       "      <td>20</td>\n",
       "      <td>3.021460</td>\n",
       "      <td>-1</td>\n",
       "      <td>14.918805</td>\n",
       "      <td>0</td>\n",
       "      <td>162.724945</td>\n",
       "      <td>0.876000</td>\n",
       "      <td>1.123370</td>\n",
       "      <td>13</td>\n",
       "    </tr>\n",
       "  </tbody>\n",
       "</table>\n",
       "<p>5 rows × 40 columns</p>\n",
       "</div>"
      ],
      "text/plain": [
       "   sub_lep_eta  runNum  nBJet  lep_Charge          HT  WW  DY  numb_jets  \\\n",
       "0     1.202665       1      0          -1    0.000000   1   0          0   \n",
       "1    -1.885126       1      0          -1   57.011757   1   0          1   \n",
       "2     1.828307       1      0          -1  189.272278   1   0          1   \n",
       "3     1.337142       1      0          -1  227.126526   1   0          2   \n",
       "4     0.653018       1      0          -1   37.855759   1   0          1   \n",
       "\n",
       "   lead_lep_eta  Da      ...        ZZ  npv  dPhiLLMET  lep_Type  \\\n",
       "0     -1.430588   0      ...         0   19   2.813456         1   \n",
       "1     -1.709151   0      ...         0   28   0.349567         1   \n",
       "2      1.029058   0      ...         0   34   1.225897         1   \n",
       "3     -0.363505   0      ...         0   17   0.706413         1   \n",
       "4      2.135821   0      ...         0   20   3.021460        -1   \n",
       "\n",
       "   METProj_parr  lep3_pt         mll  rf_result   weights  lead_lep_type  \n",
       "0    216.957748        0  170.901596   0.999333  1.302513             13  \n",
       "1    130.962906        0   83.166290   0.919333  0.550025             13  \n",
       "2    843.469299        0   70.566330   0.999333  0.236836             13  \n",
       "3   7163.877930        0  154.645264   0.884667  1.946137             13  \n",
       "4     14.918805        0  162.724945   0.876000  1.123370             13  \n",
       "\n",
       "[5 rows x 40 columns]"
      ]
     },
     "execution_count": 2,
     "metadata": {},
     "output_type": "execute_result"
    }
   ],
   "source": [
    "df = rp.read_root(\"pan_process.root\")\n",
    "df.head()"
   ]
  },
  {
   "cell_type": "markdown",
   "metadata": {},
   "source": [
    "### Implementing cuts"
   ]
  },
  {
   "cell_type": "code",
   "execution_count": null,
   "metadata": {
    "collapsed": true
   },
   "outputs": [],
   "source": [
    "initial_cuts = (df.mll > 12 ) & (df.qT > 30) & (df.METProj > 20) & (df.numbExtraLep == 0)\n",
    "same_flavor_cut = (df.lep_Type < 0)\n",
    "dif_flavor_cut = (df.lep_Type > 0)\n",
    "z_peak_cut = (df.mll > 106) | (df.mll < 76)\n",
    "met_proj_cut = (df.METProj > 45)\n"
   ]
  },
  {
   "cell_type": "code",
   "execution_count": null,
   "metadata": {
    "collapsed": false
   },
   "outputs": [],
   "source": [
    "print \"Same flavor cuts\"\n",
    "basic_sf_0j_cuts = initial_cuts & (df.qT > 45) &same_flavor_cut & met_proj_cut & z_peak_cut& (df.numb_jets <= 1)\n"
   ]
  },
  {
   "cell_type": "code",
   "execution_count": null,
   "metadata": {
    "collapsed": false
   },
   "outputs": [],
   "source": [
    "print \"Different flavor cuts\"\n",
    "basic_df_0j_cuts = initial_cuts & dif_flavor_cut &(df.numb_jets <= 1)\n"
   ]
  },
  {
   "cell_type": "code",
   "execution_count": null,
   "metadata": {
    "collapsed": false
   },
   "outputs": [],
   "source": [
    "# uncertainty on process\n",
    "unc_mc_process = { \"WW\": .05, \"DY\": .03, \"TT\": 0.05, \"ZZ\": 0.1, \"WZ\":.1 }\n",
    "# process ratio scalings\n",
    "scales = {\"WW\": 1.33 * 19.4e3 * 59.8 /  6066954.0 ,\\\n",
    "          \"DY\": 19.4e3 * 3531.9 / 30459500 ,\\\n",
    "          \"TT\": 19.4e3 * 25.81 / 12011428,\\\n",
    "          \"ZZ\": 19.4e3 * 9.03 / 200000,\\\n",
    "          \"WZ\": 19.4e3 * 22.45 / 400000, \"WJ\": 1 }"
   ]
  },
  {
   "cell_type": "code",
   "execution_count": null,
   "metadata": {
    "collapsed": false
   },
   "outputs": [],
   "source": [
    "results_0j = { \"same_flavor\":{\"WW\": df[ basic_sf_0j_cuts &(df.WW == 1)].shape[0] * scales[\"WW\"] ,\n",
    "            \"DY\": df[ basic_sf_0j_cuts &(df.DY == 1)].shape[0] * scales[\"DY\"],\n",
    "            \"TT\": df[ basic_sf_0j_cuts &(df.TT == 1)].shape[0] * scales[\"TT\"] ,\n",
    "            \"ZZ\": df[ basic_sf_0j_cuts &(df.ZZ == 1)].shape[0] * scales[\"ZZ\"],\n",
    "            \"WZ\": df[ basic_sf_0j_cuts &(df.WZ == 1)].shape[0] * scales[\"WZ\"] }}\n",
    "\n",
    "results_0j[\"diff_flavor\"] = {\"WW\": df[ basic_df_0j_cuts &( df.WW == 1)].shape[0] * scales[\"WW\"] ,\n",
    "                            \"DY\": df[ basic_df_0j_cuts &( df.DY == 1)].shape[0] * scales[\"DY\"] ,\n",
    "                            \"TT\": df[ basic_df_0j_cuts &(df.TT == 1)].shape[0] * scales[\"TT\"] ,\n",
    "                            \"ZZ\": df[ basic_df_0j_cuts &(df.ZZ == 1)].shape[0] * scales[\"ZZ\"] ,\n",
    "                            \"WZ\": df[ basic_df_0j_cuts &(df.WZ == 1)].shape[0] * scales[\"WZ\"] }"
   ]
  },
  {
   "cell_type": "code",
   "execution_count": null,
   "metadata": {
    "collapsed": false
   },
   "outputs": [],
   "source": [
    "def create_table( data, round_digit ):\n",
    "    for flavor in data.keys():\n",
    "        print flavor\n",
    "        print \"\\t\",{ process : round(data[flavor][process], round_digit) for process in data[flavor].keys() }"
   ]
  },
  {
   "cell_type": "code",
   "execution_count": null,
   "metadata": {
    "collapsed": false
   },
   "outputs": [],
   "source": [
    "# results\n",
    "create_table(results_0j, 0)"
   ]
  },
  {
   "cell_type": "code",
   "execution_count": null,
   "metadata": {
    "collapsed": true
   },
   "outputs": [],
   "source": [
    "def combine_unc( data ):\n",
    "    comb_unc = {}\n",
    "    for process in data[data.keys()[0]].keys():\n",
    "        comb_unc[process] = 0\n",
    "    for flavor in data.keys():\n",
    "        for process in data[flavor].keys():\n",
    "            comb_unc[process] += pow( data[flavor][process], 2 )\n",
    "    print { process : round( pow( comb_unc[process], .5) , 2) for process in comb_unc.keys()}"
   ]
  },
  {
   "cell_type": "markdown",
   "metadata": {},
   "source": [
    "## Uncertainty procedure \n",
    "\n",
    "\n",
    "### Statistical uncertainty of a process is defined as: \n",
    "\n",
    "$ \\large {{scaling * \\sqrt{N_{US process}} }\\over {L * eff * acc}} $\n",
    "\n",
    "Where $  {acc = \\frac{N_{selected}} { N_{tot WW}} }$,  $L$ is Luminosity, $eff$ is detector and selection effeciency, $N_{US process}$ is the unscaled number of events that pass selection cuts.\n",
    "\n",
    "\n",
    "### Normalization uncertainty of a process is defined as:\n",
    "\n",
    "\n",
    "$ \\large{ {d_{process} * N_{process}}\\over {L * eff * acc} }$\n",
    "\n",
    "Where $d_{process}$ is the percent uncertainty on the theory / Monte Carlo for a given process.\n",
    "\n",
    "### Relative uncertainty of a process us defined as:\n",
    "\n",
    "Uncertainty divided by the cross section\n"
   ]
  },
  {
   "cell_type": "code",
   "execution_count": 3,
   "metadata": {
    "collapsed": false
   },
   "outputs": [
    {
     "ename": "NameError",
     "evalue": "name 'results_0j' is not defined",
     "output_type": "error",
     "traceback": [
      "\u001b[0;31m---------------------------------------------------------------------------\u001b[0m",
      "\u001b[0;31mNameError\u001b[0m                                 Traceback (most recent call last)",
      "\u001b[0;32m<ipython-input-3-e8f92addec0c>\u001b[0m in \u001b[0;36m<module>\u001b[0;34m()\u001b[0m\n\u001b[1;32m      1\u001b[0m \u001b[0mtotal_number\u001b[0m \u001b[0;34m=\u001b[0m \u001b[0;36m0\u001b[0m\u001b[0;34m\u001b[0m\u001b[0m\n\u001b[0;32m----> 2\u001b[0;31m \u001b[0;32mfor\u001b[0m \u001b[0mflavor\u001b[0m \u001b[0;32min\u001b[0m \u001b[0mresults_0j\u001b[0m\u001b[0;34m.\u001b[0m\u001b[0mkeys\u001b[0m\u001b[0;34m(\u001b[0m\u001b[0;34m)\u001b[0m\u001b[0;34m:\u001b[0m\u001b[0;34m\u001b[0m\u001b[0m\n\u001b[0m\u001b[1;32m      3\u001b[0m     \u001b[0;32mfor\u001b[0m \u001b[0mprocess\u001b[0m \u001b[0;32min\u001b[0m \u001b[0mresults_0j\u001b[0m\u001b[0;34m[\u001b[0m\u001b[0mflavor\u001b[0m\u001b[0;34m]\u001b[0m\u001b[0;34m.\u001b[0m\u001b[0mkeys\u001b[0m\u001b[0;34m(\u001b[0m\u001b[0;34m)\u001b[0m\u001b[0;34m:\u001b[0m\u001b[0;34m\u001b[0m\u001b[0m\n\u001b[1;32m      4\u001b[0m         \u001b[0mtotal_number\u001b[0m \u001b[0;34m+=\u001b[0m \u001b[0mresults_0j\u001b[0m\u001b[0;34m[\u001b[0m\u001b[0mflavor\u001b[0m\u001b[0;34m]\u001b[0m\u001b[0;34m[\u001b[0m\u001b[0mprocess\u001b[0m\u001b[0;34m]\u001b[0m\u001b[0;34m\u001b[0m\u001b[0m\n\u001b[1;32m      5\u001b[0m \u001b[0;32mprint\u001b[0m \u001b[0mtotal_number\u001b[0m\u001b[0;34m\u001b[0m\u001b[0m\n",
      "\u001b[0;31mNameError\u001b[0m: name 'results_0j' is not defined"
     ]
    }
   ],
   "source": [
    "total_number = 0\n",
    "for flavor in results_0j.keys():\n",
    "    for process in results_0j[flavor].keys():\n",
    "        total_number += results_0j[flavor][process]\n",
    "print total_number"
   ]
  },
  {
   "cell_type": "code",
   "execution_count": null,
   "metadata": {
    "collapsed": false
   },
   "outputs": [],
   "source": [
    "summary_stat_unc = {}\n",
    "summary_norm_unc = {}\n",
    "\n",
    "relative_stat_unc = {}\n",
    "relative_norm_unc = {}\n",
    "\n",
    "post_cut_WW = results_0j[\"same_flavor\"][\"WW\"] + results_0j[\"diff_flavor\"][\"WW\"]\n",
    "\n",
    "coeff = 1. / ( 19.3e3 * (3*.108)**2 *.15 * (post_cut_WW / (df[df.WW==1].shape[0]*scales[\"WW\"])))\n",
    "\n",
    "\n",
    "for flavor in results_0j.keys():\n",
    "    summary_stat_unc[flavor] = {}\n",
    "    summary_norm_unc[flavor] = {}\n",
    "    \n",
    "    relative_stat_unc[flavor] = {}\n",
    "    relative_norm_unc[flavor] = {}\n",
    "    \n",
    "    for process in results_0j[flavor].keys():\n",
    "        if \"WW\" not in process: \n",
    "            summary_stat_unc[flavor][process] = coeff * scales[process] * pow( results_0j[flavor][process] / scales[process], .5)  \n",
    "            relative_stat_unc[flavor][process] = summary_stat_unc[flavor][process] / 58.77\n",
    "\n",
    "            summary_norm_unc[flavor][process] = coeff * unc_mc_process[process] * results_0j[flavor][process]   \n",
    "            relative_norm_unc[flavor][process] = summary_norm_unc[flavor][process] / 58.77\n"
   ]
  },
  {
   "cell_type": "markdown",
   "metadata": {},
   "source": [
    "## Results "
   ]
  },
  {
   "cell_type": "code",
   "execution_count": null,
   "metadata": {
    "collapsed": false
   },
   "outputs": [],
   "source": [
    "print \"Stat uncertainty\"\n",
    "#create_table( summary_stat_unc, 2)\n",
    "\n",
    "print \"\\n\\nRelative Stat uncertainty\"\n",
    "#create_table( relative_stat_unc, 4)"
   ]
  },
  {
   "cell_type": "code",
   "execution_count": null,
   "metadata": {
    "collapsed": false
   },
   "outputs": [],
   "source": [
    "combine_unc(summary_stat_unc)"
   ]
  },
  {
   "cell_type": "code",
   "execution_count": null,
   "metadata": {
    "collapsed": false
   },
   "outputs": [],
   "source": [
    "print \"Norm uncertainty\"\n",
    "create_table( summary_norm_unc, 2)\n",
    "\n",
    "\n",
    "#print \"\\n\\nRelative Norm uncertainty\"\n",
    "#create_table( relative_norm_unc, 4)"
   ]
  },
  {
   "cell_type": "code",
   "execution_count": null,
   "metadata": {
    "collapsed": false
   },
   "outputs": [],
   "source": [
    "combine_unc(summary_norm_unc)"
   ]
  },
  {
   "cell_type": "code",
   "execution_count": null,
   "metadata": {
    "collapsed": false
   },
   "outputs": [],
   "source": [
    "print \"Stat + Norm uncert\"\n",
    "combine_unc({\"stat\":{'TT': 0.16, 'WZ': 0.23, 'ZZ': 0.08, 'DY': 0.62}, \"norm\": {'TT': 2.75, 'WZ': 0.43, 'ZZ': 0.07, 'DY': 0.44} })\n"
   ]
  },
  {
   "cell_type": "code",
   "execution_count": null,
   "metadata": {
    "collapsed": false
   },
   "outputs": [],
   "source": [
    "s_n = {'TT': 0.26, 'WZ': 0.3, 'ZZ': 0.08, 'DY': 0.15}#{'TT': 2.75, 'WZ': 0.43, 'ZZ': 0.07, 'DY': 0.44}\n",
    "for i in s_n.keys():\n",
    "    print i, s_n[i]/60."
   ]
  },
  {
   "cell_type": "code",
   "execution_count": null,
   "metadata": {
    "collapsed": false
   },
   "outputs": [],
   "source": [
    "a = {'TT': 0.06, 'WZ': 0.22, 'ZZ': 0.09, 'DY': 0.39}#{'TT': 0.16, 'WZ': 0.23, 'ZZ': 0.08, 'DY': 0.62}\n",
    "b=0\n",
    "for i in a.keys():\n",
    "   b+=a[i]**2\n",
    "b**.5 / 60."
   ]
  },
  {
   "cell_type": "markdown",
   "metadata": {},
   "source": [
    "## Comparitive RF results\n",
    "\n",
    ".98 analysis doesn't compare will with this result.  If I tighten the random forest cut to .9978 we get comparible yields.  However this selection is abit arbitary and not the point of this excersize. Never the less the results are below."
   ]
  },
  {
   "cell_type": "code",
   "execution_count": null,
   "metadata": {
    "collapsed": true
   },
   "outputs": [],
   "source": [
    "rf_cut = (df.rf_result > .9988) & (df.numbExtraLep == 0)"
   ]
  },
  {
   "cell_type": "code",
   "execution_count": null,
   "metadata": {
    "collapsed": false
   },
   "outputs": [],
   "source": [
    "results_rf = {\"same_flavor\":{ process: df[ (df[process] == 1) & rf_cut & same_flavor_cut].shape[0]*scales[process] for process in scales.keys() if \"WJ\" not in process },\n",
    "              \"diff_flavor\":{ process: df[ (df[process] == 1) & rf_cut & dif_flavor_cut].shape[0]*scales[process] for process in scales.keys() if \"WJ\" not in process }}"
   ]
  },
  {
   "cell_type": "code",
   "execution_count": null,
   "metadata": {
    "collapsed": false
   },
   "outputs": [],
   "source": [
    "create_table(results_rf, 0)"
   ]
  },
  {
   "cell_type": "code",
   "execution_count": null,
   "metadata": {
    "collapsed": false
   },
   "outputs": [],
   "source": [
    "summary_stat_unc_rf = {}\n",
    "summary_norm_unc_rf = {}\n",
    "\n",
    "relative_stat_unc_rf = {}\n",
    "relative_norm_unc_rf = {}\n",
    "\n",
    "post_cut_WW = results_rf[\"same_flavor\"][\"WW\"] + results_rf[\"diff_flavor\"][\"WW\"]\n",
    "\n",
    "coeff = 1. / ( 19.3e3 * (3*.108)**2 *.15 * (post_cut_WW / (df[df.WW==1].shape[0]*scales[\"WW\"])))\n",
    "\n",
    "\n",
    "for flavor in results_rf.keys():\n",
    "    summary_stat_unc_rf[flavor] = {}\n",
    "    summary_norm_unc_rf[flavor] = {}\n",
    "    \n",
    "    relative_stat_unc_rf[flavor] = {}\n",
    "    relative_norm_unc_rf[flavor] = {}\n",
    "    \n",
    "    for process in results_rf[flavor].keys():\n",
    "        if \"WW\" not in process: \n",
    "            summary_stat_unc_rf[flavor][process] = coeff * scales[process] * pow( results_rf[flavor][process] / scales[process], .5)  \n",
    "            relative_stat_unc_rf[flavor][process] = summary_stat_unc_rf[flavor][process] / 58.77\n",
    "\n",
    "            summary_norm_unc_rf[flavor][process] = coeff * unc_mc_process[process] * results_rf[flavor][process]   \n",
    "            relative_norm_unc_rf[flavor][process] = summary_norm_unc_rf[flavor][process] / 58.77"
   ]
  },
  {
   "cell_type": "code",
   "execution_count": null,
   "metadata": {
    "collapsed": false
   },
   "outputs": [],
   "source": [
    "print \"Random forest stat uncertainty \"\n",
    "create_table(summary_stat_unc_rf, 3)\n",
    "print \"Random forest norm uncertainty \"\n",
    "create_table(summary_norm_unc_rf, 3)"
   ]
  },
  {
   "cell_type": "code",
   "execution_count": null,
   "metadata": {
    "collapsed": false
   },
   "outputs": [],
   "source": [
    "print \"Basic cuts\"\n",
    "create_table(summary_stat_unc, 3)"
   ]
  },
  {
   "cell_type": "code",
   "execution_count": null,
   "metadata": {
    "collapsed": false
   },
   "outputs": [],
   "source": [
    "print \"Random forest stat relative uncertainty \"\n",
    "create_table(relative_stat_unc_rf, 5)"
   ]
  },
  {
   "cell_type": "code",
   "execution_count": null,
   "metadata": {
    "collapsed": false
   },
   "outputs": [],
   "source": [
    "print \"Basic cuts stat relative uncertainty \"\n",
    "create_table(relative_stat_unc, 5)"
   ]
  },
  {
   "cell_type": "code",
   "execution_count": null,
   "metadata": {
    "collapsed": false
   },
   "outputs": [],
   "source": [
    "combine_unc(summary_norm_unc_rf)\n",
    "combine_unc(summary_stat_unc_rf)"
   ]
  },
  {
   "cell_type": "code",
   "execution_count": null,
   "metadata": {
    "collapsed": false
   },
   "outputs": [],
   "source": [
    "combine_unc({\"norm\":{'TT': 0.26, 'WZ': 0.3, 'ZZ': 0.08, 'DY': 0.15},\"stat\":{'TT': 0.06, 'WZ': 0.22, 'ZZ': 0.09, 'DY': 0.39}})"
   ]
  },
  {
   "cell_type": "markdown",
   "metadata": {},
   "source": [
    "## Determining the best random forest cut value\n",
    "\n",
    "This will be tackled the following file:\n",
    "\n",
    "orig_cuts"
   ]
  },
  {
   "cell_type": "code",
   "execution_count": null,
   "metadata": {
    "collapsed": false
   },
   "outputs": [],
   "source": [
    "create_table(summary_norm_unc_rf, 3)"
   ]
  },
  {
   "cell_type": "code",
   "execution_count": null,
   "metadata": {
    "collapsed": true
   },
   "outputs": [],
   "source": [
    "#RF\n",
    "same_flavor_stat={'TT': 0.028, 'WZ': 0.145, 'ZZ': 0.087, 'DY': 0.348}\n",
    "diff_flavor_stat={'TT': 0.047, 'WZ': 0.171, 'ZZ': 0.032, 'DY': 0.172}\n",
    "same_flavor_norm={'TT': 0.086, 'WZ': 0.174, 'ZZ': 0.078, 'DY': 0.145}\n",
    "diff_flavor_norm={'TT': 0.242, 'WZ': 0.242, 'ZZ': 0.011, 'DY': 0.035}"
   ]
  },
  {
   "cell_type": "code",
   "execution_count": null,
   "metadata": {
    "collapsed": false
   },
   "outputs": [],
   "source": [
    "a=0\n",
    "for process in same_flavor_stat.keys():\n",
    "    a += same_flavor_stat[process]**2\n",
    "    a += diff_flavor_stat[process]**2\n",
    "    \n",
    "    a += same_flavor_norm[process]**2\n",
    "    a += diff_flavor_norm[process]**2\n",
    "\n",
    "a**.5"
   ]
  },
  {
   "cell_type": "code",
   "execution_count": null,
   "metadata": {
    "collapsed": true
   },
   "outputs": [],
   "source": [
    "same_flavor_stat={'TT': 0.028, 'WZ': 0.145, 'ZZ': 0.087, 'DY': 0.348}\n",
    "diff_flavor_stat={'TT': 0.047, 'WZ': 0.171, 'ZZ': 0.032, 'DY': 0.172}\n",
    "same_flavor_norm={'TT': 0.086, 'WZ': 0.174, 'ZZ': 0.078, 'DY': 0.145}\n",
    "diff_flavor_norm={'TT': 0.242, 'WZ': 0.242, 'ZZ': 0.011, 'DY': 0.035}"
   ]
  },
  {
   "cell_type": "code",
   "execution_count": null,
   "metadata": {
    "collapsed": true
   },
   "outputs": [],
   "source": []
  },
  {
   "cell_type": "code",
   "execution_count": null,
   "metadata": {
    "collapsed": true
   },
   "outputs": [],
   "source": []
  },
  {
   "cell_type": "code",
   "execution_count": null,
   "metadata": {
    "collapsed": true
   },
   "outputs": [],
   "source": []
  },
  {
   "cell_type": "code",
   "execution_count": null,
   "metadata": {
    "collapsed": true
   },
   "outputs": [],
   "source": []
  }
 ],
 "metadata": {
  "kernelspec": {
   "display_name": "Python 2",
   "language": "python",
   "name": "python2"
  },
  "language_info": {
   "codemirror_mode": {
    "name": "ipython",
    "version": 2
   },
   "file_extension": ".py",
   "mimetype": "text/x-python",
   "name": "python",
   "nbconvert_exporter": "python",
   "pygments_lexer": "ipython2",
   "version": "2.7.10"
  }
 },
 "nbformat": 4,
 "nbformat_minor": 0
}
