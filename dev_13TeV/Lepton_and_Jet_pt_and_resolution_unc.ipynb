{
 "cells": [
  {
   "cell_type": "markdown",
   "metadata": {},
   "source": [
    "# Lepton, Jet pt uncertainties\n",
    "\n"
   ]
  },
  {
   "cell_type": "code",
   "execution_count": 2,
   "metadata": {
    "collapsed": false
   },
   "outputs": [
    {
     "data": {
      "application/javascript": [
       "\n",
       "require(['notebook'],\n",
       "  function() {\n",
       "    IPython.CodeCell.config_defaults.highlight_modes['magic_text/x-c++src'] = {'reg':[/^%%cpp/]};\n",
       "    console.log(\"JupyROOT - %%cpp magic configured\");\n",
       "  }\n",
       ");\n"
      ]
     },
     "metadata": {},
     "output_type": "display_data"
    },
    {
     "name": "stdout",
     "output_type": "stream",
     "text": [
      "Welcome to JupyROOT 6.08/00\n",
      "Loading plotting specs...\n",
      "8 or 13 TeV:13TeV\n",
      "unc_mc_process and scales as dictionaries\n",
      "Load MC and Data?False\n",
      "df = pd.concat([df_dy0, df_dy1, df_dy2, df_dy3, df_dy4, df_dy_m_10, df_ww, df_tt_l, df_tt_sl, df_zz_ln, df_wz_ln, df_wz_lq ])\n"
     ]
    }
   ],
   "source": [
    "run ../prep_ana.py"
   ]
  },
  {
   "cell_type": "code",
   "execution_count": 3,
   "metadata": {
    "collapsed": false
   },
   "outputs": [],
   "source": [
    "%matplotlib inline"
   ]
  },
  {
   "cell_type": "code",
   "execution_count": 4,
   "metadata": {
    "collapsed": true
   },
   "outputs": [],
   "source": [
    "data_path = '../data_13TeV_old/out_Z'\n"
   ]
  },
  {
   "cell_type": "code",
   "execution_count": 7,
   "metadata": {
    "collapsed": false
   },
   "outputs": [],
   "source": [
    "columns = [ 'process', 'process_decay',\n",
    "        'weight', 'lep1_Charge', 'lep2_Charge', 'lep_Type', 'numbExtraLep',\n",
    "        'tot_npv', 'mll', 'numb_jets', 'metMod',\n",
    "        'lep1_pt', 'lep2_pt', 'lep3_pt', 'dPhiLL',\n",
    "        'jet1_pt', 'jet2_pt', 'HT', 'numb_BJet',\n",
    "        'METProj_sin', 'met_over_sET','METProj', 'met_phi',\n",
    "        'dPhiLLMET',  'mllMET', 'qT', 'recoil', 'dPhiLLJet', 'dPhiMETJet', 'gen_weight']\n",
    "\n",
    "df_dy0 = rp.read_root(data_path+\"/dyjetstoll_m-50_complete.root\", columns=columns)\n",
    "df_dy_m_10 = rp.read_root(data_path+\"/dyjetstoll_m-10to50_complete.root\", columns=columns)\n",
    "df_ww = rp.read_root(data_path+\"/ww_complete.root\", columns=columns)\n",
    "df_tt_l = rp.read_root(data_path+\"/ttbar_leptonic_complete.root\", columns=columns)\n",
    "df_tt_sl = rp.read_root(data_path+\"/ttbar_semileptonic_complete.root\", columns=columns)\n",
    "df_t_s = rp.read_root(data_path+\"/t_s-_complete.root\", columns=columns)\n",
    "df_t_t = rp.read_root(data_path+\"/t_t-_complete.root\", columns=columns)\n",
    "df_t_tw = rp.read_root(data_path+\"/t_tw-_complete.root\", columns=columns)\n",
    "#df_tbar_s = rp.read_root(data_path+\"/tbar_s-_complete.root\", columns=columns)\n",
    "df_tbar_t = rp.read_root(data_path+\"/tbar_t-_complete.root\", columns=columns)\n",
    "df_tbar_tw = rp.read_root(data_path+\"/tbar_tw-_complete.root\", columns=columns)\n",
    "df_zz_ln = rp.read_root(data_path+\"/zzjetsto2l2nu_complete.root\", columns=columns)\n",
    "df_zz_lq = rp.read_root(data_path+\"/zzjetsto2l2q_complete.root\", columns=columns)\n",
    "df_wz_lq = rp.read_root(data_path+\"/wzjetsto2l2q_complete.root\", columns=columns)\n",
    "df_wz_ln = rp.read_root(data_path+\"/wzjetsto3lnu_complete.root\", columns=columns)\n",
    "df_w1j = rp.read_root(data_path+\"/w1jetstolnu_complete.root\", columns=columns)\n",
    "df_w2j = rp.read_root(data_path+\"/w2jetstolnu_complete.root\", columns=columns)\n",
    "df_w3j = rp.read_root(data_path+\"/w3jetstolnu_complete.root\", columns=columns)\n",
    "df_w4j = rp.read_root(data_path+\"/w4jetstolnu_complete.root\", columns=columns)\n",
    "\n",
    "df = pd.concat([df_dy0, df_dy_m_10, df_tt_l, df_tt_sl, df_zz_ln, df_zz_lq, df_wz_lq, df_wz_ln, df_w1j, df_w2j, df_w3j, df_w4j, df_ww,\n",
    "               df_tbar_tw, df_tbar_t,df_t_tw,  df_t_t, df_t_s])"
   ]
  },
  {
   "cell_type": "code",
   "execution_count": 8,
   "metadata": {
    "collapsed": false
   },
   "outputs": [],
   "source": [
    "df[\"gen_weight\"] = df.gen_weight.values/ np.abs(df.gen_weight.values)\n",
    "df[\"weight\"] = df.weight.values * df.gen_weight.values"
   ]
  },
  {
   "cell_type": "code",
   "execution_count": 9,
   "metadata": {
    "collapsed": true
   },
   "outputs": [],
   "source": [
    "df_da_b = rp.read_root(data_path+\"/muon_2016B_complete.root\", columns=columns+[\"runNum\", \"eventNumb\"])\n",
    "df_da_c = rp.read_root(data_path+\"/muon_2016C_complete.root\", columns=columns+[\"runNum\", \"eventNumb\"])\n",
    "df_da_d = rp.read_root(data_path+\"/muon_2016D_complete.root\", columns=columns+[\"runNum\", \"eventNumb\"])\n",
    "df_da_e = rp.read_root(data_path+\"/muon_2016E_complete.root\", columns=columns+[\"runNum\", \"eventNumb\"])\n",
    "df_da_f = rp.read_root(data_path+\"/muon_2016F_complete.root\", columns=columns+[\"runNum\", \"eventNumb\"])\n",
    "df_da_g = rp.read_root(data_path+\"/muon_2016G_complete.root\", columns=columns+[\"runNum\", \"eventNumb\"])\n",
    "df_da_h = rp.read_root(data_path+\"/muon_2016H_complete.root\", columns=columns+[\"runNum\", \"eventNumb\"])\n",
    "\n",
    "df_da = pd.concat([df_da_b, df_da_c, df_da_d, df_da_e, df_da_f, df_da_g, df_da_h])"
   ]
  },
  {
   "cell_type": "code",
   "execution_count": null,
   "metadata": {
    "collapsed": true
   },
   "outputs": [],
   "source": [
    "df_da_b_mue = rp.read_root(data_path+\"/muoneg_2016B_complete.root\", columns=columns+[\"runNum\", \"eventNumb\"])\n",
    "df_da_c_mue = rp.read_root(data_path+\"/muoneg_2016C_complete.root\", columns=columns+[\"runNum\", \"eventNumb\"])\n",
    "df_da_d_mue = rp.read_root(data_path+\"/muoneg_2016D_complete.root\", columns=columns+[\"runNum\", \"eventNumb\"])\n",
    "df_da_e_mue = rp.read_root(data_path+\"/muoneg_2016E_complete.root\", columns=columns+[\"runNum\", \"eventNumb\"])\n",
    "df_da_f_mue = rp.read_root(data_path+\"/muoneg_2016F_complete.root\", columns=columns+[\"runNum\", \"eventNumb\"])\n",
    "df_da_g_mue = rp.read_root(data_path+\"/muoneg_2016G_complete.root\", columns=columns+[\"runNum\", \"eventNumb\"])\n",
    "df_da_h_mue = rp.read_root(data_path+\"/muoneg_2016H_complete.root\", columns=columns+[\"runNum\", \"eventNumb\"])\n",
    "\n",
    "df_da_mue = pd.concat([df_da_b_mue, df_da_c_mue, df_da_d_mue, df_da_e_mue, df_da_f_mue, df_da_g_mue, df_da_h_mue]).reset_index()\n",
    "df_da = pd.concat( [df_da, df_da_mue] ).reset_index()\n",
    "df_da = df_da.drop(np.where(df_da[[\"runNum\", \"eventNumb\"]].duplicated())[0])"
   ]
  },
  {
   "cell_type": "markdown",
   "metadata": {},
   "source": [
    "## Lepton, Jet Scale uncertainty"
   ]
  },
  {
   "cell_type": "code",
   "execution_count": 10,
   "metadata": {
    "collapsed": false
   },
   "outputs": [],
   "source": [
    "from sklearn.externals import joblib\n",
    "#load random forest\n",
    "random_forest = joblib.load(\"../RF/13TeV_June_fDY_fTT.jbl\")\n",
    "\n",
    "#Set-up pre-cuts data frame\n",
    "#pre_df = pre_cuts(df, diff_charge=False)\n",
    "#pre_df_da = pre_cuts(df_da, diff_charge=False)\n",
    "\n",
    "#Add random forest prediction score to \n",
    "pred_fTT = random_forest[\"clf_fTT\"].predict_proba(np.float32(df[random_forest[\"features_fTT\"]].values))\n",
    "df[\"pred_fTT_WW\"] = pred_fTT[:,0]\n",
    "pred_fDY = random_forest[\"clf_fDY\"].predict_proba(np.float32(df[random_forest[\"features_fDY\"]].values))\n",
    "df[\"pred_fDY_WW\"] = pred_fDY[:,0]\n",
    "pred_fTT = random_forest[\"clf_fTT\"].predict_proba(np.float32(df_da[random_forest[\"features_fTT\"]].values))\n",
    "df_da[\"pred_fTT_WW\"] = pred_fTT[:,0]\n",
    "pred_fDY = random_forest[\"clf_fDY\"].predict_proba(np.float32(df_da[random_forest[\"features_fDY\"]].values))\n",
    "df_da[\"pred_fDY_WW\"] = pred_fDY[:,0]"
   ]
  },
  {
   "cell_type": "code",
   "execution_count": 11,
   "metadata": {
    "collapsed": false
   },
   "outputs": [],
   "source": [
    "def calc_cross_stuff(df_mc, df_data, flavor=\"both\", ):\n",
    "    lumi = 35.9e3\n",
    "    eff  = df_ww.shape[0]/1998956.#this had to be changed previously\n",
    "    Br   = (3*.108)**2. \n",
    "    \n",
    "    df_mc_c = df_mc[df_mc.lep1_Charge != df_mc.lep2_Charge]\n",
    "    df_data_c = df_data[df_data.lep1_Charge != df_data.lep2_Charge]\n",
    "    \n",
    "    df_mc_c_s = df_mc[df_mc.lep1_Charge == df_mc.lep2_Charge]\n",
    "    df_data_c_s = df_data[df_data.lep1_Charge == df_data.lep2_Charge]\n",
    "    \n",
    "    N_mc = sum([ rf_ana(df_mc_c[df_mc_c.process_decay == process], flavor=flavor).weight.values.sum()*scales[process] for process in scales.keys() if process not in ['WW', 'W1JetsToLNu','W2JetsToLNu','W3JetsToLNu','W3JetsToLNu', 'GluGluToWWTo4L'] ])\n",
    "    N_Wjets = rf_ana(df_data_c_s, flavor=flavor).shape[0] -  np.array([ rf_ana(df_mc_c_s[(df_mc_c_s.process_decay == process) ], flavor=flavor).weight.values.sum()*scales[process] for process in scales.keys() if process not in [ 'W1JetsToLNu','W2JetsToLNu','W3JetsToLNu','W3JetsToLNu'] ]).sum()\n",
    "    N_mc += abs(N_Wjets)\n",
    "    \n",
    "    N_data = rf_ana(df_data_c, flavor=flavor).shape[0]\n",
    "    \n",
    "    N_ww_select = rf_ana(df_mc_c[df_mc_c.process_decay == \"WW\"], flavor=flavor).weight.values.sum()*scales[\"WW\"] #+\\\n",
    "                #rf_ana(df_mc_c[df_mc_c.process_decay == \"GluGluToWWTo4L\"], flavor=flavor).weight.values.sum()*scales[\"GluGluToWWTo4L\"]\n",
    "    N_ww_tot = df_ww[df_ww.process_decay == \"WW\"].weight.values.sum()*scales[\"WW\"] #+\\\n",
    "                #df_ww[df_ww.process_decay == \"GluGluToWWTo4L\"].weight.values.sum()*scales[\"GluGluToWWTo4L\"]\n",
    "\n",
    "    ratio_s_t = N_ww_select / N_ww_tot\n",
    "\n",
    "    return {\"lumi\": lumi, \"eff\": eff, \"Br\": Br, \"N_mc\": N_mc, \"N_data\": N_data, \"ratio_s_t\": ratio_s_t, \"N_ww_select\":N_ww_select, \"N_Wjets\": N_Wjets}"
   ]
  },
  {
   "cell_type": "code",
   "execution_count": 19,
   "metadata": {
    "collapsed": true
   },
   "outputs": [],
   "source": [
    "def cross_calc(df_mc, df_data, flavor=\"both\", fiducial=False, **kwargs):\n",
    "    if kwargs:\n",
    "        var = kwargs\n",
    "    else:\n",
    "        var = calc_cross_stuff(df_mc, df_data, flavor)\n",
    "    lumi = var[\"lumi\"]\n",
    "    eff = var[\"eff\"]\n",
    "    Br = var[\"Br\"]\n",
    "    N_mc = var[\"N_mc\"]\n",
    "    N_data = var[\"N_data\"]\n",
    "    ratio_s_t = var[\"ratio_s_t\"]\n",
    "    N_ww_select = var[\"N_ww_select\"]\n",
    "    N_Wjets = var[\"N_Wjets\"]\n",
    "    \n",
    "    if fiducial == False:\n",
    "        #return  N_ww_select / (lumi * eff * Br *ratio_s_t)\n",
    "        return  (N_data - N_mc) / (lumi * eff * Br *ratio_s_t)\n",
    "    else:\n",
    "        return (N_data - N_mc) / (lumi * eff ) "
   ]
  },
  {
   "cell_type": "code",
   "execution_count": 13,
   "metadata": {
    "collapsed": true
   },
   "outputs": [],
   "source": [
    "def rf_ana( df, flavor=\"both\", random_forest=random_forest):\n",
    "  \n",
    "  rf_cuts = (df.pred_fTT_WW > .6) & (df.pred_fDY_WW > .972)\n",
    "  same_cuts = (df.lep_Type < 0) & rf_cuts \n",
    "  diff_cuts =  (df.lep_Type > 0) & rf_cuts\n",
    "\n",
    "\n",
    "  #return cuts_ana(df)\n",
    "  if flavor==\"both\": return pd.concat( [df[same_cuts], df[diff_cuts]] )\n",
    "  elif flavor==\"same\": return df[same_cuts]\n",
    "  elif flavor==\"diff\": return df[diff_cuts]"
   ]
  },
  {
   "cell_type": "code",
   "execution_count": 14,
   "metadata": {
    "collapsed": true
   },
   "outputs": [],
   "source": [
    "def lep_scale_shift(data, lep_pt=1.003, ): #0.2% muon scale and 0.3% electron scale\n",
    "    #leptons\n",
    "    data.lep1_pt = data.lep1_pt * lep_pt\n",
    "    data.lep2_pt = data.lep2_pt * lep_pt\n",
    "    data.mll = data.mll * lep_pt**.5\n",
    "    data.qT = data.qT * lep_pt\n",
    "    #ADD qT, recoil\n",
    "\n",
    "    #MET results\n",
    "    data.metMod = data.metMod - (data.lep1_pt + data.lep2_pt)/ lep_pt * (lep_pt - 1) \n",
    "    data.metProj = data.METProj - (data.lep1_pt + data.lep2_pt) / lep_pt * (lep_pt - 1) \n",
    "    \n",
    "def jet_scale_shift(data, jet_pt=1.025 ): #2.5% jet scale\n",
    "    #jets\n",
    "    data.HT = data.HT * jet_pt\n",
    "    data.jet1_pt = data.jet1_pt * jet_pt\n",
    "    \n",
    "    #MET results\n",
    "    data.metMod = data.metMod - data.HT / jet_pt * ( jet_pt - 1)\n",
    "    data.metProj = data.METProj - data.HT / jet_pt * ( jet_pt - 1)\n",
    "     "
   ]
  },
  {
   "cell_type": "markdown",
   "metadata": {},
   "source": [
    "### Masks"
   ]
  },
  {
   "cell_type": "code",
   "execution_count": 15,
   "metadata": {
    "collapsed": true
   },
   "outputs": [],
   "source": [
    "flavor = 'both'\n",
    "\n",
    "#All the mask we will need\n",
    "mc_lepton_Z =  (df.mll < 76) |  (df.mll > 106)\n",
    "data_lepton_Z =  (df_da.mll < 76) |  (df_da.mll > 106)\n",
    "mc_leptons_pt = (df.lep1_pt > 27) & (df.lep2_pt > 17) & (df.mll > 30) & mc_lepton_Z\n",
    "mc_jets_pt = ((df.jet1_pt > 32) | (df.jet1_pt < 5 )) & ((df.jet2_pt > 32) | (df.jet2_pt < 5 ))  \n",
    "data_leptons_pt = (df_da.lep1_pt > 27) & (df_da.lep2_pt > 17) & (df_da.mll > 30) & data_lepton_Z\n",
    "data_jets_pt = ((df_da.jet1_pt > 32) | (df_da.jet1_pt < 5 )) & ((df_da.jet2_pt > 32) | (df_da.jet2_pt < 5 ))  \n",
    "\n",
    "def masks( mc_leptons_pt):\n",
    "    mc_lepton_Z =  (df.mll < 76) |  (df.mll > 106)\n",
    "    data_lepton_Z =  (df_da.mll < 76) |  (df_da.mll > 106)\n",
    "    mc_leptons_pt = (df.lep1_pt > 27) & (df.lep2_pt > 17) & (df.mll > 30) & mc_lepton_Z\n",
    "    return mc_leptons_pt\n"
   ]
  },
  {
   "cell_type": "markdown",
   "metadata": {},
   "source": [
    "### Leptons"
   ]
  },
  {
   "cell_type": "code",
   "execution_count": 20,
   "metadata": {
    "collapsed": false
   },
   "outputs": [
    {
     "name": "stdout",
     "output_type": "stream",
     "text": [
      "Lepton scale up:  134.135819694 133.889193453 0.246626241486\n",
      "Lepton scale down:  134.135819694 134.423996331 -0.288176636935\n"
     ]
    }
   ],
   "source": [
    "#First calc \n",
    "no_change = cross_calc(df[mc_leptons_pt ], df_da[data_leptons_pt], flavor=flavor, )\n",
    "\n",
    "#Scale shift and redo pre calculation\n",
    "lep_scale_shift(df, )\n",
    "mc_leptons_pt = masks( mc_leptons_pt )\n",
    "\n",
    "change = cross_calc(df[mc_leptons_pt ], df_da[data_leptons_pt ], flavor=flavor,)\n",
    "\n",
    "print \"Lepton scale up: \",  no_change, change, no_change - change\n",
    "\n",
    "#Shift leptons back to starting value and redo pre calc\n",
    "lep_scale_shift(df, lep_pt=1. / 1.003)\n",
    "mc_leptons_pt = masks( mc_leptons_pt )\n",
    "#First calc\n",
    "no_change = cross_calc(df[mc_leptons_pt ], df_da[data_leptons_pt ], flavor=flavor, )\n",
    "\n",
    "#Scale shift to low end\n",
    "lep_scale_shift(df, lep_pt=1. / 1.003)\n",
    "mc_leptons_pt = masks( mc_leptons_pt )\n",
    "\n",
    "#Pre calc and redo cross calc\n",
    "change = cross_calc(df[mc_leptons_pt ], df_da[data_leptons_pt], flavor=flavor,)\n",
    "print \"Lepton scale down: \",  no_change, change, no_change - change"
   ]
  },
  {
   "cell_type": "markdown",
   "metadata": {},
   "source": [
    "### JETs"
   ]
  },
  {
   "cell_type": "code",
   "execution_count": 17,
   "metadata": {
    "collapsed": true
   },
   "outputs": [],
   "source": [
    "mc_jets_pt = ((df.jet1_pt > 31) | (df.jet1_pt < 5)) & ((df.jet2_pt > 31 )| (df.jet2_pt < 5)) \n",
    "data_jets_pt = ((df_da.jet1_pt > 31) | (df_da.jet1_pt < 5)) & ((df_da.jet2_pt > 31 )| (df_da.jet2_pt < 5)) \n",
    "def masks_jet( mc_leptons_jet):\n",
    "    mc_jets_pt = ((df.jet1_pt > 31) | (df.jet1_pt < 5)) & ((df.jet2_pt > 31 )| (df.jet2_pt < 5)) \n",
    "    return mc_jets_pt"
   ]
  },
  {
   "cell_type": "code",
   "execution_count": 21,
   "metadata": {
    "collapsed": false
   },
   "outputs": [
    {
     "name": "stdout",
     "output_type": "stream",
     "text": [
      "Jet scale up:  143.796969229 142.248405412 1.54856381728\n",
      "Jet scale down:  142.248405412 145.39054359 -3.14213817757\n"
     ]
    }
   ],
   "source": [
    "flavor = 'both'\n",
    "mc_jets_pt = masks_jet(mc_jets_pt)\n",
    "no_change = cross_calc(df[ mc_jets_pt], df_da[ data_jets_pt], flavor=flavor,)\n",
    "jet_scale_shift(df)\n",
    "mc_jets_pt = masks_jet(mc_jets_pt)\n",
    "change = cross_calc(df[mc_jets_pt], df_da[data_jets_pt], flavor=flavor, )\n",
    "\n",
    "print \"Jet scale up: \",  no_change, change, no_change - change\n",
    "jet_scale_shift(df, jet_pt=.975)\n",
    "no_change = cross_calc(df[mc_jets_pt], df_da[data_jets_pt], flavor=flavor, )\n",
    "jet_scale_shift(df, jet_pt=.975)\n",
    "mc_jets_pt = masks_jet(mc_jets_pt)\n",
    "change = cross_calc(df[ mc_jets_pt], df_da[data_jets_pt], flavor=flavor, )\n",
    "print \"Jet scale down: \",  no_change, change, no_change - change"
   ]
  },
  {
   "cell_type": "markdown",
   "metadata": {},
   "source": [
    "## Resolution"
   ]
  },
  {
   "cell_type": "code",
   "execution_count": 22,
   "metadata": {
    "collapsed": false
   },
   "outputs": [],
   "source": [
    "def lep_resolution(data, lep_resolution=.017): #.006 is the muon resolution, 1.7 - 4.5% for electrons (I can't delieve the electrons are that big)\n",
    "    #Leptons 1 & 2 \n",
    "    lep1_delta = np.random.normal(loc=[0]*data.shape[0], scale=lep_resolution)\n",
    "    lep2_delta = np.random.normal(loc=[0]*data.shape[0], scale=lep_resolution)\n",
    "    \n",
    "    data.lep1_pt = data.lep1_pt + lep1_delta\n",
    "    data.lep2_pt = data.lep2_pt + lep2_delta\n",
    "    #data.mll = \n",
    "    \n",
    "    #MET\n",
    "    data.metMod = data.metMod - lep1_delta - lep2_delta\n",
    "    return lep1_delta, lep2_delta\n",
    "\n",
    "def jet_resolution(data, jet_scale=.1):\n",
    "    #Jets\n",
    "    ht_delta = np.random.normal(loc=[0]*data.shape[0], scale=jet_scale) * np.sqrt(df.numb_jets)\n",
    "    data.HT = data.HT + ht_delta \n",
    "    data.jet1_pt = data.jet1_pt + np.random.normal(loc=[0]*data.shape[0], scale=jet_scale)\n",
    "    data.jet2_pt = data.jet2_pt + np.random.normal(loc=[0]*data.shape[0], scale=jet_scale)\n",
    "    #MET\n",
    "    data.metMod = data.metMod - ht_delta\n",
    "    \n",
    "    #Update leptons and jets \n",
    "    "
   ]
  },
  {
   "cell_type": "markdown",
   "metadata": {
    "collapsed": true
   },
   "source": [
    "### Leptons"
   ]
  },
  {
   "cell_type": "code",
   "execution_count": 23,
   "metadata": {
    "collapsed": false
   },
   "outputs": [],
   "source": [
    "data_lepton_Z =  (df_da.mll < 76) |  (df_da.mll > 106)\n",
    "data_leptons_pt = (df_da.lep1_pt > 27) & (df_da.lep2_pt > 17) & (df_da.mll > 30) & data_lepton_Z\n",
    "\n",
    "def lep_masks( ):\n",
    "    mc_lepton_Z =  (df.mll < 76) |  (df.mll > 106)\n",
    "    data_lepton_Z =  (df_da.mll < 76) |  (df_da.mll > 106)\n",
    "    mc_leptons_pt = (df.lep1_pt > 27) & (df.lep2_pt > 17) & (df.mll > 30) & mc_lepton_Z\n",
    "    return mc_leptons_pt"
   ]
  },
  {
   "cell_type": "code",
   "execution_count": 24,
   "metadata": {
    "collapsed": false
   },
   "outputs": [
    {
     "name": "stdout",
     "output_type": "stream",
     "text": [
      "Lepton resolution up:  134.423996331 134.411485541 0.0125107903174\n"
     ]
    }
   ],
   "source": [
    "#First calc \n",
    "mc_leptons_pt = lep_masks()\n",
    "no_change = cross_calc(df[mc_leptons_pt ], df_da[data_leptons_pt], flavor=flavor, )\n",
    "\n",
    "#Scale shift and redo pre calculation\n",
    "a = lep_resolution(df)\n",
    "mc_leptons_pt = lep_masks()\n",
    "\n",
    "change = cross_calc(df[mc_leptons_pt ], df_da[data_leptons_pt ], flavor=flavor,)\n",
    "\n",
    "print \"Lepton resolution up: \",  no_change, change, no_change - change"
   ]
  },
  {
   "cell_type": "markdown",
   "metadata": {},
   "source": [
    "Lepton resolution up:  62.6(Before) 60.3(After) 2.214(Delta)\n",
    "\n",
    "This change is too large. Something is wrong."
   ]
  },
  {
   "cell_type": "code",
   "execution_count": 50,
   "metadata": {
    "collapsed": false
   },
   "outputs": [
    {
     "data": {
      "text/plain": [
       "<matplotlib.axes._subplots.AxesSubplot at 0x7f0eec6076d0>"
      ]
     },
     "execution_count": 50,
     "metadata": {},
     "output_type": "execute_result"
    },
    {
     "data": {
      "image/png": "[encoded data removed]",
      "text/plain": [
       "<matplotlib.figure.Figure at 0x7f0eec607310>"
      ]
     },
     "metadata": {},
     "output_type": "display_data"
    }
   ],
   "source": [
    "df.lep1_pt.hist(bins=20, range=(10, 200))"
   ]
  },
  {
   "cell_type": "markdown",
   "metadata": {},
   "source": [
    "### JETs"
   ]
  },
  {
   "cell_type": "code",
   "execution_count": 25,
   "metadata": {
    "collapsed": true
   },
   "outputs": [],
   "source": [
    "mc_jets_pt = ((df.jet1_pt > 31) | (df.jet1_pt < 5)) & ((df.jet2_pt > 31 )| (df.jet2_pt < 5)) \n",
    "data_jets_pt = ((df_da.jet1_pt > 31) | (df_da.jet1_pt < 5)) & ((df_da.jet2_pt > 31 )| (df_da.jet2_pt < 5)) \n",
    "def masks_jet( mc_leptons_jet):\n",
    "    mc_jets_pt = ((df.jet1_pt > 31) | (df.jet1_pt < 5)) & ((df.jet2_pt > 31 )| (df.jet2_pt < 5)) \n",
    "    return mc_jets_pt"
   ]
  },
  {
   "cell_type": "code",
   "execution_count": 26,
   "metadata": {
    "collapsed": false
   },
   "outputs": [
    {
     "name": "stdout",
     "output_type": "stream",
     "text": [
      "Jet scale up:  145.39054359 145.416548897 -0.0260053074125\n"
     ]
    }
   ],
   "source": [
    "flavor = 'both'\n",
    "mc_jets_pt = masks_jet(mc_jets_pt)\n",
    "no_change = cross_calc(df[ mc_jets_pt], df_da[ data_jets_pt], flavor=flavor,)\n",
    "jet_resolution(df)\n",
    "mc_jets_pt = masks_jet(mc_jets_pt)\n",
    "change = cross_calc(df[mc_jets_pt], df_da[data_jets_pt], flavor=flavor, )\n",
    "\n",
    "print \"Jet scale up: \",  no_change, change, no_change - change"
   ]
  },
  {
   "cell_type": "markdown",
   "metadata": {},
   "source": [
    "# Template Fits(move)"
   ]
  },
  {
   "cell_type": "code",
   "execution_count": 51,
   "metadata": {
    "collapsed": true
   },
   "outputs": [],
   "source": [
    "bin_mc = bin_df(pre_cuts(df), \"pred_fTT_WW\", range=(-.1, 1.1))\n",
    "bin_data = bin_df(pre_cuts(df_da), \"pred_fTT_WW\", range=(-.1, 1.1))"
   ]
  },
  {
   "cell_type": "code",
   "execution_count": 53,
   "metadata": {
    "collapsed": false
   },
   "outputs": [
    {
     "data": {
      "text/plain": [
       "{'Da': [array([      0.,       0.,       0.,       0.,   14166.,   13407.,\n",
       "           12075.,   11698.,   11293.,    9712.,    8178.,    6846.,\n",
       "            6184.,    5814.,    6024.,    6126.,    6602.,    7075.,\n",
       "            7512.,    7967.,    8333.,    8440.,    8697.,    8465.,\n",
       "            8656.,    8387.,    8242.,    8313.,    8332.,    8667.,\n",
       "            8869.,    9387.,    9914.,   11015.,   11911.,   13197.,\n",
       "           14885.,   16979.,   19494.,   22914.,   28585.,   41822.,\n",
       "           77485.,  173742.,  290349.,  115928.,       0.,       0.,\n",
       "               0.,       0.], dtype=float32),\n",
       "  array([-0.1  , -0.076, -0.052, -0.028, -0.004,  0.02 ,  0.044,  0.068,\n",
       "          0.092,  0.116,  0.14 ,  0.164,  0.188,  0.212,  0.236,  0.26 ,\n",
       "          0.284,  0.308,  0.332,  0.356,  0.38 ,  0.404,  0.428,  0.452,\n",
       "          0.476,  0.5  ,  0.524,  0.548,  0.572,  0.596,  0.62 ,  0.644,\n",
       "          0.668,  0.692,  0.716,  0.74 ,  0.764,  0.788,  0.812,  0.836,\n",
       "          0.86 ,  0.884,  0.908,  0.932,  0.956,  0.98 ,  1.004,  1.028,\n",
       "          1.052,  1.076,  1.1  ]),\n",
       "  array([-0.088, -0.064, -0.04 , -0.016,  0.008,  0.032,  0.056,  0.08 ,\n",
       "          0.104,  0.128,  0.152,  0.176,  0.2  ,  0.224,  0.248,  0.272,\n",
       "          0.296,  0.32 ,  0.344,  0.368,  0.392,  0.416,  0.44 ,  0.464,\n",
       "          0.488,  0.512,  0.536,  0.56 ,  0.584,  0.608,  0.632,  0.656,\n",
       "          0.68 ,  0.704,  0.728,  0.752,  0.776,  0.8  ,  0.824,  0.848,\n",
       "          0.872,  0.896,  0.92 ,  0.944,  0.968,  0.992,  1.016,  1.04 ,\n",
       "          1.064,  1.088]),\n",
       "  array([      0.,       0.,       0.,       0.,   14166.,   13407.,\n",
       "           12075.,   11698.,   11293.,    9712.,    8178.,    6846.,\n",
       "            6184.,    5814.,    6024.,    6126.,    6602.,    7075.,\n",
       "            7512.,    7967.,    8333.,    8440.,    8697.,    8465.,\n",
       "            8656.,    8387.,    8242.,    8313.,    8332.,    8667.,\n",
       "            8869.,    9387.,    9914.,   11015.,   11911.,   13197.,\n",
       "           14885.,   16979.,   19494.,   22914.,   28585.,   41822.,\n",
       "           77485.,  173742.,  290349.,  115928.,       0.,       0.,\n",
       "               0.,       0.], dtype=float32)],\n",
       " 'plotting': {'title': 'pred_fTT_WW', 'y_label': 'Entries'}}"
      ]
     },
     "execution_count": 53,
     "metadata": {},
     "output_type": "execute_result"
    }
   ],
   "source": [
    "bin_data"
   ]
  },
  {
   "cell_type": "code",
   "execution_count": 77,
   "metadata": {
    "collapsed": false
   },
   "outputs": [
    {
     "name": "stdout",
     "output_type": "stream",
     "text": [
      "WW -110442.073776\n",
      "WW 1161991.05244\n",
      "WW -60.5544451576\n",
      "Top -110442.073776\n",
      "Top 1181009.84632\n",
      "Top -59.4752459532\n",
      "DY -110442.073776\n",
      "DY 2134189.17501\n",
      "DY -17.0342332468\n"
     ]
    }
   ],
   "source": [
    "processes = {'DY': ['DYJetsToLL_M-10to50', 'DYJetsToLL_M-50'],\n",
    "'Top': ['ttbar_semileptonic', 'ttbar_leptonic', 'Tbar_tW-channel', 'Tbar_s-channel', 'T_t-channel','Tbar_t-channel', 'T_s-channel'],\n",
    "'WW': ['WW']}\n",
    "\n",
    "chi_arr = np.zeros(bin_mc['WW'][0].shape[0])\n",
    "current_ = {'DY':1 * chi_arr , 'Top':1 * chi_arr , 'WW':1 * chi_arr }\n",
    "alphas = {'DY':1, 'Top':1, 'WW':1}\n",
    "skip_list = []\n",
    "for key in processes:\n",
    "    for process in processes[key]:\n",
    "        chi_arr += alphas[key] * bin_mc[process][0]\n",
    "        current_[key] += alphas[key] * bin_mc[process][0]\n",
    "        skip_list.append(process)\n",
    "    #Update alpha\n",
    "for key in current_:\n",
    "    print key, 2*(chi_arr - bin_data['Da'][0] ).sum()\n",
    "    print key, (bin_data['Da'][0]  - np.array([current_[i] for i in current_ if i != key])).sum()\n",
    "    num =  2*(chi_arr - bin_data['Da'][0])\n",
    "    demon =  (bin_data['Da'][0]  - np.array([current_[i] for i in current_ if i != key]))\n",
    "    demon[demon < .1 ] = 1\n",
    "    print key, (num / demon).sum()\n",
    "for process in bin_mc:\n",
    "    if process not in skip_list+['plotting']:\n",
    "        chi_arr += bin_mc[process][0]\n",
    "        \n",
    "chi_sq_score  = ((chi_arr - bin_data['Da'][0] )**2 / bin_data['Da'][0]).sum()\n",
    "\n"
   ]
  },
  {
   "cell_type": "code",
   "execution_count": 72,
   "metadata": {
    "collapsed": false
   },
   "outputs": [],
   "source": [
    "a = np.array([12,32,0,0,0])"
   ]
  },
  {
   "cell_type": "code",
   "execution_count": 78,
   "metadata": {
    "collapsed": false
   },
   "outputs": [
    {
     "data": {
      "text/plain": [
       "{'DY': array([      0.        ,       0.        ,       0.        ,\n",
       "              0.        ,    2849.80810547,    5176.63360596,\n",
       "           6515.28662109,    7369.20336914,    7637.23046875,\n",
       "           7044.91943359,    5968.16357422,    5223.80786133,\n",
       "           5059.52844238,    4233.86804199,    4551.48071289,\n",
       "           5019.14001465,    4958.46826172,    5736.16870117,\n",
       "           6469.79138184,    6530.82861328,    6875.26757812,\n",
       "           7488.48742676,    7369.87512207,    7502.76879883,\n",
       "           7511.30395508,    6868.29516602,    7213.52526855,\n",
       "           7119.12963867,    7360.85107422,    7652.34240723,\n",
       "           8073.23400879,    8249.45532227,    8801.9921875 ,\n",
       "           9496.76049805,   10516.8236084 ,   11714.25805664,\n",
       "          13656.97912598,   15524.67578125,   18119.03186035,\n",
       "          21425.47912598,   26087.01660156,   37887.68164062,\n",
       "          71463.62158203,  165975.07421875,  284031.88671875,\n",
       "         112950.99414062,       0.        ,       0.        ,\n",
       "              0.        ,       0.        ]),\n",
       " 'Top': array([  0.00000000e+00,   0.00000000e+00,   0.00000000e+00,\n",
       "          0.00000000e+00,   9.98401887e+03,   6.22863322e+03,\n",
       "          3.95958621e+03,   2.70202694e+03,   1.84441154e+03,\n",
       "          1.25353930e+03,   8.86930668e+02,   6.69146036e+02,\n",
       "          5.44206263e+02,   4.75209050e+02,   4.39213375e+02,\n",
       "          4.10385691e+02,   3.78674516e+02,   3.49322974e+02,\n",
       "          3.25003130e+02,   3.02344273e+02,   2.79493893e+02,\n",
       "          2.67635296e+02,   2.32948319e+02,   2.13450375e+02,\n",
       "          1.86782522e+02,   1.61879170e+02,   1.50921182e+02,\n",
       "          1.35346817e+02,   1.27973583e+02,   1.06731858e+02,\n",
       "          1.04178945e+02,   1.02264262e+02,   9.14226528e+01,\n",
       "          9.14495100e+01,   9.11385533e+01,   8.73756756e+01,\n",
       "          9.02866675e+01,   8.44541243e+01,   8.93515530e+01,\n",
       "          8.86132069e+01,   9.00796631e+01,   1.05162212e+02,\n",
       "          1.18870909e+02,   1.38490639e+02,   1.03614379e+02,\n",
       "          9.24140936e+00,   0.00000000e+00,   0.00000000e+00,\n",
       "          0.00000000e+00,   0.00000000e+00]),\n",
       " 'WW': array([    0.        ,     0.        ,     0.        ,     0.        ,\n",
       "           42.19351578,    92.56906891,   138.26100159,   159.54980469,\n",
       "          154.05917358,   133.48358154,   113.81993866,   104.92397308,\n",
       "          103.42170715,   104.5218277 ,   109.15546417,   116.17415619,\n",
       "          125.40261841,   128.19020081,   150.20541382,   156.19287109,\n",
       "          163.6655426 ,   181.71009827,   186.78862   ,   181.82458496,\n",
       "          189.26600647,   184.92008972,   188.80996704,   189.72790527,\n",
       "          185.17758179,   195.06668091,   198.97897339,   212.72535706,\n",
       "          208.65324402,   230.75944519,   244.7494812 ,   279.7807312 ,\n",
       "          300.97616577,   337.06256104,   407.09835815,   476.75064087,\n",
       "          609.57220459,   840.25500488,  1301.90368652,  2243.46875   ,\n",
       "         2906.46118164,   504.7383728 ,     0.        ,     0.        ,\n",
       "            0.        ,     0.        ])}"
      ]
     },
     "execution_count": 78,
     "metadata": {},
     "output_type": "execute_result"
    }
   ],
   "source": [
    "current_"
   ]
  },
  {
   "cell_type": "code",
   "execution_count": null,
   "metadata": {
    "collapsed": true
   },
   "outputs": [],
   "source": []
  },
  {
   "cell_type": "code",
   "execution_count": 37,
   "metadata": {
    "collapsed": false
   },
   "outputs": [
    {
     "data": {
      "text/plain": [
       "117.6146606256471"
      ]
     },
     "execution_count": 37,
     "metadata": {},
     "output_type": "execute_result"
    }
   ],
   "source": [
    "(13920. + 1505.) / ((3*.108)**2 * .29 * .12 * 35.9E3)"
   ]
  },
  {
   "cell_type": "code",
   "execution_count": 38,
   "metadata": {
    "collapsed": false
   },
   "outputs": [
    {
     "data": {
      "text/plain": [
       "{'Br': 0.104976,\n",
       " 'N_Wjets': 3716.1627132596354,\n",
       " 'N_data': 32054,\n",
       " 'N_mc': 13122.392436735307,\n",
       " 'N_ww_select': 15425.442203540893,\n",
       " 'eff': 0.12140587386615813,\n",
       " 'lumi': 19700.0,\n",
       " 'ratio_s_t': 0.29132056271210172}"
      ]
     },
     "execution_count": 38,
     "metadata": {},
     "output_type": "execute_result"
    }
   ],
   "source": [
    "calc_cross_stuff(df, df_da)"
   ]
  },
  {
   "cell_type": "code",
   "execution_count": null,
   "metadata": {
    "collapsed": true
   },
   "outputs": [],
   "source": []
  },
  {
   "cell_type": "code",
   "execution_count": null,
   "metadata": {
    "collapsed": true
   },
   "outputs": [],
   "source": []
  },
  {
   "cell_type": "code",
   "execution_count": null,
   "metadata": {
    "collapsed": true
   },
   "outputs": [],
   "source": []
  },
  {
   "cell_type": "code",
   "execution_count": null,
   "metadata": {
    "collapsed": true
   },
   "outputs": [],
   "source": []
  },
  {
   "cell_type": "code",
   "execution_count": null,
   "metadata": {
    "collapsed": true
   },
   "outputs": [],
   "source": []
  }
 ],
 "metadata": {
  "anaconda-cloud": {},
  "kernelspec": {
   "display_name": "Python [default]",
   "language": "python",
   "name": "python2"
  },
  "language_info": {
   "codemirror_mode": {
    "name": "ipython",
    "version": 2
   },
   "file_extension": ".py",
   "mimetype": "text/x-python",
   "name": "python",
   "nbconvert_exporter": "python",
   "pygments_lexer": "ipython2",
   "version": "2.7.12"
  },
  "toc": {
   "colors": {
    "hover_highlight": "#DAA520",
    "navigate_num": "#000000",
    "navigate_text": "#333333",
    "running_highlight": "#FF0000",
    "selected_highlight": "#FFD700",
    "sidebar_border": "#EEEEEE",
    "wrapper_background": "#FFFFFF"
   },
   "moveMenuLeft": true,
   "navigate_menu": false,
   "number_sections": true,
   "sideBar": true,
   "threshold": 4,
   "toc_cell": false,
   "toc_section_display": "block",
   "toc_window_display": true,
   "widenNotebook": false
  }
 },
 "nbformat": 4,
 "nbformat_minor": 0
}
