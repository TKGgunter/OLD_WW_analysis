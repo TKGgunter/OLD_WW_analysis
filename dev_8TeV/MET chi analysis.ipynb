{
 "cells": [
  {
   "cell_type": "markdown",
   "metadata": {},
   "source": [
    "# Analysis of met and met phi corrections\n",
    "\n",
    "The goal is to minimize the chi squared of the bins events in bins by shifting mc values to achieved a better a agreement between data and mc.\n"
   ]
  },
  {
   "cell_type": "code",
   "execution_count": null,
   "metadata": {
    "collapsed": false
   },
   "outputs": [],
   "source": [
    "run ../prep_ana.py"
   ]
  },
  {
   "cell_type": "code",
   "execution_count": null,
   "metadata": {
    "collapsed": true
   },
   "outputs": [],
   "source": [
    "%matplotlib inline"
   ]
  },
  {
   "cell_type": "markdown",
   "metadata": {},
   "source": [
    "# MET Analysis"
   ]
  },
  {
   "cell_type": "code",
   "execution_count": null,
   "metadata": {
    "collapsed": false
   },
   "outputs": [],
   "source": [
    "df_da_a = rp.read_root(data_path+\"/muon_2012A_complete.root\")\n",
    "df_da_b = rp.read_root(data_path+\"/muon_2012B_complete.root\")\n",
    "df_da_c = rp.read_root(data_path+\"/muon_2012C_complete.root\")\n",
    "df_da_d = rp.read_root(data_path+\"/muon_2012D_complete.root\")\n",
    "\n",
    "df_da = pd.concat([df_da_a, df_da_b, df_da_c, df_da_d])"
   ]
  },
  {
   "cell_type": "code",
   "execution_count": null,
   "metadata": {
    "collapsed": false
   },
   "outputs": [],
   "source": [
    "alpha = 1.055\n",
    "a = df.metMod.values * 1.\n",
    "a[ df.process.values == \"DY\"]= a[ df.process.values == \"DY\"] * alpha\n",
    "df[\"metMod_corrected\"] = a\n",
    "\n",
    "bins_mc = bin_df( df, \"metMod_corrected\", range=(0,300), scales=scales, bins=50)\n",
    "bins_da = bin_df( df_da, \"metMod\", range=(0,300), scales=scales, bins=50)\n",
    "\n",
    "\n",
    "for i in range(6):\n",
    "    tot_mc = np.zeros( bins_mc[ bins_mc.keys()[0] ][0].shape[0] )\n",
    "\n",
    "    for process in bins_mc.keys():\n",
    "        if process != \"plotting\":\n",
    "            tot_mc += bins_mc[process][0]\n",
    "\n",
    "    print \"iter:\", i, ( ( tot_mc  - bins_da[\"Da\"][0])**2 / bins_da[\"Da\"][0]  ).sum(),\\\n",
    "    ( 2*( tot_mc - bins_da[\"Da\"][0]) / bins_da[\"Da\"][0]  ).sum() * 1. / 2200.,\\\n",
    "    alpha\n",
    "    alpha = alpha  +  ( 2*( tot_mc - bins_da[\"Da\"][0]) / bins_da[\"Da\"][0]  ).sum() * 1. / 2200.\n",
    "    a[df.process.values == \"DY\"] = df.metMod.values[df.process.values == \"DY\"] * alpha \n",
    "    df[\"metMod_corrected\"] = a\n",
    "    \n",
    "    bins_mc = bin_df( df, \"metMod_corrected\", range=(0,300), scales=scales, bins=50)"
   ]
  },
  {
   "cell_type": "code",
   "execution_count": null,
   "metadata": {
    "collapsed": false
   },
   "outputs": [],
   "source": [
    "alpha = 1.059\n",
    "a = df.metMod.values * 1.\n",
    "a[ df.process.values == \"DY\"]= a[ df.process.values == \"DY\"] * alpha\n",
    "df[\"metMod_corrected\"] = a\n",
    "\n",
    "mc = bin_df( df[(df.mll > 30) & (df.lep1_type == df.lep2_type) & ( df.mll > 76 ) & (df.mll < 106) ], \"metMod_corrected\",)\n",
    "da = bin_df( df_da[ (df_da.mll > 30) & (df_da.lep1_type == df_da.lep2_type) & ( df_da.mll > 76 ) & (df_da.mll < 106) ], \"metMod\",)\n",
    "\n",
    "\n",
    "full_plot(mc, da, color=\"color_1\", title=\"MET(GeV)\")"
   ]
  },
  {
   "cell_type": "code",
   "execution_count": null,
   "metadata": {
    "collapsed": true
   },
   "outputs": [],
   "source": []
  },
  {
   "cell_type": "code",
   "execution_count": null,
   "metadata": {
    "collapsed": true
   },
   "outputs": [],
   "source": []
  },
  {
   "cell_type": "code",
   "execution_count": null,
   "metadata": {
    "collapsed": true
   },
   "outputs": [],
   "source": []
  },
  {
   "cell_type": "markdown",
   "metadata": {},
   "source": [
    "# MET Phi Analysis "
   ]
  },
  {
   "cell_type": "code",
   "execution_count": null,
   "metadata": {
    "collapsed": false,
    "scrolled": true
   },
   "outputs": [],
   "source": [
    "alpha = 1.019384555152\n",
    "a = df.met_phi.values * 1. + alpha\n",
    "#a[ df.process.values == \"DY\"]= a[ df.process.values == \"DY\"] + alpha\n",
    "a[ a > np.pi ] = a[ a > np.pi ] - 2*np.pi\n",
    "df[\"met_phi_corrected\"] = a\n",
    "\n",
    "bins_mc = bin_df( df, \"met_phi_corrected\", range=(-np.pi, np.pi))\n",
    "bins_da = bin_df( df_da, \"met_phi\",range=(-np.pi, np.pi))\n",
    "\n",
    "\n",
    "for i in range(6):\n",
    "    tot_mc = np.zeros( bins_mc[ bins_mc.keys()[0] ][0].shape[0] )\n",
    "\n",
    "    for process in bins_mc.keys():\n",
    "        if process != \"plotting\":\n",
    "            tot_mc += bins_mc[process][0]\n",
    "\n",
    "    print \"iter:\", i, ( ( tot_mc  - bins_da[\"Da\"][0])**2 / bins_da[\"Da\"][0]  ).sum(),\\\n",
    "    ( 2*( tot_mc - bins_da[\"Da\"][0]) / bins_da[\"Da\"][0]  ).sum() * 1. / 30.,\\\n",
    "    alpha\n",
    "    alpha = alpha  +  ( 2*( tot_mc - bins_da[\"Da\"][0]) / bins_da[\"Da\"][0]  ).sum() * 1. / 30.\n",
    "    a = df.met_phi.values + alpha\n",
    "\n",
    "    a[ a > np.pi ] = a[ a > np.pi ] - 2*np.pi\n",
    "    df[\"met_phi_corrected\"] = a\n",
    "    \n",
    "    bins_mc = bin_df( df, \"met_phi_corrected\", range=(-np.pi, np.pi),)"
   ]
  },
  {
   "cell_type": "markdown",
   "metadata": {},
   "source": [
    "1 / 100\n",
    "iter: 0 381129.689454 0.0261044070145 0.01\n",
    "iter: 1 367150.958604 0.0252947721002 0.0361044070145\n",
    "iter: 2 353922.805488 0.0245248190352 0.0613991791147\n",
    "iter: 3 341337.789687 0.0237957235476 0.0859239981499\n",
    "iter: 4 329225.381462 0.0230891651892 0.109719721697\n",
    "iter: 5 317767.160623 0.0224294589716 0.132808886887\n",
    "\n",
    "1 / 100\n",
    "iter: 0 319156.356933 0.022507669135 0.13\n",
    "iter: 1 308056.25158 0.0218675626005 0.152507669135\n",
    "iter: 2 297611.20041 0.0212562681977 0.174375231735\n",
    "iter: 3 287639.583018 0.0206824829586 0.195631499933\n",
    "iter: 4 278134.526446 0.0201242842249 0.216313982892\n",
    "iter: 5 268925.926761 0.0195869381033 0.236438267117\n",
    "\n",
    "1 / 100\n",
    "iter: 0 278072.783473 0.0201203570595 0.216438267117\n",
    "iter: 1 268875.601108 0.0195840701433 0.236558624177\n",
    "iter: 2 260272.45843 0.019087400988 0.25614269432\n",
    "iter: 3 251933.103385 0.0186067630428 0.275230095308\n",
    "iter: 4 244041.814989 0.018148633485 0.293836858351\n",
    "iter: 5 236477.326881 0.0177042577783 0.311985491836\n",
    "\n",
    "1 / 70\n",
    "iter: 0 240609.056383 0.0256327278061 0.301985491836\n",
    "iter: 1 230134.868224 0.0247658225603 0.327618219642\n",
    "iter: 2 220324.297086 0.0239459913707 0.352384042202\n",
    "iter: 3 210973.255408 0.0231690721337 0.376330033573\n",
    "iter: 4 202364.075656 0.0224613349473 0.399499105707\n",
    "iter: 5 194234.760889 0.0217812418701 0.421960440654\n",
    "\n",
    "1 / 50\n",
    "iter: 0 197783.096726 0.030911799816 0.411960440654\n",
    "iter: 1 186932.863298 0.0296412557194 0.44287224047\n",
    "iter: 2 177018.158725 0.0284804367221 0.472513496189\n",
    "iter: 3 167792.646874 0.0274080031599 0.500993932911\n",
    "iter: 4 159507.255563 0.0264500005121 0.528401936071\n",
    "iter: 5 151790.734294 0.0255409578249 0.554851936583\n",
    "\n",
    "iter: 0 154705.512094 0.0258923034597 0.544851936583\n",
    "iter: 1 147406.558871 0.0250405272144 0.570744240043\n",
    "iter: 2 140720.070514 0.0242480417458 0.595784767257\n",
    "iter: 3 134544.288539 0.0235331434974 0.620032809003\n",
    "iter: 4 128967.224986 0.0228912167564 0.6435659525\n",
    "iter: 5 123777.233117 0.0222794449522 0.666457169257\n",
    "\n",
    "1 / 30\n",
    "iter: 0 126400.17216 0.037644395334 0.654851936583\n",
    "iter: 1 118230.917929 0.0360373912466 0.692496331917\n",
    "iter: 2 111457.677768 0.0347163832186 0.728533723164\n",
    "iter: 3 105451.028995 0.0335598496451 0.763250106382\n",
    "iter: 4 100381.201118 0.0325745991249 0.796809956027\n",
    "iter: 5 96028.8674008 0.0317187117597 0.829384555152\n",
    "\n",
    "iter: 0 97256.3411288 0.0319501412369 0.819384555152\n",
    "iter: 1 93529.9544317 0.0312137607689 0.851334696389\n",
    "iter: 2 90455.0808164 0.0306148304344 0.882548457158\n",
    "iter: 3 88119.2223622 0.0301845715978 0.913163287592\n",
    "iter: 4 86218.7744158 0.029789397933 0.94334785919\n",
    "iter: 5 85039.8338347 0.0295494024406 0.973137257123\n",
    "\n"
   ]
  },
  {
   "cell_type": "code",
   "execution_count": null,
   "metadata": {
    "collapsed": false
   },
   "outputs": [],
   "source": [
    "alpha = 1.019384555152\n",
    "a = df.met_phi.values * 1. + alpha\n",
    "#a[ df.process.values == \"DY\"]= a[ df.process.values == \"DY\"] + alpha\n",
    "a[ a > np.pi ] = a[ a > np.pi ] - 2*np.pi\n",
    "df[\"met_phi_corrected\"] = a\n",
    "\n",
    "mc = bin_df( df[df.mll > 30], \"met_phi_corrected\",)\n",
    "da = bin_df( df_da[df_da.mll > 30], \"met_phi\",)\n",
    "\n",
    "\n",
    "full_plot(mc, da, color=\"color_1\")"
   ]
  },
  {
   "cell_type": "code",
   "execution_count": null,
   "metadata": {
    "collapsed": true
   },
   "outputs": [],
   "source": []
  },
  {
   "cell_type": "code",
   "execution_count": null,
   "metadata": {
    "collapsed": true
   },
   "outputs": [],
   "source": []
  },
  {
   "cell_type": "code",
   "execution_count": null,
   "metadata": {
    "collapsed": true
   },
   "outputs": [],
   "source": []
  },
  {
   "cell_type": "code",
   "execution_count": null,
   "metadata": {
    "collapsed": true
   },
   "outputs": [],
   "source": []
  },
  {
   "cell_type": "code",
   "execution_count": null,
   "metadata": {
    "collapsed": false
   },
   "outputs": [],
   "source": [
    "len(df.keys())"
   ]
  },
  {
   "cell_type": "code",
   "execution_count": null,
   "metadata": {
    "collapsed": true
   },
   "outputs": [],
   "source": []
  },
  {
   "cell_type": "code",
   "execution_count": null,
   "metadata": {
    "collapsed": true
   },
   "outputs": [],
   "source": []
  },
  {
   "cell_type": "code",
   "execution_count": null,
   "metadata": {
    "collapsed": true
   },
   "outputs": [],
   "source": []
  },
  {
   "cell_type": "code",
   "execution_count": null,
   "metadata": {
    "collapsed": true
   },
   "outputs": [],
   "source": []
  },
  {
   "cell_type": "code",
   "execution_count": null,
   "metadata": {
    "collapsed": true
   },
   "outputs": [],
   "source": []
  },
  {
   "cell_type": "code",
   "execution_count": null,
   "metadata": {
    "collapsed": true
   },
   "outputs": [],
   "source": []
  },
  {
   "cell_type": "code",
   "execution_count": null,
   "metadata": {
    "collapsed": true
   },
   "outputs": [],
   "source": []
  },
  {
   "cell_type": "code",
   "execution_count": null,
   "metadata": {
    "collapsed": false
   },
   "outputs": [],
   "source": [
    "mc[\"WGToLNuG\"]"
   ]
  },
  {
   "cell_type": "markdown",
   "metadata": {},
   "source": [
    "# End"
   ]
  },
  {
   "cell_type": "code",
   "execution_count": null,
   "metadata": {
    "collapsed": true
   },
   "outputs": [],
   "source": [
    "rp.read_root?"
   ]
  },
  {
   "cell_type": "code",
   "execution_count": null,
   "metadata": {
    "collapsed": true
   },
   "outputs": [],
   "source": []
  }
 ],
 "metadata": {
  "kernelspec": {
   "display_name": "Python 2",
   "language": "python",
   "name": "python2"
  },
  "language_info": {
   "codemirror_mode": {
    "name": "ipython",
    "version": 2
   },
   "file_extension": ".py",
   "mimetype": "text/x-python",
   "name": "python",
   "nbconvert_exporter": "python",
   "pygments_lexer": "ipython2",
   "version": "2.7.10"
  },
  "toc": {
   "navigate_menu": false,
   "number_sections": true,
   "sideBar": true,
   "threshold": "4",
   "toc_cell": false,
   "toc_section_display": "block",
   "toc_window_display": true
  }
 },
 "nbformat": 4,
 "nbformat_minor": 0
}
