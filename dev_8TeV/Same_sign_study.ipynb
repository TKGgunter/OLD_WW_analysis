{
 "cells": [
  {
   "cell_type": "markdown",
   "metadata": {},
   "source": [
    "# Same sign analysis\n",
    "\n",
    "- Look at some control region (TTbar or/and DY) \n",
    "- Look at the number and shapes of WJets MC for opp sign\n",
    "- Look at Data same sign region of control region and compare\n",
    "\n",
    "- Excess might be QCD\n",
    "\n",
    "ToDo:\n",
    "\n",
    "Look at at lepton pt and other features in bins of lepton pt.\n"
   ]
  },
  {
   "cell_type": "code",
   "execution_count": null,
   "metadata": {
    "collapsed": false
   },
   "outputs": [],
   "source": [
    "run ../prep_ana.py"
   ]
  },
  {
   "cell_type": "code",
   "execution_count": null,
   "metadata": {
    "collapsed": true
   },
   "outputs": [],
   "source": [
    "%matplotlib inline"
   ]
  },
  {
   "cell_type": "code",
   "execution_count": null,
   "metadata": {
    "collapsed": true
   },
   "outputs": [],
   "source": [
    "df_da_a = rp.read_root(data_path+\"/muon_2012A_complete.root\")\n",
    "df_da_b = rp.read_root(data_path+\"/muon_2012B_complete.root\")\n",
    "df_da_c = rp.read_root(data_path+\"/muon_2012C_complete.root\")\n",
    "df_da_d = rp.read_root(data_path+\"/muon_2012D_complete.root\")\n",
    "\n",
    "df_da = pd.concat([df_da_a, df_da_b, df_da_c, df_da_d])"
   ]
  },
  {
   "cell_type": "code",
   "execution_count": null,
   "metadata": {
    "collapsed": true
   },
   "outputs": [],
   "source": [
    "def same_sign(df):   \n",
    "    return  df[df.lep1_Charge == df.lep2_Charge]\n",
    "def opp_sign(df):\n",
    "    return  df[df.lep1_Charge != df.lep2_Charge]"
   ]
  },
  {
   "cell_type": "code",
   "execution_count": null,
   "metadata": {
    "collapsed": false,
    "scrolled": true
   },
   "outputs": [],
   "source": [
    "def wj_ana_plt(feature=\"mll\", bins = 10, title=None):\n",
    "\n",
    "    mc = bin_df( same_sign(TT_ana(df)), feature, bins=bins)\n",
    "    da = bin_df( same_sign(TT_ana(df_da)), feature, bins=bins)\n",
    "\n",
    "    no_list = ['W1JetsToLNu', 'W2JetsToLNu', 'W3JetsToLNu', 'W4JetsToLNu', 'plotting']\n",
    "\n",
    "    wj_da = copy.deepcopy(da['Da'])\n",
    "    for i in mc.keys():\n",
    "        if i in no_list: continue\n",
    "        wj_da[0] -= mc[i][0]\n",
    "    #print wj_da[0]\n",
    "    mc = bin_df( opp_sign(TT_ana(df)), feature, bins=bins)\n",
    "    for i, l in enumerate(['W1JetsToLNu', 'W2JetsToLNu', 'W3JetsToLNu', 'W4JetsToLNu']):\n",
    "        if i ==0 : wj_mc = mc[l][0]\n",
    "        wj_mc += mc[l][0]\n",
    "    xerr =  (mc[l][1][1] - mc[l][1][0]) / 2.\n",
    "    fig, ax  = plt.subplots(1,1, figsize=(9,6))\n",
    "    ax.errorbar( mc['WW'][2], wj_da[0], yerr=np.sqrt(wj_da[0]), xerr=xerr, ecolor='black',color=\"blue\",fmt=\"o\", label=\"Data driven\" )\n",
    "    ax.errorbar( mc['WW'][2], wj_mc, yerr=np.sqrt(wj_mc), xerr=xerr, ecolor='black',color=\"red\",fmt=\"o\", label=\"MC\")\n",
    "    ax.legend()\n",
    "    if title==None: plt.xlabel(\" \".join(feature.split(\"_\")))\n",
    "    else: plt.xlabel(title)"
   ]
  },
  {
   "cell_type": "code",
   "execution_count": null,
   "metadata": {
    "collapsed": false
   },
   "outputs": [],
   "source": [
    "wj_ana_plt(feature=\"mll\", title=r\"M_{ll}\")"
   ]
  },
  {
   "cell_type": "code",
   "execution_count": null,
   "metadata": {
    "collapsed": false
   },
   "outputs": [],
   "source": [
    "wj_ana_plt(feature=\"metMod\", title=r\"MET\")"
   ]
  },
  {
   "cell_type": "code",
   "execution_count": null,
   "metadata": {
    "collapsed": false
   },
   "outputs": [],
   "source": [
    "wj_ana_plt(feature=\"lep1_pt\", title=r\"Lead Lepton Pt\")"
   ]
  },
  {
   "cell_type": "code",
   "execution_count": null,
   "metadata": {
    "collapsed": false
   },
   "outputs": [],
   "source": [
    "wj_ana_plt(feature=\"numb_jets\", title=\"Number of Jets\")"
   ]
  },
  {
   "cell_type": "code",
   "execution_count": null,
   "metadata": {
    "collapsed": false
   },
   "outputs": [],
   "source": [
    "def wj_ana_plt_(feature=\"mll\", bins = 10):\n",
    "\n",
    "    mc = bin_df( same_sign(TT_ana(df)), feature, bins=bins)\n",
    "    da = bin_df( same_sign(TT_ana(df_da)), feature, bins=bins)\n",
    "\n",
    "    no_list = ['W1JetsToLNu', 'W2JetsToLNu', 'W3JetsToLNu', 'W4JetsToLNu', 'plotting']\n",
    "\n",
    "    wj_da = copy.deepcopy(da['Da'])\n",
    "    for i in mc.keys():\n",
    "        if i in no_list: continue\n",
    "        wj_da[0] -= mc[i][0]\n",
    "    #print wj_da[0]\n",
    "    mc = bin_df( opp_sign(TT_ana(df)), feature, bins=bins)\n",
    "    da = bin_df( opp_sign(TT_ana(df_da)), feature, bins=bins)\n",
    "    wj_mc = copy.deepcopy(da['Da'])\n",
    "    for i in mc.keys():\n",
    "        if i in no_list: continue\n",
    "        wj_mc[0] -= mc[i][0]\n",
    "\n",
    "    xerr =  (mc[\"WW\"][1][1] - mc[\"WW\"][1][0]) / 2.\n",
    "    fig, ax  = plt.subplots(1,1, figsize=(9,6))\n",
    "    ax.errorbar( mc['WW'][2], wj_da[0], yerr=np.sqrt(wj_da[0]), xerr=xerr, ecolor='black',color=\"blue\",fmt=\"o\", label=\"Data driven same\" )\n",
    "    ax.errorbar( mc['WW'][2], wj_mc[0], yerr=np.sqrt(wj_mc[0]), xerr=xerr, ecolor='black',color=\"red\",fmt=\"o\", label=\"Data driven opp\")\n",
    "    ax.legend()\n",
    "    plt.xlabel(\" \".join(feature.split(\"_\")))"
   ]
  },
  {
   "cell_type": "code",
   "execution_count": null,
   "metadata": {
    "collapsed": false
   },
   "outputs": [],
   "source": [
    "wj_ana_plt_( feature=\"mll\")"
   ]
  },
  {
   "cell_type": "code",
   "execution_count": null,
   "metadata": {
    "collapsed": true
   },
   "outputs": [],
   "source": []
  },
  {
   "cell_type": "code",
   "execution_count": null,
   "metadata": {
    "collapsed": true
   },
   "outputs": [],
   "source": []
  },
  {
   "cell_type": "code",
   "execution_count": null,
   "metadata": {
    "collapsed": true
   },
   "outputs": [],
   "source": []
  },
  {
   "cell_type": "code",
   "execution_count": null,
   "metadata": {
    "collapsed": true
   },
   "outputs": [],
   "source": []
  },
  {
   "cell_type": "code",
   "execution_count": null,
   "metadata": {
    "collapsed": true
   },
   "outputs": [],
   "source": []
  },
  {
   "cell_type": "code",
   "execution_count": null,
   "metadata": {
    "collapsed": true
   },
   "outputs": [],
   "source": []
  },
  {
   "cell_type": "code",
   "execution_count": null,
   "metadata": {
    "collapsed": true
   },
   "outputs": [],
   "source": []
  }
 ],
 "metadata": {
  "kernelspec": {
   "display_name": "Python 2",
   "language": "python",
   "name": "python2"
  },
  "language_info": {
   "codemirror_mode": {
    "name": "ipython",
    "version": 2
   },
   "file_extension": ".py",
   "mimetype": "text/x-python",
   "name": "python",
   "nbconvert_exporter": "python",
   "pygments_lexer": "ipython2",
   "version": "2.7.10"
  },
  "toc": {
   "navigate_menu": false,
   "number_sections": true,
   "sideBar": true,
   "threshold": "4",
   "toc_cell": false,
   "toc_section_display": "block",
   "toc_window_display": true
  }
 },
 "nbformat": 4,
 "nbformat_minor": 0
}
