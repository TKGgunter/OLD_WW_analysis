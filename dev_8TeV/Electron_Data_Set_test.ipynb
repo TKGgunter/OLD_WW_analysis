{
 "cells": [
  {
   "cell_type": "markdown",
   "metadata": {},
   "source": [
    "# Developing and testing set up to look at single electron data set"
   ]
  },
  {
   "cell_type": "code",
   "execution_count": 1,
   "metadata": {
    "collapsed": false
   },
   "outputs": [
    {
     "name": "stderr",
     "output_type": "stream",
     "text": [
      "/usr/local/lib/python2.7/site-packages/matplotlib/font_manager.py:273: UserWarning: Matplotlib is building the font cache using fc-list. This may take a moment.\n",
      "  warnings.warn('Matplotlib is building the font cache using fc-list. This may take a moment.')\n"
     ]
    },
    {
     "name": "stdout",
     "output_type": "stream",
     "text": [
      "Loading plotting specs...\n",
      "8 or 13 TeV:\n",
      "Loading 8TeV\n",
      "unc_mc_process and scales as dictionaries\n",
      "Load MC and Data?False\n",
      "df = pd.concat([df_dy0, df_dy1, df_dy2, df_dy3, df_dy4, df_dy_m_10, df_ww, df_tt_l, df_tt_sl, df_zz_ln, df_wz_ln, df_wz_lq ])\n"
     ]
    }
   ],
   "source": [
    "run ../prep_ana.py"
   ]
  },
  {
   "cell_type": "code",
   "execution_count": 2,
   "metadata": {
    "collapsed": true
   },
   "outputs": [],
   "source": [
    "%matplotlib inline"
   ]
  },
  {
   "cell_type": "code",
   "execution_count": 3,
   "metadata": {
    "collapsed": false
   },
   "outputs": [],
   "source": [
    "#load mumu, emu data set\n",
    "df_da_a = rp.read_root(data_path+\"/muon_2012A_complete.root\", )\n",
    "df_da_b = rp.read_root(data_path+\"/muon_2012B_complete.root\")\n",
    "df_da_c = rp.read_root(data_path+\"/muon_2012C_complete.root\")\n",
    "df_da_d = rp.read_root(data_path+\"/muon_2012D_complete.root\")\n",
    "\n",
    "df_da = pd.concat([df_da_a, df_da_b, df_da_c, df_da_d])"
   ]
  },
  {
   "cell_type": "code",
   "execution_count": 4,
   "metadata": {
    "collapsed": true
   },
   "outputs": [],
   "source": [
    "#load ee, emu data set\n",
    "df_da_a_el = rp.read_root(data_path+\"/electron_2012A_complete.root\")\n",
    "df_da_b_el = rp.read_root(data_path+\"/electron_2012B_complete.root\")\n",
    "df_da_c_el = rp.read_root(data_path+\"/electron_2012C_complete.root\")\n",
    "df_da_d_el = rp.read_root(data_path+\"/electron_2012D_complete.root\")\n",
    "\n",
    "df_da_el = pd.concat([df_da_a_el, df_da_b_el, df_da_c_el, df_da_d_el])"
   ]
  },
  {
   "cell_type": "code",
   "execution_count": 5,
   "metadata": {
    "collapsed": false
   },
   "outputs": [],
   "source": [
    "def rm_duplicates_df(df_mu, df_el):\n",
    "    df_el_mu = pd.concat([df_mu[[\"runNum\", \"eventNumb\", \"lep1_pt\", \"process_decay\"]], df_el[[\"runNum\", \"eventNumb\", \"lep1_pt\", \"process_decay\"]]])    \n",
    "\n",
    "    df_el_mu = df_el_mu[ df_el_mu[[\"runNum\", \"eventNumb\", \"lep1_pt\",]].duplicated() ]\n",
    "    \n",
    "    tot_run_event = df_el_mu.runNum.values * 10**12 + df_el_mu.eventNumb.values\n",
    "    el_run_event = df_el.runNum.values * 10**12 + df_el.eventNumb.values\n",
    "    \n",
    "    mask_index = np.where( np.in1d(el_run_event, tot_run_event) )\n",
    "\n",
    "    return df_el.drop(mask_index)\n",
    "    "
   ]
  },
  {
   "cell_type": "code",
   "execution_count": 7,
   "metadata": {
    "collapsed": false
   },
   "outputs": [],
   "source": [
    "a = rm_duplicates_df(df_da, df_da_el)"
   ]
  },
  {
   "cell_type": "code",
   "execution_count": 9,
   "metadata": {
    "collapsed": false
   },
   "outputs": [
    {
     "data": {
      "text/plain": [
       "(4887019, 67)"
      ]
     },
     "execution_count": 9,
     "metadata": {},
     "output_type": "execute_result"
    }
   ],
   "source": [
    "a.shape"
   ]
  },
  {
   "cell_type": "code",
   "execution_count": 11,
   "metadata": {
    "collapsed": false
   },
   "outputs": [
    {
     "data": {
      "text/plain": [
       "(4950869, 67)"
      ]
     },
     "execution_count": 11,
     "metadata": {},
     "output_type": "execute_result"
    }
   ],
   "source": [
    "df_da_el.shape"
   ]
  },
  {
   "cell_type": "code",
   "execution_count": null,
   "metadata": {
    "collapsed": true
   },
   "outputs": [],
   "source": []
  },
  {
   "cell_type": "code",
   "execution_count": null,
   "metadata": {
    "collapsed": true
   },
   "outputs": [],
   "source": []
  },
  {
   "cell_type": "code",
   "execution_count": null,
   "metadata": {
    "collapsed": true
   },
   "outputs": [],
   "source": []
  },
  {
   "cell_type": "code",
   "execution_count": null,
   "metadata": {
    "collapsed": true
   },
   "outputs": [],
   "source": []
  },
  {
   "cell_type": "code",
   "execution_count": null,
   "metadata": {
    "collapsed": true
   },
   "outputs": [],
   "source": []
  },
  {
   "cell_type": "code",
   "execution_count": null,
   "metadata": {
    "collapsed": true
   },
   "outputs": [],
   "source": []
  },
  {
   "cell_type": "code",
   "execution_count": null,
   "metadata": {
    "collapsed": true
   },
   "outputs": [],
   "source": []
  },
  {
   "cell_type": "code",
   "execution_count": null,
   "metadata": {
    "collapsed": true
   },
   "outputs": [],
   "source": []
  },
  {
   "cell_type": "code",
   "execution_count": null,
   "metadata": {
    "collapsed": true
   },
   "outputs": [],
   "source": []
  },
  {
   "cell_type": "code",
   "execution_count": null,
   "metadata": {
    "collapsed": true
   },
   "outputs": [],
   "source": []
  },
  {
   "cell_type": "code",
   "execution_count": null,
   "metadata": {
    "collapsed": true
   },
   "outputs": [],
   "source": []
  },
  {
   "cell_type": "code",
   "execution_count": null,
   "metadata": {
    "collapsed": true
   },
   "outputs": [],
   "source": []
  },
  {
   "cell_type": "code",
   "execution_count": null,
   "metadata": {
    "collapsed": true
   },
   "outputs": [],
   "source": []
  },
  {
   "cell_type": "code",
   "execution_count": null,
   "metadata": {
    "collapsed": true
   },
   "outputs": [],
   "source": []
  }
 ],
 "metadata": {
  "kernelspec": {
   "display_name": "Python 2",
   "language": "python",
   "name": "python2"
  },
  "language_info": {
   "codemirror_mode": {
    "name": "ipython",
    "version": 2
   },
   "file_extension": ".py",
   "mimetype": "text/x-python",
   "name": "python",
   "nbconvert_exporter": "python",
   "pygments_lexer": "ipython2",
   "version": "2.7.10"
  },
  "toc": {
   "navigate_menu": false,
   "number_sections": true,
   "sideBar": true,
   "threshold": "4",
   "toc_cell": false,
   "toc_section_display": "block",
   "toc_window_display": true
  }
 },
 "nbformat": 4,
 "nbformat_minor": 0
}
