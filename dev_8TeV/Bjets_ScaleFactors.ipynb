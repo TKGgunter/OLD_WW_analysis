{
 "cells": [
  {
   "cell_type": "markdown",
   "metadata": {},
   "source": [
    "# Bjet scale factors and uncertainties\n",
    "\n",
    "Bjet inefficiency scale factors were used to rescale monte carlo events that held bjets that failed the csv(combined secondary vertex) cut. The scale factors were given by https://twiki.cern.ch/twiki/bin/viewauth/CMS/BtagRecommendation53XReReco . The inefficiency scale factor was defined as: \n",
    "\n",
    "$$\n",
    "\\frac {1 - SF * \\epsilon_{MC}}  {1 - \\epsilon_{MC}}\n",
    "$$\n",
    "\n",
    "The uncertainty was calculated by adding quadraticly the errors given and statistical uncertainty in determining the monte carlo inefficiency.  "
   ]
  },
  {
   "cell_type": "code",
   "execution_count": 2,
   "metadata": {
    "collapsed": false
   },
   "outputs": [
    {
     "name": "stdout",
     "output_type": "stream",
     "text": [
      "Loading plotting specs...\n",
      "8 or 13 TeV:8TeV\n",
      "unc_mc_process and scales as dictionaries\n",
      "Load MC and Data?False\n",
      "df = pd.concat([df_dy0, df_dy1, df_dy2, df_dy3, df_dy4, df_dy_m_10, df_ww, df_tt_l, df_tt_sl, df_zz_ln, df_wz_ln, df_wz_lq ])\n"
     ]
    }
   ],
   "source": [
    "run ../prep_ana.py"
   ]
  },
  {
   "cell_type": "code",
   "execution_count": 3,
   "metadata": {
    "collapsed": true
   },
   "outputs": [],
   "source": [
    "%matplotlib inline"
   ]
  },
  {
   "cell_type": "code",
   "execution_count": 4,
   "metadata": {
    "collapsed": false
   },
   "outputs": [],
   "source": [
    "columns=['jet1_pt', 'jet2_pt', 'jet3_pt', 'jet4_pt', 'jet5_pt', 'jet6_pt',\n",
    "         'jet1_csv', 'jet2_csv', 'jet3_csv', 'jet4_csv', 'jet5_csv', 'jet6_csv',\n",
    "         'jet1_flv', 'jet2_flv', 'jet3_flv', 'jet4_flv', 'jet5_flv', 'jet6_flv',\n",
    "         'numb_jets', 'numb_BJet_gen', 'numb_BJet', 'bjet_unc', 'bjet_weight']\n",
    "\n",
    "\n",
    "df_tt_l = rp.read_root(data_path+\"/ttbar_leptonic_complete.root\", columns=columns)\n",
    "df_tt_sl = rp.read_root(data_path+\"/ttbar_semileptonic_complete.root\", columns=columns)\n",
    "df_tbar_tw = rp.read_root(data_path+\"/tbar_tw-_complete.root\", columns=columns)\n",
    "df_tbar_s = rp.read_root(data_path+\"/tbar_s-_complete.root\", columns=columns)\n",
    "df_tbar_t = rp.read_root(data_path+\"/tbar_t-_complete.root\", columns=columns)\n",
    "df_t_tw = rp.read_root(data_path+\"/t_tw-_complete.root\", columns=columns)\n",
    "df_t_s = rp.read_root(data_path+\"/t_s-_complete.root\", columns=columns)\n",
    "df_t_t = rp.read_root(data_path+\"/t_t-_complete.root\", columns=columns)\n",
    "\n",
    "\n",
    "\n",
    "df = pd.concat([df_tt_l, df_tt_sl, df_tbar_s, df_tbar_t, df_tbar_tw, df_t_s, df_t_t, df_t_tw])"
   ]
  },
  {
   "cell_type": "markdown",
   "metadata": {},
   "source": [
    "## Scale Factors and Efficiencies\n",
    "\n",
    "### Scale factors\n",
    "The scale factor is given via a formula fit to data. We apply a tight cut to the csv so we use the following formula:\n",
    "\n",
    "$$\n",
    "SF = (0.927563 + 1.55479e^{-05}pt )+(-1.90666e^{-07}pt^{2})\n",
    "$$\n",
    "\n",
    "It should be noted that the scale factor and efficiencies are determined in bins of pt. \n",
    "\n",
    "### MC Efficiency\n",
    "\n",
    "To detimine the efficiency, &epsilon;<sub>MC</sub>  of in the monte carlo we look at top samples and select events that have some b jet, as defined by monte carlo truth and then determine how many survive the csv selection cut. \n",
    "\n"
   ]
  },
  {
   "cell_type": "code",
   "execution_count": 12,
   "metadata": {
    "collapsed": false
   },
   "outputs": [
    {
     "data": {
      "text/plain": [
       "<matplotlib.collections.PathCollection at 0x104015250>"
      ]
     },
     "execution_count": 12,
     "metadata": {},
     "output_type": "execute_result"
    },
    {
     "data": {
      "image/png": "[encoded data removed]",
      "text/plain": [
       "<matplotlib.figure.Figure at 0x10e64ded0>"
      ]
     },
     "metadata": {},
     "output_type": "display_data"
    }
   ],
   "source": [
    "x = [i for i in xrange(30,600)]\n",
    "y = [(0.927563+(1.55479e-05*i))+(-1.90666e-07*(i*i)) for i in x]\n",
    "\n",
    "plt.scatter(x, y)"
   ]
  },
  {
   "cell_type": "code",
   "execution_count": 55,
   "metadata": {
    "collapsed": false
   },
   "outputs": [],
   "source": [
    "ptmin = [30, 40, 50, 60, 70, 80, 100, 120, 160, 210, 260, 320, 400, 500, 600]\n",
    "ptmax = [40, 50, 60, 70, 80,100, 120, 160, 210, 260, 320, 400, 500, 600, 800]\n",
    "\n",
    "true_bjet = []\n",
    "csv_bjet = []\n",
    "for i in range(len(ptmin)):\n",
    "    ptmin_str = str(ptmin[i])\n",
    "    ptmax_str = str(ptmax[i])\n",
    "    selection_true_str = \"(numb_jets == 1) & (jet1_pt > \" + ptmin_str + \") & (jet1_pt < \" + ptmax_str +\") & (numb_BJet_gen == 1) \"\n",
    "    selection_csv_str = selection_true_str + \"& (numb_BJet == 1)\"\n",
    "    true_bjet.append(df.query(selection_true_str).shape[0])\n",
    "    csv_bjet.append(df.query(selection_csv_str).shape[0]) \n",
    "\n",
    "true_bjet = np.array(true_bjet, dtype=np.float64)\n",
    "csv_bjet = np.array(csv_bjet, dtype=np.float64)\n",
    "\n",
    "eff_MCbjet = csv_bjet / true_bjet"
   ]
  },
  {
   "cell_type": "code",
   "execution_count": 56,
   "metadata": {
    "collapsed": true
   },
   "outputs": [],
   "source": [
    "# Determine Data eff\n",
    "eff_Dabjet = []\n",
    "for i in range(len(ptmin)):\n",
    "    pt = (ptmin[i] + ptmax[i]) / 2.\n",
    "    csvt = lambda x: (0.927563+(1.55479e-05*x))+(-1.90666e-07*(x*x))\n",
    "    eff_Dabjet.append( csvt(pt) * eff_MCbjet[i])\n",
    "eff_Dabjet = np.array(eff_Dabjet)\n"
   ]
  },
  {
   "cell_type": "code",
   "execution_count": 16,
   "metadata": {
    "collapsed": false
   },
   "outputs": [
    {
     "data": {
      "text/plain": [
       "array([ 1.04680102,  1.06055302,  1.07092639,  1.07831271,  1.08537564,\n",
       "        1.08348516,  1.0896697 ,  1.08729525,  1.06247569,  1.05388583,\n",
       "        1.04283063,  1.03386823,  1.01734172,  1.04052071,  1.0774899 ])"
      ]
     },
     "execution_count": 16,
     "metadata": {},
     "output_type": "execute_result"
    }
   ],
   "source": [
    "#Calc 1 - effs \n",
    "(1 - eff_Dabjet) / (1 - eff_MCbjet)"
   ]
  },
  {
   "cell_type": "code",
   "execution_count": 60,
   "metadata": {
    "collapsed": false
   },
   "outputs": [
    {
     "data": {
      "text/plain": [
       "<Container object of 3 artists>"
      ]
     },
     "execution_count": 60,
     "metadata": {},
     "output_type": "execute_result"
    },
    {
     "data": {
      "image/png": "[encoded data removed]",
      "text/plain": [
       "<matplotlib.figure.Figure at 0x11710cf50>"
      ]
     },
     "metadata": {},
     "output_type": "display_data"
    }
   ],
   "source": [
    "plt.errorbar(ptmax, (1 - eff_Dabjet) / (1 - eff_MCbjet),[0.0264008, 0.0272757, 0.0275565, 0.0248745, 0.0218456, 0.0253845, 0.0239588, 0.0271791, 0.0273912,\n",
    "      0.0379822, 0.0411624, 0.0786307, 0.0866832, 0.0942053, 0.102403], fmt='o')"
   ]
  },
  {
   "cell_type": "markdown",
   "metadata": {
    "collapsed": false
   },
   "source": [
    "## Uncertainties\n",
    "\n",
    "We calculate the uncertainties by throwing events and apply the in errors and statistical uncertaintes to the scale factors and monte carlo efficiencies then recalculating the ineffiences. "
   ]
  },
  {
   "cell_type": "code",
   "execution_count": 11,
   "metadata": {
    "collapsed": false
   },
   "outputs": [
    {
     "data": {
      "text/plain": [
       "(3165, 7)"
      ]
     },
     "execution_count": 11,
     "metadata": {},
     "output_type": "execute_result"
    }
   ],
   "source": [
    "csv_bjet = np.array( [0] + list(csv_bjet) )"
   ]
  },
  {
   "cell_type": "code",
   "execution_count": 62,
   "metadata": {
    "collapsed": true
   },
   "outputs": [],
   "source": [
    "def bjet_unc_toy(df = df[(df.numb_BJet_gen > 0) ]):\n",
    "    #Input df[(df.numb_BJet_gen > 0) ]\n",
    "    jet_csv_mask = [ df.jet1_csv < .898,\n",
    "                 df.jet2_csv < .898,\n",
    "                 df.jet3_csv < .898,\n",
    "                 df.jet4_csv < .898,\n",
    "                 df.jet5_csv < .898,\n",
    "                 df.jet6_csv < .898]\n",
    "    mc_eff = np.array([0.39352592,  0.45639609,  0.49569403,  0.52019587,\n",
    "                0.54131472,  0.53493069,  0.55112341,  0.5412229 ,  0.45088661,\n",
    "                0.40455251,  0.33779762,  0.27004219,  0.14285714,  0.25,\n",
    "                0.33333333])\n",
    "\n",
    "    bjet_unc = [0.0264008, 0.0272757, 0.0275565, 0.0248745, 0.0218456, 0.0253845, 0.0239588, 0.0271791, 0.0273912,\n",
    "      0.0379822, 0.0411624, 0.0786307, 0.0866832, 0.0942053, 0.102403]\n",
    "    bjet_mc_eff_unc = [0.00293578,  0.00300052,  0.00313995,  0.00336466,  0.00366717,\n",
    "        0.00295177,  0.00375747,  0.00411746,  0.00725174,  0.01446677,\n",
    "        0.02242042,  0.03375527,  0.05050763,  0.1118034 ,  0.23570226]#np.sqrt(csv_bjet) / true_bjet\n",
    "    \n",
    "    ptmin = [30, 40, 50, 60, 70, 80, 100, 120, 160, 210, 260, 320, 400, 500, 600]\n",
    "    ptmax = [40, 50, 60, 70, 80,100, 120, 160, 210, 260, 320, 400, 500, 600, 800]\n",
    "\n",
    "    bjet_iw = np.ones(df.shape[0])\n",
    "    for i in xrange(len(ptmin)):\n",
    "        #roll the dice\n",
    "        offset_unc = np.random.normal(0,bjet_unc[i])\n",
    "        offset_mc_eff = np.random.normal(0,bjet_mc_eff_unc[i])\n",
    "        #loop over jets\n",
    "        for jet_iter in range(1,7):\n",
    "            jet_interest= 'jet'+str(jet_iter)\n",
    "            \n",
    "            jet_pt_mask = ( df[jet_interest+'_pt'] > ptmin[i] ) & ( df[jet_interest+'_pt'] < ptmax[i] )\n",
    "            mc_eff_ = mc_eff[i] + offset_mc_eff\n",
    "            \n",
    "            csvt = lambda x: (0.927563+(1.55479e-05*x))+(-1.90666e-07*(x*x))\n",
    "            w = csvt(df[ jet_csv_mask[jet_iter-1] & jet_pt_mask ][jet_interest+'_pt'].values) + offset_unc\n",
    "            bjet_iw[ jet_csv_mask[jet_iter-1] & jet_pt_mask ] *= (1 - w*mc_eff_) / (1 - mc_eff_)\n",
    "            #You'll need check the number of\n",
    "    return bjet_iw"
   ]
  },
  {
   "cell_type": "code",
   "execution_count": 63,
   "metadata": {
    "collapsed": false
   },
   "outputs": [],
   "source": [
    "a = bjet_unc_toy()"
   ]
  },
  {
   "cell_type": "code",
   "execution_count": 64,
   "metadata": {
    "collapsed": false
   },
   "outputs": [],
   "source": [
    "toy_set = []\n",
    "for i in xrange(100):\n",
    "    toy_set.append(bjet_unc_toy())\n",
    "toy_set = np.array(toy_set) "
   ]
  },
  {
   "cell_type": "code",
   "execution_count": 65,
   "metadata": {
    "collapsed": false
   },
   "outputs": [
    {
     "data": {
      "text/plain": [
       "0.015396849230169535"
      ]
     },
     "execution_count": 65,
     "metadata": {},
     "output_type": "execute_result"
    }
   ],
   "source": [
    "#Results\n",
    "toy_set.mean(1).std()"
   ]
  },
  {
   "cell_type": "code",
   "execution_count": 47,
   "metadata": {
    "collapsed": false
   },
   "outputs": [
    {
     "data": {
      "text/plain": [
       "(array([  2.,   8.,  10.,  17.,  20.,  18.,  12.,   9.,   3.,   1.]),\n",
       " array([ 1.08578406,  1.09285817,  1.09993228,  1.10700639,  1.1140805 ,\n",
       "         1.12115461,  1.12822872,  1.13530283,  1.14237694,  1.14945105,\n",
       "         1.15652516]),\n",
       " <a list of 10 Patch objects>)"
      ]
     },
     "execution_count": 47,
     "metadata": {},
     "output_type": "execute_result"
    },
    {
     "data": {
      "image/png": "[encoded data removed]",
      "text/plain": [
       "<matplotlib.figure.Figure at 0x11921c290>"
      ]
     },
     "metadata": {},
     "output_type": "display_data"
    }
   ],
   "source": [
    "plt.hist(toy_set.mean(1))"
   ]
  },
  {
   "cell_type": "markdown",
   "metadata": {
    "collapsed": true
   },
   "source": [
    "### Inefficiency uncertainty \n",
    "\n",
    "The uncertainty of 0.015.\n",
    "\n",
    "Applyed to the cross-section we approximately get:\n",
    "$$\n",
    "60. / 6000.  * .015 = 0.00015\n",
    "$$\n",
    "60 ~ cross-section <br>\n",
    "6000 ~ N<sub>Data</sub> - N<sub>Bkg</sub>"
   ]
  },
  {
   "cell_type": "code",
   "execution_count": 61,
   "metadata": {
    "collapsed": false
   },
   "outputs": [
    {
     "data": {
      "text/plain": [
       "array([ 0.00293578,  0.00300052,  0.00313995,  0.00336466,  0.00366717,\n",
       "        0.00295177,  0.00375747,  0.00411746,  0.00725174,  0.01446677,\n",
       "        0.02242042,  0.03375527,  0.05050763,  0.1118034 ,  0.23570226])"
      ]
     },
     "execution_count": 61,
     "metadata": {},
     "output_type": "execute_result"
    }
   ],
   "source": [
    "np.sqrt(csv_bjet) / true_bjet"
   ]
  },
  {
   "cell_type": "code",
   "execution_count": null,
   "metadata": {
    "collapsed": true
   },
   "outputs": [],
   "source": []
  }
 ],
 "metadata": {
  "kernelspec": {
   "display_name": "Python 2",
   "language": "python",
   "name": "python2"
  },
  "language_info": {
   "codemirror_mode": {
    "name": "ipython",
    "version": 2
   },
   "file_extension": ".py",
   "mimetype": "text/x-python",
   "name": "python",
   "nbconvert_exporter": "python",
   "pygments_lexer": "ipython2",
   "version": "2.7.10"
  },
  "toc": {
   "navigate_menu": false,
   "number_sections": true,
   "sideBar": true,
   "threshold": "4",
   "toc_cell": false,
   "toc_section_display": "block",
   "toc_window_display": true
  }
 },
 "nbformat": 4,
 "nbformat_minor": 0
}
