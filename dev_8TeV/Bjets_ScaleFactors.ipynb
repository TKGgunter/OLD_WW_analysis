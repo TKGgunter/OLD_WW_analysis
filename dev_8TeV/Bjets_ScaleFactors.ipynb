{
 "cells": [
  {
   "cell_type": "code",
   "execution_count": 1,
   "metadata": {
    "collapsed": false
   },
   "outputs": [
    {
     "name": "stderr",
     "output_type": "stream",
     "text": [
      "/usr/local/lib/python2.7/site-packages/matplotlib/font_manager.py:273: UserWarning: Matplotlib is building the font cache using fc-list. This may take a moment.\n",
      "  warnings.warn('Matplotlib is building the font cache using fc-list. This may take a moment.')\n"
     ]
    },
    {
     "name": "stdout",
     "output_type": "stream",
     "text": [
      "Loading plotting specs...\n",
      "8 or 13 TeV:8TeV\n",
      "unc_mc_process and scales as dictionaries\n",
      "Load MC and Data?False\n",
      "df = pd.concat([df_dy0, df_dy1, df_dy2, df_dy3, df_dy4, df_dy_m_10, df_ww, df_tt_l, df_tt_sl, df_zz_ln, df_wz_ln, df_wz_lq ])\n"
     ]
    }
   ],
   "source": [
    "run ../prep_ana.py"
   ]
  },
  {
   "cell_type": "code",
   "execution_count": 2,
   "metadata": {
    "collapsed": true
   },
   "outputs": [],
   "source": [
    "%matplotlib inline"
   ]
  },
  {
   "cell_type": "code",
   "execution_count": 3,
   "metadata": {
    "collapsed": false
   },
   "outputs": [],
   "source": [
    "columns=None\n",
    "\n",
    "\n",
    "df_tt_l = rp.read_root(data_path+\"/ttbar_leptonic_complete.root\", columns=columns)\n",
    "df_tt_sl = rp.read_root(data_path+\"/ttbar_semileptonic_complete.root\", columns=columns)\n",
    "df_tbar_tw = rp.read_root(data_path+\"/tbar_tw-_complete.root\", columns=columns)\n",
    "df_tbar_s = rp.read_root(data_path+\"/tbar_s-_complete.root\", columns=columns)\n",
    "df_tbar_t = rp.read_root(data_path+\"/tbar_t-_complete.root\", columns=columns)\n",
    "df_t_tw = rp.read_root(data_path+\"/t_tw-_complete.root\", columns=columns)\n",
    "df_t_s = rp.read_root(data_path+\"/t_s-_complete.root\", columns=columns)\n",
    "df_t_t = rp.read_root(data_path+\"/t_t-_complete.root\", columns=columns)\n",
    "\n",
    "\n",
    "\n",
    "df = pd.concat([df_tt_l, df_tt_sl, df_tbar_s, df_tbar_t, df_tbar_tw, df_t_s, df_t_t, df_t_tw])"
   ]
  },
  {
   "cell_type": "code",
   "execution_count": 4,
   "metadata": {
    "collapsed": false
   },
   "outputs": [
    {
     "data": {
      "text/plain": [
       "Index([u'lep1_pt', u'lep2_pt', u'lep3_pt', u'numb_jets', u'dPhiLL', u'qT',\n",
       "       u'HT', u'lep1_Charge', u'lep2_Charge', u'lep_Type', u'lep1_type',\n",
       "       u'lep2_type', u'lep1_eta', u'lep2_eta', u'lep1_phi', u'lep2_phi',\n",
       "       u'lep1_iso', u'lep2_iso', u'soft_muon_pt', u'soft_muon_phi',\n",
       "       u'soft_muon_eta', u'lep1_mother', u'lep2_mother', u'met_corrected',\n",
       "       u'met_trk', u'metMod', u'jet1_pt', u'jet2_pt', u'jet3_pt', u'jet4_pt',\n",
       "       u'jet5_pt', u'jet6_pt', u'jet1_csv', u'jet2_csv', u'jet3_csv',\n",
       "       u'jet1_phi', u'jet2_phi', u'jet1_eta', u'jet2_eta', u'numbExtraLep',\n",
       "       u'mll', u'mllMET', u'recoil', u'dPhiLLJet', u'numb_BJet',\n",
       "       u'numb_BJet_gen', u'dPhiLLMET', u'dPhiMETJet', u'METProj',\n",
       "       u'METProj_sin', u'METProj_trk_sin', u'met_phi', u'met_corrected_phi',\n",
       "       u'met_trk_phi', u'met_over_sET', u'nPartons', u'npv', u'tot_npv',\n",
       "       u'gen_npv', u'runNum', u'lumiSec', u'eventNumb', u'weight',\n",
       "       u'nov_weight', u'id_weight', u'mu_id_weight', u'el1_id_weight',\n",
       "       u'el2_id_weight', u'lep1_id_error_high', u'lep2_id_error_high',\n",
       "       u'lep1_id_error_low', u'lep2_id_error_low', u'process_decay',\n",
       "       u'process'],\n",
       "      dtype='object')"
      ]
     },
     "execution_count": 4,
     "metadata": {},
     "output_type": "execute_result"
    }
   ],
   "source": [
    "df.keys()"
   ]
  },
  {
   "cell_type": "code",
   "execution_count": 8,
   "metadata": {
    "collapsed": false
   },
   "outputs": [
    {
     "data": {
      "text/plain": [
       "(1970119, 74)"
      ]
     },
     "execution_count": 8,
     "metadata": {},
     "output_type": "execute_result"
    }
   ],
   "source": [
    "df[(df.numb_BJet_gen >= 1) & (df.numb_jets >= 1) & (df.numb_jets < 4)].shape"
   ]
  },
  {
   "cell_type": "code",
   "execution_count": 16,
   "metadata": {
    "collapsed": false
   },
   "outputs": [],
   "source": [
    "ptmin = [30, 40, 50, 60, 70, 80, 100, 120, 160, 210, 260, 320, 400, 500]\n",
    "ptmax = [40, 50, 60, 70, 80,100, 120, 160, 210, 260, 320, 400, 500, 670]\n",
    "\n",
    "true_bjet = []\n",
    "csv_bjet = []\n",
    "for i in range(len(ptmin)):\n",
    "    ptmin_str = str(ptmin[i])\n",
    "    ptmax_str = str(ptmax[i])\n",
    "    true_bjet.append(df.query(\"(numb_jets == 1) & (jet1_pt > \" + ptmin_str + \") & (jet1_pt < \" + ptmax_str +\") & (numb_BJet_gen == 1) \").shape[0])\n",
    "    csv_bjet.append(df.query(\"(numb_jets == 1) & (jet1_pt > \" + ptmin_str + \") & (jet1_pt < \" + ptmax_str +\") & (numb_BJet_gen == 1) & (numb_BJet == 1)\").shape[0]) \n",
    "\n",
    "true_bjet = np.array(true_bjet, dtype=np.float64)\n",
    "csv_bjet = np.array(csv_bjet, dtype=np.float64)\n",
    "\n",
    "eff_MCbjet = csv_bjet / true_bjet"
   ]
  },
  {
   "cell_type": "code",
   "execution_count": 17,
   "metadata": {
    "collapsed": false
   },
   "outputs": [
    {
     "data": {
      "text/plain": [
       "<matplotlib.collections.PathCollection at 0x123e7eed0>"
      ]
     },
     "execution_count": 17,
     "metadata": {},
     "output_type": "execute_result"
    },
    {
     "data": {
      "image/png": "[encoded data removed]",
      "text/plain": [
       "<matplotlib.figure.Figure at 0x123bc2ed0>"
      ]
     },
     "metadata": {},
     "output_type": "display_data"
    }
   ],
   "source": [
    "x = [i for i in xrange(30,600)]\n",
    "y = [0.6981*((1.+(0.414063*i))/(1.+(0.300155*i))) for i in x]\n",
    "\n",
    "plt.scatter(x, y)"
   ]
  },
  {
   "cell_type": "code",
   "execution_count": 17,
   "metadata": {
    "collapsed": true
   },
   "outputs": [],
   "source": [
    "# Determine Data eff\n",
    "eff_Dabjet = []\n",
    "for i in range(len(ptmin)):\n",
    "    pt = (ptmin[i] + ptmax[i]) / 2.\n",
    "    eff_Dabjet.append(0.6981*((1.+(0.414063*pt))/(1.+(0.300155*pt))) * eff_MCbjet[i])\n",
    "eff_Dabjet = np.array(eff_Dabjet)\n"
   ]
  },
  {
   "cell_type": "code",
   "execution_count": 19,
   "metadata": {
    "collapsed": false
   },
   "outputs": [
    {
     "data": {
      "text/plain": [
       "array([ 1.03893201,  1.04637392,  1.0512145 ,  1.0540898 ,  1.05693119,\n",
       "        1.0534045 ,  1.05495687,  1.05088192,  1.03420739,  1.02763589,\n",
       "        1.02039529,  1.01457655,  1.00648666,  1.0149618 ])"
      ]
     },
     "execution_count": 19,
     "metadata": {},
     "output_type": "execute_result"
    }
   ],
   "source": [
    "#Calc 1 - effs \n",
    "(1 - eff_Dabjet) / (1 - eff_MCbjet)"
   ]
  },
  {
   "cell_type": "code",
   "execution_count": 21,
   "metadata": {
    "collapsed": false
   },
   "outputs": [
    {
     "data": {
      "text/plain": [
       "<matplotlib.collections.PathCollection at 0x11e6be990>"
      ]
     },
     "execution_count": 21,
     "metadata": {},
     "output_type": "execute_result"
    },
    {
     "data": {
      "image/png": "[encoded data removed]",
      "text/plain": [
       "<matplotlib.figure.Figure at 0x11e5eb310>"
      ]
     },
     "metadata": {},
     "output_type": "display_data"
    }
   ],
   "source": [
    "plt.scatter(ptmax, (1 - eff_Dabjet) / (1 - eff_MCbjet))"
   ]
  },
  {
   "cell_type": "code",
   "execution_count": null,
   "metadata": {
    "collapsed": false
   },
   "outputs": [],
   "source": []
  },
  {
   "cell_type": "code",
   "execution_count": null,
   "metadata": {
    "collapsed": true
   },
   "outputs": [],
   "source": []
  },
  {
   "cell_type": "code",
   "execution_count": null,
   "metadata": {
    "collapsed": true
   },
   "outputs": [],
   "source": []
  },
  {
   "cell_type": "code",
   "execution_count": null,
   "metadata": {
    "collapsed": true
   },
   "outputs": [],
   "source": []
  },
  {
   "cell_type": "code",
   "execution_count": null,
   "metadata": {
    "collapsed": true
   },
   "outputs": [],
   "source": []
  },
  {
   "cell_type": "code",
   "execution_count": null,
   "metadata": {
    "collapsed": true
   },
   "outputs": [],
   "source": []
  },
  {
   "cell_type": "code",
   "execution_count": null,
   "metadata": {
    "collapsed": true
   },
   "outputs": [],
   "source": []
  },
  {
   "cell_type": "code",
   "execution_count": null,
   "metadata": {
    "collapsed": true
   },
   "outputs": [],
   "source": []
  },
  {
   "cell_type": "code",
   "execution_count": null,
   "metadata": {
    "collapsed": true
   },
   "outputs": [],
   "source": []
  },
  {
   "cell_type": "code",
   "execution_count": null,
   "metadata": {
    "collapsed": true
   },
   "outputs": [],
   "source": []
  }
 ],
 "metadata": {
  "kernelspec": {
   "display_name": "Python 2",
   "language": "python",
   "name": "python2"
  },
  "language_info": {
   "codemirror_mode": {
    "name": "ipython",
    "version": 2
   },
   "file_extension": ".py",
   "mimetype": "text/x-python",
   "name": "python",
   "nbconvert_exporter": "python",
   "pygments_lexer": "ipython2",
   "version": "2.7.10"
  },
  "toc": {
   "navigate_menu": false,
   "number_sections": true,
   "sideBar": true,
   "threshold": "4",
   "toc_cell": false,
   "toc_section_display": "block",
   "toc_window_display": true
  }
 },
 "nbformat": 4,
 "nbformat_minor": 0
}
