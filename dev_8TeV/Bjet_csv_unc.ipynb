{
 "cells": [
  {
   "cell_type": "code",
   "execution_count": 1,
   "metadata": {
    "collapsed": false
   },
   "outputs": [
    {
     "name": "stderr",
     "output_type": "stream",
     "text": [
      "/usr/local/lib/python2.7/site-packages/matplotlib/font_manager.py:273: UserWarning: Matplotlib is building the font cache using fc-list. This may take a moment.\n",
      "  warnings.warn('Matplotlib is building the font cache using fc-list. This may take a moment.')\n"
     ]
    },
    {
     "name": "stdout",
     "output_type": "stream",
     "text": [
      "Loading plotting specs...\n",
      "8 or 13 TeV:8TeV\n",
      "unc_mc_process and scales as dictionaries\n",
      "Load MC and Data?False\n",
      "df = pd.concat([df_dy0, df_dy1, df_dy2, df_dy3, df_dy4, df_dy_m_10, df_ww, df_tt_l, df_tt_sl, df_zz_ln, df_wz_ln, df_wz_lq ])\n"
     ]
    }
   ],
   "source": [
    "run ../prep_ana.py"
   ]
  },
  {
   "cell_type": "code",
   "execution_count": 2,
   "metadata": {
    "collapsed": true
   },
   "outputs": [],
   "source": [
    "%matplotlib inline"
   ]
  },
  {
   "cell_type": "code",
   "execution_count": 4,
   "metadata": {
    "collapsed": false
   },
   "outputs": [],
   "source": [
    "columns = ['numb_jets', 'numb_BJet', 'jet1_csv', 'jet2_csv', 'jet3_csv']\n",
    "\n",
    "df_dy0 = rp.read_root(data_path+\"/dyjetstoll_m-50_complete.root\", columns=columns)\n",
    "df_dy_m_10 = rp.read_root(data_path+\"/dyjetstoll_m-10to50_complete.root\", columns=columns)\n",
    "df_ww = rp.read_root(data_path+\"/ww_complete.root\", columns=columns)\n",
    "df_tt_l = rp.read_root(data_path+\"/ttbar_leptonic_complete.root\", columns=columns)\n",
    "df_tt_sl = rp.read_root(data_path+\"/ttbar_semileptonic_complete.root\", columns=columns)\n",
    "df_tbar_tw = rp.read_root(data_path+\"/tbar_tw-_complete.root\", columns=columns)\n",
    "df_tbar_s = rp.read_root(data_path+\"/tbar_s-_complete.root\", columns=columns)\n",
    "df_tbar_t = rp.read_root(data_path+\"/tbar_t-_complete.root\", columns=columns)\n",
    "df_t_tw = rp.read_root(data_path+\"/t_tw-_complete.root\", columns=columns)\n",
    "df_t_s = rp.read_root(data_path+\"/t_s-_complete.root\", columns=columns)\n",
    "df_t_t = rp.read_root(data_path+\"/t_t-_complete.root\", columns=columns)\n",
    "df_zz_lq = rp.read_root(data_path+\"/zzjetsto2l2q_complete.root\", columns=columns)\n",
    "df_zz_ln = rp.read_root(data_path+\"/zzjetsto2l2nu_complete.root\", columns=columns)\n",
    "df_wz_lq = rp.read_root(data_path+\"/wzjetsto2l2q_complete.root\", columns=columns)\n",
    "df_wz_ln = rp.read_root(data_path+\"/wzjetsto3lnu_complete.root\", columns=columns)\n",
    "\n",
    "#May want to turn this off\n",
    "df_wj1 = rp.read_root(data_path+\"/w1jetstolnu_complete.root\", columns=columns)\n",
    "df_wj2 = rp.read_root(data_path+\"/w2jetstolnu_complete.root\", columns=columns)\n",
    "df_wj3 = rp.read_root(data_path+\"/w3jetstolnu_complete.root\", columns=columns)\n",
    "df_wj4 = rp.read_root(data_path+\"/w4jetstolnu_complete.root\", columns=columns)\n",
    "\n",
    "#Other stuff that I might want to turn off\n",
    "df_wg = rp.read_root(data_path+\"/wg_complete.root\", columns=columns)\n",
    "\n",
    "\n",
    "df = pd.concat([df_dy0, df_dy_m_10, df_ww, df_tt_l, df_tt_sl, df_tbar_s, df_tbar_t, df_tbar_tw, df_t_s, df_t_t, df_t_tw, df_zz_lq, df_zz_ln, df_wz_ln, df_wz_lq,\n",
    "              df_wj1, df_wj2, df_wj3, df_wj4, df_wg])"
   ]
  },
  {
   "cell_type": "markdown",
   "metadata": {},
   "source": [
    "Combined Secondary Vertex Algorithm > 0.898"
   ]
  },
  {
   "cell_type": "code",
   "execution_count": 16,
   "metadata": {
    "collapsed": false
   },
   "outputs": [
    {
     "data": {
      "text/plain": [
       "<matplotlib.axes._subplots.AxesSubplot at 0x12e7c0d10>"
      ]
     },
     "execution_count": 16,
     "metadata": {},
     "output_type": "execute_result"
    },
    {
     "data": {
      "image/png": "[encoded data removed]",
      "text/plain": [
       "<matplotlib.figure.Figure at 0x12f847b10>"
      ]
     },
     "metadata": {},
     "output_type": "display_data"
    }
   ],
   "source": [
    "df[(df.numb_jets == 1) ].jet1_csv.hist( bins = 20, range=(0,1.1))"
   ]
  },
  {
   "cell_type": "code",
   "execution_count": 17,
   "metadata": {
    "collapsed": false
   },
   "outputs": [
    {
     "data": {
      "text/plain": [
       "<matplotlib.axes._subplots.AxesSubplot at 0x12fa535d0>"
      ]
     },
     "execution_count": 17,
     "metadata": {},
     "output_type": "execute_result"
    },
    {
     "data": {
      "image/png": "[encoded data removed]",
      "text/plain": [
       "<matplotlib.figure.Figure at 0x12f9fbf10>"
      ]
     },
     "metadata": {},
     "output_type": "display_data"
    }
   ],
   "source": [
    "df_tt_l[(df_tt_l.numb_jets == 1) ].jet1_csv.hist( bins = 20, range=(0,1.1))"
   ]
  },
  {
   "cell_type": "code",
   "execution_count": 19,
   "metadata": {
    "collapsed": false
   },
   "outputs": [],
   "source": [
    "plus_minus = .898 * .03"
   ]
  },
  {
   "cell_type": "code",
   "execution_count": 20,
   "metadata": {
    "collapsed": false
   },
   "outputs": [
    {
     "data": {
      "text/plain": [
       "438040"
      ]
     },
     "execution_count": 20,
     "metadata": {},
     "output_type": "execute_result"
    }
   ],
   "source": [
    "df[(df.numb_jets == 3)].shape[0] - df[(df.numb_jets == 3) & (df.numb_BJet == 0)].shape[0]"
   ]
  },
  {
   "cell_type": "code",
   "execution_count": 21,
   "metadata": {
    "collapsed": false
   },
   "outputs": [
    {
     "name": "stdout",
     "output_type": "stream",
     "text": [
      "(226610, 5)\n",
      "(194345, 5)\n",
      "(253361, 5)\n"
     ]
    }
   ],
   "source": [
    "print df[(df.numb_jets == 1) & (df.numb_BJet == 1)].shape\n",
    "print df[(df.numb_jets == 1) & (df.jet1_csv >= .898 + plus_minus)].shape\n",
    "print df[(df.numb_jets == 1) & (df.jet1_csv >= .898 - plus_minus)].shape\n"
   ]
  },
  {
   "cell_type": "code",
   "execution_count": 22,
   "metadata": {
    "collapsed": false
   },
   "outputs": [
    {
     "data": {
      "text/plain": [
       "0.1423811835311769"
      ]
     },
     "execution_count": 22,
     "metadata": {},
     "output_type": "execute_result"
    }
   ],
   "source": [
    " (226610 - 194345)/ 226610."
   ]
  },
  {
   "cell_type": "code",
   "execution_count": 23,
   "metadata": {
    "collapsed": false
   },
   "outputs": [
    {
     "data": {
      "text/plain": [
       "0.11804862980450995"
      ]
     },
     "execution_count": 23,
     "metadata": {},
     "output_type": "execute_result"
    }
   ],
   "source": [
    " (253361 - 226610)/ 226610."
   ]
  },
  {
   "cell_type": "code",
   "execution_count": 24,
   "metadata": {
    "collapsed": false
   },
   "outputs": [
    {
     "data": {
      "text/plain": [
       "0.02694"
      ]
     },
     "execution_count": 24,
     "metadata": {},
     "output_type": "execute_result"
    }
   ],
   "source": [
    "plus_minus"
   ]
  },
  {
   "cell_type": "code",
   "execution_count": 26,
   "metadata": {
    "collapsed": false
   },
   "outputs": [
    {
     "data": {
      "text/plain": [
       "0.4418207422014629"
      ]
     },
     "execution_count": 26,
     "metadata": {},
     "output_type": "execute_result"
    }
   ],
   "source": [
    "float(df_tt_l[(df_tt_l.numb_jets == 1)  & (df_tt_l.numb_BJet == 1)].shape[0]) / df_tt_l[(df_tt_l.numb_jets == 1) ].shape[0]"
   ]
  },
  {
   "cell_type": "code",
   "execution_count": 27,
   "metadata": {
    "collapsed": false
   },
   "outputs": [
    {
     "data": {
      "text/plain": [
       "0.02030846707897712"
      ]
     },
     "execution_count": 27,
     "metadata": {},
     "output_type": "execute_result"
    }
   ],
   "source": [
    "float(df_dy0[(df_dy0.numb_jets == 1)  & (df_dy0.numb_BJet == 1)].shape[0]) / df_dy0[(df_dy0.numb_jets == 1) ].shape[0]"
   ]
  },
  {
   "cell_type": "code",
   "execution_count": null,
   "metadata": {
    "collapsed": true
   },
   "outputs": [],
   "source": []
  }
 ],
 "metadata": {
  "kernelspec": {
   "display_name": "Python 2",
   "language": "python",
   "name": "python2"
  },
  "language_info": {
   "codemirror_mode": {
    "name": "ipython",
    "version": 2
   },
   "file_extension": ".py",
   "mimetype": "text/x-python",
   "name": "python",
   "nbconvert_exporter": "python",
   "pygments_lexer": "ipython2",
   "version": "2.7.10"
  },
  "toc": {
   "navigate_menu": false,
   "number_sections": true,
   "sideBar": true,
   "threshold": "4",
   "toc_cell": false,
   "toc_section_display": "block",
   "toc_window_display": true
  }
 },
 "nbformat": 4,
 "nbformat_minor": 0
}
