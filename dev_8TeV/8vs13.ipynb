{
 "cells": [
  {
   "cell_type": "code",
   "execution_count": 2,
   "metadata": {
    "collapsed": false
   },
   "outputs": [
    {
     "name": "stdout",
     "output_type": "stream",
     "text": [
      "Loading plotting specs...\n",
      "8 or 13 TeV:8TeV\n",
      "unc_mc_process and scales as dictionaries\n",
      "Load MC and Data?False\n",
      "df = pd.concat([df_dy0, df_dy1, df_dy2, df_dy3, df_dy4, df_dy_m_10, df_ww, df_tt_l, df_tt_sl, df_zz_ln, df_wz_ln, df_wz_lq ])\n"
     ]
    }
   ],
   "source": [
    "run ../prep_ana.py"
   ]
  },
  {
   "cell_type": "code",
   "execution_count": 3,
   "metadata": {
    "collapsed": true
   },
   "outputs": [],
   "source": [
    "%matplotlib inline"
   ]
  },
  {
   "cell_type": "code",
   "execution_count": 4,
   "metadata": {
    "collapsed": true
   },
   "outputs": [],
   "source": [
    "columns = [ 'process', 'process_decay',\n",
    "        'weight', 'lep1_Charge', 'lep2_Charge', 'lep_Type', 'numbExtraLep',\n",
    "        'tot_npv', 'mll', 'numb_jets', 'metMod',\n",
    "        'lep1_pt', 'lep2_pt', 'lep3_pt', 'dPhiLL',\n",
    "        'jet1_pt', 'jet2_pt', 'HT', 'numb_BJet',\n",
    "        'METProj_sin', 'met_over_sET','METProj_trk_sin', 'met_phi',\n",
    "        'dPhiLLMET',  'mllMET', 'qT', 'recoil', 'dPhiLLJet', 'dPhiMETJet']\n",
    "\n",
    "df_dy0 = rp.read_root(data_path+\"/dyjetstoll_m-50_complete.root\", columns=columns)\n",
    "\n",
    "df_da_a = rp.read_root(data_path+\"/muon_2012A_complete.root\", columns=columns)\n",
    "df_da_b = rp.read_root(data_path+\"/muon_2012B_complete.root\", columns=columns)\n",
    "df_da_c = rp.read_root(data_path+\"/muon_2012C_complete.root\", columns=columns)\n",
    "df_da_d = rp.read_root(data_path+\"/muon_2012D_complete.root\", columns=columns)\n",
    "\n",
    "df_da_8TeV = pd.concat([df_da_a, df_da_b, df_da_c, df_da_d]).reset_index()"
   ]
  },
  {
   "cell_type": "code",
   "execution_count": 5,
   "metadata": {
    "collapsed": true
   },
   "outputs": [],
   "source": [
    "data_path = '../data_13TeV/out_Z'\n",
    "\n",
    "df_dy0_out_13TeV = rp.read_root(data_path+\"/dyjetstoll_m-50_complete.root\", columns=columns)\n",
    "\n",
    "df_da_b_out_13 = rp.read_root(data_path+\"/muon_2016B_complete.root\", columns=columns)\n",
    "df_da_c_out_13 = rp.read_root(data_path+\"/muon_2016C_complete.root\", columns=columns)\n",
    "df_da_d_out_13 = rp.read_root(data_path+\"/muon_2016D_complete.root\", columns=columns)\n",
    "df_da_e_out_13 = rp.read_root(data_path+\"/muon_2016E_complete.root\", columns=columns)\n",
    "df_da_f_out_13 = rp.read_root(data_path+\"/muon_2016F_complete.root\", columns=columns)\n",
    "df_da_g_out_13 = rp.read_root(data_path+\"/muon_2016G_complete.root\", columns=columns)\n",
    "df_da_h_out_13 = rp.read_root(data_path+\"/muon_2016H_complete.root\", columns=columns)\n",
    "\n",
    "df_da_out_13 = pd.concat([df_da_b_out_13, df_da_c_out_13, df_da_d_out_13, df_da_e_out_13, df_da_f_out_13, df_da_g_out_13, df_da_h_out_13])\n",
    "\n",
    "data_path = '../data_13TeV/in_Z'\n",
    "df_dy0_in_13TeV = rp.read_root(data_path+\"/dyjetstoll_m-50_complete.root\", columns=columns)\n",
    "\n",
    "df_da_b_in_13 = rp.read_root(data_path+\"/muon_2016B_complete.root\", columns=columns)\n",
    "df_da_c_in_13 = rp.read_root(data_path+\"/muon_2016C_complete.root\", columns=columns)\n",
    "df_da_d_in_13 = rp.read_root(data_path+\"/muon_2016D_complete.root\", columns=columns)\n",
    "df_da_e_in_13 = rp.read_root(data_path+\"/muon_2016E_complete.root\", columns=columns)\n",
    "df_da_f_in_13 = rp.read_root(data_path+\"/muon_2016F_complete.root\", columns=columns)\n",
    "df_da_g_in_13 = rp.read_root(data_path+\"/muon_2016G_complete.root\", columns=columns)\n",
    "df_da_h_in_13 = rp.read_root(data_path+\"/muon_2016H_complete.root\", columns=columns)\n",
    "\n",
    "df_da_13 = pd.concat([df_da_b_in_13, df_da_c_in_13, df_da_d_in_13, df_da_e_in_13, df_da_f_in_13, df_da_g_in_13, df_da_h_in_13, df_da_out_13])\n",
    "df_dy0_13TeV = pd.concat([df_dy0_in_13TeV, df_dy0_out_13TeV] )\n"
   ]
  },
  {
   "cell_type": "code",
   "execution_count": 12,
   "metadata": {
    "collapsed": false
   },
   "outputs": [
    {
     "data": {
      "text/plain": [
       "array([ 0.52695644,  0.27985749,  0.18891673,  0.15199772,  0.13770898,\n",
       "        0.1094335 ,  0.07706115,  0.05289375,  0.04561191,  0.        ], dtype=float32)"
      ]
     },
     "execution_count": 12,
     "metadata": {},
     "output_type": "execute_result"
    }
   ],
   "source": [
    "bins_8_numb_jets = bin_df(df_dy0, \"numb_jets\")['DYJetsToLL_M-50']\n",
    "bins_13_numb_jets = bin_df(df_dy0_13TeV, \"numb_jets\", scales={'DYJetsToLL_M-50':36.4e3 * 5765.4  / 121994000.})['DYJetsToLL_M-50']\n",
    "\n",
    "bins_8_numb_jets[0] / bins_13_numb_jets[0]"
   ]
  },
  {
   "cell_type": "code",
   "execution_count": 13,
   "metadata": {
    "collapsed": false
   },
   "outputs": [
    {
     "data": {
      "text/plain": [
       "array([ 0.52695644,         nan,         nan,         nan,         nan,\n",
       "               nan,  0.31995231,  0.28260693,  0.26729432,  0.25940713,\n",
       "        0.25699684,  0.25717938,  0.25840786,  0.24971525,  0.23960651,\n",
       "        0.23372215,  0.22211222,  0.21762951,  0.21121925,  0.20569479,\n",
       "        0.20194772,  0.19700412,  0.19065762,  0.18873329,  0.187288  ,\n",
       "        0.18283454,  0.18131918,  0.17972103,  0.17985475,  0.17799139,\n",
       "        0.17439471,  0.17183486,  0.17480499,  0.17214137,  0.17376573,\n",
       "        0.16804869,  0.16995697,  0.17174786,  0.16819553,  0.16200149,\n",
       "        0.16546188,  0.16003229,  0.16033256,  0.15577549,  0.15833265,\n",
       "        0.15706976,  0.15320031,  0.15649205,  0.159658  ,  0.15910141], dtype=float32)"
      ]
     },
     "execution_count": 13,
     "metadata": {},
     "output_type": "execute_result"
    }
   ],
   "source": [
    "bins_8_HT = bin_df(df_dy0, \"HT\")['DYJetsToLL_M-50']\n",
    "bins_13_HT = bin_df(df_dy0_13TeV, \"HT\", scales={'DYJetsToLL_M-50':36.4e3 * 5765.4  / 121994000.})['DYJetsToLL_M-50']\n",
    "\n",
    "bins_8_HT[0] / bins_13_HT[0]"
   ]
  },
  {
   "cell_type": "code",
   "execution_count": 14,
   "metadata": {
    "collapsed": false
   },
   "outputs": [
    {
     "data": {
      "text/plain": [
       "<matplotlib.text.Text at 0x258c7a8d0>"
      ]
     },
     "execution_count": 14,
     "metadata": {},
     "output_type": "execute_result"
    },
    {
     "data": {
      "image/png": "[encoded data removed]",
      "text/plain": [
       "<matplotlib.figure.Figure at 0x259b19490>"
      ]
     },
     "metadata": {},
     "output_type": "display_data"
    }
   ],
   "source": [
    "plt.bar( bins_8_numb_jets[2], bins_8_numb_jets[0] / bins_13_numb_jets[0], 1, color=\"blue\")\n",
    "plt.title(\"Jets ratio 8TeV / 13TeV\")\n",
    "#MonteCarlo"
   ]
  },
  {
   "cell_type": "code",
   "execution_count": 8,
   "metadata": {
    "collapsed": false
   },
   "outputs": [
    {
     "data": {
      "text/plain": [
       "<Container object of 10 artists>"
      ]
     },
     "execution_count": 8,
     "metadata": {},
     "output_type": "execute_result"
    },
    {
     "data": {
      "image/png": "[encoded data removed]",
      "text/plain": [
       "<matplotlib.figure.Figure at 0x28ef64f10>"
      ]
     },
     "metadata": {},
     "output_type": "display_data"
    }
   ],
   "source": [
    "bins_13_numb_jets = bin_df(df_da_13, 'numb_jets')['Da']\n",
    "bins_8_numb_jets = bin_df(df_da_8TeV, 'numb_jets')['Da']\n",
    "plt.bar( bins_8_numb_jets[2], bins_8_numb_jets[0] / bins_13_numb_jets[0], 1, color=\"blue\")\n",
    "#Data"
   ]
  },
  {
   "cell_type": "code",
   "execution_count": 15,
   "metadata": {
    "collapsed": false
   },
   "outputs": [
    {
     "data": {
      "text/plain": [
       "<matplotlib.text.Text at 0x258de2290>"
      ]
     },
     "execution_count": 15,
     "metadata": {},
     "output_type": "execute_result"
    },
    {
     "data": {
      "image/png": "[encoded data removed]",
      "text/plain": [
       "<matplotlib.figure.Figure at 0x259c00b90>"
      ]
     },
     "metadata": {},
     "output_type": "display_data"
    }
   ],
   "source": [
    "plt.bar( bins_8_HT[2], bins_8_HT[0] / bins_13_HT[0], 5, color=\"blue\")\n",
    "plt.title(\"HT ratio 8TeV / 13TeV\")"
   ]
  },
  {
   "cell_type": "markdown",
   "metadata": {
    "collapsed": true
   },
   "source": [
    "ToDo:\n",
    "\n",
    "make plots with just data"
   ]
  },
  {
   "cell_type": "markdown",
   "metadata": {
    "collapsed": true
   },
   "source": [
    "NOMADE ORQUESTRA | NOMADE ORQUESTRA (2014)\n"
   ]
  },
  {
   "cell_type": "code",
   "execution_count": 18,
   "metadata": {
    "collapsed": false
   },
   "outputs": [
    {
     "data": {
      "text/plain": [
       "<Container object of 50 artists>"
      ]
     },
     "execution_count": 18,
     "metadata": {},
     "output_type": "execute_result"
    },
    {
     "data": {
      "image/png": "[encoded data removed]",
      "text/plain": [
       "<matplotlib.figure.Figure at 0x258eb2610>"
      ]
     },
     "metadata": {},
     "output_type": "display_data"
    }
   ],
   "source": [
    "bins_13_ht = bin_df(df_da_13, 'HT')['Da']\n",
    "bins_8_ht = bin_df(df_da_8TeV, 'HT')['Da']\n",
    "plt.bar( bins_8_ht[2], bins_8_ht[0] / bins_13_ht[0], 5, color=\"blue\")"
   ]
  },
  {
   "cell_type": "code",
   "execution_count": 21,
   "metadata": {
    "collapsed": false
   },
   "outputs": [
    {
     "data": {
      "text/plain": [
       "<matplotlib.collections.PathCollection at 0x25935b050>"
      ]
     },
     "execution_count": 21,
     "metadata": {},
     "output_type": "execute_result"
    },
    {
     "data": {
      "image/png": "[encoded data removed]",
      "text/plain": [
       "<matplotlib.figure.Figure at 0x2592a2250>"
      ]
     },
     "metadata": {},
     "output_type": "display_data"
    }
   ],
   "source": [
    "plt.scatter(bins_13_numb_jets[2],a/b)"
   ]
  },
  {
   "cell_type": "code",
   "execution_count": null,
   "metadata": {
    "collapsed": true
   },
   "outputs": [],
   "source": []
  }
 ],
 "metadata": {
  "kernelspec": {
   "display_name": "Python 2",
   "language": "python",
   "name": "python2"
  },
  "language_info": {
   "codemirror_mode": {
    "name": "ipython",
    "version": 2
   },
   "file_extension": ".py",
   "mimetype": "text/x-python",
   "name": "python",
   "nbconvert_exporter": "python",
   "pygments_lexer": "ipython2",
   "version": "2.7.10"
  },
  "toc": {
   "navigate_menu": false,
   "number_sections": true,
   "sideBar": true,
   "threshold": "4",
   "toc_cell": false,
   "toc_section_display": "block",
   "toc_window_display": true
  }
 },
 "nbformat": 4,
 "nbformat_minor": 0
}
