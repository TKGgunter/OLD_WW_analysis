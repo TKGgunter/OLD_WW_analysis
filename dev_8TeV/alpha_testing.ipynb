{
 "cells": [
  {
   "cell_type": "code",
   "execution_count": 22,
   "metadata": {
    "collapsed": true
   },
   "outputs": [],
   "source": [
    "import numpy as np"
   ]
  },
  {
   "cell_type": "code",
   "execution_count": 1,
   "metadata": {
    "collapsed": true
   },
   "outputs": [],
   "source": [
    "from multiprocessing import Pool"
   ]
  },
  {
   "cell_type": "code",
   "execution_count": 2,
   "metadata": {
    "collapsed": true
   },
   "outputs": [],
   "source": [
    "def f(x):\n",
    "    return x*x"
   ]
  },
  {
   "cell_type": "code",
   "execution_count": 12,
   "metadata": {
    "collapsed": false
   },
   "outputs": [
    {
     "name": "stdout",
     "output_type": "stream",
     "text": [
      "[1, 4, 9, 16, 25, 36, 49]\n"
     ]
    }
   ],
   "source": [
    "p = Pool(processes=3)\n",
    "print(p.map(f, [1, 2, 3,4,5,6,7]))"
   ]
  },
  {
   "cell_type": "code",
   "execution_count": 7,
   "metadata": {
    "collapsed": true
   },
   "outputs": [],
   "source": [
    "p.map?"
   ]
  },
  {
   "cell_type": "code",
   "execution_count": 10,
   "metadata": {
    "collapsed": false
   },
   "outputs": [
    {
     "data": {
      "text/plain": [
       "8"
      ]
     },
     "execution_count": 10,
     "metadata": {},
     "output_type": "execute_result"
    }
   ],
   "source": [
    "import multiprocessing\n",
    "\n",
    "multiprocessing.cpu_count()"
   ]
  },
  {
   "cell_type": "code",
   "execution_count": 13,
   "metadata": {
    "collapsed": true
   },
   "outputs": [],
   "source": [
    "array_1 = []\n",
    "array_2 = []\n",
    "for i in range(1000000):\n",
    "    array_1.append(i)\n",
    "    array_2.append(i*i)"
   ]
  },
  {
   "cell_type": "code",
   "execution_count": 20,
   "metadata": {
    "collapsed": false
   },
   "outputs": [
    {
     "name": "stdout",
     "output_type": "stream",
     "text": [
      " "
     ]
    }
   ],
   "source": [
    "%prun p.map(f, array_2);"
   ]
  },
  {
   "cell_type": "code",
   "execution_count": 26,
   "metadata": {
    "collapsed": false
   },
   "outputs": [
    {
     "name": "stderr",
     "output_type": "stream",
     "text": [
      "/usr/local/lib/python2.7/site-packages/matplotlib/font_manager.py:273: UserWarning: Matplotlib is building the font cache using fc-list. This may take a moment.\n",
      "  warnings.warn('Matplotlib is building the font cache using fc-list. This may take a moment.')\n"
     ]
    },
    {
     "name": "stdout",
     "output_type": "stream",
     "text": [
      "Loading plotting specs...\n",
      "8 or 13 TeV:8TeV\n",
      "unc_mc_process and scales as dictionaries\n",
      "Load MC and Data?True\n",
      "Correct MET?True\n",
      "df = pd.concat([df_dy0, df_dy1, df_dy2, df_dy3, df_dy4, df_dy_m_10, df_ww, df_tt_l, df_tt_sl, df_zz_ln, df_wz_ln, df_wz_lq ])\n"
     ]
    }
   ],
   "source": [
    "run ../prep_ana.py"
   ]
  },
  {
   "cell_type": "code",
   "execution_count": 28,
   "metadata": {
    "collapsed": false
   },
   "outputs": [],
   "source": [
    "df_da_a = rp.read_root(data_path+\"/muon_2012A_complete.root\", columns=columns+[\"runNum\", \"eventNumb\"])\n",
    "df_da_b = rp.read_root(data_path+\"/muon_2012B_complete.root\", columns=columns+[\"runNum\", \"eventNumb\"])\n",
    "df_da_c = rp.read_root(data_path+\"/muon_2012C_complete.root\", columns=columns+[\"runNum\", \"eventNumb\"])\n",
    "df_da_d = rp.read_root(data_path+\"/muon_2012D_complete.root\", columns=columns+[\"runNum\", \"eventNumb\"])\n",
    "\n",
    "df_da = pd.concat([df_da_a, df_da_b, df_da_c, df_da_d]).reset_index()"
   ]
  },
  {
   "cell_type": "code",
   "execution_count": 76,
   "metadata": {
    "collapsed": false
   },
   "outputs": [],
   "source": [
    "def proj(df, bins=10, range=(0,210), binned_feature=\"mll\", weights = True, density = False):\n",
    "  binned_results = {}\n",
    "  lumi_scale = 19.4\n",
    "  u = df.process_decay.unique()\n",
    "  for process in list(plotting_options.process_decay.unique()):\n",
    "    #print process\n",
    "    if process in u:\n",
    "      df_process = df[df.process_decay == process]\n",
    "      #print process, scales[process], range, bins\n",
    "      if weights == True:\n",
    "        weights_arr = df_process.weight.values\n",
    "        sq_weights_arr = df_process.weight.values**2\n",
    "      else:\n",
    "        weights_arr = None\n",
    "        sq_weights_arr = None\n",
    "      binned_results[process] = list( np.histogram( df_process[binned_feature], bins=bins, range=range, weights=weights_arr, density=density ) )\n",
    "      binned_results[process][0] = binned_results[process][0] * lumi_scale * scales[process]\n",
    "      binned_results[process].append( (binned_results[process][1][1:]  - binned_results[process][1][:-1]) / 2. + binned_results[process][1][:-1] )\n",
    "      \n",
    "  return binned_results\n"
   ]
  },
  {
   "cell_type": "code",
   "execution_count": 77,
   "metadata": {
    "collapsed": false,
    "scrolled": true
   },
   "outputs": [
    {
     "name": "stdout",
     "output_type": "stream",
     "text": [
      " "
     ]
    }
   ],
   "source": [
    "%prun proj(df)"
   ]
  },
  {
   "cell_type": "code",
   "execution_count": 62,
   "metadata": {
    "collapsed": false,
    "scrolled": true
   },
   "outputs": [],
   "source": [
    "def proj_II(df, bins=10, range=(0,210), binned_feature=\"mll\", weights = True, density = False):\n",
    "  binned_results = {}\n",
    "  lumi_scale = 19.4\n",
    "  u = df.process_decay.unique()\n",
    "  for process in plotting_options.process_decay.unique():\n",
    "    #print process\n",
    "    if process in u:\n",
    "      df_process = df.query(\"process_decay == '\" + process +\"'\")\n",
    "      #print process, scales[process], range, bins\n",
    "      if weights == True:\n",
    "        weights_arr = df_process.weight.values\n",
    "        sq_weights_arr = df_process.weight.values**2\n",
    "      else:\n",
    "        weights_arr = None\n",
    "        sq_weights_arr = None\n",
    "      binned_results[process] = list( np.histogram( df_process[binned_feature], bins=bins, range=range, weights=weights_arr, density=density ) )\n",
    "      binned_results[process][0] = binned_results[process][0] * lumi_scale * scales[process]\n",
    "      binned_results[process].append( (binned_results[process][1][1:]  - binned_results[process][1][:-1]) / 2. + binned_results[process][1][:-1] )\n",
    "      \n",
    "  return binned_results"
   ]
  },
  {
   "cell_type": "code",
   "execution_count": 63,
   "metadata": {
    "collapsed": false
   },
   "outputs": [
    {
     "name": "stdout",
     "output_type": "stream",
     "text": [
      " "
     ]
    }
   ],
   "source": [
    "%prun proj_II(df)"
   ]
  },
  {
   "cell_type": "code",
   "execution_count": 81,
   "metadata": {
    "collapsed": true
   },
   "outputs": [],
   "source": [
    "u = list(df.process_decay.unique())"
   ]
  },
  {
   "cell_type": "code",
   "execution_count": 92,
   "metadata": {
    "collapsed": false
   },
   "outputs": [],
   "source": [
    "def proj_III(process, bins=10, range=(0,210), binned_feature=\"mll\", weights = True, density = False):\n",
    "    binned_results = {}\n",
    "    lumi_scale = 19.4\n",
    "    df_process = df[df.process_decay == process]\n",
    "    #print process, scales[process], range, bins\n",
    "    if weights == True:\n",
    "        weights_arr = df_process.weight.values\n",
    "        sq_weights_arr = df_process.weight.values**2\n",
    "    else:\n",
    "        weights_arr = None\n",
    "        sq_weights_arr = None\n",
    "    binned_results[process] = list( np.histogram( df_process[binned_feature], bins=bins, range=range, weights=weights_arr, density=density ) )\n",
    "    binned_results[process][0] = binned_results[process][0] * lumi_scale * scales[process]\n",
    "    binned_results[process].append( (binned_results[process][1][1:]  - binned_results[process][1][:-1]) / 2. + binned_results[process][1][:-1] )\n",
    "    return binned_results\n"
   ]
  },
  {
   "cell_type": "code",
   "execution_count": 80,
   "metadata": {
    "collapsed": true
   },
   "outputs": [],
   "source": [
    "p = Pool(processes=8)\n"
   ]
  },
  {
   "cell_type": "code",
   "execution_count": null,
   "metadata": {
    "collapsed": false
   },
   "outputs": [],
   "source": [
    "p.map( proj_IV, u)"
   ]
  },
  {
   "cell_type": "code",
   "execution_count": 90,
   "metadata": {
    "collapsed": false
   },
   "outputs": [
    {
     "data": {
      "text/plain": [
       "{'WW': [array([  7142.91259766,  23173.78710938,  52026.22265625,  64499.7890625 ,\n",
       "          55037.0859375 ,  41159.015625  ,  29383.5546875 ,  21360.61914062,\n",
       "          14884.9296875 ,  10575.48535156], dtype=float32),\n",
       "  array([   0.,   21.,   42.,   63.,   84.,  105.,  126.,  147.,  168.,\n",
       "          189.,  210.]),\n",
       "  array([  10.5,   31.5,   52.5,   73.5,   94.5,  115.5,  136.5,  157.5,\n",
       "          178.5,  199.5])]}"
      ]
     },
     "execution_count": 90,
     "metadata": {},
     "output_type": "execute_result"
    }
   ],
   "source": [
    "proj_III(\"WW\")"
   ]
  },
  {
   "cell_type": "code",
   "execution_count": 91,
   "metadata": {
    "collapsed": false
   },
   "outputs": [
    {
     "data": {
      "text/plain": [
       "['DYJetsToLL_M-50',\n",
       " 'DYJetsToLL_M-10to50',\n",
       " 'WW',\n",
       " 'GluGluToHToWWTo2LAndTau2Nu',\n",
       " 'GluGluToWWTo4L',\n",
       " 'ttbar_leptonic',\n",
       " 'ttbar_semileptonic',\n",
       " 'Tbar_s-channel',\n",
       " 'Tbar_t-channel',\n",
       " 'Tbar_tW-channel',\n",
       " 'T_s-channel',\n",
       " 'T_t-channel',\n",
       " 'T_tW-channel',\n",
       " 'ZZJetsTo2L2Q',\n",
       " 'ZZJetsTo2L2Nu',\n",
       " 'WZJetsTo3LNu',\n",
       " 'WZJetsTo2L2Q',\n",
       " 'W1JetsToLNu',\n",
       " 'W2JetsToLNu',\n",
       " 'W3JetsToLNu',\n",
       " 'W4JetsToLNu',\n",
       " 'WGstarToLNu2E',\n",
       " 'WGToLNuG']"
      ]
     },
     "execution_count": 91,
     "metadata": {},
     "output_type": "execute_result"
    }
   ],
   "source": [
    "u"
   ]
  },
  {
   "cell_type": "code",
   "execution_count": null,
   "metadata": {
    "collapsed": true
   },
   "outputs": [],
   "source": []
  }
 ],
 "metadata": {
  "kernelspec": {
   "display_name": "Python 2",
   "language": "python",
   "name": "python2"
  },
  "language_info": {
   "codemirror_mode": {
    "name": "ipython",
    "version": 2
   },
   "file_extension": ".py",
   "mimetype": "text/x-python",
   "name": "python",
   "nbconvert_exporter": "python",
   "pygments_lexer": "ipython2",
   "version": "2.7.10"
  },
  "toc": {
   "navigate_menu": false,
   "number_sections": true,
   "sideBar": true,
   "threshold": "4",
   "toc_cell": false,
   "toc_section_display": "block",
   "toc_window_display": true
  }
 },
 "nbformat": 4,
 "nbformat_minor": 0
}
