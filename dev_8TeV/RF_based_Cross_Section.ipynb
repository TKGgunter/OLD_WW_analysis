{
 "cells": [
  {
   "cell_type": "markdown",
   "metadata": {},
   "source": [
    "# Standard Cuts Cross-section Analysis \n",
    "\n",
    "\n"
   ]
  },
  {
   "cell_type": "code",
   "execution_count": null,
   "metadata": {
    "collapsed": true
   },
   "outputs": [],
   "source": [
    "from sklearn.externals import joblib"
   ]
  },
  {
   "cell_type": "code",
   "execution_count": null,
   "metadata": {
    "collapsed": false
   },
   "outputs": [],
   "source": [
    "run ../prep_ana.py"
   ]
  },
  {
   "cell_type": "code",
   "execution_count": null,
   "metadata": {
    "collapsed": true
   },
   "outputs": [],
   "source": [
    "%matplotlib inline"
   ]
  },
  {
   "cell_type": "code",
   "execution_count": null,
   "metadata": {
    "collapsed": false
   },
   "outputs": [],
   "source": [
    "df_da_a = rp.read_root(data_path+\"/muon_2012A_complete.root\", columns=columns+[\"runNum\", \"eventNumb\"])\n",
    "df_da_b = rp.read_root(data_path+\"/muon_2012B_complete.root\", columns=columns+[\"runNum\", \"eventNumb\"])\n",
    "df_da_c = rp.read_root(data_path+\"/muon_2012C_complete.root\", columns=columns+[\"runNum\", \"eventNumb\"])\n",
    "df_da_d = rp.read_root(data_path+\"/muon_2012D_complete.root\", columns=columns+[\"runNum\", \"eventNumb\"])\n",
    "\n",
    "df_da = pd.concat([df_da_a, df_da_b, df_da_c, df_da_d]).reset_index()"
   ]
  },
  {
   "cell_type": "code",
   "execution_count": null,
   "metadata": {
    "collapsed": true
   },
   "outputs": [],
   "source": [
    "df_da_a_el = rp.read_root(data_path+\"/electron_2012A_complete.root\", columns=columns+[\"runNum\", \"eventNumb\"])\n",
    "df_da_b_el = rp.read_root(data_path+\"/electron_2012B_complete.root\", columns=columns+[\"runNum\", \"eventNumb\"])\n",
    "df_da_c_el = rp.read_root(data_path+\"/electron_2012C_complete.root\", columns=columns+[\"runNum\", \"eventNumb\"])\n",
    "df_da_d_el = rp.read_root(data_path+\"/electron_2012D_complete.root\", columns=columns+[\"runNum\", \"eventNumb\"])\n",
    "\n",
    "df_da_el = pd.concat([df_da_a_el, df_da_b_el, df_da_c_el, df_da_d_el]).reset_index()\n",
    "df_da = pd.concat( [df_da, df_da_el] ).reset_index()\n",
    "df_da = df_da.drop(np.where(df_da[[\"runNum\", \"eventNumb\"]].duplicated())[0])"
   ]
  },
  {
   "cell_type": "code",
   "execution_count": null,
   "metadata": {
    "collapsed": true
   },
   "outputs": [],
   "source": [
    "pre_df = pre_cuts(df, diff_charge=False)\n",
    "pre_df_da = pre_cuts(df_da, diff_charge=False)"
   ]
  },
  {
   "cell_type": "code",
   "execution_count": null,
   "metadata": {
    "collapsed": false
   },
   "outputs": [],
   "source": [
    "#load random forest\n",
    "random_forest = joblib.load(\"../RF/Jan_22_fDY_fTT.jbl\")"
   ]
  },
  {
   "cell_type": "code",
   "execution_count": null,
   "metadata": {
    "collapsed": false,
    "scrolled": true
   },
   "outputs": [],
   "source": [
    "pred_fTT = random_forest[\"clf_fTT\"].predict_proba(np.float32(pre_df[random_forest[\"features_fTT\"]].values))\n",
    "pre_df[\"pred_fTT_WW\"] = pred_fTT[:,0]\n",
    "\n",
    "pred_fDY = random_forest[\"clf_fDY\"].predict_proba(np.float32(pre_df[random_forest[\"features_fDY\"]].values))\n",
    "pre_df[\"pred_fDY_WW\"] = pred_fDY[:,0]\n",
    "\n",
    "pred_fTT = random_forest[\"clf_fTT\"].predict_proba(np.float32(pre_df_da[random_forest[\"features_fTT\"]].values))\n",
    "pre_df_da[\"pred_fTT_WW\"] = pred_fTT[:,0]\n",
    "\n",
    "pred_fDY = random_forest[\"clf_fDY\"].predict_proba(np.float32(pre_df_da[random_forest[\"features_fDY\"]].values))\n",
    "pre_df_da[\"pred_fDY_WW\"] = pred_fDY[:,0]"
   ]
  },
  {
   "cell_type": "code",
   "execution_count": null,
   "metadata": {
    "collapsed": true
   },
   "outputs": [],
   "source": [
    "def rf_ana( df, flavor=\"both\", random_forest=random_forest):\n",
    "  \n",
    "  rf_cuts = (df.pred_fTT_WW > .65) & (df.pred_fDY_WW > .972)\n",
    "  same_cuts = (df.lep_Type < 0) & rf_cuts \n",
    "  diff_cuts =  (df.lep_Type > 0) & rf_cuts\n",
    "\n",
    "\n",
    "  if flavor==\"both\": return pd.concat( [df[same_cuts], df[diff_cuts]] )\n",
    "  elif flavor==\"same\": return df[same_cuts]\n",
    "  elif flavor==\"diff\": return df[diff_cuts]"
   ]
  },
  {
   "cell_type": "markdown",
   "metadata": {},
   "source": [
    "# Yields"
   ]
  },
  {
   "cell_type": "code",
   "execution_count": null,
   "metadata": {
    "collapsed": false
   },
   "outputs": [],
   "source": [
    "df_yields = process_yields(rf_ana(pre_df), rf_ana(pre_df_da))\n",
    "save_df_to_html(df_yields, \"yields_rf.html\")"
   ]
  },
  {
   "cell_type": "markdown",
   "metadata": {},
   "source": [
    "# Plots"
   ]
  },
  {
   "cell_type": "code",
   "execution_count": null,
   "metadata": {
    "collapsed": false
   },
   "outputs": [],
   "source": [
    "feature = \"pred_fDY_WW\"\n",
    "bins_mc = bin_df( pre_df[pre_df.lep1_Charge != pre_df.lep2_Charge], feature, range=(-0.1, 1.1))\n",
    "bins_data = bin_df( pre_df_da[pre_df_da.lep1_Charge != pre_df_da.lep2_Charge], feature, range=(-0.1, 1.1))\n",
    "\n",
    "full_plot(bins_mc, bins_data, title=\"Random Forest Drell Yan - WW Score\", color=\"color_1\", x_range=(-0.05, 1.18), logy=False, y_range=(0,20000))"
   ]
  },
  {
   "cell_type": "code",
   "execution_count": null,
   "metadata": {
    "collapsed": false
   },
   "outputs": [],
   "source": [
    "feature = \"pred_fTT_WW\"\n",
    "bins_mc = bin_df( pre_df[pre_df.lep1_Charge != pre_df.lep2_Charge], feature, range=(-0.1, 1.1))\n",
    "bins_data = bin_df( pre_df_da[pre_df_da.lep1_Charge != pre_df_da.lep2_Charge], feature, range=(-0.1, 1.1))\n",
    "\n",
    "full_plot(bins_mc, bins_data, title=\"Random Forest Top - WW Score\", color=\"color_1\", x_range=(-0.05, 1.18), logy=False, y_range=(0,20000))"
   ]
  },
  {
   "cell_type": "code",
   "execution_count": null,
   "metadata": {
    "collapsed": false
   },
   "outputs": [],
   "source": [
    "feature = \"dPhiLL\"\n",
    "min_ = .5\n",
    "max_ = .7\n",
    "bins_mc = bin_df( pre_df[(pre_df.lep1_Charge != pre_df.lep2_Charge) & (pre_df.pred_fDY_WW > min_) & (pre_df.pred_fDY_WW < max_)], feature)\n",
    "bins_data = bin_df( pre_df_da[(pre_df_da.lep1_Charge != pre_df_da.lep2_Charge) & (pre_df_da.pred_fDY_WW > min_) & (pre_df_da.pred_fDY_WW < max_)], feature)\n",
    "\n",
    "full_plot(bins_mc, bins_data, color=\"color_1\", logy=False, y_range=(0,3000))"
   ]
  },
  {
   "cell_type": "code",
   "execution_count": null,
   "metadata": {
    "collapsed": true
   },
   "outputs": [],
   "source": []
  },
  {
   "cell_type": "code",
   "execution_count": null,
   "metadata": {
    "collapsed": true
   },
   "outputs": [],
   "source": []
  },
  {
   "cell_type": "code",
   "execution_count": null,
   "metadata": {
    "collapsed": true
   },
   "outputs": [],
   "source": []
  },
  {
   "cell_type": "code",
   "execution_count": null,
   "metadata": {
    "collapsed": true
   },
   "outputs": [],
   "source": []
  },
  {
   "cell_type": "code",
   "execution_count": null,
   "metadata": {
    "collapsed": true
   },
   "outputs": [],
   "source": []
  },
  {
   "cell_type": "code",
   "execution_count": null,
   "metadata": {
    "collapsed": true
   },
   "outputs": [],
   "source": []
  },
  {
   "cell_type": "code",
   "execution_count": null,
   "metadata": {
    "collapsed": false
   },
   "outputs": [],
   "source": [
    "create_kinematic_hist(rf_ana(pre_df, flavor=\"same\"), rf_ana(pre_df_da, flavor=\"same\"), prefix=\"8TeV/rf_based/cuts_rf_same\")"
   ]
  },
  {
   "cell_type": "markdown",
   "metadata": {},
   "source": [
    "# Cross section calc"
   ]
  },
  {
   "cell_type": "code",
   "execution_count": null,
   "metadata": {
    "collapsed": true
   },
   "outputs": [],
   "source": [
    "def calc_cross_stuff(df_mc, df_data, flavor=\"both\", ):\n",
    "    lumi = 19.7e3\n",
    "    eff  = .1247 #this had to be changed previously\n",
    "    Br   = (3*.108)**2. \n",
    "    \n",
    "    df_mc_c = df_mc[df_mc.lep1_Charge != df_mc.lep2_Charge]\n",
    "    df_data_c = df_data[df_data.lep1_Charge != df_data.lep2_Charge]\n",
    "    \n",
    "    df_mc_c_s = df_mc[df_mc.lep1_Charge == df_mc.lep2_Charge]\n",
    "    df_data_c_s = df_data[df_data.lep1_Charge == df_data.lep2_Charge]\n",
    "    \n",
    "    N_mc = sum([ rf_ana(df_mc_c[df_mc_c.process_decay == process], flavor=flavor).weight.values.sum()*scales[process] for process in scales.keys() if process not in ['WW', 'W1JetsToLNu','W2JetsToLNu','W3JetsToLNu','W3JetsToLNu'] ])\n",
    "    N_Wjets = rf_ana(df_data_c_s, flavor=flavor).shape[0] -  np.array([ rf_ana(df_mc_c_s[(df_mc_c_s.process_decay == process) ], flavor=flavor).weight.values.sum()*scales[process] for process in scales.keys() if process not in [ 'W1JetsToLNu','W2JetsToLNu','W3JetsToLNu','W3JetsToLNu'] ]).sum()\n",
    "    N_mc += N_Wjets\n",
    "    \n",
    "    N_data = rf_ana(df_data_c, flavor=flavor).shape[0]\n",
    "    \n",
    "    N_ww_select = rf_ana(df_mc_c[df_mc_c.process_decay == \"WW\"], flavor=flavor).weight.values.sum()*scales[\"WW\"] +\\\n",
    "                rf_ana(df_mc_c[df_mc_c.process_decay == \"GluGluToWWTo4L\"], flavor=flavor).weight.values.sum()*scales[\"GluGluToWWTo4L\"]\n",
    "    N_ww_tot = df_ww.weight.values.sum()*scales[\"WW\"] + df_ggWW.weight.values.sum()*scales[\"GluGluToWWTo4L\"]\n",
    "\n",
    "    ratio_s_t = N_ww_select / N_ww_tot\n",
    "    #print \"MC\", N_mc\n",
    "    #print \"DATA\", N_data\n",
    "    #print N_ww_select / N_ww_tot\n",
    "    #print \"WJ\", N_Wjets\n",
    "    return {\"lumi\": lumi, \"eff\": eff, \"Br\": Br, \"N_mc\": N_mc, \"N_data\": N_data, \"ratio_s_t\": ratio_s_t, \"N_ww_select\":N_ww_select, \"N_Wjets\": N_Wjets}"
   ]
  },
  {
   "cell_type": "code",
   "execution_count": null,
   "metadata": {
    "collapsed": false
   },
   "outputs": [],
   "source": [
    "def stat_unc_calc(df_mc, df_data, flavor=\"both\", fiducial=False, **kwargs):\n",
    "    if kwargs:\n",
    "        var = kwargs\n",
    "    else:\n",
    "        var = calc_cross_stuff(df_mc, df_data, flavor)\n",
    "    lumi = var[\"lumi\"]\n",
    "    eff = var[\"eff\"]\n",
    "    Br = var[\"Br\"]\n",
    "    N_mc = var[\"N_mc\"]\n",
    "    N_data = var[\"N_data\"]\n",
    "    ratio_s_t = var[\"ratio_s_t\"]\n",
    "    N_ww_select = var[\"N_ww_select\"]\n",
    "    N_Wjets = var[\"N_Wjets\"]\n",
    "    \n",
    "    cuts_mc = {process: rf_ana(df_mc[(df_mc.process_decay == process) & (df_mc.lep1_Charge != df_mc.lep2_Charge)], flavor) for process in scales.keys()} \n",
    "    process_stat_unc = [ (cuts_mc[process].weight.values * cuts_mc[process].weight.values).sum()  * scales[process]**2 for process in cuts_mc.keys() if process not in ['WW', 'W1JetsToLNu','W2JetsToLNu','W3JetsToLNu','W3JetsToLNu']] \n",
    "    \n",
    "    WW_stat_unc = (cuts_mc[\"WW\"].weight.values * cuts_mc[\"WW\"].weight.values).sum() * scales[\"WW\"]**2. * ratio_s_t**2. / N_ww_select**2.\n",
    "    \n",
    "    #print \"Process stat\", process_stat_unc\n",
    "    #print \"WW stat\",WW_stat_unc\n",
    "    if fiducial == False:\n",
    "        return 1. / (lumi * eff * Br * ratio_s_t) * ( N_data + sum(process_stat_unc) + WW_stat_unc + N_Wjets)**.5\n",
    "    else:\n",
    "        return 1. / (lumi * eff ) * ( N_data + sum(process_stat_unc) + N_Wjets)**.5"
   ]
  },
  {
   "cell_type": "code",
   "execution_count": null,
   "metadata": {
    "collapsed": false
   },
   "outputs": [],
   "source": [
    "def sys_unc_calc(df_mc, df_data, flavor=\"both\", fiducial=False, **kwargs):\n",
    "    if kwargs:\n",
    "        var = kwargs\n",
    "    else:\n",
    "        var = calc_cross_stuff(df_mc, df_data, flavor)\n",
    "    lumi = var[\"lumi\"]\n",
    "    eff = var[\"eff\"]\n",
    "    Br = var[\"Br\"]\n",
    "    N_mc = var[\"N_mc\"]\n",
    "    N_data = var[\"N_data\"]\n",
    "    ratio_s_t = var[\"ratio_s_t\"]\n",
    "    N_ww_select = var[\"N_ww_select\"]\n",
    "    N_Wjets = var[\"N_Wjets\"]\n",
    "    \n",
    "    cuts_mc = {process: rf_ana(df_mc[(df_mc.process_decay == process) & (df_mc.lep1_Charge != df_mc.lep2_Charge)], flavor) for process in scales.keys()} \n",
    "    process_sys_unc = [ scales[process]**2. * unc_mc_process[process]**2 * cuts_mc[process].shape[0]**2. for process in cuts_mc.keys() if process not in ['WW', 'W1JetsToLNu','W2JetsToLNu','W3JetsToLNu','W3JetsToLNu']] \n",
    "\n",
    "    #print process_sys_unc\n",
    "    WW_sys_unc = unc_mc_process[\"WW\"]**2 * ratio_s_t**2. / N_ww_select**2.\n",
    "    Wjets_sys_unc = N_Wjets**2. \n",
    "    \n",
    "    if fiducial == False:\n",
    "        return 1. / (lumi * eff * Br * ratio_s_t)  * ( sum(process_sys_unc) +  WW_sys_unc + Wjets_sys_unc)**.5\n",
    "    else:\n",
    "        return 1. / (lumi * eff )  * ( sum(process_sys_unc) + Wjets_sys_unc)**.5"
   ]
  },
  {
   "cell_type": "code",
   "execution_count": null,
   "metadata": {
    "collapsed": false
   },
   "outputs": [],
   "source": [
    "def cross_calc(df_mc, df_data, flavor=\"both\", fiducial=False, **kwargs):\n",
    "    if kwargs:\n",
    "        var = kwargs\n",
    "    else:\n",
    "        var = calc_cross_stuff(df_mc, df_data, flavor)\n",
    "    lumi = var[\"lumi\"]\n",
    "    eff = var[\"eff\"]\n",
    "    Br = var[\"Br\"]\n",
    "    N_mc = var[\"N_mc\"]\n",
    "    N_data = var[\"N_data\"]\n",
    "    ratio_s_t = var[\"ratio_s_t\"]\n",
    "    N_ww_select = var[\"N_ww_select\"]\n",
    "    N_Wjets = var[\"N_Wjets\"]\n",
    "    \n",
    "    if fiducial == False:\n",
    "        return  (N_data - N_mc) / (lumi * eff * Br *ratio_s_t)\n",
    "    else:\n",
    "        return (N_data - N_mc) / (lumi * eff ) "
   ]
  },
  {
   "cell_type": "code",
   "execution_count": null,
   "metadata": {
    "collapsed": false
   },
   "outputs": [],
   "source": [
    "full = {}\n",
    "\n",
    "flavor = 'both'\n",
    "kwds = calc_cross_stuff(pre_df, pre_df_da, flavor)\n",
    "full['both'] = [ cross_calc(pre_df, pre_df_da, flavor=flavor, **kwds), stat_unc_calc(pre_df, pre_df_da, flavor, **kwds), sys_unc_calc(pre_df, pre_df_da, flavor, **kwds)]\n",
    "print full['both']\n",
    "\n",
    "flavor = 'same'\n",
    "kwds = calc_cross_stuff(pre_df, pre_df_da, flavor)\n",
    "full['same'] = [cross_calc(pre_df, pre_df_da, flavor=flavor, **kwds), stat_unc_calc(pre_df, pre_df_da, flavor, **kwds), sys_unc_calc(pre_df, pre_df_da, flavor, **kwds)]\n",
    "print full['same']\n",
    "\n",
    "flavor = 'diff'\n",
    "kwds = calc_cross_stuff(pre_df, pre_df_da, flavor)\n",
    "full['diff'] = [ cross_calc(pre_df, pre_df_da, flavor=flavor, **kwds), stat_unc_calc(pre_df, pre_df_da, flavor, **kwds), sys_unc_calc(pre_df, pre_df_da, flavor, **kwds)]\n",
    "print full['diff']"
   ]
  },
  {
   "cell_type": "code",
   "execution_count": null,
   "metadata": {
    "collapsed": false
   },
   "outputs": [],
   "source": [
    "fiducial = {}\n",
    "\n",
    "flavor = 'both'\n",
    "kwds = calc_cross_stuff(pre_df, pre_df_da, flavor)\n",
    "fiducial['both'] = [ cross_calc(pre_df, pre_df_da, flavor=flavor, fiducial=True, **kwds), stat_unc_calc(pre_df, pre_df_da, flavor, fiducial=True, **kwds), sys_unc_calc(pre_df, pre_df_da, flavor, fiducial=True, **kwds)]\n",
    "print flavor, fiducial['both']\n",
    "\n",
    "flavor = 'same'\n",
    "kwds = calc_cross_stuff(pre_df, pre_df_da, flavor)\n",
    "fiducial['same'] = [cross_calc(pre_df, pre_df_da, flavor=flavor, fiducial=True, **kwds), stat_unc_calc(pre_df, pre_df_da, flavor, fiducial=True, **kwds), sys_unc_calc(pre_df, pre_df_da, flavor, fiducial=True, **kwds)]\n",
    "print flavor, fiducial['same']\n",
    "\n",
    "flavor = 'diff'\n",
    "kwds = calc_cross_stuff(pre_df, pre_df_da, flavor)\n",
    "fiducial['diff'] = [ cross_calc(pre_df, pre_df_da, flavor=flavor, fiducial=True, **kwds), stat_unc_calc(pre_df, pre_df_da, flavor, fiducial=True, **kwds), sys_unc_calc(pre_df, pre_df_da, flavor, fiducial=True, **kwds)]\n",
    "print flavor, fiducial['diff']"
   ]
  },
  {
   "cell_type": "markdown",
   "metadata": {
    "collapsed": true
   },
   "source": [
    "# Make Cross Section tables"
   ]
  },
  {
   "cell_type": "code",
   "execution_count": null,
   "metadata": {
    "collapsed": true
   },
   "outputs": [],
   "source": [
    "from html import HTML"
   ]
  },
  {
   "cell_type": "code",
   "execution_count": null,
   "metadata": {
    "collapsed": true
   },
   "outputs": [],
   "source": [
    "def make_cross_table(cross_dic):\n",
    "    html_bot = HTML('html', 'text')\n",
    "    t = html_bot.table( border=\"0\", border_=\"collapse\")\n",
    "    key_syn = {\"both\": \"Together\", \"same\": \"Same\", \"diff\": \"Different\"}\n",
    "    for key in cross_dic:\n",
    "        r = t.tr\n",
    "        for i, ele in enumerate(cross_dic[key]):\n",
    "            prefix = \"\"\n",
    "            postfix = \"\"\n",
    "            if i == 0: r.td.b(key_syn[key]+\":\" , border=\"none\")\n",
    "            else: \n",
    "                prefix = \"&plusmn;\"\n",
    "                if i == 1: postfix = \"(stat)\"\n",
    "                if i == 2: postfix = \"(sys)\"\n",
    "            r.td(prefix + str(round(ele, 2)) + postfix, border=\"none\", escape=False)\n",
    "    print t"
   ]
  },
  {
   "cell_type": "code",
   "execution_count": null,
   "metadata": {
    "collapsed": false
   },
   "outputs": [],
   "source": [
    "make_cross_table(full)"
   ]
  },
  {
   "cell_type": "code",
   "execution_count": null,
   "metadata": {
    "collapsed": true
   },
   "outputs": [],
   "source": []
  },
  {
   "cell_type": "code",
   "execution_count": null,
   "metadata": {
    "collapsed": true
   },
   "outputs": [],
   "source": []
  },
  {
   "cell_type": "code",
   "execution_count": null,
   "metadata": {
    "collapsed": true
   },
   "outputs": [],
   "source": []
  },
  {
   "cell_type": "code",
   "execution_count": null,
   "metadata": {
    "collapsed": true
   },
   "outputs": [],
   "source": []
  },
  {
   "cell_type": "code",
   "execution_count": null,
   "metadata": {
    "collapsed": true
   },
   "outputs": [],
   "source": []
  },
  {
   "cell_type": "markdown",
   "metadata": {
    "collapsed": true
   },
   "source": [
    "# How to pick a barafasdf asdhfandf asdf"
   ]
  },
  {
   "cell_type": "code",
   "execution_count": null,
   "metadata": {
    "collapsed": true
   },
   "outputs": [],
   "source": [
    "two_tree_process_map(df)"
   ]
  },
  {
   "cell_type": "code",
   "execution_count": null,
   "metadata": {
    "collapsed": true
   },
   "outputs": [],
   "source": []
  },
  {
   "cell_type": "code",
   "execution_count": null,
   "metadata": {
    "collapsed": true
   },
   "outputs": [],
   "source": [
    "abc.hist(pre_df[pre_df.process == \"WW\"].numb_jets.values, weights=pre_df[pre_df.process == \"WW\"].weight.values)"
   ]
  },
  {
   "cell_type": "markdown",
   "metadata": {
    "collapsed": true
   },
   "source": [
    "# Probing the Jet region"
   ]
  },
  {
   "cell_type": "code",
   "execution_count": null,
   "metadata": {
    "collapsed": false
   },
   "outputs": [],
   "source": [
    "feature = \"numb_jets\"\n",
    "TT_cut = .27\n",
    "bins_mc = bin_df( pre_df[(pre_df.lep1_Charge != pre_df.lep2_Charge) & (pre_df.pred_fDY_WW > .972) & (pre_df.pred_fTT_WW > TT_cut) ], feature)\n",
    "bins_data = bin_df( pre_df_da[(pre_df_da.lep1_Charge != pre_df_da.lep2_Charge) & (pre_df_da.pred_fDY_WW > .972) & (pre_df_da.pred_fTT_WW > TT_cut) ], feature)\n",
    "\n",
    "full_plot(bins_mc, bins_data, color=\"color_1\",)"
   ]
  },
  {
   "cell_type": "code",
   "execution_count": null,
   "metadata": {
    "collapsed": false
   },
   "outputs": [],
   "source": [
    "bins_mc"
   ]
  },
  {
   "cell_type": "markdown",
   "metadata": {},
   "source": [
    "# lep, met, jet scale uncertainties"
   ]
  },
  {
   "cell_type": "code",
   "execution_count": null,
   "metadata": {
    "collapsed": true
   },
   "outputs": [],
   "source": []
  },
  {
   "cell_type": "code",
   "execution_count": null,
   "metadata": {
    "collapsed": true
   },
   "outputs": [],
   "source": [
    "def scale_shift(data, lep_pt=1.01, met=1.02, jet=1.02 ):\n",
    "    data.lep1_pt = data.lep1_pt * lep_pt\n",
    "    data.lep2_pt = data.lep2_pt * lep_pt\n",
    "    data.mll = data.mll * lep_pt**.5\n",
    "    \n",
    "    \n",
    "    data.metMod = data.metMod * met\n",
    "    data.metProj = data.METProj * met\n",
    "    \n",
    "    data.mllMET = data.mllMET * met * lep_pt**.5\n",
    "    \n",
    "    \n",
    "    data.HT = data.HT * jet"
   ]
  },
  {
   "cell_type": "code",
   "execution_count": null,
   "metadata": {
    "collapsed": false
   },
   "outputs": [],
   "source": [
    "scale_shift(df_da)"
   ]
  },
  {
   "cell_type": "code",
   "execution_count": null,
   "metadata": {
    "collapsed": false
   },
   "outputs": [],
   "source": [
    "#a = df_da.metMod\n",
    "df_da.metMod = df_da.metMod * 1.02"
   ]
  },
  {
   "cell_type": "code",
   "execution_count": null,
   "metadata": {
    "collapsed": false
   },
   "outputs": [],
   "source": [
    "df_da.mll = df_da.mll * 1.02"
   ]
  },
  {
   "cell_type": "code",
   "execution_count": null,
   "metadata": {
    "collapsed": true
   },
   "outputs": [],
   "source": []
  },
  {
   "cell_type": "code",
   "execution_count": null,
   "metadata": {
    "collapsed": true
   },
   "outputs": [],
   "source": []
  },
  {
   "cell_type": "code",
   "execution_count": null,
   "metadata": {
    "collapsed": false
   },
   "outputs": [],
   "source": [
    "two_tree_map =two_tree_process_map( pre_df, [\"pred_fTT_WW\", \"pred_fDY_WW\"], bins=50)\n",
    "two_tree_yield = yield_asymetry( two_tree_map, pre_df )"
   ]
  },
  {
   "cell_type": "code",
   "execution_count": null,
   "metadata": {
    "collapsed": false
   },
   "outputs": [],
   "source": [
    "fig, ax = plt.subplots(figsize=(11,9))\n",
    "yield_map = ax.pcolor(two_tree_yield[0])#[35:,10:])\n",
    "plt.colorbar(yield_map)\n",
    "plt.xticks([i for i in range( len(two_tree_yield[1][0])) if i%10==0], [i for e, i in enumerate(two_tree_yield[1][0]) if e%10==0])\n",
    "plt.yticks([i for i in range( len(two_tree_yield[1][1])) if i%10==0], [i for e, i in enumerate(two_tree_yield[1][1]) if e%10==0])\n",
    "plt.xlabel(\"TT RF\")\n",
    "plt.ylabel(\"DY RF\")\n",
    "plt.title(\"Yield Asymmetry Map\")\n"
   ]
  },
  {
   "cell_type": "code",
   "execution_count": null,
   "metadata": {
    "collapsed": true
   },
   "outputs": [],
   "source": [
    "def calc_stat_unc( data ):\n",
    "    coeff = 1./(19.4e3*.15*(3*.108)**2*(data[\"WW\"] /  np.max(data[\"WW\"])))\n",
    "    norm = [ scales[process]*(data[process]/scales[process])**0.5 for process in data.keys() if \"WW\" not in process]\n",
    "    \n",
    "    sum_norm = np.zeros(data[process].shape)\n",
    "    for ele in norm:\n",
    "        sum_norm += ele**2 \n",
    "    return coeff*(sum_norm + scales[\"WW\"]/data[\"WW\"] )**.5"
   ]
  },
  {
   "cell_type": "code",
   "execution_count": null,
   "metadata": {
    "collapsed": true
   },
   "outputs": [],
   "source": [
    "def full_stat( data ):\n",
    "    coeff = 1./(19.7e3*.15*(3*.108)**2*(data[\"WW\"] /  np.max(data[\"WW\"])))\n",
    "    stat = np.zeros(data[\"WW\"].shape)\n",
    "    for i in data.keys():\n",
    "        stat += data[i]\n",
    "        \n",
    "    return coeff*(stat)**.5"
   ]
  },
  {
   "cell_type": "code",
   "execution_count": null,
   "metadata": {
    "collapsed": true
   },
   "outputs": [],
   "source": [
    "def calc_norm_unc( data ):\n",
    "    coeff = 1./(19.4e3*.15*(3*.108)**2*(data[\"WW\"] /  np.max(data[\"WW\"])))\n",
    "    norm = [ unc_mc_process[process]*(data[process])**0.5 for process in data.keys() if \"WW\" not in process]\n",
    "    sum_norm = np.zeros(data[process].shape)\n",
    "    for ele in norm:\n",
    "        sum_norm += ele**2\n",
    "    return coeff*(sum_norm + unc_mc_process[\"WW\"]/data[\"WW\"])**.5"
   ]
  },
  {
   "cell_type": "code",
   "execution_count": null,
   "metadata": {
    "collapsed": true
   },
   "outputs": [],
   "source": [
    "def unc_map( process_map ):\n",
    "\n",
    "    ax_i = process_map[1][0]\n",
    "    ax_j = process_map[1][1]\n",
    "    \n",
    "    unc_sum = np.power(calc_norm_unc( process_map[0] )**2 + calc_stat_unc( process_map[0] )**2,.5 )#+ full_stat( process_map[0] )**2,.5)\n",
    "    print unc_sum.min()\n",
    "    unc_sum = unc_sum / unc_sum.min()\n",
    "    return unc_sum, [ax_i,ax_j]"
   ]
  },
  {
   "cell_type": "code",
   "execution_count": null,
   "metadata": {
    "collapsed": false
   },
   "outputs": [],
   "source": [
    "#two_tree_unc =  unc_map(two_tree_map)\n",
    "fig, ax = plt.subplots(figsize=(11,9))\n",
    "x = 5\n",
    "y = 45\n",
    "b = ax.pcolor(two_tree_unc[0][x:,:y], cmap=matplotlib.cm.jet_r )#5:,:45\n",
    "plt.colorbar(b, )#cmap=matplotlib.cm.jet_r)\n",
    "plt.xticks([i for i in range( len(two_tree_unc[1][0][x:])) if i%10==0], [i for e, i in enumerate(two_tree_unc[1][0][x:]) if e%10==0])\n",
    "plt.yticks([i for i in range( len(two_tree_unc[1][1][:y])) if i%10==0], [i for e, i in enumerate(two_tree_unc[1][1][:y]) if e%10==0])\n",
    "plt.xlabel(\"TT RF\")\n",
    "plt.ylabel(\"DY RF\")\n",
    "plt.title(\"Relative Uncertainty\")"
   ]
  },
  {
   "cell_type": "code",
   "execution_count": null,
   "metadata": {
    "collapsed": false
   },
   "outputs": [],
   "source": [
    "two_tree_unc[1][0][x:]"
   ]
  },
  {
   "cell_type": "code",
   "execution_count": null,
   "metadata": {
    "collapsed": false
   },
   "outputs": [],
   "source": [
    "two_tree_unc[1][1][:y]"
   ]
  },
  {
   "cell_type": "code",
   "execution_count": null,
   "metadata": {
    "collapsed": false
   },
   "outputs": [],
   "source": [
    "yield_selection = np.where( (two_tree_yield[0] > .326) & (two_tree_yield[0] < .366))\n",
    "\n",
    "unc_copy = np.copy(two_tree_unc[0])\n",
    "\n",
    "cut_1 = (two_tree_yield[0] < .326) | (two_tree_yield[0] > .366)\n",
    "cut_2 = (two_tree_yield[0] < .28) | (two_tree_yield[0] > .3)\n",
    "cut_3 = (two_tree_yield[0] < .4) | (two_tree_yield[0] > .43)\n",
    "\n",
    "unc_copy[ cut_1 & cut_2 & cut_3 ] = np.nan\n",
    "\n",
    "fig, ax = plt.subplots(figsize=(11,9))\n",
    "cmap = matplotlib.cm.jet_r\n",
    "cmap.set_bad('white', 1.)\n",
    "\n",
    "\n",
    "\n",
    "masked_array = np.ma.array (unc_copy, mask=np.isnan(unc_copy))\n",
    "\n",
    "f_bar = ax.pcolormesh(masked_array, cmap=cmap, vmax=1.8)\n",
    "\n",
    "\n",
    "plt.xticks([i for i in range( len(two_tree_yield[1][0])) if i%10==0], [i for e, i in enumerate(two_tree_yield[1][0]) if e%10==0])\n",
    "plt.yticks([i for i in range( len(two_tree_yield[1][1])) if i%10==0], [i for e, i in enumerate(two_tree_yield[1][1]) if e%10==0])\n",
    "plt.xlabel(\"TT RF\")\n",
    "plt.ylabel(\"DY RF\")\n",
    "plt.colorbar(f_bar)\n",
    "plt.title(\"Relative Uncertainty at ~.34 Yield Asymmetry\")"
   ]
  },
  {
   "cell_type": "code",
   "execution_count": null,
   "metadata": {
    "collapsed": false
   },
   "outputs": [],
   "source": [
    "pre_df[pre_df.process == \"WW\"].shape"
   ]
  },
  {
   "cell_type": "code",
   "execution_count": null,
   "metadata": {
    "collapsed": false
   },
   "outputs": [],
   "source": [
    "abc.legend?"
   ]
  },
  {
   "cell_type": "code",
   "execution_count": null,
   "metadata": {
    "collapsed": false
   },
   "outputs": [],
   "source": [
    "feature = \"numb_jets\"\n",
    "TT_cut = .27\n",
    "bins_mc = bin_df( pre_df[(pre_df.lep1_Charge != pre_df.lep2_Charge) & (pre_df.pred_fDY_WW > .972) & (pre_df.pred_fTT_WW > TT_cut) ], feature)\n",
    "bins_data = bin_df( pre_df_da[(pre_df_da.lep1_Charge != pre_df_da.lep2_Charge) & (pre_df_da.pred_fDY_WW > .972) & (pre_df_da.pred_fTT_WW > TT_cut) ], feature)\n",
    "\n",
    "fig, ax = full_plot(bins_mc, bins_data, color=\"color_1\", logy=False, y_range=(0,12500) )\n",
    "ax[0].hist(pre_df[pre_df.process == \"WW\"].numb_jets.values, weights=pre_df[pre_df.process == \"WW\"].weight.values * scales[\"WW\"], range=(-.5, 9.5), histtype=u'step', color=\"black\", label=\"MC WW\")\n"
   ]
  },
  {
   "cell_type": "code",
   "execution_count": null,
   "metadata": {
    "collapsed": false
   },
   "outputs": [],
   "source": [
    "rf_mc = bin_df( pre_df[(pre_df.lep1_Charge != pre_df.lep2_Charge) & (pre_df.pred_fDY_WW > .972) & (pre_df.pred_fTT_WW > TT_cut) ], feature)\n",
    "mc = bin_df( pre_df[(pre_df.lep1_Charge != pre_df.lep2_Charge)  ], feature)\n",
    "\n",
    "rf_mc[\"WW\"][0] / mc[\"WW\"][0]"
   ]
  },
  {
   "cell_type": "code",
   "execution_count": null,
   "metadata": {
    "collapsed": false
   },
   "outputs": [],
   "source": [
    "rf_over_mc = rf_mc[\"WW\"][0] / mc[\"WW\"][0]\n",
    "y_err = rf_over_mc* np.sqrt( rf_mc[\"WW\"][3] / rf_mc[\"WW\"][0]**2. +  mc[\"WW\"][3] / mc[\"WW\"][0]**2.  )\n",
    "\n",
    "plt.figure(figsize=(11,8))\n",
    "plt.errorbar( y= rf_over_mc, x= mc[\"WW\"][2], yerr=y_err, xerr=.5, ecolor='black',color=\"black\",fmt=\"o\", )\n",
    "plt.yscale(\"log\")\n",
    "plt.xlim((-1, 6))\n",
    "plt.title(\"WW Efficiency\")\n",
    "plt.xlabel(\"N Jets\")"
   ]
  },
  {
   "cell_type": "code",
   "execution_count": null,
   "metadata": {
    "collapsed": false
   },
   "outputs": [],
   "source": [
    "y_err"
   ]
  },
  {
   "cell_type": "code",
   "execution_count": null,
   "metadata": {
    "collapsed": false
   },
   "outputs": [],
   "source": [
    "rf_mc[\"WW\"][3] / rf_mc[\"WW\"][0]**2."
   ]
  },
  {
   "cell_type": "code",
   "execution_count": null,
   "metadata": {
    "collapsed": true
   },
   "outputs": [],
   "source": []
  },
  {
   "cell_type": "code",
   "execution_count": null,
   "metadata": {
    "collapsed": true
   },
   "outputs": [],
   "source": []
  },
  {
   "cell_type": "code",
   "execution_count": null,
   "metadata": {
    "collapsed": true
   },
   "outputs": [],
   "source": []
  },
  {
   "cell_type": "code",
   "execution_count": null,
   "metadata": {
    "collapsed": true
   },
   "outputs": [],
   "source": []
  },
  {
   "cell_type": "code",
   "execution_count": null,
   "metadata": {
    "collapsed": true
   },
   "outputs": [],
   "source": []
  }
 ],
 "metadata": {
  "kernelspec": {
   "display_name": "Python 2",
   "language": "python",
   "name": "python2"
  },
  "language_info": {
   "codemirror_mode": {
    "name": "ipython",
    "version": 2
   },
   "file_extension": ".py",
   "mimetype": "text/x-python",
   "name": "python",
   "nbconvert_exporter": "python",
   "pygments_lexer": "ipython2",
   "version": "2.7.10"
  },
  "toc": {
   "navigate_menu": false,
   "number_sections": true,
   "sideBar": true,
   "threshold": "4",
   "toc_cell": false,
   "toc_section_display": "block",
   "toc_window_display": true
  }
 },
 "nbformat": 4,
 "nbformat_minor": 0
}
