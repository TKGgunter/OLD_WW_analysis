{
 "cells": [
  {
   "cell_type": "markdown",
   "metadata": {},
   "source": [
    "# Lepton Scale Factor Uncertainty\n",
    "\n",
    "Lepton scale factors are determined using the tag and probe meathod within the Z peak.  The scale factors are determined in bins of pt and eta. We use these scale factors as event weights. To determine the uncertainty on the cross-section via the lepton event weights the following was done. We shift each scale factor by random amount picked from a gaussian distribution taking the orginal scale factor and associated errors as the mean value and standard deviation respectively. The events weights are then reapplied using the new scale factors.  This processes is done 100 times. Each time we take the mean of the lepton event weights. After 100 toys have been thrown and the mean calculated we determine the standard deviation of that result, &sigma;<sub>$\\bar{w}$</sub>. \n",
    "<code>\n",
    "for i in ptbins:\n",
    "    for j in etabins:\n",
    "        scalefactors[i][j] += gaussian(scalefactors[i][j], errors[i][j])\n",
    "</code>\n",
    "\n"
   ]
  },
  {
   "cell_type": "markdown",
   "metadata": {},
   "source": [
    "## Simple Cases\n",
    "\n",
    "To validate our methodology work through two simple cases. The first assumes we have a set of events with the same weight.  Lets say they come from the sme pt and eta bin so they have the same errors as well. We'll let the starting weight to be .99 and the std to be .01. We throw 100 toy with 10<sup>5</sup> events each.  With this set up we expect our resut to be ~ .01 because we have 100 unique values pulled from a gaussian with a mean of .99 and std of .01.\n",
    "\n",
    "The result give us a std of .009 which is approxiately ~.01."
   ]
  },
  {
   "cell_type": "code",
   "execution_count": 39,
   "metadata": {
    "collapsed": false
   },
   "outputs": [
    {
     "name": "stdout",
     "output_type": "stream",
     "text": [
      "0.00936815063549\n"
     ]
    }
   ],
   "source": [
    "# Run 100 toys\n",
    "toy_set = []\n",
    "for i in xrange(100):\n",
    "    toy_set.append(.99 * np.ones(10**5) + np.random.normal(0, .01,))#toy())\n",
    "toy_set = np.array(toy_set)\n",
    "\n",
    "print toy_set.mean(1).std()"
   ]
  },
  {
   "cell_type": "markdown",
   "metadata": {},
   "source": [
    "The second case is abit closer to the use case. We take a 90000 events as beening in one pt and eta bin and 10000 events as coming from another. We say that both regions have the same scale factor but different error bars, .01 for the first and .02 for the second. We can calculate this from the variance.\n",
    "\n",
    "$$\n",
    "x = \\alpha x_1 + \\beta x_2 \\\\\n",
    "Var(x) = \\alpha^2 Var(x_1) + \\beta^2 Var(x_2) \\\\\n",
    "then \\\\\n",
    "\\sigma(x) = \\sqrt{\\alpha^2 \\sigma(x_1)^2 + \\beta^2 \\sigma(x_2)^2}\n",
    "$$\n",
    "\n",
    "Where alpha is the x is the mean weight thus &alpha; and &beta; are the fraction number of events associated to that scale factor that are in the set. \n",
    "\n",
    "We find the std to be 0.0092. When running out toys we get 0.0087."
   ]
  },
  {
   "cell_type": "code",
   "execution_count": 42,
   "metadata": {
    "collapsed": false
   },
   "outputs": [
    {
     "data": {
      "text/plain": [
       "0.009219544457292887"
      ]
     },
     "execution_count": 42,
     "metadata": {},
     "output_type": "execute_result"
    }
   ],
   "source": [
    "a = (90000. / 100000)\n",
    "b = (10000. / 100000)\n",
    "sig_1 = .01\n",
    "sig_2 = .02\n",
    "print (a**2 * sig_1**2 +  b**2 * sig_2**2)**.5"
   ]
  },
  {
   "cell_type": "code",
   "execution_count": 48,
   "metadata": {
    "collapsed": false
   },
   "outputs": [
    {
     "name": "stdout",
     "output_type": "stream",
     "text": [
      "0.00872112099147\n"
     ]
    }
   ],
   "source": [
    "toy_set = []\n",
    "for i in xrange(100):\n",
    "    l1 = list(.99 * np.ones(10**5 - 10**4) + np.random.normal(0, .01,))\n",
    "    l1 += list(.99 * np.ones(10**4) + np.random.normal(0, .02,))\n",
    "    toy_set.append( np.array(l1))\n",
    "toy_set = np.array(toy_set)\n",
    "print toy_set.mean(1).std()"
   ]
  },
  {
   "cell_type": "markdown",
   "metadata": {},
   "source": [
    "When plotting the function of the std in relation of the fraction of events that are type 1 scale factor we get the following."
   ]
  },
  {
   "cell_type": "code",
   "execution_count": 44,
   "metadata": {
    "collapsed": false
   },
   "outputs": [
    {
     "data": {
      "text/plain": [
       "<matplotlib.collections.PathCollection at 0x111ef7890>"
      ]
     },
     "execution_count": 44,
     "metadata": {},
     "output_type": "execute_result"
    },
    {
     "data": {
      "image/png": "[encoded data removed]",
      "text/plain": [
       "<matplotlib.figure.Figure at 0x10c0be810>"
      ]
     },
     "metadata": {},
     "output_type": "display_data"
    }
   ],
   "source": [
    "x = [i /100000. for i in range(100000) ]\n",
    "y = [ (i**2 * .01**2 + (1-i)**2 * .02**2)**.5 for i in x ]\n",
    "plt.scatter(x,y)"
   ]
  },
  {
   "cell_type": "markdown",
   "metadata": {},
   "source": [
    "## Use case\n",
    "Set up"
   ]
  },
  {
   "cell_type": "code",
   "execution_count": 49,
   "metadata": {
    "collapsed": false
   },
   "outputs": [
    {
     "name": "stdout",
     "output_type": "stream",
     "text": [
      "Loading plotting specs...\n",
      "8 or 13 TeV:8TeV\n",
      "unc_mc_process and scales as dictionaries\n",
      "Load MC and Data?False\n",
      "df = pd.concat([df_dy0, df_dy1, df_dy2, df_dy3, df_dy4, df_dy_m_10, df_ww, df_tt_l, df_tt_sl, df_zz_ln, df_wz_ln, df_wz_lq ])\n"
     ]
    }
   ],
   "source": [
    "run ../prep_ana.py"
   ]
  },
  {
   "cell_type": "code",
   "execution_count": 50,
   "metadata": {
    "collapsed": true
   },
   "outputs": [],
   "source": [
    "%matplotlib inline"
   ]
  },
  {
   "cell_type": "code",
   "execution_count": 51,
   "metadata": {
    "collapsed": false
   },
   "outputs": [],
   "source": [
    "columns = ['lep1_pt', 'lep2_pt', 'lep1_eta', 'lep2_eta', 'lep1_type', 'lep2_type', 'mu_id_weight','el1_id_weight','el2_id_weight', 'lep1_id_error_high', 'lep2_id_error_high',\\\n",
    "          'lep1_id_error_low', 'lep2_id_error_low']\n",
    "\n",
    "df_dy0 = rp.read_root(data_path+\"/dyjetstoll_m-50_complete.root\", columns=columns)\n",
    "df_dy_m_10 = rp.read_root(data_path+\"/dyjetstoll_m-10to50_complete.root\", columns=columns)\n",
    "df_ww = rp.read_root(data_path+\"/ww_complete.root\", columns=columns)\n",
    "df_tt_l = rp.read_root(data_path+\"/ttbar_leptonic_complete.root\", columns=columns)\n",
    "df_tt_sl = rp.read_root(data_path+\"/ttbar_semileptonic_complete.root\", columns=columns)\n",
    "df_tbar_tw = rp.read_root(data_path+\"/tbar_tw-_complete.root\", columns=columns)\n",
    "df_tbar_s = rp.read_root(data_path+\"/tbar_s-_complete.root\", columns=columns)\n",
    "df_tbar_t = rp.read_root(data_path+\"/tbar_t-_complete.root\", columns=columns)\n",
    "df_t_tw = rp.read_root(data_path+\"/t_tw-_complete.root\", columns=columns)\n",
    "df_t_s = rp.read_root(data_path+\"/t_s-_complete.root\", columns=columns)\n",
    "df_t_t = rp.read_root(data_path+\"/t_t-_complete.root\", columns=columns)\n",
    "df_zz_lq = rp.read_root(data_path+\"/zzjetsto2l2q_complete.root\", columns=columns)\n",
    "df_zz_ln = rp.read_root(data_path+\"/zzjetsto2l2nu_complete.root\", columns=columns)\n",
    "df_wz_lq = rp.read_root(data_path+\"/wzjetsto2l2q_complete.root\", columns=columns)\n",
    "df_wz_ln = rp.read_root(data_path+\"/wzjetsto3lnu_complete.root\", columns=columns)\n",
    "\n",
    "#May want to turn this off\n",
    "df_wj1 = rp.read_root(data_path+\"/w1jetstolnu_complete.root\", columns=columns)\n",
    "df_wj2 = rp.read_root(data_path+\"/w2jetstolnu_complete.root\", columns=columns)\n",
    "df_wj3 = rp.read_root(data_path+\"/w3jetstolnu_complete.root\", columns=columns)\n",
    "df_wj4 = rp.read_root(data_path+\"/w4jetstolnu_complete.root\", columns=columns)\n",
    "\n",
    "#Other stuff that I might want to turn off\n",
    "df_wg = rp.read_root(data_path+\"/wg_complete.root\", columns=columns)\n",
    "\n",
    "\n",
    "df = pd.concat([df_dy0, df_dy_m_10, df_ww, df_tt_l, df_tt_sl, df_tbar_s, df_tbar_t, df_tbar_tw, df_t_s, df_t_t, df_t_tw, df_zz_lq, df_zz_ln, df_wz_ln, df_wz_lq,\n",
    "              df_wj1, df_wj2, df_wj3, df_wj4, df_wg])"
   ]
  },
  {
   "cell_type": "markdown",
   "metadata": {
    "collapsed": false
   },
   "source": [
    "### Muon Implementation\n",
    "\n",
    "Applying this technique to muons we select unique pt and eta bins from unique error tags. We take the mean of the error bars as our standard deviation and apply out gaussian offset to the the muon id weight. It is worth mentioning that this weight is the multiple the leading and sub leading muons (if appropiate). Since the muon scale factors are about 1, and generally a little lower it is with in reason that we add the our off sets directly to the total muon scale factor. \n",
    "\n",
    "$$\n",
    "\\mu_{tot} = \\mu_1  \\mu_2 \\\\\n",
    "so \\\\\n",
    "\\mu_{tot} = (\\mu_1 + \\delta_1)  (\\mu_2 + \\delta_2) \\\\\n",
    "\\mu_{tot}' = \\mu_1  \\mu_2  + \\delta_1 \\mu_2 + \\delta_2 \\mu_1 + \\delta_1 \\delta_2 \\\\ \n",
    "\\delta_1 \\delta_2 \\rightarrow 0 \n",
    "and \\\\\n",
    "\\delta_x \\sim 1 \\\\\n",
    "\\mu_{tot}' \\simeq \\mu_1  \\mu_2  + \\mu_1 +\\mu_2\n",
    "$$\n",
    "\n",
    "Running over 100 toy samples the rms was found to be 0.00043."
   ]
  },
  {
   "cell_type": "code",
   "execution_count": 65,
   "metadata": {
    "collapsed": false
   },
   "outputs": [
    {
     "name": "stdout",
     "output_type": "stream",
     "text": [
      "0.0131639 0.00545784\n"
     ]
    },
    {
     "data": {
      "image/png": "[encoded data removed]",
      "text/plain": [
       "<matplotlib.figure.Figure at 0x122e83950>"
      ]
     },
     "metadata": {},
     "output_type": "display_data"
    }
   ],
   "source": [
    "plt.hist(mu_id_eff, bins=20, range=(.95,1.05))\n",
    "plt.yscale('log')\n",
    "print np.unique(mu_id_eff).std(), mu_id_eff.std()"
   ]
  },
  {
   "cell_type": "code",
   "execution_count": 55,
   "metadata": {
    "collapsed": false
   },
   "outputs": [],
   "source": [
    "mu_id_eff = 1 * df[(df.lep1_type == 13) & (df.lep2_type == 13)].mu_id_weight.values\n",
    "low_1 = 1 * df[(df.lep1_type == 13) & (df.lep2_type == 13)].lep1_id_error_low.values\n",
    "high_1 = 1 * df[(df.lep1_type == 13) & (df.lep2_type == 13)].lep1_id_error_high.values\n",
    "low_2 = 1 * df[(df.lep1_type == 13) & (df.lep2_type == 13)].lep2_id_error_low.values\n",
    "high_2 = 1 * df[(df.lep1_type == 13) & (df.lep2_type == 13)].lep2_id_error_high.values"
   ]
  },
  {
   "cell_type": "code",
   "execution_count": 44,
   "metadata": {
    "collapsed": true
   },
   "outputs": [
    {
     "name": "stdout",
     "output_type": "stream",
     "text": [
      "0.000239149 [ 0.0002389]\n",
      "0.000266026 [ 0.00026572]\n",
      "0.000414817 [ 0.00041246]\n",
      "0.000479106 [ 0.00047719]\n",
      "0.00053711 [ 0.00053501]\n",
      "0.000587615 [ 0.00058479]\n",
      "0.000655459 [ 0.00065232]\n",
      "0.000706583 [ 0.00070372]\n",
      "0.000769155 [ 0.00076414]\n",
      "0.000773876 [ 0.00076996]\n",
      "0.000859489 [ 0.00085606]\n",
      "0.000926239 [ 0.00092186]\n",
      "0.00103791 [ 0.00103232]\n",
      "0.00104393 [ 0.00103566]\n",
      "0.00123488 [ 0.00122485]\n",
      "0.00138759 [ 0.0013776]\n",
      "0.00141755 [ 0.00141401]\n",
      "0.00155262 [ 0.00154479]\n",
      "0.00164344 [ 0.00163837]\n",
      "0.00196001 [ 0.0019409]\n",
      "0.00250396 [ 0.00249344]\n",
      "0.00316356 [ 0.00313606]\n",
      "0.00538083 [ 0.00535135]\n",
      "0.00628191 [ 0.00619454]\n",
      "0.0172591 [ 0.01738158]\n",
      "0.0291727 [ 0.03009883]\n",
      "0.0345151 [ 0.03207362]\n"
     ]
    }
   ],
   "source": [
    "#Double check uniqueness\n",
    "for i in a:\n",
    "    print i, np.unique(high[low == i])"
   ]
  },
  {
   "cell_type": "code",
   "execution_count": 66,
   "metadata": {
    "collapsed": false
   },
   "outputs": [],
   "source": [
    "#! Apply the sub lepton errors as well\n",
    "a = np.unique(low_1) #Unique low errors\n",
    "def toy():\n",
    "    rt_eff = 1 * mu_id_eff #1 * np.array to make sure we return a copy\n",
    "    for i in a:\n",
    "        b_1 = ((low_1[low_1 == i] +  high_1[ low_1 == i]) / 2)[0] #standard deviation\n",
    "        c = np.random.normal(0, b_1,) #delta 1\n",
    "        rt_eff[low_1 == i] = mu_id_eff[low_1 == i] + c\n",
    "        rt_eff[low_2 == i] = mu_id_eff[low_2 == i] + c\n",
    "\n",
    "    return rt_eff"
   ]
  },
  {
   "cell_type": "code",
   "execution_count": 67,
   "metadata": {
    "collapsed": false
   },
   "outputs": [
    {
     "name": "stdout",
     "output_type": "stream",
     "text": [
      "[ 0.99398565  0.99498409  0.99469775] 0.99455 0.000436943\n"
     ]
    }
   ],
   "source": [
    "# Run 100 toys\n",
    "toy_set = []\n",
    "for i in xrange(100):\n",
    "    toy_set.append(toy())\n",
    "toy_set = np.array(toy_set)\n",
    "print toy_set.mean(1)[:3], toy_set.mean(), toy_set.mean(1).std()"
   ]
  },
  {
   "cell_type": "markdown",
   "metadata": {},
   "source": [
    "### Electon Implementation\n",
    "\n",
    "The electron weights were handled in a similiar fashion.  However the errorbars had to be handled by hand. \n",
    "\n",
    "The results are 0.0012."
   ]
  },
  {
   "cell_type": "code",
   "execution_count": 68,
   "metadata": {
    "collapsed": false
   },
   "outputs": [],
   "source": [
    "a1 = {(0.0, 0.8): {0.827 : 0.021, 0.924 :0.010, 0.960 : 0.003 , 0.978: 0.001, 0.981: 0.001, 0.982: 0.002 },\\\n",
    "(0.8, 1.442): {0.948: (0.024+ 0.023) / 2, 0.932: 0.012, 0.936 : 0.004, 0.958: 0.002, 0.969: 0.001, 0.969: 0.002},\\\n",
    "(1.442, 1.556): {1.073: (0.117+ 0.107) / 2, 0.808:  (0.045+ 0.042) / 2,\\\n",
    "                            0.933: (0.015+ 0.017) / 2, 0.907: 0.008, 0.904: 0.004, 0.926: 0.011},\\\n",
    "(1.556, 2.0): {0.854: (0.048 + 0.047) / 2, 0.853: 0.022, 0.879: 0.007, 0.909: 0.003, 0.942: 0.002, 0.957: 0.004 },\\\n",
    "(2.0, 2.5):{1.007: (0.047+ 0.046)/2, 0.903: 0.029, 0.974: 0.004, 0.987: 0.004, 0.991: 0.003, 0.999: 0.005 }}"
   ]
  },
  {
   "cell_type": "code",
   "execution_count": 69,
   "metadata": {
    "collapsed": false
   },
   "outputs": [],
   "source": [
    "el1_id_eff = 1 * df[(df.lep1_type == 11) & (df.lep2_type == 11)].el1_id_weight.values\n",
    "el2_id_eff = 1 * df[(df.lep1_type == 11) & (df.lep2_type == 11)].el2_id_weight.values\n",
    "eta_1 = 1 * df[(df.lep1_type == 11) & (df.lep2_type == 11)].lep1_eta.values\n",
    "eta_2 = 1 * df[(df.lep1_type == 11) & (df.lep2_type == 11)].lep2_eta.values"
   ]
  },
  {
   "cell_type": "code",
   "execution_count": 70,
   "metadata": {
    "collapsed": true
   },
   "outputs": [],
   "source": [
    "df_ = df[(df.lep1_type == 11) & (df.lep2_type == 11) ]\n",
    "def toy():\n",
    "    el1_eff = 1 * el1_id_eff #1 * np.array to make sure we return a copy\n",
    "    el2_eff = 1 * el2_id_eff\n",
    "    for i in a1:\n",
    "        for j in a1[i]:\n",
    "            b_1 = (i[0] < df_.lep1_eta.abs()) &  (df_.lep1_eta.abs() < i[1]) & (df_.el1_id_weight == j)\n",
    "            b_2 = (i[0] < df_.lep2_eta.abs()) &  (df_.lep2_eta.abs() < i[1]) & (df_.el2_id_weight == j)\n",
    "            c = np.random.normal(0, a1[i][j])\n",
    "            el1_eff[b_1] = el1_id_eff[b_1] +  c\n",
    "            el2_eff[b_2] = el2_id_eff[b_2] + c\n",
    "\n",
    "    return el1_eff * el2_eff"
   ]
  },
  {
   "cell_type": "code",
   "execution_count": 71,
   "metadata": {
    "collapsed": false
   },
   "outputs": [
    {
     "name": "stdout",
     "output_type": "stream",
     "text": [
      "[ 0.93247861  0.93370134  0.93306619] 0.933294 0.00125073\n"
     ]
    }
   ],
   "source": [
    "toy_set_el = []\n",
    "for i in xrange(100):\n",
    "    toy_set_el.append(toy())\n",
    "toy_set_el = np.array(toy_set_el)\n",
    "\n",
    "print toy_set_el.mean(1)[:3], toy_set_el.mean(), toy_set_el.mean(1).std()"
   ]
  },
  {
   "cell_type": "markdown",
   "metadata": {},
   "source": [
    "### Electron, Muon Combination\n",
    "\n",
    "Result 0.00051796\n",
    "\n",
    "- Muon: 0.00043\n",
    "- Electron: 0.0012\n",
    "- Electron and Muon : 0.00051\n"
   ]
  },
  {
   "cell_type": "code",
   "execution_count": 72,
   "metadata": {
    "collapsed": false
   },
   "outputs": [],
   "source": [
    "mu_id_eff = 1 * df.mu_id_weight.values \n",
    "el1_id_eff = 1 * df.el1_id_weight.values\n",
    "el2_id_eff = 1 * df.el2_id_weight.values\n",
    "\n",
    "lep1_type = 1 * df.lep1_type.values\n",
    "lep2_type = 1 * df.lep2_type.values\n",
    "\n",
    "low_1 = 1 * df.lep1_id_error_low.values\n",
    "high_1 = 1 * df.lep1_id_error_high.values\n",
    "low_2 = 1 * df.lep2_id_error_low.values\n",
    "\n",
    "lep1_eta = 1 * df.lep1_eta.values\n",
    "lep2_eta = 1 * df.lep2_eta.values\n",
    "\n",
    "mu_unique = np.unique(low_1)#Unique low errors"
   ]
  },
  {
   "cell_type": "code",
   "execution_count": 73,
   "metadata": {
    "collapsed": false
   },
   "outputs": [],
   "source": [
    "el_unc = a1\n",
    "def toy():\n",
    "    mu_eff = 1 * mu_id_eff\n",
    "    el1_eff = 1 * el1_id_eff #1 * np.array to make sure we return a copy\n",
    "    el2_eff = 1 * el2_id_eff\n",
    "    \n",
    "    mu1_mask = lep1_type == 13\n",
    "    mu2_mask = lep2_type == 13\n",
    "    el1_mask = lep1_type == 11\n",
    "    el2_mask = lep2_type == 11\n",
    "    \n",
    "    #Electrons\n",
    "    for i in el_unc:\n",
    "        for j in el_unc[i]:\n",
    "            b_1 = (i[0] < np.abs(lep1_eta)) &  (np.abs(lep1_eta) < i[1]) & (el1_eff == j)\n",
    "            b_2 = (i[0] < np.abs(lep2_eta)) &  (np.abs(lep2_eta) < i[1]) & (el2_eff == j)\n",
    "            c = np.random.normal(0, el_unc[i][j])\n",
    "            el1_eff[b_1 & el1_mask ] = el1_id_eff[b_1 & el1_mask] +  c\n",
    "            el2_eff[b_2 & el2_mask] = el2_id_eff[b_2 & el2_mask] + c\n",
    "            \n",
    "    #Muons\n",
    "    for i in mu_unique:\n",
    "        low_1_mask = low_1 == i\n",
    "        low_2_mask = low_2 == i\n",
    "        b_1 = ((low_1[low_1_mask] +  high_1[ low_1_mask ]) / 2)[0] #standard deviation\n",
    "        c = np.random.normal(0, b_1,) #delta 1\n",
    "        mu_eff[low_1_mask & mu1_mask] = mu_eff[low_1_mask & mu1_mask] + c\n",
    "        mu_eff[low_2_mask & mu2_mask] = mu_eff[low_2_mask & mu2_mask] + c\n",
    "        \n",
    "    #Remove Zeros\n",
    "    mu_id_eff[mu_id_eff == 0] = 1.\n",
    "    el1_eff[el1_eff == 0] = 1.\n",
    "    el2_eff[el2_eff == 0] = 1.\n",
    "    \n",
    "    return mu_id_eff * el1_eff * el2_eff"
   ]
  },
  {
   "cell_type": "code",
   "execution_count": 74,
   "metadata": {
    "collapsed": false
   },
   "outputs": [],
   "source": [
    "toy_set = []\n",
    "for i in xrange(100):\n",
    "    toy_set.append(toy())\n",
    "toy_set = np.array(toy_set)"
   ]
  },
  {
   "cell_type": "code",
   "execution_count": 75,
   "metadata": {
    "collapsed": false
   },
   "outputs": [
    {
     "name": "stdout",
     "output_type": "stream",
     "text": [
      "[ 0.96715891  0.96745449  0.96703565] 0.96775 0.00051796\n"
     ]
    }
   ],
   "source": [
    "print toy_set.mean(1)[:3], toy_set.mean(), toy_set.mean(1).std()"
   ]
  },
  {
   "cell_type": "code",
   "execution_count": null,
   "metadata": {
    "collapsed": true
   },
   "outputs": [],
   "source": []
  },
  {
   "cell_type": "code",
   "execution_count": null,
   "metadata": {
    "collapsed": true
   },
   "outputs": [],
   "source": []
  },
  {
   "cell_type": "code",
   "execution_count": null,
   "metadata": {
    "collapsed": true
   },
   "outputs": [],
   "source": []
  },
  {
   "cell_type": "code",
   "execution_count": null,
   "metadata": {
    "collapsed": true
   },
   "outputs": [],
   "source": []
  },
  {
   "cell_type": "code",
   "execution_count": null,
   "metadata": {
    "collapsed": true
   },
   "outputs": [],
   "source": []
  },
  {
   "cell_type": "code",
   "execution_count": null,
   "metadata": {
    "collapsed": true
   },
   "outputs": [],
   "source": []
  },
  {
   "cell_type": "code",
   "execution_count": null,
   "metadata": {
    "collapsed": true
   },
   "outputs": [],
   "source": []
  },
  {
   "cell_type": "code",
   "execution_count": null,
   "metadata": {
    "collapsed": true
   },
   "outputs": [],
   "source": []
  },
  {
   "cell_type": "code",
   "execution_count": null,
   "metadata": {
    "collapsed": true
   },
   "outputs": [],
   "source": []
  },
  {
   "cell_type": "code",
   "execution_count": null,
   "metadata": {
    "collapsed": true
   },
   "outputs": [],
   "source": []
  },
  {
   "cell_type": "code",
   "execution_count": null,
   "metadata": {
    "collapsed": true
   },
   "outputs": [],
   "source": []
  },
  {
   "cell_type": "code",
   "execution_count": null,
   "metadata": {
    "collapsed": true
   },
   "outputs": [],
   "source": []
  },
  {
   "cell_type": "code",
   "execution_count": null,
   "metadata": {
    "collapsed": true
   },
   "outputs": [],
   "source": []
  }
 ],
 "metadata": {
  "kernelspec": {
   "display_name": "Python 2",
   "language": "python",
   "name": "python2"
  },
  "language_info": {
   "codemirror_mode": {
    "name": "ipython",
    "version": 2
   },
   "file_extension": ".py",
   "mimetype": "text/x-python",
   "name": "python",
   "nbconvert_exporter": "python",
   "pygments_lexer": "ipython2",
   "version": "2.7.10"
  },
  "toc": {
   "navigate_menu": false,
   "number_sections": true,
   "sideBar": true,
   "threshold": "4",
   "toc_cell": false,
   "toc_section_display": "block",
   "toc_window_display": true
  }
 },
 "nbformat": 4,
 "nbformat_minor": 0
}
