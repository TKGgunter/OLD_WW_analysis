{
 "cells": [
  {
   "cell_type": "markdown",
   "metadata": {},
   "source": [
    "# Standard Cuts Cross-section Analysis \n",
    "\n",
    "\n"
   ]
  },
  {
   "cell_type": "code",
   "execution_count": 2,
   "metadata": {
    "collapsed": false
   },
   "outputs": [
    {
     "name": "stdout",
     "output_type": "stream",
     "text": [
      "Loading plotting specs...\n",
      "8 or 13 TeV:\n",
      "Loading 8TeV\n",
      "unc_mc_process and scales as dictionaries\n",
      "Load MC and Data?True\n",
      "Correct MET?True\n",
      "df = pd.concat([df_dy0, df_dy1, df_dy2, df_dy3, df_dy4, df_dy_m_10, df_ww, df_tt_l, df_tt_sl, df_zz_ln, df_wz_ln, df_wz_lq ])\n"
     ]
    }
   ],
   "source": [
    "run ../prep_ana.py"
   ]
  },
  {
   "cell_type": "code",
   "execution_count": 3,
   "metadata": {
    "collapsed": false
   },
   "outputs": [],
   "source": [
    "%matplotlib inline"
   ]
  },
  {
   "cell_type": "code",
   "execution_count": 4,
   "metadata": {
    "collapsed": true
   },
   "outputs": [],
   "source": [
    "df_da_a = rp.read_root(data_path+\"/muon_2012A_complete.root\", columns=columns+[\"runNum\", \"eventNumb\"])\n",
    "df_da_b = rp.read_root(data_path+\"/muon_2012B_complete.root\", columns=columns+[\"runNum\", \"eventNumb\"])\n",
    "df_da_c = rp.read_root(data_path+\"/muon_2012C_complete.root\", columns=columns+[\"runNum\", \"eventNumb\"])\n",
    "df_da_d = rp.read_root(data_path+\"/muon_2012D_complete.root\", columns=columns+[\"runNum\", \"eventNumb\"])\n",
    "\n",
    "df_da = pd.concat([df_da_a, df_da_b, df_da_c, df_da_d]).reset_index()"
   ]
  },
  {
   "cell_type": "code",
   "execution_count": 5,
   "metadata": {
    "collapsed": true
   },
   "outputs": [],
   "source": [
    "df_da_a_el = rp.read_root(data_path+\"/electron_2012A_complete.root\", columns=columns+[\"runNum\", \"eventNumb\"])\n",
    "df_da_b_el = rp.read_root(data_path+\"/electron_2012B_complete.root\", columns=columns+[\"runNum\", \"eventNumb\"])\n",
    "df_da_c_el = rp.read_root(data_path+\"/electron_2012C_complete.root\", columns=columns+[\"runNum\", \"eventNumb\"])\n",
    "df_da_d_el = rp.read_root(data_path+\"/electron_2012D_complete.root\", columns=columns+[\"runNum\", \"eventNumb\"])\n",
    "\n",
    "df_da_el = pd.concat([df_da_a_el, df_da_b_el, df_da_c_el, df_da_d_el]).reset_index()\n",
    "df_da = pd.concat( [df_da, df_da_el] ).reset_index()\n",
    "df_da = df_da.drop(np.where(df_da[[\"runNum\", \"eventNumb\"]].duplicated())[0])"
   ]
  },
  {
   "cell_type": "code",
   "execution_count": null,
   "metadata": {
    "collapsed": false
   },
   "outputs": [],
   "source": [
    "feature = \"numb_jets\"\n",
    "\n",
    "mc = bin_df(cuts_ana(df), feature)\n",
    "da = bin_df(cuts_ana(df_da), feature)\n",
    "\n",
    "full_plot(mc, da, color=\"color_1\")"
   ]
  },
  {
   "cell_type": "code",
   "execution_count": null,
   "metadata": {
    "collapsed": true
   },
   "outputs": [],
   "source": []
  },
  {
   "cell_type": "code",
   "execution_count": null,
   "metadata": {
    "collapsed": true
   },
   "outputs": [],
   "source": []
  },
  {
   "cell_type": "code",
   "execution_count": null,
   "metadata": {
    "collapsed": true
   },
   "outputs": [],
   "source": []
  },
  {
   "cell_type": "markdown",
   "metadata": {},
   "source": [
    "# Plots"
   ]
  },
  {
   "cell_type": "code",
   "execution_count": null,
   "metadata": {
    "collapsed": false
   },
   "outputs": [],
   "source": [
    "flavor = 'same'\n",
    "#flavor = 'diff'\n",
    "create_kinematic_hist(cuts_ana(df, flavor=flavor), cuts_ana(df_da, flavor=flavor), prefix=\"8TeV/cuts_based/cuts_\"+flavor)"
   ]
  },
  {
   "cell_type": "markdown",
   "metadata": {},
   "source": [
    "# Yields"
   ]
  },
  {
   "cell_type": "code",
   "execution_count": 7,
   "metadata": {
    "collapsed": false
   },
   "outputs": [
    {
     "name": "stdout",
     "output_type": "stream",
     "text": [
      "WW 1703.82176858 2339.64692465\n",
      "DY 657.898419637 246.662307144\n",
      "Top 1145.97243271 1511.74436154\n",
      "WZ 85.4148814871 72.1567360398\n",
      "ZZ 85.3103208289 3.4173310091\n",
      "WG 224.258837126 63.0712423336\n",
      "Higgs 42.9656817612 48.6474689591\n",
      "{'Diff Flavor': [2217, 123, 2340, 247, 1512, 72, 3, 63, 49, 284, 4569, 5268], 'Same Flavor': [1602, 102, 1704, 658, 1146, 85, 85, 224, 43, 163, 4109, 4506], 'Process': ['WW', 'GluGluToWWTo4L', 'WW', 'DY', 'Top', 'WZ', 'ZZ', 'WG(*)', 'Higgs', 'WJ', 'Total', 'DATA']}\n"
     ]
    }
   ],
   "source": [
    "df_yields = process_yields(cuts_ana(df, ), cuts_ana(df_da) )\n",
    "save_df_to_html( df_yields, \"yields_may.html\")"
   ]
  },
  {
   "cell_type": "markdown",
   "metadata": {},
   "source": [
    "# Cross-sections"
   ]
  },
  {
   "cell_type": "code",
   "execution_count": null,
   "metadata": {
    "collapsed": true
   },
   "outputs": [],
   "source": [
    "def calc_cross_stuff(df_mc, df_data, flavor=\"both\"):\n",
    "    lumi = 19.7e3\n",
    "    eff  = .1247 #this had to be changed previously\n",
    "    Br   = (3*.108)**2. \n",
    "    \n",
    "    df_mc_c = df_mc[df_mc.lep1_Charge != df_mc.lep2_Charge]\n",
    "    df_data_c = df_data[df_data.lep1_Charge != df_data.lep2_Charge]\n",
    "    \n",
    "    df_mc_c_s = df_mc[df_mc.lep1_Charge == df_mc.lep2_Charge]\n",
    "    df_data_c_s = df_data[df_data.lep1_Charge == df_data.lep2_Charge]\n",
    "    \n",
    "    N_mc = sum([ cuts_ana(df_mc_c[df_mc_c.process_decay == process], flavor=flavor).weight.values.sum()*scales[process] for process in scales.keys() if process not in ['WW', 'W1JetsToLNu','W2JetsToLNu','W3JetsToLNu','W3JetsToLNu'] ])\n",
    "    N_Wjets = cuts_ana(df_data_c_s, flavor=flavor).shape[0] -  np.array([ cuts_ana(df_mc_c_s[(df_mc_c_s.process_decay == process) ], flavor=flavor).weight.values.sum()*scales[process] for process in scales.keys() if process not in [ 'W1JetsToLNu','W2JetsToLNu','W3JetsToLNu','W3JetsToLNu'] ]).sum()\n",
    "    N_mc += N_Wjets\n",
    "    \n",
    "    N_data = cuts_ana(df_data_c, flavor=flavor).shape[0]\n",
    "    \n",
    "    N_ww_select = cuts_ana(df_mc_c[df_mc_c.process_decay == \"WW\"], flavor=flavor).weight.values.sum()*scales[\"WW\"]\n",
    "    N_ww_tot = df_mc[df_mc.process_decay == \"WW\"].weight.values.sum()*scales[\"WW\"]\n",
    "\n",
    "    ratio_s_t = N_ww_select / N_ww_tot\n",
    "    #print \"MC\", N_mc\n",
    "    #print \"DATA\", N_data\n",
    "    #print N_ww_select / N_ww_tot\n",
    "    #print \"WJ\", N_Wjets\n",
    "    return {\"lumi\": lumi, \"eff\": eff, \"Br\": Br, \"N_mc\": N_mc, \"N_data\": N_data, \"ratio_s_t\": ratio_s_t, \"N_ww_select\":N_ww_select, \"N_Wjets\": N_Wjets}"
   ]
  },
  {
   "cell_type": "code",
   "execution_count": null,
   "metadata": {
    "collapsed": false
   },
   "outputs": [],
   "source": [
    "def stat_unc_calc(df_mc, df_data, flavor=\"both\", fiducial=False, **kwargs):\n",
    "    if kwargs:\n",
    "        var = kwargs\n",
    "    else:\n",
    "        var = calc_cross_stuff(df_mc, df_data, flavor)\n",
    "    lumi = var[\"lumi\"]\n",
    "    eff = var[\"eff\"]\n",
    "    Br = var[\"Br\"]\n",
    "    N_mc = var[\"N_mc\"]\n",
    "    N_data = var[\"N_data\"]\n",
    "    ratio_s_t = var[\"ratio_s_t\"]\n",
    "    N_ww_select = var[\"N_ww_select\"]\n",
    "    N_Wjets = var[\"N_Wjets\"]\n",
    "    \n",
    "    cuts_mc = {process: cuts_ana(df_mc[(df_mc.process_decay == process) & (df_mc.lep1_Charge == df_mc.lep2_Charge)], flavor) for process in scales.keys()} \n",
    "    process_stat_unc = [ (cuts_mc[process].weight.values * cuts_mc[process].weight.values).sum()  * scales[process]**2 for process in cuts_mc.keys() if process not in ['WW', 'W1JetsToLNu','W2JetsToLNu','W3JetsToLNu','W3JetsToLNu']] \n",
    "    \n",
    "    WW_stat_unc = (cuts_mc[\"WW\"].weight.values * cuts_mc[\"WW\"].weight.values).sum() * scales[\"WW\"]**2. * ratio_s_t**2. / N_ww_select**2.\n",
    "    \n",
    "    #print \"Process stat\", process_stat_unc\n",
    "    #print \"WW stat\",WW_stat_unc\n",
    "    if fiducial == False:\n",
    "        return 1. / (lumi * eff * Br * ratio_s_t) * ( N_data + sum(process_stat_unc) + WW_stat_unc + N_Wjets)**.5\n",
    "    else:\n",
    "        return 1. / (lumi * eff ) * ( N_data + sum(process_stat_unc) + N_Wjets)**.5"
   ]
  },
  {
   "cell_type": "code",
   "execution_count": null,
   "metadata": {
    "collapsed": false
   },
   "outputs": [],
   "source": [
    "def sys_unc_calc(df_mc, df_data, flavor=\"both\", fiducial=False, **kwargs):\n",
    "    if kwargs:\n",
    "        var = kwargs\n",
    "    else:\n",
    "        var = calc_cross_stuff(df_mc, df_data, flavor)\n",
    "    lumi = var[\"lumi\"]\n",
    "    eff = var[\"eff\"]\n",
    "    Br = var[\"Br\"]\n",
    "    N_mc = var[\"N_mc\"]\n",
    "    N_data = var[\"N_data\"]\n",
    "    ratio_s_t = var[\"ratio_s_t\"]\n",
    "    N_ww_select = var[\"N_ww_select\"]\n",
    "    N_Wjets = var[\"N_Wjets\"]\n",
    "    \n",
    "    cuts_mc = {process: cuts_ana(df_mc[(df_mc.process_decay == process) & (df_mc.lep1_Charge == df_mc.lep2_Charge)], flavor) for process in scales.keys()} \n",
    "    process_sys_unc = [ scales[process]**2. * unc_mc_process[process]**2 * cuts_mc[process].weight.sum()**2. for process in cuts_mc.keys() if process not in ['WW', 'W1JetsToLNu','W2JetsToLNu','W3JetsToLNu','W3JetsToLNu']] \n",
    "\n",
    "    WW_sys_unc = unc_mc_process[\"WW\"]**2 * ratio_s_t**2. / N_ww_select**2.\n",
    "    Wjets_sys_unc = N_Wjets**2. \n",
    "    \n",
    "    if fiducial == False:\n",
    "        return 1. / (lumi * eff * Br * ratio_s_t)  * ( sum(process_sys_unc) +  WW_sys_unc + Wjets_sys_unc)**.5\n",
    "    else:\n",
    "        return 1. / (lumi * eff )  * ( sum(process_sys_unc) + Wjets_sys_unc)**.5"
   ]
  },
  {
   "cell_type": "code",
   "execution_count": null,
   "metadata": {
    "collapsed": false
   },
   "outputs": [],
   "source": [
    "def cross_calc(df_mc, df_data, flavor=\"both\", fiducial=False, **kwargs):\n",
    "    if kwargs:\n",
    "        var = kwargs\n",
    "        print \"Got them words\"\n",
    "    else:\n",
    "        var = calc_cross_stuff(df_mc, df_data, flavor)\n",
    "    lumi = var[\"lumi\"]\n",
    "    eff = var[\"eff\"]\n",
    "    Br = var[\"Br\"]\n",
    "    N_mc = var[\"N_mc\"]\n",
    "    N_data = var[\"N_data\"]\n",
    "    ratio_s_t = var[\"ratio_s_t\"]\n",
    "    N_ww_select = var[\"N_ww_select\"]\n",
    "    N_Wjets = var[\"N_Wjets\"]\n",
    "    \n",
    "    if fiducial == False:\n",
    "        return (N_data - N_mc) / (lumi * eff * Br *ratio_s_t)\n",
    "    else:\n",
    "        return (N_data - N_mc) / (lumi * eff )\n",
    "    #return N_ww_select / (lumi * eff * Br *ratio_s_t)"
   ]
  },
  {
   "cell_type": "code",
   "execution_count": null,
   "metadata": {
    "collapsed": false
   },
   "outputs": [],
   "source": [
    "full = {}\n",
    "\n",
    "flavor = 'both'\n",
    "kwds = calc_cross_stuff(df, df_da, flavor)\n",
    "full['both'] = [ cross_calc(df, df_da, flavor=flavor, **kwds), stat_unc_calc(df, df_da, flavor, **kwds), sys_unc_calc(df, df_da, flavor, **kwds)]\n",
    "print full['both']\n",
    "\n",
    "flavor = 'same'\n",
    "kwds = calc_cross_stuff(df, df_da, flavor)\n",
    "full['same'] = [cross_calc(df, df_da, flavor=flavor, **kwds), stat_unc_calc(df, df_da, flavor, **kwds), sys_unc_calc(df, df_da, flavor, **kwds)]\n",
    "print full['same']\n",
    "\n",
    "flavor = 'diff'\n",
    "kwds = calc_cross_stuff(df, df_da, flavor)\n",
    "full['diff'] = [ cross_calc(df, df_da, flavor=flavor, **kwds), stat_unc_calc(df, df_da, flavor, **kwds), sys_unc_calc(df, df_da, flavor, **kwds)]\n",
    "print full['diff']"
   ]
  },
  {
   "cell_type": "code",
   "execution_count": null,
   "metadata": {
    "collapsed": false
   },
   "outputs": [],
   "source": [
    "fiducial = {}\n",
    "\n",
    "flavor = 'both'\n",
    "kwds = calc_cross_stuff(df, df_da, flavor)\n",
    "fiducial['both'] = [ cross_calc(df, df_da, flavor=flavor, fiducial=True, **kwds), stat_unc_calc(df, df_da, flavor, fiducial=True, **kwds), sys_unc_calc(df, df_da, flavor, fiducial=True, **kwds)]\n",
    "print flavor, fiducial['both']\n",
    "\n",
    "flavor = 'same'\n",
    "kwds = calc_cross_stuff(df, df_da, flavor)\n",
    "fiducial['same'] = [cross_calc(df, df_da, flavor=flavor, fiducial=True, **kwds), stat_unc_calc(df, df_da, flavor, fiducial=True, **kwds), sys_unc_calc(df, df_da, flavor, fiducial=True, **kwds)]\n",
    "print flavor, fiducial['same']\n",
    "\n",
    "flavor = 'diff'\n",
    "kwds = calc_cross_stuff(df, df_da, flavor)\n",
    "fiducial['diff'] = [ cross_calc(df, df_da, flavor=flavor, fiducial=True, **kwds), stat_unc_calc(df, df_da, flavor, fiducial=True, **kwds), sys_unc_calc(df, df_da, flavor, fiducial=True, **kwds)]\n",
    "print flavor, fiducial['diff']\n"
   ]
  },
  {
   "cell_type": "code",
   "execution_count": null,
   "metadata": {
    "collapsed": false
   },
   "outputs": [],
   "source": [
    "pd.DataFrame(fiducial)"
   ]
  },
  {
   "cell_type": "markdown",
   "metadata": {},
   "source": [
    "# Make cross-section table"
   ]
  },
  {
   "cell_type": "code",
   "execution_count": null,
   "metadata": {
    "collapsed": false
   },
   "outputs": [],
   "source": [
    "from html import HTML"
   ]
  },
  {
   "cell_type": "code",
   "execution_count": null,
   "metadata": {
    "collapsed": true
   },
   "outputs": [],
   "source": [
    "html_bot = HTML('html', 'text')"
   ]
  },
  {
   "cell_type": "code",
   "execution_count": null,
   "metadata": {
    "collapsed": false
   },
   "outputs": [],
   "source": [
    "def make_cross_table(cross_dic):\n",
    "    html_bot = HTML('html', 'text')\n",
    "    t = html_bot.table( border=\"0\", border_=\"collapse\")\n",
    "    key_syn = {\"both\": \"Together\", \"same\": \"Same\", \"diff\": \"Different\"}\n",
    "    for key in cross_dic:\n",
    "        r = t.tr\n",
    "        for i, ele in enumerate(cross_dic[key]):\n",
    "            prefix = \"\"\n",
    "            postfix = \"\"\n",
    "            if i == 0: r.td.b(key_syn[key]+\":\" , border=\"none\")\n",
    "            else: \n",
    "                prefix = \"&plusmn;\"\n",
    "                if i == 1: postfix = \"(stat)\"\n",
    "                if i == 2: postfix = \"(sys)\"\n",
    "            r.td(prefix + str(round(ele, 2)) + postfix, border=\"none\", escape=False)\n",
    "    print t\n"
   ]
  },
  {
   "cell_type": "code",
   "execution_count": null,
   "metadata": {
    "collapsed": false
   },
   "outputs": [],
   "source": [
    "make_cross_table(fiducial)"
   ]
  },
  {
   "cell_type": "code",
   "execution_count": null,
   "metadata": {
    "collapsed": false,
    "scrolled": true
   },
   "outputs": [],
   "source": [
    "print t"
   ]
  },
  {
   "cell_type": "markdown",
   "metadata": {
    "collapsed": true
   },
   "source": [
    "<table border=\"0\" border_=\"collapse\">\n",
    "<tr><td><b border=\"none\">both:</b></td><td border=\"none\">1.36</td><td border=\"none\">&plusmn;0.03</td><td border=\"none\">&plusmn;0.05</td></tr>\n",
    "<tr><td><b border=\"none\">same:</b></td><td border=\"none\">0.54</td><td border=\"none\">&plusmn;0.02</td><td border=\"none\">&plusmn;0.01</td></tr>\n",
    "<tr><td><b border=\"none\">diff:</b></td><td border=\"none\">0.82</td><td border=\"none\">&plusmn;0.03</td><td border=\"none\">&plusmn;0.04</td></tr>\n",
    "</table>\n",
    "\n",
    "\n"
   ]
  },
  {
   "cell_type": "code",
   "execution_count": null,
   "metadata": {
    "collapsed": false
   },
   "outputs": [],
   "source": [
    "html_bot.table()"
   ]
  },
  {
   "cell_type": "code",
   "execution_count": null,
   "metadata": {
    "collapsed": false
   },
   "outputs": [],
   "source": [
    "round( ele, 2)"
   ]
  },
  {
   "cell_type": "markdown",
   "metadata": {},
   "source": [
    "# lep, met, jet shifts"
   ]
  },
  {
   "cell_type": "code",
   "execution_count": null,
   "metadata": {
    "collapsed": true
   },
   "outputs": [],
   "source": [
    "def scale_shift(data, lep_pt=1.01, met=1.02, jet=1.02 ):\n",
    "    data.lep1_pt = data.lep1_pt * lep_pt\n",
    "    data.lep2_pt = data.lep2_pt * lep_pt\n",
    "    data.mll = data.mll * lep_pt**.5\n",
    "    \n",
    "    \n",
    "    data.metMod = data.metMod * met\n",
    "    data.metProj = data.METProj * met\n",
    "    \n",
    "    data.mllMET = data.mllMET * met * lep_pt**.5\n",
    "    \n",
    "    \n",
    "    data.HT = data.HT * jet"
   ]
  },
  {
   "cell_type": "code",
   "execution_count": null,
   "metadata": {
    "collapsed": true
   },
   "outputs": [],
   "source": [
    "scale_shift(df_da)"
   ]
  },
  {
   "cell_type": "code",
   "execution_count": null,
   "metadata": {
    "collapsed": true
   },
   "outputs": [],
   "source": [
    "bin_df?"
   ]
  },
  {
   "cell_type": "code",
   "execution_count": null,
   "metadata": {
    "collapsed": false
   },
   "outputs": [],
   "source": [
    "df[df.lep1_pt > 200].lep_Type.unique()"
   ]
  },
  {
   "cell_type": "code",
   "execution_count": null,
   "metadata": {
    "collapsed": false
   },
   "outputs": [],
   "source": [
    "mc = bin_df(df[(df.lep1_pt > 200)], \"weight\", range=(-.25,2), bins=100)\n",
    "data = bin_df(df_da[(df_da.lep1_pt > 200) ], \"weight\", range=(-.25,2), bins=100)\n",
    "\n",
    "full_plot(mc, data, )"
   ]
  },
  {
   "cell_type": "code",
   "execution_count": null,
   "metadata": {
    "collapsed": false
   },
   "outputs": [],
   "source": [
    "feature = \"numb_jets\"\n",
    "\n",
    "bins_mc = bin_df( cuts_ana(df[(df.lep1_Charge != df.lep2_Charge) ]), feature)\n",
    "bins_data = bin_df( cuts_ana(df_da[(df_da.lep1_Charge != df_da.lep2_Charge) ]), feature)\n",
    "\n",
    "fig, ax = full_plot(bins_mc, bins_data, color=\"color_1\", )#logy=False, y_range=(0,12500) )\n",
    "pre_df = pre_df = pre_cuts(df, diff_charge=False)\n",
    "ax[0].hist(pre_df[df.process == \"WW\"].numb_jets.values, weights=pre_df[pre_df.process == \"WW\"].weight.values * scales[\"WW\"], range=(-.5, 9.5), histtype=u'step', color=\"black\", label=\"MC WW\")\n"
   ]
  },
  {
   "cell_type": "code",
   "execution_count": null,
   "metadata": {
    "collapsed": true
   },
   "outputs": [],
   "source": []
  }
 ],
 "metadata": {
  "kernelspec": {
   "display_name": "Python 2",
   "language": "python",
   "name": "python2"
  },
  "language_info": {
   "codemirror_mode": {
    "name": "ipython",
    "version": 2
   },
   "file_extension": ".py",
   "mimetype": "text/x-python",
   "name": "python",
   "nbconvert_exporter": "python",
   "pygments_lexer": "ipython2",
   "version": "2.7.10"
  },
  "toc": {
   "navigate_menu": false,
   "number_sections": true,
   "sideBar": true,
   "threshold": "4",
   "toc_cell": false,
   "toc_section_display": "block",
   "toc_window_display": true
  }
 },
 "nbformat": 4,
 "nbformat_minor": 0
}
