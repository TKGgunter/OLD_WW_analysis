{
 "cells": [
  {
   "cell_type": "markdown",
   "metadata": {},
   "source": [
    "# WW resummation"
   ]
  },
  {
   "cell_type": "code",
   "execution_count": 13,
   "metadata": {},
   "outputs": [
    {
     "name": "stdout",
     "output_type": "stream",
     "text": [
      "home /home/gunter/WW_analysis/production/Analysis_13TeV\n",
      "Loading binning options...\n",
      "Loading plotting options\n",
      "unc_mc_process and scales are parameter dictionaries\n"
     ]
    }
   ],
   "source": [
    "import os, sys, pickle, copy\n",
    "import datetime\n",
    "sys.path.append(os.getcwd() + \"/../\")\n",
    "from prep_ana_II import *\n",
    "from cross_section_calc import calc_cross_stuff, cross_calc, stat_unc_calc, normalization_unc_calc\n",
    "import warnings\n",
    "warnings.filterwarnings(\"ignore\")"
   ]
  },
  {
   "cell_type": "code",
   "execution_count": 1,
   "metadata": {},
   "outputs": [
    {
     "name": "stdout",
     "output_type": "stream",
     "text": [
      "Welcome to JupyROOT 6.10/00\n"
     ]
    }
   ],
   "source": [
    "%matplotlib inline\n",
    "%load_ext autoreload\n",
    "%autoreload\n",
    "\n",
    "from ROOT import TFile"
   ]
  },
  {
   "cell_type": "code",
   "execution_count": 2,
   "metadata": {
    "collapsed": true
   },
   "outputs": [],
   "source": [
    "f = TFile.Open(\"../tools/WW_pTresummation_13-master/MyRatioWWpTHistogramAll.root\", \"r\")"
   ]
  },
  {
   "cell_type": "code",
   "execution_count": 15,
   "metadata": {},
   "outputs": [],
   "source": [
    "wwpt = f.Get(\"wwpt\")\n",
    "wwpt_scaleup = f.Get(\"wwpt_scaleup\")\n",
    "wwpt_scaledown = f.Get(\"wwpt_scaledown\")\n",
    "wwpt_reup = f.Get(\"wwpt_resumup\")\n",
    "wwpt_redown = f.Get(\"wwpt_resumdown\")\n"
   ]
  },
  {
   "cell_type": "code",
   "execution_count": 23,
   "metadata": {},
   "outputs": [],
   "source": [
    "arr_wwpt = []\n",
    "arr_scaleup = []\n",
    "arr_scaledown = []\n",
    "arr_reup = []\n",
    "arr_redown = []\n",
    "x = []\n",
    "\n",
    "for i in range(1, 1001):\n",
    "    arr_wwpt.append(wwpt.GetBinContent(i))\n",
    "    arr_scaleup.append(wwpt_scaleup.GetBinContent(i))\n",
    "    arr_scaledown.append(wwpt_scaledown.GetBinContent(i))\n",
    "    arr_reup.append(wwpt_reup.GetBinContent(i))\n",
    "    arr_redown.append(wwpt_redown.GetBinContent(i))\n",
    "    x.append( 500 * i / 1000.0)\n",
    "    \n",
    "        \n",
    "arr_wwpt = np.array(arr_wwpt)\n",
    "arr_scaleup = np.array(arr_scaleup)\n",
    "arr_scaledown = np.array(arr_scaledown)\n",
    "arr_reup = np.array(arr_reup)\n",
    "arr_redown = np.array(arr_redown)\n",
    "x_ = np.array(x) - 500.0/(2*1000.0)"
   ]
  },
  {
   "cell_type": "code",
   "execution_count": 36,
   "metadata": {},
   "outputs": [
    {
     "data": {
      "image/png": "[encoded data removed]",
      "text/plain": [
       "<matplotlib.figure.Figure at 0x7f8d565f4390>"
      ]
     },
     "metadata": {},
     "output_type": "display_data"
    }
   ],
   "source": [
    "matplotlib.rcParams.update({'font.size': 26})\n",
    "\n",
    "plt.figure(figsize=(10,6))\n",
    "plt.title('WWpt Scalefactor')\n",
    "\n",
    "top = np.max(np.array([arr_scaledown, arr_scaleup, arr_reup, arr_redown]), axis=0)\n",
    "bottom = np.min(np.array([arr_scaledown, arr_scaleup, arr_reup, arr_redown]), axis=0)\n",
    "        \n",
    "p1 = plt.bar(x_, arr_wwpt * (top-bottom), color=[.50,.50,.50, 1], width=1000.0/1000.0 ,edgecolor=[0,0,0,0], zorder=2,\n",
    "             bottom=arr_wwpt * bottom)\n",
    "p3 = plt.scatter(x, arr_wwpt, zorder=3, edgecolors=[0,0,0,0], )#marker=\"_\")\n",
    "\n",
    "plt.grid()\n",
    "plt.xlabel(\"WWpt\")\n",
    "#plt.ylim(0,1.6)\n",
    "plt.xlim(0,50)\n",
    "plt.savefig(\"wwpt_scalefactor.pdf\")\n",
    "plt.show()"
   ]
  },
  {
   "cell_type": "code",
   "execution_count": null,
   "metadata": {},
   "outputs": [],
   "source": []
  },
  {
   "cell_type": "code",
   "execution_count": null,
   "metadata": {
    "collapsed": true
   },
   "outputs": [],
   "source": []
  },
  {
   "cell_type": "code",
   "execution_count": null,
   "metadata": {
    "collapsed": true
   },
   "outputs": [],
   "source": []
  },
  {
   "cell_type": "code",
   "execution_count": null,
   "metadata": {
    "collapsed": true
   },
   "outputs": [],
   "source": []
  },
  {
   "cell_type": "code",
   "execution_count": null,
   "metadata": {
    "collapsed": true
   },
   "outputs": [],
   "source": []
  }
 ],
 "metadata": {
  "kernelspec": {
   "display_name": "Python 2",
   "language": "python",
   "name": "python2"
  },
  "language_info": {
   "codemirror_mode": {
    "name": "ipython",
    "version": 2
   },
   "file_extension": ".py",
   "mimetype": "text/x-python",
   "name": "python",
   "nbconvert_exporter": "python",
   "pygments_lexer": "ipython2",
   "version": "2.7.13"
  },
  "toc": {
   "colors": {
    "hover_highlight": "#7c7e8b",
    "navigate_num": "#d3d3d3",
    "navigate_text": "#e4e4e4",
    "running_highlight": "#FF0000",
    "selected_highlight": "#7d878b",
    "sidebar_border": "#282121",
    "wrapper_background": "#1a2028"
   },
   "moveMenuLeft": true,
   "nav_menu": {
    "height": "21px",
    "width": "254px"
   },
   "navigate_menu": true,
   "number_sections": true,
   "sideBar": true,
   "threshold": 4,
   "toc_cell": false,
   "toc_position": {
    "height": "860px",
    "left": "0px",
    "right": "1403px",
    "top": "91px",
    "width": "212px"
   },
   "toc_section_display": "block",
   "toc_window_display": true,
   "widenNotebook": false
  }
 },
 "nbformat": 4,
 "nbformat_minor": 2
}
