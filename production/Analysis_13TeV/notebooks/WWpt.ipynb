{
 "cells": [
  {
   "cell_type": "markdown",
   "metadata": {},
   "source": [
    "# WW resummation"
   ]
  },
  {
   "cell_type": "code",
   "execution_count": 1,
   "metadata": {},
   "outputs": [
    {
     "name": "stdout",
     "output_type": "stream",
     "text": [
      "Welcome to JupyROOT 6.10/00\n",
      "Loading binning options...\n",
      "Loading plotting options\n",
      "unc_mc_process and scales are parameter dictionaries\n"
     ]
    }
   ],
   "source": [
    "import os, sys, pickle, copy\n",
    "import datetime\n",
    "sys.path.append(os.getcwd() + \"/../\")\n",
    "from prep_ana_II import *\n",
    "from cross_section_calc import calc_cross_stuff, cross_calc, stat_unc_calc, normalization_unc_calc\n",
    "import warnings\n",
    "warnings.filterwarnings(\"ignore\")"
   ]
  },
  {
   "cell_type": "code",
   "execution_count": 2,
   "metadata": {
    "collapsed": true
   },
   "outputs": [],
   "source": [
    "%matplotlib inline\n",
    "%load_ext autoreload\n",
    "%autoreload\n",
    "\n",
    "#ToDo:\n",
    "#+?make those WW resummation plots like I made last year\n",
    "#+?Remove the shit that makes no sense....because this comment is sooo helpful\n",
    "#+?the current estimate is resummation: 0.021599299139\n",
    "                           #scaled:     0.0131627437121\n",
    "                           #total:      0.0252940219286"
   ]
  },
  {
   "cell_type": "code",
   "execution_count": 4,
   "metadata": {},
   "outputs": [
    {
     "name": "stderr",
     "output_type": "stream",
     "text": [
      "Warning in <TStreamerInfo::BuildCheck>: \n",
      "   The StreamerInfo of class string read from file /home/gunter/WW_analysis/data_alpha/ww_complete.root\n",
      "   has the same version (=2) as the active class but a different checksum.\n",
      "   You should update the version to ClassDef(string,3).\n",
      "   Do not try to write objects with the current class definition,\n",
      "   the files will not be readable.\n",
      "\n",
      "Warning in <TStreamerInfo::CompareContent>: The following data member of\n",
      "the in-memory layout version 2 of class 'string' is missing from \n",
      "the on-file layout version 2:\n",
      "   string::_Alloc_hider _M_dataplus; //\n",
      "Warning in <TStreamerInfo::CompareContent>: The following data member of\n",
      "the in-memory layout version 2 of class 'string' is missing from \n",
      "the on-file layout version 2:\n",
      "   unsigned long _M_string_length; //\n",
      "Warning in <TStreamerInfo::CompareContent>: The following data member of\n",
      "the in-memory layout version 2 of class 'string' is missing from \n",
      "the on-file layout version 2:\n",
      "   string::(anonymous) ; //\n"
     ]
    }
   ],
   "source": [
    "flavor = \"both\"\n",
    "from sklearn.externals import joblib\n",
    "df    = load_presel_w_fDY_fTT_MC()\n",
    "df_da = load_presel_w_fDY_fTT_DATA()\n",
    "\n",
    "random_forests = joblib.load(\"../data/RF/sep_05_fDY_fTT.jbl\")\n",
    "features_fDY = random_forests[\"features_fDY\"]\n",
    "clf_fDY = random_forests[\"clf_fDY\"]\n",
    "features_fTT = random_forests[\"features_fTT\"]\n",
    "clf_fTT = random_forests[\"clf_fTT\"]\n",
    "\n",
    "df_ww = rp.read_root(data_path+\"/ww_complete.root\", columns=columns)\n",
    "\n",
    "pred_fTT = clf_fTT.predict_proba(np.float32(df_ww[features_fTT].values))\n",
    "df_ww[\"pred_fTT_WW\"] = pred_fTT[:,0]\n",
    "\n",
    "pred_fDY = clf_fDY.predict_proba(np.float32(df_ww[features_fDY].values))\n",
    "df_ww[\"pred_fDY_WW\"] = pred_fDY[:,0]\n",
    "\n",
    "#that_dic = pkl.load(open(\"../data/WWpt/8TeV_nnnlo.pkl\", \"r\"))\n",
    "resumm_weights = {}\n",
    "for ft in [\"normal\", \"np\", \"powheg\"]:\n",
    "    resumm_weights[ft + \"_central\"] = pd.read_csv(\"../data/WWpt/resummation_central_\"+ft+\"_weights.csv\", index_col=False)\n",
    "    resumm_weights[ft + \"_resum_up\"] = pd.read_csv(\"../data/WWpt/resummation_resum_up_\"+ft+\"_weights.csv\", index_col=False )\n",
    "    resumm_weights[ft + \"_resum_down\"] = pd.read_csv(\"../data/WWpt/resummation_resum_down_\"+ft+\"_weights.csv\", index_col=False)\n",
    "    resumm_weights[ft + \"_scale_up\"] = pd.read_csv(\"../data/WWpt/resummation_scale_up_\"+ft+\"_weights.csv\", index_col=False )\n",
    "    resumm_weights[ft + \"_scale_down\"] = pd.read_csv(\"../data/WWpt/resummation_scale_down_\"+ft+\"_weights.csv\", index_col=False)\n",
    "temp_df = df_ww[df_ww.ww_pt > -1]\n",
    "\n",
    "#print \"tot shape\", temp_df.shape\n",
    "temp_df[\"ww_weights\"] = [1.] * temp_df.shape[0]\n",
    "\n",
    "\n"
   ]
  },
  {
   "cell_type": "code",
   "execution_count": 7,
   "metadata": {
    "collapsed": true
   },
   "outputs": [],
   "source": [
    "orig = 0\n",
    "q_ = []\n",
    "r_ = []\n",
    "for k in resumm_weights:\n",
    "    for it, row in resumm_weights[k].iterrows():\n",
    "        temp_df.ww_weights.values[ (temp_df.ww_pt >= row[\"low\"]).values & (temp_df.ww_pt < row[\"high\"]).values]  = row[\"weight\"]\n",
    "\n",
    "    rf_df = rf_ana(temp_df)\n",
    "    if flavor == \"diff\":\n",
    "        flavor_cut = rf_df.lep_Type > 0\n",
    "    elif flavor == \"same\":\n",
    "        flavor_cut = rf_df.lep_Type < 0\n",
    "    else:\n",
    "        flavor_cut = rf_df.lep_Type > -99\n",
    "\n",
    "    if \"central\" in k:\n",
    "        orig = rf_df[flavor_cut].ww_weights.sum()/temp_df.ww_weights.sum()\n",
    "    #print \"Weights diff correction\", rf_ana(temp_df).weight.sum(), (rf_ana(temp_df).weight.values * rf_ana(temp_df).ww_weights.values).sum()\n",
    "    if \"resum\" in k:\n",
    "        r_.append(rf_df[flavor_cut].ww_weights.sum()/temp_df.ww_weights.sum())\n",
    "    if \"scale\" in k :\n",
    "        q_.append(rf_df[flavor_cut].ww_weights.sum()/temp_df.ww_weights.sum())\n",
    "\n",
    "\n"
   ]
  },
  {
   "cell_type": "code",
   "execution_count": 14,
   "metadata": {},
   "outputs": [
    {
     "name": "stdout",
     "output_type": "stream",
     "text": [
      "0.021599299139 0.0131627437121 0.0252940219286\n",
      "0.0540619605026\n"
     ]
    }
   ],
   "source": [
    "#print \"orig\", orig\n",
    "#print \"r_\", r_\n",
    "#print \"q_\", q_\n",
    "r__ = np.array([abs(orig-i) for i in r_]).mean()\n",
    "q__ = np.array([abs(orig-i) for i in q_]).mean()\n",
    "ww_pt_unc = (q__**2 + r__**2)**.5\n",
    "print r__, q__, ww_pt_unc\n",
    "\n",
    "print cross_calc(df, df_da, df_ww, scales, fiducial=True) * ww_pt_unc\n",
    "\n",
    "\n",
    "\n"
   ]
  },
  {
   "cell_type": "code",
   "execution_count": null,
   "metadata": {
    "collapsed": true
   },
   "outputs": [],
   "source": []
  },
  {
   "cell_type": "code",
   "execution_count": null,
   "metadata": {
    "collapsed": true
   },
   "outputs": [],
   "source": []
  },
  {
   "cell_type": "code",
   "execution_count": null,
   "metadata": {
    "collapsed": true
   },
   "outputs": [],
   "source": []
  },
  {
   "cell_type": "code",
   "execution_count": null,
   "metadata": {
    "collapsed": true
   },
   "outputs": [],
   "source": []
  },
  {
   "cell_type": "code",
   "execution_count": null,
   "metadata": {
    "collapsed": true
   },
   "outputs": [],
   "source": []
  }
 ],
 "metadata": {
  "kernelspec": {
   "display_name": "Python 2",
   "language": "python",
   "name": "python2"
  },
  "language_info": {
   "codemirror_mode": {
    "name": "ipython",
    "version": 2
   },
   "file_extension": ".py",
   "mimetype": "text/x-python",
   "name": "python",
   "nbconvert_exporter": "python",
   "pygments_lexer": "ipython2",
   "version": "2.7.13"
  },
  "toc": {
   "colors": {
    "hover_highlight": "#7c7e8b",
    "navigate_num": "#d3d3d3",
    "navigate_text": "#e4e4e4",
    "running_highlight": "#FF0000",
    "selected_highlight": "#7d878b",
    "sidebar_border": "#282121",
    "wrapper_background": "#1a2028"
   },
   "moveMenuLeft": true,
   "nav_menu": {
    "height": "21px",
    "width": "254px"
   },
   "navigate_menu": true,
   "number_sections": true,
   "sideBar": true,
   "threshold": 4,
   "toc_cell": false,
   "toc_position": {
    "height": "860px",
    "left": "0px",
    "right": "1403px",
    "top": "91px",
    "width": "212px"
   },
   "toc_section_display": "block",
   "toc_window_display": true,
   "widenNotebook": false
  }
 },
 "nbformat": 4,
 "nbformat_minor": 2
}
