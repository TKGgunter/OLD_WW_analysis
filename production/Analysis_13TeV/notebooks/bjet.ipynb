{
 "cells": [
  {
   "cell_type": "markdown",
   "metadata": {},
   "source": [
    "# Estimating BJet uncertainty\n",
    "\n",
    "The goal of this notebook is to estimate the bjet uncertainty.\n"
   ]
  },
  {
   "cell_type": "code",
   "execution_count": 1,
   "metadata": {},
   "outputs": [
    {
     "name": "stdout",
     "output_type": "stream",
     "text": [
      "Welcome to JupyROOT 6.10/00\n",
      "Loading binning options...\n",
      "Loading plotting options\n",
      "unc_mc_process and scales are parameter dictionaries\n"
     ]
    }
   ],
   "source": [
    "#Set up\n",
    "import os, sys\n",
    "sys.path.append(os.getcwd() + \"/../\")\n",
    "from prep_ana_II import *\n",
    "sys.path.append(os.getcwd() + \"/../tools/\")\n",
    "from lepton_eff import muonEff, electronEff\n",
    "sys.path.append(os.getcwd() + \"/../tools/bjetsys/\")\n",
    "import BTagCalibrationStandalone as BT\n",
    "\n",
    "\n",
    "import matplotlib\n",
    "matplotlib.rcParams.update({'font.size': 22})\n",
    "import warnings\n",
    "warnings.filterwarnings('ignore')"
   ]
  },
  {
   "cell_type": "code",
   "execution_count": 2,
   "metadata": {
    "collapsed": true
   },
   "outputs": [],
   "source": [
    "%matplotlib inline"
   ]
  },
  {
   "cell_type": "code",
   "execution_count": 3,
   "metadata": {},
   "outputs": [
    {
     "name": "stderr",
     "output_type": "stream",
     "text": [
      "Warning in <TStreamerInfo::BuildCheck>: \n",
      "   The StreamerInfo of class string read from file /home/gunter/WW_analysis/data_alpha/dyjetstoll_m-50_complete.root\n",
      "   has the same version (=2) as the active class but a different checksum.\n",
      "   You should update the version to ClassDef(string,3).\n",
      "   Do not try to write objects with the current class definition,\n",
      "   the files will not be readable.\n",
      "\n",
      "Warning in <TStreamerInfo::CompareContent>: The following data member of\n",
      "the in-memory layout version 2 of class 'string' is missing from \n",
      "the on-file layout version 2:\n",
      "   string::_Alloc_hider _M_dataplus; //\n",
      "Warning in <TStreamerInfo::CompareContent>: The following data member of\n",
      "the in-memory layout version 2 of class 'string' is missing from \n",
      "the on-file layout version 2:\n",
      "   unsigned long _M_string_length; //\n",
      "Warning in <TStreamerInfo::CompareContent>: The following data member of\n",
      "the in-memory layout version 2 of class 'string' is missing from \n",
      "the on-file layout version 2:\n",
      "   string::(anonymous) ; //\n"
     ]
    }
   ],
   "source": [
    "jet_columns = [\"jet1_csv\", \"jet2_csv\", \"jet3_csv\",\"jet1_flv\", \"jet2_flv\", \"jet3_flv\", \"numb_BJet_gen\", \"numb_jets\", \"numb_BJet\", \"jet1_pt\", \"jet2_pt\", \"jet3_pt\"]\n",
    "df = load_origMC(jet_columns)\n",
    "#df_tt_l = rp.read_root(\"/home/gunter/WW_analysis/data_alpha/ttbar_leptonic_complete.root\",\n",
    "#                       columns=jet_columns)\n",
    "#df_tt_sl = rp.read_root(data_path+\"/ttbar_semileptonic_complete.root\",\n",
    "#                        columns=jet_columns)\n",
    "\n",
    "#df = pd.concat([df_tt_l, df_tt_sl, ])#df_tbar_s, df_tbar_t, df_tbar_tw, df_t_s, df_t_t, df_t_tw])\n",
    "#df = df[(df.numb_BJet_gen > 0)]\n",
    "#df = rp.read_root(\"/home/gunter/WW_analysis/data_alpha/ww_complete.root\",\n",
    "#                       columns=jet_columns)"
   ]
  },
  {
   "cell_type": "code",
   "execution_count": 8,
   "metadata": {},
   "outputs": [
    {
     "data": {
      "text/plain": [
       "(2144578, 12)"
      ]
     },
     "execution_count": 8,
     "metadata": {},
     "output_type": "execute_result"
    }
   ],
   "source": [
    "df[(df.numb_jets == 1) & (df.numb_BJet_gen == 1) ].shape"
   ]
  },
  {
   "cell_type": "markdown",
   "metadata": {},
   "source": [
    "## Calc MC Bjet Efficiencies for WW"
   ]
  },
  {
   "cell_type": "code",
   "execution_count": 36,
   "metadata": {},
   "outputs": [
    {
     "data": {
      "text/plain": [
       "[0.010224535206605491,\n",
       " 0.0090752110514198,\n",
       " 0.00806412198817262,\n",
       " 0.008831463864830328,\n",
       " 0.008478437431905073,\n",
       " 0.008668121599606553,\n",
       " 0.009386300787066582,\n",
       " 0.011345999464811346,\n",
       " 0.010502471169686986,\n",
       " 0.013101476893758932,\n",
       " 0.018541930046354824,\n",
       " 0.01507537688442211,\n",
       " 0.030280649926144758,\n",
       " 0.015306122448979591,\n",
       " 0.030054644808743168,\n",
       " 0.012345679012345678]"
      ]
     },
     "execution_count": 36,
     "metadata": {},
     "output_type": "execute_result"
    }
   ],
   "source": [
    "ptmin = [ 30, 40, 50, 60, 70, 80, 100, 120, 160, 210, 260, 320, 400, 500, 600, 800]\n",
    "ptmax = [40, 50, 60, 70, 80,100, 120, 160, 210, 260, 320, 400, 500, 600, 800, 1000]\n",
    "\n",
    "temp_list = []\n",
    "for it, min_pt in enumerate(ptmin):\n",
    "    pt_cut = (df.jet1_pt >= min_pt) & (df.jet1_pt < ptmax[it])\n",
    "    selected = float( df[(df.numb_jets == 1) & (df.jet1_flv < 4) & (df.jet1_csv > .8484) & pt_cut].shape[0] )\n",
    "    tot = float( df[(df.numb_jets == 1) & (df.jet1_flv < 4) & pt_cut].shape[0] )\n",
    "    temp_list.append( selected / tot )\n",
    "    #print selected, tot\n",
    "temp_list"
   ]
  },
  {
   "cell_type": "code",
   "execution_count": 19,
   "metadata": {},
   "outputs": [
    {
     "data": {
      "text/plain": [
       "[0.4442664407048948,\n",
       " 0.5102205372678276,\n",
       " 0.5542576310070667,\n",
       " 0.5823890951134911,\n",
       " 0.6001000347947112,\n",
       " 0.6196382554577722,\n",
       " 0.6298785946506259,\n",
       " 0.6329302867842538,\n",
       " 0.5800544905623328,\n",
       " 0.5224910394265233,\n",
       " 0.47150500116306115,\n",
       " 0.40217391304347827,\n",
       " 0.33751743375174337,\n",
       " 0.2570093457943925,\n",
       " 0.2661290322580645,\n",
       " 0.21739130434782608]"
      ]
     },
     "execution_count": 19,
     "metadata": {},
     "output_type": "execute_result"
    }
   ],
   "source": [
    "temp_list"
   ]
  },
  {
   "cell_type": "markdown",
   "metadata": {},
   "source": [
    "## Test scale factors for efficiencies and inefficiencies"
   ]
  },
  {
   "cell_type": "code",
   "execution_count": 16,
   "metadata": {
    "collapsed": true
   },
   "outputs": [],
   "source": [
    "def calc_ieff_and_eff(df):\n",
    "    #Input df[(df.numb_BJet_gen > 0) ]\n",
    "    jet_csv_mask = [#df.numb_jets == 0, \n",
    "                (df.jet1_csv.values < .846),\n",
    "                df.jet2_csv.values < .846,\n",
    "                df.jet3_csv.values < .846,]\n",
    "               #df.jet4_csv.values < .,\n",
    "               #df.jet5_csv.values < .,\n",
    "               #df.jet6_csv.values < .]\n",
    "    #Needs to be updated\n",
    "\n",
    "    mc_eff = np.array([\n",
    "    0.4442664407048948,\n",
    "    0.5102205372678276,\n",
    "    0.5542576310070667,\n",
    "    0.5823890951134911,\n",
    "    0.6001000347947112,\n",
    "    0.6196382554577722,\n",
    "    0.6298785946506259,\n",
    "    0.6329302867842538,\n",
    "    0.5800544905623328,\n",
    "    0.5224910394265233,\n",
    "    0.47150500116306115,\n",
    "    0.40217391304347827,\n",
    "    0.33751743375174337,\n",
    "    0.2570093457943925,\n",
    "    0.2661290322580645,\n",
    "    0.21739130434782608])\n",
    "\n",
    "\n",
    "    bjet_unc = [0.0264008, 0.0272757, 0.0275565, 0.0248745, 0.0218456, 0.0253845, 0.0239588, 0.0271791, 0.0273912,\n",
    "    0.0379822, 0.0411624, 0.0786307, 0.0866832, 0.0942053, 0.102403, 0.1]\n",
    "    bjet_mc_eff_unc = [\n",
    "    0.002044870533737016,\n",
    "    0.0016060593437708893,\n",
    "    0.0014327658052221096,\n",
    "    0.0013855675110511305,\n",
    "    0.0014172562032056706,\n",
    "    0.0011053255585410577,\n",
    "    0.001330940168220748,\n",
    "    0.0013147241396643421,\n",
    "    0.001985532350816485,\n",
    "    0.003536128885636905,\n",
    "    0.005681122677667734,\n",
    "    0.009330720680568763,\n",
    "    0.016278904251102247,\n",
    "    0.030427507469274185,\n",
    "    0.04294916994144168,\n",
    "    0.09408167988273519]#np.sqrt(csv_bjet) / true_bjet\n",
    "    ptmin = [30, 40, 50, 60, 70, 80, 100, 120, 160, 210, 260, 320, 400, 500, 600, 800]\n",
    "    ptmax = [40, 50, 60, 70, 80,100, 120, 160, 210, 260, 320, 400, 500, 600, 800, 1000]\n",
    "\n",
    "\n",
    "    bjet_iw = np.ones(df.shape[0])\n",
    "    for i in xrange(len(ptmin)):\n",
    "        #roll the dice\n",
    "        offset_unc = np.random.normal(0,bjet_unc[i])\n",
    "        offset_mc_eff = np.random.normal(0,bjet_mc_eff_unc[i])\n",
    "\n",
    "        #loop over jets\n",
    "        for jet_iter in range(1,len(jet_csv_mask)+1):\n",
    "            jet_interest= 'jet'+str(jet_iter)\n",
    "\n",
    "            jet_pt_mask = ( df[jet_interest+'_pt'] > ptmin[i] ) & ( df[jet_interest+'_pt'] < ptmax[i] )\n",
    "            mc_eff_ = mc_eff[i] + offset_mc_eff\n",
    "\n",
    "            csvt = lambda x: 0.884016*((1.+(0.0331508*x))/(1.+(0.0285096*x)))\n",
    "\n",
    "            #Inefficiency\n",
    "            w = csvt(df[jet_csv_mask[jet_iter-1] & jet_pt_mask ][jet_interest+'_pt'].values) + offset_unc\n",
    "            bjet_iw[ jet_csv_mask[jet_iter-1].astype(bool) & jet_pt_mask.values ] *= (1 - w * mc_eff_) / (1 - mc_eff_) \n",
    "            #Efficiency\n",
    "            print  bjet_iw.shape, np.invert(jet_csv_mask[jet_iter-1].astype(bool)).shape, jet_pt_mask.shape\n",
    "            bjet_iw[ np.invert(jet_csv_mask[jet_iter-1].astype(bool)) & jet_pt_mask.values ] *= w \n",
    "\n",
    "    return bjet_iw\n"
   ]
  },
  {
   "cell_type": "code",
   "execution_count": 17,
   "metadata": {},
   "outputs": [
    {
     "name": "stdout",
     "output_type": "stream",
     "text": [
      "(11392340,) (11392340,) (11392340,)\n"
     ]
    },
    {
     "ename": "ValueError",
     "evalue": "operands could not be broadcast together with shapes (211480,) (281780,) (211480,) ",
     "output_type": "error",
     "traceback": [
      "\u001b[0;31m\u001b[0m",
      "\u001b[0;31mValueError\u001b[0mTraceback (most recent call last)",
      "\u001b[0;32m<ipython-input-17-d27d5059883b>\u001b[0m in \u001b[0;36m<module>\u001b[0;34m()\u001b[0m\n\u001b[0;32m----> 1\u001b[0;31m \u001b[0mplt\u001b[0m\u001b[0;34m.\u001b[0m\u001b[0mhist\u001b[0m\u001b[0;34m(\u001b[0m \u001b[0mcalc_ieff_and_eff\u001b[0m\u001b[0;34m(\u001b[0m\u001b[0mdf\u001b[0m\u001b[0;34m)\u001b[0m\u001b[0;34m,\u001b[0m \u001b[0mbins\u001b[0m\u001b[0;34m=\u001b[0m\u001b[0;36m20\u001b[0m\u001b[0;34m)\u001b[0m\u001b[0;34m\u001b[0m\u001b[0m\n\u001b[0m",
      "\u001b[0;32m<ipython-input-16-9b9bbdc60eb5>\u001b[0m in \u001b[0;36mcalc_ieff_and_eff\u001b[0;34m(df)\u001b[0m\n\u001b[1;32m     72\u001b[0m             \u001b[0;31m#Efficiency\u001b[0m\u001b[0;34m\u001b[0m\u001b[0;34m\u001b[0m\u001b[0m\n\u001b[1;32m     73\u001b[0m             \u001b[0;32mprint\u001b[0m  \u001b[0mbjet_iw\u001b[0m\u001b[0;34m.\u001b[0m\u001b[0mshape\u001b[0m\u001b[0;34m,\u001b[0m \u001b[0mnp\u001b[0m\u001b[0;34m.\u001b[0m\u001b[0minvert\u001b[0m\u001b[0;34m(\u001b[0m\u001b[0mjet_csv_mask\u001b[0m\u001b[0;34m[\u001b[0m\u001b[0mjet_iter\u001b[0m\u001b[0;34m-\u001b[0m\u001b[0;36m1\u001b[0m\u001b[0;34m]\u001b[0m\u001b[0;34m.\u001b[0m\u001b[0mastype\u001b[0m\u001b[0;34m(\u001b[0m\u001b[0mbool\u001b[0m\u001b[0;34m)\u001b[0m\u001b[0;34m)\u001b[0m\u001b[0;34m.\u001b[0m\u001b[0mshape\u001b[0m\u001b[0;34m,\u001b[0m \u001b[0mjet_pt_mask\u001b[0m\u001b[0;34m.\u001b[0m\u001b[0mshape\u001b[0m\u001b[0;34m\u001b[0m\u001b[0m\n\u001b[0;32m---> 74\u001b[0;31m             \u001b[0mbjet_iw\u001b[0m\u001b[0;34m[\u001b[0m \u001b[0mnp\u001b[0m\u001b[0;34m.\u001b[0m\u001b[0minvert\u001b[0m\u001b[0;34m(\u001b[0m\u001b[0mjet_csv_mask\u001b[0m\u001b[0;34m[\u001b[0m\u001b[0mjet_iter\u001b[0m\u001b[0;34m-\u001b[0m\u001b[0;36m1\u001b[0m\u001b[0;34m]\u001b[0m\u001b[0;34m.\u001b[0m\u001b[0mastype\u001b[0m\u001b[0;34m(\u001b[0m\u001b[0mbool\u001b[0m\u001b[0;34m)\u001b[0m\u001b[0;34m)\u001b[0m \u001b[0;34m&\u001b[0m \u001b[0mjet_pt_mask\u001b[0m\u001b[0;34m.\u001b[0m\u001b[0mvalues\u001b[0m \u001b[0;34m]\u001b[0m \u001b[0;34m*=\u001b[0m \u001b[0mw\u001b[0m\u001b[0;34m\u001b[0m\u001b[0m\n\u001b[0m\u001b[1;32m     75\u001b[0m \u001b[0;34m\u001b[0m\u001b[0m\n\u001b[1;32m     76\u001b[0m     \u001b[0;32mreturn\u001b[0m \u001b[0mbjet_iw\u001b[0m\u001b[0;34m\u001b[0m\u001b[0m\n",
      "\u001b[0;31mValueError\u001b[0m: operands could not be broadcast together with shapes (211480,) (281780,) (211480,) "
     ]
    }
   ],
   "source": [
    "plt.hist( calc_ieff_and_eff(df), bins=20)"
   ]
  },
  {
   "cell_type": "markdown",
   "metadata": {},
   "source": [
    "# Number of Jets, gen Bjets and tagged Bjets"
   ]
  },
  {
   "cell_type": "code",
   "execution_count": 4,
   "metadata": {},
   "outputs": [
    {
     "data": {
      "text/plain": [
       "<matplotlib.text.Text at 0x7f4df31ab2d0>"
      ]
     },
     "execution_count": 4,
     "metadata": {},
     "output_type": "execute_result"
    },
    {
     "data": {
      "image/png": "[encoded data removed]",
      "text/plain": [
       "<matplotlib.figure.Figure at 0x7f4df39dfa50>"
      ]
     },
     "metadata": {},
     "output_type": "display_data"
    }
   ],
   "source": [
    "df.numb_jets.hist(range=(-.5, 9.5)).set_axis_bgcolor(\"grey\")\n",
    "plt.yscale(\"log\")\n",
    "plt.title(\"Number of Jets\")"
   ]
  },
  {
   "cell_type": "code",
   "execution_count": 5,
   "metadata": {},
   "outputs": [
    {
     "data": {
      "text/plain": [
       "<matplotlib.text.Text at 0x7f4df384dfd0>"
      ]
     },
     "execution_count": 5,
     "metadata": {},
     "output_type": "execute_result"
    },
    {
     "data": {
      "image/png": "[encoded data removed]",
      "text/plain": [
       "<matplotlib.figure.Figure at 0x7f4df3177f90>"
      ]
     },
     "metadata": {},
     "output_type": "display_data"
    }
   ],
   "source": [
    "df.numb_BJet_gen.hist(range=(-.5, 9.5)).set_axis_bgcolor(\"grey\")\n",
    "plt.yscale(\"log\")\n",
    "plt.title(\"Number of gen BJets\")"
   ]
  },
  {
   "cell_type": "markdown",
   "metadata": {},
   "source": [
    "## Lets look at indivisual jets"
   ]
  },
  {
   "cell_type": "code",
   "execution_count": 23,
   "metadata": {},
   "outputs": [
    {
     "name": "stdout",
     "output_type": "stream",
     "text": [
      "One jet and one gen bjet (587, 12)\n",
      "One jet and one gen bjet and one tagged bjet (171, 12)\n",
      "Two jet and one gen bjet (72, 12)\n",
      "Two jet and one gen bjet and two tagged bjet (14, 12)\n"
     ]
    }
   ],
   "source": [
    "print \"One jet and one gen bjet\", df[(df.numb_jets == 1) & (df.numb_BJet_gen == 1)].shape\n",
    "print \"One jet and one gen bjet and one tagged bjet\", df[(df.numb_jets == 1) & (df.numb_BJet_gen == 1) & (df.jet1_csv > .84)].shape\n",
    "\n",
    "print \"Two jet and one gen bjet\", df[(df.numb_jets == 2) & (df.numb_BJet_gen == 2)].shape\n",
    "print \"Two jet and one gen bjet and two tagged bjet\", df[(df.numb_jets == 2) & (df.numb_BJet_gen == 2) & (df.jet1_csv > .84) & (df.jet2_csv > .84)].shape\n",
    "\n"
   ]
  },
  {
   "cell_type": "code",
   "execution_count": 24,
   "metadata": {},
   "outputs": [
    {
     "name": "stdout",
     "output_type": "stream",
     "text": [
      "Jet 1 is a gen bjet (721, 12)\n",
      "Jet 1 is a gen bjet and was tagged as a bjet (357, 12)\n",
      "Jet 2 is a gen bjet (459, 12)\n",
      "Jet 2 is a gen bjet and was tagged as a bjet (228, 12)\n",
      "Jet 3 is a gen bjet (171, 12)\n",
      "Jet 3 is a gen bjet and was tagged as a bjet (90, 12)\n"
     ]
    }
   ],
   "source": [
    "print \"Jet 1 is a gen bjet\", df[(df.jet1_flv.abs() == 5)].shape\n",
    "print \"Jet 1 is a gen bjet and was tagged as a bjet\", df[(df.jet1_flv.abs() == 5) & (df.jet1_csv > .84)].shape\n",
    "\n",
    "print \"Jet 2 is a gen bjet\", df[(df.jet2_flv.abs() == 5)].shape\n",
    "print \"Jet 2 is a gen bjet and was tagged as a bjet\", df[(df.jet2_flv.abs() == 5) & (df.jet2_csv > .84)].shape\n",
    "\n",
    "print \"Jet 3 is a gen bjet\", df[(df.jet3_flv.abs() == 5)].shape\n",
    "print \"Jet 3 is a gen bjet and was tagged as a bjet\", df[(df.jet3_flv.abs() == 5) & (df.jet3_csv > .84)].shape"
   ]
  },
  {
   "cell_type": "code",
   "execution_count": 25,
   "metadata": {},
   "outputs": [
    {
     "name": "stdout",
     "output_type": "stream",
     "text": [
      "[0.49514563106796117, 0.49673202614379086, 0.5263157894736842]\n"
     ]
    }
   ],
   "source": [
    "data = []\n",
    "for i in [\"1\", \"2\", \"3\"]:\n",
    "    cut_flv = df[\"jet\"+i+\"_flv\"].abs() == 5\n",
    "    cut_tag = df[\"jet\"+i+\"_csv\"] > .84\n",
    "    data.append( float(df[cut_tag & cut_flv].shape[0]) / df[cut_flv].shape[0] )\n",
    "\n",
    "print data"
   ]
  },
  {
   "cell_type": "code",
   "execution_count": 32,
   "metadata": {},
   "outputs": [
    {
     "data": {
      "text/plain": [
       "<matplotlib.text.Text at 0x7f4df00c9550>"
      ]
     },
     "execution_count": 32,
     "metadata": {},
     "output_type": "execute_result"
    },
    {
     "data": {
      "image/png": "[encoded data removed]",
      "text/plain": [
       "<matplotlib.figure.Figure at 0x7f4de8fd0c90>"
      ]
     },
     "metadata": {},
     "output_type": "display_data"
    }
   ],
   "source": [
    "plt.scatter( [1,2,3], data )\n",
    "plt.title(\"Fraction of tagged bjets given the jet is a b for a particular jet\")\n",
    "plt.xlabel(\"Jet label (1 being the most energetic in an event)\")\n"
   ]
  },
  {
   "cell_type": "markdown",
   "metadata": {},
   "source": [
    "## If we invert the cut"
   ]
  },
  {
   "cell_type": "code",
   "execution_count": 33,
   "metadata": {},
   "outputs": [
    {
     "name": "stdout",
     "output_type": "stream",
     "text": [
      "[0.9927752685223933, 0.9979102512982864, 0.999419516711682]\n"
     ]
    }
   ],
   "source": [
    "data = []\n",
    "for i in [\"1\", \"2\", \"3\"]:\n",
    "    cut_flv = df[\"jet\"+i+\"_flv\"].abs() != 5\n",
    "    cut_tag = df[\"jet\"+i+\"_csv\"] <= .84\n",
    "    data.append( float(df[cut_tag & cut_flv].shape[0]) / df[cut_flv].shape[0] )\n",
    "\n",
    "print data"
   ]
  },
  {
   "cell_type": "markdown",
   "metadata": {},
   "source": [
    "# Repeating Michael's estimate procedure\n",
    "\n",
    "| N tagged jets| N taggable jets|\n",
    "|-------------:|---------------:|\n",
    "|-              |2, 1, 0|\n",
    "|0         |(1 - e)<sup>2</sup>, (1 - e), 1|"
   ]
  },
  {
   "cell_type": "code",
   "execution_count": 4,
   "metadata": {},
   "outputs": [
    {
     "name": "stdout",
     "output_type": "stream",
     "text": [
      "0.00144854069637\n"
     ]
    }
   ],
   "source": [
    "#WW \n",
    "#looks to be negliable as expected\n",
    "eps = .5\n",
    "B = (1 - eps)**2 * df[df.numb_BJet_gen == 2].shape[0] + (1 - eps) * df[df.numb_BJet_gen == 1].shape[0] + df[df.numb_BJet_gen == 1].shape[0]\n",
    "dB = 2*(1 - eps) * df[df.numb_BJet_gen == 2].shape[0] + df[df.numb_BJet_gen == 1].shape[0]\n",
    "\n",
    "B *= scales[\"WW\"]\n",
    "dB *= scales[\"WW\"]\n",
    "\n",
    "D = 13948.\n",
    "\n",
    "print dB / (D - B) * 0.03 \n"
   ]
  },
  {
   "cell_type": "code",
   "execution_count": 5,
   "metadata": {
    "collapsed": true
   },
   "outputs": [],
   "source": [
    "df_tt_l = rp.read_root(\"/home/gunter/WW_analysis/data_alpha/ttbar_leptonic_complete.root\",\n",
    "                       columns=jet_columns)\n",
    "df_tt_sl = rp.read_root(data_path+\"/ttbar_semileptonic_complete.root\",\n",
    "                        columns=jet_columns)\n",
    "df_top = pd.concat([df_tt_l, df_tt_sl])"
   ]
  },
  {
   "cell_type": "code",
   "execution_count": 6,
   "metadata": {},
   "outputs": [
    {
     "name": "stdout",
     "output_type": "stream",
     "text": [
      "[0.651731607839523, 0.6287727756264515, 0.6152479216926212]\n"
     ]
    }
   ],
   "source": [
    "data = []\n",
    "for i in [\"1\", \"2\", \"3\"]:\n",
    "    cut_flv = df_top[\"jet\"+i+\"_flv\"].abs() == 5\n",
    "    cut_tag = df_top[\"jet\"+i+\"_csv\"] > .84\n",
    "    data.append( float(df_top[cut_tag & cut_flv].shape[0]) / df_top[cut_flv].shape[0] )\n",
    "\n",
    "print data"
   ]
  },
  {
   "cell_type": "code",
   "execution_count": 46,
   "metadata": {
    "collapsed": true
   },
   "outputs": [],
   "source": [
    "#Top\n",
    "def calc_unc_bjet(df, eps=.63, D= 1922276, s=1):\n",
    "    \"\"\"\n",
    "    eps: efficiency of bjet\n",
    "    D: number of events for that process\n",
    "    s: scale\n",
    "    ?Scale for each process?\n",
    "    \"\"\"\n",
    "    B = (1 - eps)**2 * df[df.numb_BJet_gen == 2].shape[0] + (1 - eps) * df[df.numb_BJet_gen == 1].shape[0] + df[df.numb_BJet_gen == 0].shape[0]\n",
    "    dB = 2*(1 - eps) * df[df.numb_BJet_gen == 2].shape[0] + df[df.numb_BJet_gen == 1].shape[0]\n",
    "\n",
    "    B *= scales[\"ttbar_leptonic\"] * s\n",
    "    dB *= scales['ttbar_leptonic'] * s\n",
    "\n",
    "    #D = 1922276 #Post preselection number\n",
    "\n",
    "    print dB / (D - B) * 0.03 #0.03 is a conservative estimate taken from the bjet unc under Test scale factors header"
   ]
  },
  {
   "cell_type": "code",
   "execution_count": 19,
   "metadata": {},
   "outputs": [
    {
     "name": "stdout",
     "output_type": "stream",
     "text": [
      "0.00271895979873\n"
     ]
    }
   ],
   "source": [
    "calc_unc_bjet(df[df.numb_BJet == 0])"
   ]
  },
  {
   "cell_type": "code",
   "execution_count": 47,
   "metadata": {},
   "outputs": [
    {
     "name": "stdout",
     "output_type": "stream",
     "text": [
      "0.0336732210065\n"
     ]
    }
   ],
   "source": [
    "calc_unc_bjet(df[(df.numb_BJet == 0) & (df.process == \"Top\") ], eps=.63, D= 17383, s= 3015./ (df[(df.numb_BJet == 0) & (df.process == \"Top\")].shape[0] * scales['ttbar_leptonic']) )\n"
   ]
  },
  {
   "cell_type": "markdown",
   "metadata": {},
   "source": [
    "## Post preselection &sigma; <sub> &epsilon; top </sub>\n",
    "\n",
    "0.00169\n",
    "\n",
    "## Post RF &sigma; <sub> &epsilon; top</sub>  Estimate\n",
    "\n",
    "0.0114  <- This is the number we are interested in.\n",
    "\n",
    "# ToDo:\n",
    "- Change bjet uncertainty calc to reflect to above."
   ]
  },
  {
   "cell_type": "code",
   "execution_count": 4,
   "metadata": {},
   "outputs": [
    {
     "data": {
      "text/plain": [
       " 5.0    11871177\n",
       " 0.0     5680886\n",
       " 4.0      628491\n",
       "-2.0      495974\n",
       "Name: jet1_flv, dtype: int64"
      ]
     },
     "execution_count": 4,
     "metadata": {},
     "output_type": "execute_result"
    }
   ],
   "source": [
    "df.jet1_flv.value_counts()"
   ]
  },
  {
   "cell_type": "code",
   "execution_count": 5,
   "metadata": {
    "collapsed": true
   },
   "outputs": [],
   "source": [
    "f = open(\"/home/gunter/WW_analysis/production/Analysis_13TeV/scripts/uncertainties_dir/data/CSVv2_Moriond17_B_H.csv\")\n",
    "strings = f.read()\n",
    "f.close()\n",
    "calibration = BT.BTagCalibration(\"csv\")\n",
    "calibration.readCSV(strings)\n",
    "\n",
    "reader = BT.BTagCalibrationReader(BT.OperatingPoint.OP_MEDIUM, u\"central\", [u\"up\", u\"down\"])\n",
    "reader.load(calibration, BT.JetFlavor.FLAV_B, u\"comb\")\n",
    "reader.load(calibration, BT.JetFlavor.FLAV_C, u\"comb\")\n",
    "reader.load(calibration, BT.JetFlavor.FLAV_UDSG, u\"incl\")"
   ]
  },
  {
   "cell_type": "code",
   "execution_count": null,
   "metadata": {
    "collapsed": true
   },
   "outputs": [],
   "source": [
    "#Get all b / c jets that were tagged as b\n",
    "#Get all light jets that were tagged as b\n",
    "def calc_stuff(df_):\n",
    "    df = copy.copy(df_)\n",
    "    jet_flv = [0, 4, 5]\n",
    "    jet_flv_key = {0:BT.JetFlavor.FLAV_UDSG, 4:BT.JetFlavor.FLAV_C, 5:BT.JetFlavor.FLAV_B}\n",
    "    for flv in jet_flv:\n",
    "        bjets_eta =   df[(df.jet1_flv == flv) & (df.jet1_csv > .8484)].jet1_eta.values\n",
    "        bjets_pt =    df[(df.jet1_flv == flv) & (df.jet1_csv > .8484)].jet1_pt.values\n",
    "\n",
    "        central = np.array(BT.bjetScale(u\"central\", BT.JetFlavor.FLAV_B, list(bjets_eta), list(bjets_pt), reader, tagged=True))\n",
    "        up = np.array(BT.bjetScale(u\"up\", BT.JetFlavor.FLAV_B, list(bjets_eta), list(bjets_pt), reader, tagged=True))\n",
    "        down = np.array(BT.bjetScale(u\"down\", BT.JetFlavor.FLAV_B, list(bjets_eta), list(bjets_pt), reader, tagged=True))\n",
    "\n",
    "        \n",
    "    "
   ]
  },
  {
   "cell_type": "code",
   "execution_count": 21,
   "metadata": {},
   "outputs": [
    {
     "name": "stdout",
     "output_type": "stream",
     "text": [
      "GluGluWWTo2L2Nu 0.63 0.48054261371\n",
      "WZJetsTo2L2Q 0.63 0.467854161171\n",
      "WZJetsTo3LNu 0.63 0.506950678704\n",
      "W1JetsToLNu 0.63 0.10752688172\n",
      "W2JetsToLNu 0.63 0.192122958694\n",
      "W3JetsToLNu 0.63 0.502270933021\n",
      "{'ttbar_semileptonic': 0.62451008577254041, 'ZZJetsTo2L2Nu': 0.53712284496918883, 'ttbar_leptonic': 0.63139329912447895, 'GluGluWWTo2L2Nu': 0.48054261370967555, 'Tbar_t-channel': 0.62234415925513087, 'DYJetsToLL_M-50': 0.54291330250420267, 'W2JetsToLNu': 0.19212295869356388, 'WZJetsTo2L2Q': 0.46785416117100737, 'T_tW-channel': 0.5961871467188915, 'DYJetsToLL_M-10to50': 0.56220187617524342, 'WW': 0.51404982810232613, 'ZZJetsTo2L2Q': 0.56260417827275522, 'WGToLNuG': 0.52202593141147302, 'Tbar_tW-channel': 0.60083328430869098, 'WZJetsTo3LNu': 0.50695067870411015, 'W3JetsToLNu': 0.50227093302065773, 'T_t-channel': 0.60601924159747711, 'T_s-channel': 0.57866940036109338, 'W4JetsToLNu': 0.56167965777775875, 'W1JetsToLNu': 0.10752688172043011, 'GluGluHToWWTo2L2Nu': 0.67513254847250792}\n"
     ]
    }
   ],
   "source": [
    "eps_dic = {}\n",
    "for process_decay in df.process_decay.unique():\n",
    "    eff_data = []\n",
    "    for i in [\"1\", \"2\", \"3\"]:\n",
    "        cut_flv = df[\"jet\"+i+\"_flv\"].abs() == 5\n",
    "        cut_tag = df[\"jet\"+i+\"_csv\"] > .84\n",
    "        \n",
    "        eff_data.append( float(df[(df.process_decay == process_decay) & cut_tag & cut_flv].shape[0]) /\\\n",
    "                        ( .1 + df[(df.process_decay == process_decay) & cut_flv].shape[0] ))\n",
    "    eff_data = np.array(eff_data)\n",
    "    if abs(.63 - eff_data.mean()) > .12:\n",
    "        print process_decay, .63, eff_data.mean()\n",
    "    eps_dic[process_decay] = eff_data.mean()\n",
    "\n",
    "print eps_dic "
   ]
  },
  {
   "cell_type": "code",
   "execution_count": 16,
   "metadata": {},
   "outputs": [],
   "source": [
    "#Top\n",
    "def calc_unc_bjet(df, eps=.63, D= 1922276, process=None, scales=scales, eps_dic=None):\n",
    "    \"\"\"\n",
    "    eps: efficiency of bjet\n",
    "    D: number of events for that process\n",
    "    s: scale\n",
    "    ?Scale for each process?\n",
    "    \"\"\"\n",
    "\n",
    "\n",
    "    \n",
    "    process_cut = df.process == df.process\n",
    "    if process != None:\n",
    "        process_cut = df.process == process\n",
    "    \n",
    "    B = 0\n",
    "    dB = 0\n",
    "    arr_B = np.array([0.,0.,0.])\n",
    "    for process_decay in df.process_decay.unique(): \n",
    "        ####################\n",
    "        #Calc efficiency of bjet tagging for a given process\n",
    "        if type(eps_dic) != type(None):\n",
    "            if process_decay in eps_dic.keys():\n",
    "                eps = eps_dic[process_decay]\n",
    "        ####################\n",
    "        \n",
    "        B_ = (1 - eps)**2 * df[(df.numb_BJet_gen == 2) & (process_cut) & (df.process_decay == process_decay)].weight.sum() +\\\n",
    "             (1 - eps) *    df[(df.numb_BJet_gen == 1) & (process_cut) & (df.process_decay == process_decay)].weight.sum() +\\\n",
    "                            df[(df.numb_BJet_gen == 0) & (process_cut) & (df.process_decay == process_decay)].weight.sum()\n",
    "        B_ *= scales[process_decay]\n",
    "        B  += B_\n",
    "        \n",
    "        dB_ = 2*(1 - eps) * df[(df.numb_BJet_gen == 2) & (process_cut) & (df.process_decay == process_decay)].weight.sum() +\\\n",
    "                            df[(df.numb_BJet_gen == 1) & (process_cut) & (df.process_decay == process_decay)].weight.sum()\n",
    "                \n",
    "        dB_ *= scales[process_decay]\n",
    "        dB  += dB_ \n",
    "        #print process_decay, \"B:\", B_, \"dB\", dB_\n",
    "        arr_B_ = scales[process_decay] * np.array([df[(df.numb_BJet_gen == 2) & (process_cut) & (df.process_decay == process_decay)].weight.sum(),\\\n",
    "                             df[(df.numb_BJet_gen == 1) & (process_cut) & (df.process_decay == process_decay)].weight.sum(),\\\n",
    "                             df[(df.numb_BJet_gen == 0) & (process_cut) & (df.process_decay == process_decay)].weight.sum()])\n",
    "        arr_B += arr_B_\n",
    "        print process_decay, arr_B_, eps\n",
    "    print \"Total B and dB\", B, dB, arr_B\n",
    "    #D = 1922276 #Post preselection number\n",
    "\n",
    "    print dB / (D - B) * 0.03"
   ]
  },
  {
   "cell_type": "code",
   "execution_count": 30,
   "metadata": {},
   "outputs": [
    {
     "name": "stdout",
     "output_type": "stream",
     "text": [
      "DYJetsToLL_M-50 [  9.17435527e-01   1.16094246e+01   1.32089990e+03] 0.63\n",
      "DYJetsToLL_M-10to50 [  0.039267     0.28891468  16.77093697] 0.63\n",
      "ttbar_leptonic [  794.66949463  1163.68383789   373.3024292 ] 0.63\n",
      "ttbar_semileptonic [  2.15238404  51.45153046  24.92444801] 0.63\n",
      "Tbar_tW-channel [ 17.2174511   92.33448792  67.8452301 ] 0.63\n",
      "Tbar_t-channel [  0.25165331   9.88845348  18.47751808] 0.63\n",
      "T_tW-channel [ 14.6424284   87.40062714  66.34017944] 0.63\n",
      "T_s-channel [ 0.01821843  1.43742537  0.6551677 ] 0.63\n",
      "T_t-channel [  0.38940457  16.57843781  30.49170685] 0.63\n",
      "ZZJetsTo2L2Q [ 0.02112212  0.05946016  0.68980908] 0.63\n",
      "ZZJetsTo2L2Nu [  1.69182587e-02   1.77778929e-01   1.71844177e+01] 0.63\n",
      "WZJetsTo2L2Q [  6.73972536e-04   7.71265849e-03   8.04495394e-01] 0.63\n",
      "WZJetsTo3LNu [  1.66031852e-01   1.89344597e+00   3.06040009e+02] 0.63\n",
      "W1JetsToLNu [    0.             4.2273399   1032.71053657] 0.63\n",
      "W2JetsToLNu [  3.33958447e-01   1.88601437e+01   6.79945190e+02] 0.63\n",
      "W3JetsToLNu [   0.49172753    9.32536888  194.74546814] 0.63\n",
      "W4JetsToLNu [  0.40361416   8.30408478  83.3695755 ] 0.63\n",
      "WGToLNuG [   0.            5.38110935  574.60044353] 0.63\n",
      "GluGluHToWWTo2L2Nu [  1.70909151e-01   1.91340780e+00   1.88188187e+02] 0.63\n",
      "Total B and dB 5661.25759491 2100.43091848 [  831.9026925   1484.82299142  4997.98565027]\n",
      "0.00533025719858\n"
     ]
    }
   ],
   "source": [
    "calc_unc_bjet(df[(df.numb_BJet == 0) & (df.process != \"WW\")  ], eps=.63, D=17483., scales=scales_)#, eps_dic=eps_dic)#, process=\"Top\")\n",
    "#calc_unc_bjet(df[(df.numb_BJet == 0) & (df.process != \"WW\")], eps=.63, D=17483, scales=scales_)#, process=\"Top\")"
   ]
  },
  {
   "cell_type": "code",
   "execution_count": 26,
   "metadata": {},
   "outputs": [
    {
     "data": {
      "text/plain": [
       "(5202130, 53)"
      ]
     },
     "execution_count": 26,
     "metadata": {},
     "output_type": "execute_result"
    }
   ],
   "source": [
    "df[df.numb_BJet==0].shape"
   ]
  },
  {
   "cell_type": "code",
   "execution_count": 36,
   "metadata": {},
   "outputs": [
    {
     "name": "stdout",
     "output_type": "stream",
     "text": [
      "WW 20743.6525099 27875.2968481\n",
      "DY 1990216.39714 41713.1105388\n",
      "Top 189694.288798 269731.336554\n",
      "WZ 3988.48393698 2495.23599191\n",
      "ZZ 1002.20005233 54.400832488\n",
      "WG 356.779793117 2747.35327592\n",
      "WJ 4243.7660875 21519.5247032\n",
      "Higgs 465.052580065 631.635791066\n",
      "{'Diff Flavor': [2483, 25393, 27875, 41713, 269731, 2495, 54, 2747, 21520, 632, 366768], 'Same Flavor': [1353, 19391, 20744, 1990216, 189694, 3988, 1002, 357, 4244, 465, 2210711], 'Process': ['GluGluWWTo2L2Nu', 'WW', 'WW', 'DY', 'Top', 'WZ', 'ZZ', 'WG(*)', 'WJ', 'Higgs', 'Total']}\n"
     ]
    },
    {
     "data": {
      "text/html": [
       "<div>\n",
       "<style>\n",
       "    .dataframe thead tr:only-child th {\n",
       "        text-align: right;\n",
       "    }\n",
       "\n",
       "    .dataframe thead th {\n",
       "        text-align: left;\n",
       "    }\n",
       "\n",
       "    .dataframe tbody tr th {\n",
       "        vertical-align: top;\n",
       "    }\n",
       "</style>\n",
       "<table border=\"1\" class=\"dataframe\">\n",
       "  <thead>\n",
       "    <tr style=\"text-align: right;\">\n",
       "      <th></th>\n",
       "      <th>Diff Flavor</th>\n",
       "      <th>Process</th>\n",
       "      <th>Same Flavor</th>\n",
       "    </tr>\n",
       "  </thead>\n",
       "  <tbody>\n",
       "    <tr>\n",
       "      <th>0</th>\n",
       "      <td>2483</td>\n",
       "      <td>GluGluWWTo2L2Nu</td>\n",
       "      <td>1353</td>\n",
       "    </tr>\n",
       "    <tr>\n",
       "      <th>1</th>\n",
       "      <td>25393</td>\n",
       "      <td>WW</td>\n",
       "      <td>19391</td>\n",
       "    </tr>\n",
       "    <tr>\n",
       "      <th>2</th>\n",
       "      <td>27875</td>\n",
       "      <td>WW</td>\n",
       "      <td>20744</td>\n",
       "    </tr>\n",
       "    <tr>\n",
       "      <th>3</th>\n",
       "      <td>41713</td>\n",
       "      <td>DY</td>\n",
       "      <td>1990216</td>\n",
       "    </tr>\n",
       "    <tr>\n",
       "      <th>4</th>\n",
       "      <td>269731</td>\n",
       "      <td>Top</td>\n",
       "      <td>189694</td>\n",
       "    </tr>\n",
       "    <tr>\n",
       "      <th>5</th>\n",
       "      <td>2495</td>\n",
       "      <td>WZ</td>\n",
       "      <td>3988</td>\n",
       "    </tr>\n",
       "    <tr>\n",
       "      <th>6</th>\n",
       "      <td>54</td>\n",
       "      <td>ZZ</td>\n",
       "      <td>1002</td>\n",
       "    </tr>\n",
       "    <tr>\n",
       "      <th>7</th>\n",
       "      <td>2747</td>\n",
       "      <td>WG(*)</td>\n",
       "      <td>357</td>\n",
       "    </tr>\n",
       "    <tr>\n",
       "      <th>8</th>\n",
       "      <td>21520</td>\n",
       "      <td>WJ</td>\n",
       "      <td>4244</td>\n",
       "    </tr>\n",
       "    <tr>\n",
       "      <th>9</th>\n",
       "      <td>632</td>\n",
       "      <td>Higgs</td>\n",
       "      <td>465</td>\n",
       "    </tr>\n",
       "    <tr>\n",
       "      <th>10</th>\n",
       "      <td>366768</td>\n",
       "      <td>Total</td>\n",
       "      <td>2210711</td>\n",
       "    </tr>\n",
       "  </tbody>\n",
       "</table>\n",
       "</div>"
      ],
      "text/plain": [
       "    Diff Flavor          Process  Same Flavor\n",
       "0          2483  GluGluWWTo2L2Nu         1353\n",
       "1         25393               WW        19391\n",
       "2         27875               WW        20744\n",
       "3         41713               DY      1990216\n",
       "4        269731              Top       189694\n",
       "5          2495               WZ         3988\n",
       "6            54               ZZ         1002\n",
       "7          2747            WG(*)          357\n",
       "8         21520               WJ         4244\n",
       "9           632            Higgs          465\n",
       "10       366768            Total      2210711"
      ]
     },
     "execution_count": 36,
     "metadata": {},
     "output_type": "execute_result"
    }
   ],
   "source": [
    "process_yields(df)#[df.numb_BJet == 0])"
   ]
  },
  {
   "cell_type": "code",
   "execution_count": 29,
   "metadata": {},
   "outputs": [
    {
     "data": {
      "text/plain": [
       "2194881"
      ]
     },
     "execution_count": 29,
     "metadata": {},
     "output_type": "execute_result"
    }
   ],
   "source": [
    "2025325 + 169556"
   ]
  },
  {
   "cell_type": "code",
   "execution_count": 37,
   "metadata": {},
   "outputs": [
    {
     "data": {
      "text/plain": [
       "2577479"
      ]
     },
     "execution_count": 37,
     "metadata": {},
     "output_type": "execute_result"
    }
   ],
   "source": [
    "366768 + 2210711"
   ]
  },
  {
   "cell_type": "code",
   "execution_count": 54,
   "metadata": {
    "collapsed": true
   },
   "outputs": [],
   "source": [
    "scales_[\"ttbar_leptonic\"] = 3000./df[(df.numb_BJet == 0) &(df.process == \"Top\")].shape[0]"
   ]
  },
  {
   "cell_type": "markdown",
   "metadata": {
    "collapsed": true
   },
   "source": [
    "scales_ = {\"DYJetsToLL_M-50\": 746.256,\n",
    "\"DYJetsToLL_M-10to50\": 19.057,\n",
    "\"GluGluWWTo2L2Nu\": 16527.7,\n",
    "\"GluGluHToWWTo2L2Nu\": 498.432,\n",
    "\"WW\": 65402.2,\n",
    "\"ttbar_leptonic\": 76050.6,\n",
    "\"ttbar_semileptonic\": 696.534,\n",
    "\"Tbar_tW-channel\": 597.767,\n",
    "\"Tbar_t-channel\": 166.822,\n",
    "\"T_tW-channel\": 590.571,\n",
    "\"T_s-channel\": 52.444,\n",
    "\"T_t-channel\": 227.515,\n",
    "\"ZZJetsTo2L2Q\": 156.352,\n",
    "\"ZZJetsTo2L2Nu\": 11083.5,\n",
    "\"WZJetsTo2L2Q\": 111.641,\n",
    "\"WZJetsTo3LNu\": 4660.07,\n",
    "\"W1JetsToLNu\": 215.53,\n",
    "\"W2JetsToLNu\": 250.6,\n",
    "\"W3JetsToLNu\": 144.395,\n",
    "\"W4JetsToLNu\": 40.8175,\n",
    "\"WGToLNuG\": 118.292}\n"
   ]
  },
  {
   "cell_type": "code",
   "execution_count": 25,
   "metadata": {
    "collapsed": true
   },
   "outputs": [],
   "source": [
    "scales_ = {\"DYJetsToLL_M-50\": 1333.44449562,\n",
    "\"DYJetsToLL_M-10to50\": 17.0983160996,\n",
    "\"GluGluWWTo2L2Nu\": 696.691837944,\n",
    "\"GluGluHToWWTo2L2Nu\": 190.272497841,\n",
    "\"WW\": 9472.77836426,\n",
    "\"ttbar_leptonic\": 2343.17775711,\n",
    "\"ttbar_semileptonic\": 78.6666496567,\n",
    "\"Tbar_tW-channel\": 177.595683457,\n",
    "\"Tbar_t-channel\": 28.6176223975,\n",
    "\"T_tW-channel\": 168.562059251,\n",
    "\"T_s-channel\": 2.11081145101,\n",
    "\"T_t-channel\": 47.4746349965,\n",
    "\"ZZJetsTo2L2Q\": 0.770684517967,\n",
    "\"ZZJetsTo2L2Nu\": 17.379261044,\n",
    "\"WZJetsTo2L2Q\": 0.81288307183,\n",
    "\"WZJetsTo3LNu\": 308.099493089,\n",
    "\"W1JetsToLNu\": 1036.93793429,\n",
    "\"W2JetsToLNu\": 699.13929895,\n",
    "\"W3JetsToLNu\": 204.5625758,\n",
    "\"W4JetsToLNu\": 92.1358875852,\n",
    "\"WGToLNuG\": 579.981519138}"
   ]
  },
  {
   "cell_type": "code",
   "execution_count": 26,
   "metadata": {
    "collapsed": true
   },
   "outputs": [],
   "source": [
    "tot_D = 0\n",
    "for process_decay in scales_:\n",
    "    scales_[process_decay] = scales_[process_decay] /\\\n",
    "                            df[(df.numb_BJet == 0) & (df.process_decay == process_decay)].weight.sum() \n",
    "    tot_D += df[(df.numb_BJet == 0) & (df.process_decay == process_decay)].weight.sum()"
   ]
  },
  {
   "cell_type": "code",
   "execution_count": 65,
   "metadata": {},
   "outputs": [
    {
     "data": {
      "text/plain": [
       "2252905.6574310488"
      ]
     },
     "execution_count": 65,
     "metadata": {},
     "output_type": "execute_result"
    }
   ],
   "source": [
    "tot_D"
   ]
  },
  {
   "cell_type": "code",
   "execution_count": 76,
   "metadata": {},
   "outputs": [
    {
     "data": {
      "text/plain": [
       "{'DY1JetsToLL_M-10to50': 0.9252904392678166,\n",
       " 'DY1JetsToLL_M-50': 0.7766378163951988,\n",
       " 'DY2JetsToLL_M-10to50': 0.36225877324669714,\n",
       " 'DY2JetsToLL_M-50': 0.29735738661210365,\n",
       " 'DY3JetsToLL_M-10to50': 1.0727670109000442,\n",
       " 'DY3JetsToLL_M-50': 0.16653798371286863,\n",
       " 'DY4JetsToLL_M-10to50': 1.0495385182234422,\n",
       " 'DY4JetsToLL_M-50': 0.1291829374743375,\n",
       " 'DYJetsToLL_M-10to50': 6.528888910020416,\n",
       " 'DYJetsToLL_M-50': 2.7145972424873355,\n",
       " 'Da': 1,\n",
       " 'GluGluHToWWTo2L2Nu': 0.34998591093119996,\n",
       " 'GluGluWWTo2L2Nu': 0.06057407,\n",
       " 'T_s-channel': 0.1141288390921382,\n",
       " 'T_t-channel': 0.3378220326116155,\n",
       " 'T_tW-channel': 0.40448777527555274,\n",
       " 'Tbar_s-channel': 0.63184,\n",
       " 'Tbar_t-channel': 0.2805844225276096,\n",
       " 'Tbar_tW-channel': 0.406151676920305,\n",
       " 'W1JetsToLNu': 9.089684109965036,\n",
       " 'W2JetsToLNu': 4.536110409181353,\n",
       " 'W3JetsToLNu': 2.0668813378510253,\n",
       " 'W4JetsToLNu': 2.4821297734604895,\n",
       " 'WGToLNuG': 8.072542833475318,\n",
       " 'WGstarToLNu2E': 0.042796573443762906,\n",
       " 'WW': 0.22378550507364844,\n",
       " 'WZJetsTo2L2Q': 0.007615269475834489,\n",
       " 'WZJetsTo3LNu': 0.09528164908481733,\n",
       " 'ZZJetsTo2L2Nu': 0.0022923579464016017,\n",
       " 'ZZJetsTo2L2Q': 0.007533189618094565,\n",
       " 'ttbar_leptonic': 0.039641386874173276,\n",
       " 'ttbar_semileptonic': 0.1424317275520139}"
      ]
     },
     "execution_count": 76,
     "metadata": {},
     "output_type": "execute_result"
    }
   ],
   "source": [
    "scales"
   ]
  },
  {
   "cell_type": "markdown",
   "metadata": {},
   "source": [
    "# light jet mistag"
   ]
  },
  {
   "cell_type": "code",
   "execution_count": 13,
   "metadata": {},
   "outputs": [
    {
     "name": "stdout",
     "output_type": "stream",
     "text": [
      "DY fraction of events with light jets 0.432856817759\n",
      "5175 502152 0.010305644506\n",
      "WW fraction of events with light jets 0.440875243185\n",
      "1267 118293 0.0107106929404\n",
      "Top fraction of events with light jets 0.652827191915\n",
      "71901 7508631 0.00957578019215\n",
      "ZZ fraction of events with light jets 0.676563612168\n",
      "2692 218618 0.0123137161624\n",
      "WZ fraction of events with light jets 0.872730985095\n",
      "4653 350494 0.0132755482262\n",
      "WJ fraction of events with light jets 0.773568281938\n",
      "94 7902 0.0118957226019\n",
      "WG fraction of events with light jets 0.68808114962\n",
      "12 814 0.014742014742\n",
      "Higgs fraction of events with light jets 0.563176895307\n",
      "20 1716 0.011655011655\n"
     ]
    }
   ],
   "source": [
    "#Mistagged light jets\n",
    "for process in df.process.unique():\n",
    "    print process, \"fraction of events with light jets\",\\\n",
    "    df[((df.jet1_flv < 4) | (df.jet2_flv < 4))  & (df.numb_jets > 0) & (df.process == process)].shape[0] /\\\n",
    "    float(df[df.process == process].shape[0])\n",
    "    \n",
    "    numerator = df[(((df.jet1_csv > .8484) & (df.jet1_flv < 4)) | ((df.jet2_csv > .8484) & (df.jet2_flv < 4))) &\\\n",
    "                   (df.numb_jets > 0) & (df.process == process)].shape[0]\n",
    "    denominator =  df[((df.jet1_flv < 4) | (df.jet2_flv < 4)) & (df.numb_jets > 0) & (df.process == process)].shape[0] \n",
    "    print numerator, denominator, float(numerator) / denominator"
   ]
  },
  {
   "cell_type": "code",
   "execution_count": 5,
   "metadata": {},
   "outputs": [
    {
     "data": {
      "text/plain": [
       "array([ 0., -2.,  4.,  5.])"
      ]
     },
     "execution_count": 5,
     "metadata": {},
     "output_type": "execute_result"
    }
   ],
   "source": [
    "df.jet1_flv.unique()"
   ]
  },
  {
   "cell_type": "code",
   "execution_count": 9,
   "metadata": {},
   "outputs": [
    {
     "data": {
      "text/plain": [
       "Index([u'index', u'process', u'process_decay', u'gen_weight', u'weight',\n",
       "       u'lep1_Charge', u'lep2_Charge', u'lep_Type', u'numbExtraLep',\n",
       "       u'tot_npv', u'gen_pu', u'mll', u'numb_jets', u'metMod', u'numb_BJet',\n",
       "       u'lep1_pt', u'lep2_pt', u'lep3_pt', u'dPhiLL', u'lep1_phi', u'lep2_phi',\n",
       "       u'jet1_flv', u'jet2_flv', u'jet1_pt', u'jet2_pt', u'jet3_pt',\n",
       "       u'jet4_pt', u'jet5_pt', u'jet6_pt', u'HT', u'jet1_csv', u'jet1_eta',\n",
       "       u'jet2_eta', u'jet3_eta', u'jet4_eta', u'jet5_eta', u'jet6_eta',\n",
       "       u'numb_BJet_gen', u'METProj_sin', u'met_over_sET', u'METProj',\n",
       "       u'met_phi', u'dPhiLLMET', u'mllMET', u'qT', u'recoil', u'dPhiLLJet',\n",
       "       u'dPhiMETJet', u'ww_pt', u'metFilter_flag', u'jet2_csv', u'jet3_csv',\n",
       "       u'jet3_flv'],\n",
       "      dtype='object')"
      ]
     },
     "execution_count": 9,
     "metadata": {},
     "output_type": "execute_result"
    }
   ],
   "source": [
    "df.keys()"
   ]
  },
  {
   "cell_type": "code",
   "execution_count": null,
   "metadata": {
    "collapsed": true
   },
   "outputs": [],
   "source": []
  },
  {
   "cell_type": "code",
   "execution_count": null,
   "metadata": {
    "collapsed": true
   },
   "outputs": [],
   "source": []
  },
  {
   "cell_type": "code",
   "execution_count": null,
   "metadata": {
    "collapsed": true
   },
   "outputs": [],
   "source": []
  },
  {
   "cell_type": "code",
   "execution_count": null,
   "metadata": {
    "collapsed": true
   },
   "outputs": [],
   "source": []
  },
  {
   "cell_type": "code",
   "execution_count": null,
   "metadata": {
    "collapsed": true
   },
   "outputs": [],
   "source": []
  }
 ],
 "metadata": {
  "kernelspec": {
   "display_name": "Python 2",
   "language": "python",
   "name": "python2"
  },
  "language_info": {
   "codemirror_mode": {
    "name": "ipython",
    "version": 2
   },
   "file_extension": ".py",
   "mimetype": "text/x-python",
   "name": "python",
   "nbconvert_exporter": "python",
   "pygments_lexer": "ipython2",
   "version": "2.7.13"
  },
  "toc": {
   "colors": {
    "hover_highlight": "#7c7e8b",
    "navigate_num": "#d3d3d3",
    "navigate_text": "#e4e4e4",
    "running_highlight": "#FF0000",
    "selected_highlight": "#7d878b",
    "sidebar_border": "#282121",
    "wrapper_background": "#1a2028"
   },
   "moveMenuLeft": true,
   "nav_menu": {
    "height": "187px",
    "width": "254px"
   },
   "navigate_menu": true,
   "number_sections": true,
   "sideBar": true,
   "threshold": 4,
   "toc_cell": false,
   "toc_position": {
    "height": "862px",
    "left": "0px",
    "right": "1403px",
    "top": "91px",
    "width": "212px"
   },
   "toc_section_display": "block",
   "toc_window_display": true,
   "widenNotebook": false
  }
 },
 "nbformat": 4,
 "nbformat_minor": 2
}
