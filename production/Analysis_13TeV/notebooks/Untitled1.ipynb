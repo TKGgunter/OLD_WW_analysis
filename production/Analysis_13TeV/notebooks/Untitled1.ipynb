{
 "cells": [
  {
   "cell_type": "markdown",
   "metadata": {},
   "source": [
    "# Njets plots using different weights"
   ]
  },
  {
   "cell_type": "code",
   "execution_count": 1,
   "metadata": {
    "scrolled": true
   },
   "outputs": [
    {
     "name": "stdout",
     "output_type": "stream",
     "text": [
      "Welcome to JupyROOT 6.10/00\n",
      "home /home/gunter/WW_analysis/production/Analysis_13TeV\n",
      "Loading binning options...\n",
      "Loading plotting options\n",
      "unc_mc_process and scales are parameter dictionaries\n"
     ]
    }
   ],
   "source": [
    "#Set up\n",
    "import os, sys\n",
    "sys.path.append(os.getcwd() + \"/../\")\n",
    "from prep_ana_II import *\n",
    "sys.path.append(os.getcwd() + \"/../tools/\")\n",
    "sys.path.append(os.getcwd() + \"/../tools/fit/\")\n",
    "sys.path.append(os.getcwd() + \"/../tools/bjetsys/\")\n",
    "from lepton_eff import muonEff, electronEff\n",
    "from pile_up import pileUpFunction, Min_Bias\n",
    "from cross_section_calc import calc_cross_stuff, cross_calc, stat_unc_calc, normalization_unc_calc, pseudo_data_yield_sum\n",
    "from fit import pack_data_dic, pack_mc_dic, MinFunction\n",
    "import pile_up\n",
    "import BTagCalibrationStandalone as BT\n",
    "\n",
    "\n",
    "import matplotlib\n",
    "import warnings"
   ]
  },
  {
   "cell_type": "code",
   "execution_count": 2,
   "metadata": {
    "collapsed": true
   },
   "outputs": [],
   "source": [
    "%matplotlib inline"
   ]
  },
  {
   "cell_type": "code",
   "execution_count": 42,
   "metadata": {},
   "outputs": [],
   "source": [
    "scales, df    = load_testset(\"lep\")\n",
    "#df = load_presel_w_fDY_fTT_MC(unc=\"\")\n",
    "df = pre_cuts(df[(df.lep2_pt > 25) & (df.mll > 30)], diff_charge=False)\n",
    "df_da = pre_cuts(load_presel_w_fDY_fTT_DATA(), diff_charge=False)\n",
    "df_da = df_da[(df_da.lep2_pt > 25) & (df_da.mll > 30)]\n",
    "\n",
    "#df_ww = rp.read_root(data_path+\"/ww_complete.root\")\n",
    "\n",
    "#df = df[df.metFilter_flag == 0]\n",
    "#df_da = df_da[df_da.metFilter_flag == 0]\n",
    "\n",
    "df_da[\"weight\"] = np.array([1.0] * df_da.shape[0]) \n",
    "warnings.filterwarnings('ignore')\n",
    "\n",
    "#print process_yields(df, df_da, scales=scales)\n",
    "#process_yields(df.query(\"pred_fDY_WW > .9 & pred_fTT_WW > .6\"), df_da.query(\"pred_fDY_WW > .9 & pred_fTT_WW > .6\"), scales=scales)"
   ]
  },
  {
   "cell_type": "code",
   "execution_count": 47,
   "metadata": {},
   "outputs": [
    {
     "name": "stdout",
     "output_type": "stream",
     "text": [
      "    Diff Flavor          Process  Same Flavor\n",
      "0         33976               WW        27085\n",
      "1          3216  GluGluWWTo2L2Nu         2614\n",
      "2         37191        Total: WW        29700\n",
      "3         87202               DY      3222148\n",
      "4         83065              Top        67343\n",
      "5          1924               WZ         3381\n",
      "6            50               ZZ         1173\n",
      "7          1832            WG(*)          930\n",
      "8           888            Higgs          935\n",
      "9             0               WJ            0\n",
      "10       212153            Total      3325610\n",
      "11       116749             DATA      1800165\n"
     ]
    },
    {
     "name": "stderr",
     "output_type": "stream",
     "text": [
      "Warning in <TStreamerInfo::BuildCheck>: \n",
      "   The StreamerInfo of class string read from file /home/gunter/WW_analysis/data_alpha/ww_complete.root\n",
      "   has the same version (=2) as the active class but a different checksum.\n",
      "   You should update the version to ClassDef(string,3).\n",
      "   Do not try to write objects with the current class definition,\n",
      "   the files will not be readable.\n",
      "\n",
      "Warning in <TStreamerInfo::CompareContent>: The following data member of\n",
      "the in-memory layout version 2 of class 'string' is missing from \n",
      "the on-file layout version 2:\n",
      "   string::_Alloc_hider _M_dataplus; //\n",
      "Warning in <TStreamerInfo::CompareContent>: The following data member of\n",
      "the in-memory layout version 2 of class 'string' is missing from \n",
      "the on-file layout version 2:\n",
      "   unsigned long _M_string_length; //\n",
      "Warning in <TStreamerInfo::CompareContent>: The following data member of\n",
      "the in-memory layout version 2 of class 'string' is missing from \n",
      "the on-file layout version 2:\n",
      "   string::(anonymous) ; //\n"
     ]
    }
   ],
   "source": [
    "ana_obj = analysis_setup(unc=\"lep\")\n",
    "scales = ana_obj.scales\n",
    "ana_obj.apply_pre_cuts()\n",
    "df = ana_obj.df\n",
    "df_da = ana_obj.df_da\n",
    "#process_yields(rf_ana(ana_obj.df), rf_ana(ana_obj.df_da), scales=scales)"
   ]
  },
  {
   "cell_type": "markdown",
   "metadata": {},
   "source": [
    "## table"
   ]
  },
  {
   "cell_type": "code",
   "execution_count": 5,
   "metadata": {},
   "outputs": [
    {
     "data": {
      "text/html": [
       "<div>\n",
       "<style>\n",
       "    .dataframe thead tr:only-child th {\n",
       "        text-align: right;\n",
       "    }\n",
       "\n",
       "    .dataframe thead th {\n",
       "        text-align: left;\n",
       "    }\n",
       "\n",
       "    .dataframe tbody tr th {\n",
       "        vertical-align: top;\n",
       "    }\n",
       "</style>\n",
       "<table border=\"1\" class=\"dataframe\">\n",
       "  <thead>\n",
       "    <tr style=\"text-align: right;\">\n",
       "      <th></th>\n",
       "      <th>Diff Flavor</th>\n",
       "      <th>Process</th>\n",
       "      <th>Same Flavor</th>\n",
       "    </tr>\n",
       "  </thead>\n",
       "  <tbody>\n",
       "    <tr>\n",
       "      <th>0</th>\n",
       "      <td>15653</td>\n",
       "      <td>WW</td>\n",
       "      <td>12121</td>\n",
       "    </tr>\n",
       "    <tr>\n",
       "      <th>1</th>\n",
       "      <td>1256</td>\n",
       "      <td>GluGluWWTo2L2Nu</td>\n",
       "      <td>979</td>\n",
       "    </tr>\n",
       "    <tr>\n",
       "      <th>2</th>\n",
       "      <td>16909</td>\n",
       "      <td>Total: WW</td>\n",
       "      <td>13100</td>\n",
       "    </tr>\n",
       "    <tr>\n",
       "      <th>3</th>\n",
       "      <td>22932</td>\n",
       "      <td>DY</td>\n",
       "      <td>1212205</td>\n",
       "    </tr>\n",
       "    <tr>\n",
       "      <th>4</th>\n",
       "      <td>38876</td>\n",
       "      <td>Top</td>\n",
       "      <td>31206</td>\n",
       "    </tr>\n",
       "    <tr>\n",
       "      <th>5</th>\n",
       "      <td>895</td>\n",
       "      <td>WZ</td>\n",
       "      <td>1584</td>\n",
       "    </tr>\n",
       "    <tr>\n",
       "      <th>6</th>\n",
       "      <td>18</td>\n",
       "      <td>ZZ</td>\n",
       "      <td>563</td>\n",
       "    </tr>\n",
       "    <tr>\n",
       "      <th>7</th>\n",
       "      <td>1724</td>\n",
       "      <td>WG(*)</td>\n",
       "      <td>186</td>\n",
       "    </tr>\n",
       "    <tr>\n",
       "      <th>8</th>\n",
       "      <td>265</td>\n",
       "      <td>Higgs</td>\n",
       "      <td>283</td>\n",
       "    </tr>\n",
       "    <tr>\n",
       "      <th>9</th>\n",
       "      <td>1919</td>\n",
       "      <td>WJ</td>\n",
       "      <td>4893</td>\n",
       "    </tr>\n",
       "    <tr>\n",
       "      <th>10</th>\n",
       "      <td>82556</td>\n",
       "      <td>Total</td>\n",
       "      <td>1261514</td>\n",
       "    </tr>\n",
       "    <tr>\n",
       "      <th>11</th>\n",
       "      <td>86865</td>\n",
       "      <td>DATA</td>\n",
       "      <td>1372591</td>\n",
       "    </tr>\n",
       "  </tbody>\n",
       "</table>\n",
       "</div>"
      ],
      "text/plain": [
       "    Diff Flavor          Process  Same Flavor\n",
       "0         15653               WW        12121\n",
       "1          1256  GluGluWWTo2L2Nu          979\n",
       "2         16909        Total: WW        13100\n",
       "3         22932               DY      1212205\n",
       "4         38876              Top        31206\n",
       "5           895               WZ         1584\n",
       "6            18               ZZ          563\n",
       "7          1724            WG(*)          186\n",
       "8           265            Higgs          283\n",
       "9          1919               WJ         4893\n",
       "10        82556            Total      1261514\n",
       "11        86865             DATA      1372591"
      ]
     },
     "execution_count": 5,
     "metadata": {},
     "output_type": "execute_result"
    }
   ],
   "source": [
    "process_yields(ana_obj.df, ana_obj.df_da, scales=scales)"
   ]
  },
  {
   "cell_type": "code",
   "execution_count": 11,
   "metadata": {
    "collapsed": true
   },
   "outputs": [],
   "source": [
    "#df[\"weight\"] = 1"
   ]
  },
  {
   "cell_type": "code",
   "execution_count": 51,
   "metadata": {},
   "outputs": [
    {
     "data": {
      "image/png": "[encoded data removed]",
      "text/plain": [
       "<matplotlib.figure.Figure at 0x7ff17612a950>"
      ]
     },
     "metadata": {},
     "output_type": "display_data"
    }
   ],
   "source": [
    "scales_ = {}\n",
    "for key in plotting_options.process_decay.unique():\n",
    "  scales_[key] = eval(plotting_options[plotting_options.process_decay == key][\"scale\"].values[0])\n",
    "\n",
    "a, b, c, d= full_bin_plot(df, df_da, \"numb_jets\", query=\"pred_fDY_WW > .9 & pred_fTT_WW > .6\" ,scales=scales, logy=False, x_range=None, y_range=None)"
   ]
  },
  {
   "cell_type": "code",
   "execution_count": 39,
   "metadata": {},
   "outputs": [
    {
     "name": "stdout",
     "output_type": "stream",
     "text": [
      "224406 50218.8100516\n",
      "190040 42528.1973842\n"
     ]
    }
   ],
   "source": [
    "print df[df.process_decay == \"WW\"].shape[0], df[df.process_decay == \"WW\"].shape[0] * scales_[\"WW\"]\n",
    "print pre_cuts(df[df.process_decay == \"WW\"]).shape[0], pre_cuts(df[df.process_decay == \"WW\"]).shape[0] * scales_[\"WW\"]"
   ]
  },
  {
   "cell_type": "code",
   "execution_count": 41,
   "metadata": {},
   "outputs": [
    {
     "name": "stdout",
     "output_type": "stream",
     "text": [
      "114151 42541.9472074\n"
     ]
    }
   ],
   "source": [
    "print pre_cuts(df[df.process_decay == \"WW\"]).shape[0], pre_cuts(df[df.process_decay == \"WW\"]).shape[0] * scales[\"WW\"]"
   ]
  },
  {
   "cell_type": "code",
   "execution_count": 37,
   "metadata": {},
   "outputs": [
    {
     "data": {
      "text/plain": [
       "(147691, 50101.097524449986)"
      ]
     },
     "execution_count": 37,
     "metadata": {},
     "output_type": "execute_result"
    }
   ],
   "source": [
    "df[df.process_decay == \"WW\"].shape[0], df[df.process_decay == \"WW\"].shape[0] * scales[\"WW\"] "
   ]
  },
  {
   "cell_type": "code",
   "execution_count": 5,
   "metadata": {
    "collapsed": true
   },
   "outputs": [],
   "source": [
    "static_weights = df.weight.values.copy()"
   ]
  },
  {
   "cell_type": "code",
   "execution_count": 12,
   "metadata": {
    "collapsed": true
   },
   "outputs": [],
   "source": [
    "df[\"weight\"] = static_weights\n",
    "df.weight.values[df.process == \"Top\"] = calc_bjet_weight(df[df.process == \"Top\"], reader)"
   ]
  },
  {
   "cell_type": "markdown",
   "metadata": {},
   "source": [
    "## table2"
   ]
  },
  {
   "cell_type": "code",
   "execution_count": 5,
   "metadata": {},
   "outputs": [
    {
     "data": {
      "image/png": "[encoded data removed]",
      "text/plain": [
       "<matplotlib.figure.Figure at 0x7fe9da56b210>"
      ]
     },
     "metadata": {},
     "output_type": "display_data"
    }
   ],
   "source": [
    "a, b, c, d= full_bin_plot(df, df_da, \"numb_jets\", query=\"pred_fDY_WW > .6 & pred_fTT_WW < .6\",scales=scales, logy=True, x_range=None, y_range=None)"
   ]
  },
  {
   "cell_type": "code",
   "execution_count": 8,
   "metadata": {},
   "outputs": [
    {
     "data": {
      "image/png": "[encoded data removed]",
      "text/plain": [
       "<matplotlib.figure.Figure at 0x7fd68308d390>"
      ]
     },
     "metadata": {},
     "output_type": "display_data"
    }
   ],
   "source": [
    "a, b, c, d= full_bin_plot(df, df_da, \"pred_fTT_WW\", query=None,scales=scales, logy=True, x_range=None, y_range=None)"
   ]
  },
  {
   "cell_type": "code",
   "execution_count": 9,
   "metadata": {},
   "outputs": [
    {
     "data": {
      "image/png": "[encoded data removed]",
      "text/plain": [
       "<matplotlib.figure.Figure at 0x7fd6828ab3d0>"
      ]
     },
     "metadata": {},
     "output_type": "display_data"
    }
   ],
   "source": [
    "a, b, c, d= full_bin_plot(df, df_da, \"pred_fDY_WW\", query=None,scales=scales, logy=True, x_range=None, y_range=None)"
   ]
  },
  {
   "cell_type": "code",
   "execution_count": 9,
   "metadata": {},
   "outputs": [
    {
     "data": {
      "text/html": [
       "<div>\n",
       "<style>\n",
       "    .dataframe thead tr:only-child th {\n",
       "        text-align: right;\n",
       "    }\n",
       "\n",
       "    .dataframe thead th {\n",
       "        text-align: left;\n",
       "    }\n",
       "\n",
       "    .dataframe tbody tr th {\n",
       "        vertical-align: top;\n",
       "    }\n",
       "</style>\n",
       "<table border=\"1\" class=\"dataframe\">\n",
       "  <thead>\n",
       "    <tr style=\"text-align: right;\">\n",
       "      <th></th>\n",
       "      <th>Diff Flavor</th>\n",
       "      <th>Process</th>\n",
       "      <th>Same Flavor</th>\n",
       "    </tr>\n",
       "  </thead>\n",
       "  <tbody>\n",
       "    <tr>\n",
       "      <th>0</th>\n",
       "      <td>9961</td>\n",
       "      <td>WW</td>\n",
       "      <td>1466</td>\n",
       "    </tr>\n",
       "    <tr>\n",
       "      <th>1</th>\n",
       "      <td>875</td>\n",
       "      <td>GluGluWWTo2L2Nu</td>\n",
       "      <td>154</td>\n",
       "    </tr>\n",
       "    <tr>\n",
       "      <th>2</th>\n",
       "      <td>10836</td>\n",
       "      <td>Total: WW</td>\n",
       "      <td>1620</td>\n",
       "    </tr>\n",
       "    <tr>\n",
       "      <th>3</th>\n",
       "      <td>1448</td>\n",
       "      <td>DY</td>\n",
       "      <td>280</td>\n",
       "    </tr>\n",
       "    <tr>\n",
       "      <th>4</th>\n",
       "      <td>2446</td>\n",
       "      <td>Top</td>\n",
       "      <td>444</td>\n",
       "    </tr>\n",
       "    <tr>\n",
       "      <th>5</th>\n",
       "      <td>281</td>\n",
       "      <td>WZ</td>\n",
       "      <td>56</td>\n",
       "    </tr>\n",
       "    <tr>\n",
       "      <th>6</th>\n",
       "      <td>3</td>\n",
       "      <td>ZZ</td>\n",
       "      <td>32</td>\n",
       "    </tr>\n",
       "    <tr>\n",
       "      <th>7</th>\n",
       "      <td>852</td>\n",
       "      <td>WG(*)</td>\n",
       "      <td>0</td>\n",
       "    </tr>\n",
       "    <tr>\n",
       "      <th>8</th>\n",
       "      <td>143</td>\n",
       "      <td>Higgs</td>\n",
       "      <td>23</td>\n",
       "    </tr>\n",
       "    <tr>\n",
       "      <th>9</th>\n",
       "      <td>528</td>\n",
       "      <td>WJ</td>\n",
       "      <td>170</td>\n",
       "    </tr>\n",
       "    <tr>\n",
       "      <th>10</th>\n",
       "      <td>16266</td>\n",
       "      <td>Total</td>\n",
       "      <td>2538</td>\n",
       "    </tr>\n",
       "    <tr>\n",
       "      <th>11</th>\n",
       "      <td>16660</td>\n",
       "      <td>DATA</td>\n",
       "      <td>2760</td>\n",
       "    </tr>\n",
       "  </tbody>\n",
       "</table>\n",
       "</div>"
      ],
      "text/plain": [
       "    Diff Flavor          Process  Same Flavor\n",
       "0          9961               WW         1466\n",
       "1           875  GluGluWWTo2L2Nu          154\n",
       "2         10836        Total: WW         1620\n",
       "3          1448               DY          280\n",
       "4          2446              Top          444\n",
       "5           281               WZ           56\n",
       "6             3               ZZ           32\n",
       "7           852            WG(*)            0\n",
       "8           143            Higgs           23\n",
       "9           528               WJ          170\n",
       "10        16266            Total         2538\n",
       "11        16660             DATA         2760"
      ]
     },
     "execution_count": 9,
     "metadata": {},
     "output_type": "execute_result"
    }
   ],
   "source": [
    "process_yields(df.query(\"pred_fDY_WW > .9 & pred_fTT_WW > .6\"), df_da.query(\"pred_fDY_WW > .9 & pred_fTT_WW > .6\"), scales=scales)"
   ]
  },
  {
   "cell_type": "code",
   "execution_count": 14,
   "metadata": {},
   "outputs": [
    {
     "name": "stdout",
     "output_type": "stream",
     "text": [
      "    Diff Flavor          Process  Same Flavor\n",
      "0          9961               WW         1466\n",
      "1           875  GluGluWWTo2L2Nu          154\n",
      "2         10836        Total: WW         1620\n",
      "3          1448               DY          280\n",
      "4          2446              Top          444\n",
      "5           281               WZ           56\n",
      "6             3               ZZ           32\n",
      "7           852            WG(*)            0\n",
      "8           143            Higgs           23\n",
      "9           528               WJ          170\n",
      "10        16266            Total         2538\n",
      "11        16660             DATA         2760\n",
      "N_ww_tot 60427.6040812 11427 0.189102317951 0.223785505074\n"
     ]
    }
   ],
   "source": [
    "from cross_section_calc import pseudo_data_yield_sum\n",
    "pseudo = pseudo_data_yield_sum(df.query(\"pred_fDY_WW > .9 & pred_fTT_WW > .6\"), df_da.query(\"pred_fDY_WW > .9 & pred_fTT_WW > .6\"), scales=scales)\n",
    "cross_orig   =  cross_calc(df, df_da, df_ww, None, scales,  fiducial=True, pseudo=pseudo)"
   ]
  },
  {
   "cell_type": "markdown",
   "metadata": {},
   "source": [
    "# Fitting"
   ]
  },
  {
   "cell_type": "code",
   "execution_count": null,
   "metadata": {
    "collapsed": true
   },
   "outputs": [],
   "source": []
  },
  {
   "cell_type": "code",
   "execution_count": 6,
   "metadata": {},
   "outputs": [
    {
     "name": "stdout",
     "output_type": "stream",
     "text": [
      "1378485.50222\n",
      "     fun: 2.991208264415292\n",
      "     jac: array([  5.75184822e-06,   8.94069672e-08,   5.57303429e-06])\n",
      " message: 'Optimization terminated successfully.'\n",
      "    nfev: 42\n",
      "     nit: 5\n",
      "    njev: 5\n",
      "  status: 0\n",
      " success: True\n",
      "       x: array([ 0.88850954,  1.02716798,  1.04922503])\n",
      "ww 0.898509541077\n",
      "0.000115715485981 [0.90072936818029881, 1.027167984338311, 1.0492250295789247] [ 0.88850954  1.02716798  1.04922503]\n",
      "0.000115715485981 [0.90072936818029881, 1.027167984338311, 1.0492250295789247] [ 0.88850954  1.02716798  1.04922503]\n",
      "0.000118154620873 [0.90072938308146, 1.027167984338311, 1.0492250295789247] [ 0.88850954  1.02716798  1.04922503]\n",
      "0.000821619933999 [0.90072364046547027, 1.027167984338311, 1.0492250295789247] [ 0.88850954  1.02716798  1.04922503]\n",
      "0.000151693317632 [0.90072773441638609, 1.027167984338311, 1.0492250295789247] [ 0.88850954  1.02716798  1.04922503]\n",
      "2.13860811593e-06 [0.90072864816448694, 1.027167984338311, 1.0492250295789247] [ 0.88850954  1.02716798  1.04922503]\n",
      "tt 1.02616798434\n",
      "3.01154675384e-05 [0.88850954107727287, 1.0247769987238622, 1.0492250295789247] [ 0.88850954  1.02716798  1.04922503]\n",
      "3.01154675384e-05 [0.88850954107727287, 1.0247769987238622, 1.0492250295789247] [ 0.88850954  1.02716798  1.04922503]\n",
      "1.76507191783e-05 [0.88850954107727287, 1.0247770136250234, 1.0492250295789247] [ 0.88850954  1.02716798  1.04922503]\n",
      "0.000363507925675 [0.88850954107727287, 1.0247774693314067, 1.0492250295789247] [ 0.88850954  1.02716798  1.04922503]\n",
      "7.64552957224e-05 [0.88850954107727287, 1.0247771261283978, 1.0492250295789247] [ 0.88850954  1.02716798  1.04922503]\n",
      "7.02259326646e-06 [0.88850954107727287, 1.0247770431213603, 1.0492250295789247] [ 0.88850954  1.02716798  1.04922503]\n",
      "dy 1.04822502958\n",
      "0.000929575769801 [0.88850954107727287, 1.027167984338311, 1.0482436402069133] [ 0.88850954  1.02716798  1.04922503]\n",
      "0.000929575769801 [0.88850954107727287, 1.027167984338311, 1.0482436402069133] [ 0.88850954  1.02716798  1.04922503]\n",
      "0.000959914560636 [0.88850954107727287, 1.027167984338311, 1.0482436551080745] [ 0.88850954  1.02716798  1.04922503]\n",
      "0.000119419742389 [0.88850954107727287, 1.027167984338311, 1.0482431251227184] [ 0.88850954  1.02716798  1.04922503]\n"
     ]
    }
   ],
   "source": [
    "from scipy.optimize import curve_fit, minimize\n",
    "\n",
    "df[\"weight\"] = static_weights \n",
    "#df.weight.values[df.process == 'Top'] = calc_bjet_weight(df[df.process == \"Top\"], reader)\n",
    "\n",
    "data_control_dic = {}\n",
    "mc_control_dic = {}\n",
    "pack_data_dic(data_control_dic, df_da)\n",
    "pack_mc_dic(mc_control_dic, df, df_da, scales)\n",
    "\n",
    "func_obj = MinFunction(mc_control_dic, data_control_dic)\n",
    "\n",
    "print func_obj.min_func([0,0,0])\n",
    "temp1 = minimize(func_obj.min_func, [1.,1., 1.], method='SLSQP')\n",
    "\n",
    "print temp1\n",
    "func_obj.fit_result = temp1.x\n",
    "for i in [\"ww\", \"tt\", \"dy\"]:\n",
    "    func_obj.uncertainty_for = i\n",
    "    if i == \"ww\":\n",
    "        t = func_obj.fit_result[0] + 0.01\n",
    "    if i == \"tt\":\n",
    "        t = func_obj.fit_result[1] - 0.001\n",
    "    if i == \"dy\":\n",
    "        t = func_obj.fit_result[2] - 0.001\n",
    "    print i, t\n",
    "    minimize(func_obj.unc_func, [t], method='SLSQP')"
   ]
  },
  {
   "cell_type": "code",
   "execution_count": 7,
   "metadata": {},
   "outputs": [
    {
     "name": "stdout",
     "output_type": "stream",
     "text": [
      "1376859.12115\n",
      "     fun: 1200.0563271499573\n",
      "     jac: array([ -3.05175781e-05,   9.15527344e-05,   0.00000000e+00])\n",
      " message: 'Optimization terminated successfully.'\n",
      "    nfev: 42\n",
      "     nit: 5\n",
      "    njev: 5\n",
      "  status: 0\n",
      " success: True\n",
      "       x: array([ 0.85116033,  1.02637619,  1.04899926])\n",
      "ww 0.861160325954\n",
      "0.000751655627798 [0.84927185753913215, 1.026376192390821, 1.04899925545001] [ 0.85116033  1.02637619  1.04899926]\n",
      "0.000751655627798 [0.84927185753913215, 1.026376192390821, 1.04899925545001] [ 0.85116033  1.02637619  1.04899926]\n",
      "0.000759728775316 [0.84927187244029334, 1.026376192390821, 1.04899925545001] [ 0.85116033  1.02637619  1.04899926]\n",
      "0.000297047818897 [0.84926992192205963, 1.026376192390821, 1.04899925545001] [ 0.85116033  1.02637619  1.04899926]\n",
      "0.000297047818897 [0.84926992192205963, 1.026376192390821, 1.04899925545001] [ 0.85116033  1.02637619  1.04899926]\n",
      "0.000288974285024 [0.84926993682322083, 1.026376192390821, 1.04899925545001] [ 0.85116033  1.02637619  1.04899926]\n",
      "0.000227322724418 [0.84927088975375353, 1.026376192390821, 1.04899925545001] [ 0.85116033  1.02637619  1.04899926]\n",
      "tt 1.02537619239\n",
      "0.000494523759833 [0.85116032595426827, 1.0254273796918547, 1.04899925545001] [ 0.85116033  1.02637619  1.04899926]\n",
      "0.000494523759833 [0.85116032595426827, 1.0254273796918547, 1.04899925545001] [ 0.85116033  1.02637619  1.04899926]\n",
      "0.000512694202744 [0.85116032595426827, 1.0254273945930159, 1.04899925545001] [ 0.85116033  1.02637619  1.04899926]\n",
      "0.000191003379573 [0.85116032595426827, 1.0254268175533936, 1.04899925545001] [ 0.85116033  1.02637619  1.04899926]\n",
      "dy 1.04799925545\n",
      "2.1208742762e-06 [0.85116032595426827, 1.026376192390821, 1.0483957907923886] [ 0.85116033  1.02637619  1.04899926]\n"
     ]
    }
   ],
   "source": [
    "from scipy.optimize import curve_fit, minimize\n",
    "\n",
    "df[\"weight\"] = static_weights \n",
    "#df.weight.values[df.process == 'Top'] = calc_bjet_weight(df[df.process == \"Top\"], reader)\n",
    "\n",
    "data_control_dic = {}\n",
    "mc_control_dic = {}\n",
    "feature = \"metMod\"\n",
    "pack_data_dic(data_control_dic, df_da, feature)\n",
    "pack_mc_dic(mc_control_dic, df, df_da, scales, feature)\n",
    "\n",
    "func_obj_template = MinFunction(mc_control_dic, data_control_dic)\n",
    "\n",
    "print func_obj_template.min_func([0,0,0])\n",
    "temp2 = minimize(func_obj_template.min_func, [1.,1., 1.], method='SLSQP')\n",
    "\n",
    "print temp2\n",
    "func_obj.fit_result = temp2.x\n",
    "for i in [\"ww\", \"tt\", \"dy\"]:\n",
    "    func_obj.uncertainty_for = i\n",
    "    if i == \"ww\":\n",
    "        t = func_obj.fit_result[0] + 0.01\n",
    "    if i == \"tt\":\n",
    "        t = func_obj.fit_result[1] - 0.001\n",
    "    if i == \"dy\":\n",
    "        t = func_obj.fit_result[2] - 0.001\n",
    "    print i, t\n",
    "    temp2 = minimize(func_obj.unc_func, [t], method='SLSQP')\n"
   ]
  },
  {
   "cell_type": "markdown",
   "metadata": {},
   "source": [
    "# End"
   ]
  },
  {
   "cell_type": "code",
   "execution_count": 6,
   "metadata": {},
   "outputs": [
    {
     "data": {
      "text/plain": [
       "{'DY1JetsToLL_M-10to50': 0.9252904392678166,\n",
       " 'DY1JetsToLL_M-50': 0.7766378163951988,\n",
       " 'DY2JetsToLL_M-10to50': 0.36225877324669714,\n",
       " 'DY2JetsToLL_M-50': 0.29735738661210365,\n",
       " 'DY3JetsToLL_M-10to50': 1.0727670109000442,\n",
       " 'DY3JetsToLL_M-50': 0.16653798371286863,\n",
       " 'DY4JetsToLL_M-10to50': 1.0495385182234422,\n",
       " 'DY4JetsToLL_M-50': 0.1291829374743375,\n",
       " 'DYJetsToLL_M-10to50': 6.528888910020416,\n",
       " 'DYJetsToLL_M-50': 2.882240719468713,\n",
       " 'Da': 1,\n",
       " 'GluGluHToWWTo2L2Nu': 0.3499964108235247,\n",
       " 'GluGluWWTo2L2Nu': 0.06057407,\n",
       " 'T_s-channel': 0.1141288390921382,\n",
       " 'T_t-channel': 0.3378220326116155,\n",
       " 'T_tW-channel': 0.40448777527555274,\n",
       " 'Tbar_s-channel': 0.63184,\n",
       " 'Tbar_t-channel': 0.2805844225276096,\n",
       " 'Tbar_tW-channel': 0.406151676920305,\n",
       " 'W1JetsToLNu': 9.089684109965036,\n",
       " 'W2JetsToLNu': 4.536110409181353,\n",
       " 'W3JetsToLNu': 2.0668813378510253,\n",
       " 'W4JetsToLNu': 2.4821297734604895,\n",
       " 'WGToLNuG': 8.072542833475318,\n",
       " 'WGstarToLNu2E': 0.042796573443762906,\n",
       " 'WW': 0.22378550507364844,\n",
       " 'WZJetsTo2L2Q': 0.007615269475834489,\n",
       " 'WZJetsTo3LNu': 0.07977361508443402,\n",
       " 'ZZJetsTo2L2Nu': 0.0022923579464016017,\n",
       " 'ZZJetsTo2L2Q': 0.007533189618094565,\n",
       " 'ttbar_leptonic': 0.039641386874173276,\n",
       " 'ttbar_semileptonic': 0.1424317275520139}"
      ]
     },
     "execution_count": 6,
     "metadata": {},
     "output_type": "execute_result"
    }
   ],
   "source": [
    "scales_ = scales.copy()\n",
    "scales_"
   ]
  },
  {
   "cell_type": "code",
   "execution_count": 7,
   "metadata": {},
   "outputs": [
    {
     "name": "stdout",
     "output_type": "stream",
     "text": [
      "309.0 617.0 0.0349025362643 1.99676375405 0.0174795521972\n",
      "1193.38372401 2532.75515424 0.126213602406 2.12233090102 0.00779500978774\n"
     ]
    }
   ],
   "source": [
    "ss, SS = (0., 0.)\n",
    "ds, DS = (0., 0.)\n",
    "\n",
    "wj_scales = []\n",
    "\n",
    "for i in df[df.process == \"WJ\"].process_decay.unique():\n",
    "    wj_scales.append(scales[i])\n",
    "    ss += df[(df.process_decay == i) & (df.lep1_Charge == df.lep2_Charge)].shape[0] * 1.0000#* scales[i]\n",
    "    ds += df[(df.process_decay == i) & (df.lep1_Charge != df.lep2_Charge)].shape[0] * 1.0000#* scales[i]\n",
    "    \n",
    "    SS += df[(df.process_decay == i) & (df.lep1_Charge == df.lep2_Charge)].weight.sum() * scales[i]\n",
    "    DS += df[(df.process_decay == i) & (df.lep1_Charge != df.lep2_Charge)].weight.sum() * scales[i]\n",
    "    \n",
    "print ss, ds, (ss / ds**2 + ss**2 / ds**3)**.5, ds/ss, (ss / ds**2 + ss**2 / ds**3)**.5 / (ds/ss)\n",
    "print SS, DS, (sum(wj_scales)**2 / DS**2  * ss + SS**2 / (ds**4 * sum(wj_scales)**2) * ds)**.5, DS/SS, (SS / DS**2 + SS**2 / DS**3)**.5 / (DS/SS)"
   ]
  },
  {
   "cell_type": "code",
   "execution_count": 8,
   "metadata": {
    "collapsed": true
   },
   "outputs": [],
   "source": [
    "a = process_yields(df[(df.pred_fDY_WW > .9) & (df.pred_fTT_WW > .6)], df_da[(df_da.pred_fDY_WW > .9) & (df_da.pred_fTT_WW > .6)], scales=scales)"
   ]
  },
  {
   "cell_type": "code",
   "execution_count": 14,
   "metadata": {
    "collapsed": true
   },
   "outputs": [],
   "source": [
    "save_df_to_html(a, \"temp_ww_yields.html\")"
   ]
  },
  {
   "cell_type": "code",
   "execution_count": 17,
   "metadata": {},
   "outputs": [
    {
     "name": "stdout",
     "output_type": "stream",
     "text": [
      "9.08968410997\n",
      "4.53611040918\n",
      "2.06688133785\n",
      "2.48212977346\n"
     ]
    }
   ],
   "source": [
    "for i in df[df.process == \"WJ\"].process_decay.unique():\n",
    "    print scales[i]"
   ]
  },
  {
   "cell_type": "code",
   "execution_count": 18,
   "metadata": {},
   "outputs": [
    {
     "data": {
      "text/plain": [
       "18.174805630457904"
      ]
     },
     "execution_count": 18,
     "metadata": {},
     "output_type": "execute_result"
    }
   ],
   "source": [
    "sum(wj_scales)"
   ]
  },
  {
   "cell_type": "code",
   "execution_count": 9,
   "metadata": {},
   "outputs": [
    {
     "data": {
      "text/html": [
       "<div>\n",
       "<style>\n",
       "    .dataframe thead tr:only-child th {\n",
       "        text-align: right;\n",
       "    }\n",
       "\n",
       "    .dataframe thead th {\n",
       "        text-align: left;\n",
       "    }\n",
       "\n",
       "    .dataframe tbody tr th {\n",
       "        vertical-align: top;\n",
       "    }\n",
       "</style>\n",
       "<table border=\"1\" class=\"dataframe\">\n",
       "  <thead>\n",
       "    <tr style=\"text-align: right;\">\n",
       "      <th></th>\n",
       "      <th>Diff Flavor</th>\n",
       "      <th>Process</th>\n",
       "      <th>Same Flavor</th>\n",
       "    </tr>\n",
       "  </thead>\n",
       "  <tbody>\n",
       "    <tr>\n",
       "      <th>0</th>\n",
       "      <td>2731</td>\n",
       "      <td>GluGluWWTo2L2Nu</td>\n",
       "      <td>503</td>\n",
       "    </tr>\n",
       "    <tr>\n",
       "      <th>1</th>\n",
       "      <td>12706</td>\n",
       "      <td>WW</td>\n",
       "      <td>1990</td>\n",
       "    </tr>\n",
       "    <tr>\n",
       "      <th>2</th>\n",
       "      <td>15437</td>\n",
       "      <td>WW</td>\n",
       "      <td>2493</td>\n",
       "    </tr>\n",
       "    <tr>\n",
       "      <th>3</th>\n",
       "      <td>2011</td>\n",
       "      <td>DY</td>\n",
       "      <td>743</td>\n",
       "    </tr>\n",
       "    <tr>\n",
       "      <th>4</th>\n",
       "      <td>8641</td>\n",
       "      <td>Top</td>\n",
       "      <td>1788</td>\n",
       "    </tr>\n",
       "    <tr>\n",
       "      <th>5</th>\n",
       "      <td>485</td>\n",
       "      <td>WZ</td>\n",
       "      <td>94</td>\n",
       "    </tr>\n",
       "    <tr>\n",
       "      <th>6</th>\n",
       "      <td>4</td>\n",
       "      <td>ZZ</td>\n",
       "      <td>44</td>\n",
       "    </tr>\n",
       "    <tr>\n",
       "      <th>7</th>\n",
       "      <td>1157</td>\n",
       "      <td>WG(*)</td>\n",
       "      <td>0</td>\n",
       "    </tr>\n",
       "    <tr>\n",
       "      <th>8</th>\n",
       "      <td>187</td>\n",
       "      <td>Higgs</td>\n",
       "      <td>27</td>\n",
       "    </tr>\n",
       "    <tr>\n",
       "      <th>9</th>\n",
       "      <td>793</td>\n",
       "      <td>WJ</td>\n",
       "      <td>225</td>\n",
       "    </tr>\n",
       "    <tr>\n",
       "      <th>10</th>\n",
       "      <td>28309</td>\n",
       "      <td>Total</td>\n",
       "      <td>5298</td>\n",
       "    </tr>\n",
       "    <tr>\n",
       "      <th>11</th>\n",
       "      <td>27652</td>\n",
       "      <td>DATA</td>\n",
       "      <td>5209</td>\n",
       "    </tr>\n",
       "  </tbody>\n",
       "</table>\n",
       "</div>"
      ],
      "text/plain": [
       "    Diff Flavor          Process  Same Flavor\n",
       "0          2731  GluGluWWTo2L2Nu          503\n",
       "1         12706               WW         1990\n",
       "2         15437               WW         2493\n",
       "3          2011               DY          743\n",
       "4          8641              Top         1788\n",
       "5           485               WZ           94\n",
       "6             4               ZZ           44\n",
       "7          1157            WG(*)            0\n",
       "8           187            Higgs           27\n",
       "9           793               WJ          225\n",
       "10        28309            Total         5298\n",
       "11        27652             DATA         5209"
      ]
     },
     "execution_count": 9,
     "metadata": {},
     "output_type": "execute_result"
    }
   ],
   "source": [
    "a"
   ]
  },
  {
   "cell_type": "code",
   "execution_count": 8,
   "metadata": {
    "collapsed": true
   },
   "outputs": [],
   "source": [
    "a = df.jet1_flv.value_counts()"
   ]
  },
  {
   "cell_type": "code",
   "execution_count": 10,
   "metadata": {},
   "outputs": [
    {
     "data": {
      "text/plain": [
       "pandas.core.series.Series"
      ]
     },
     "execution_count": 10,
     "metadata": {},
     "output_type": "execute_result"
    }
   ],
   "source": [
    "type(a)"
   ]
  },
  {
   "cell_type": "code",
   "execution_count": 13,
   "metadata": {},
   "outputs": [
    {
     "data": {
      "text/plain": [
       "20.000038"
      ]
     },
     "execution_count": 13,
     "metadata": {},
     "output_type": "execute_result"
    }
   ],
   "source": [
    "df[df.jet1_pt > 15].jet1_pt.min()"
   ]
  },
  {
   "cell_type": "code",
   "execution_count": null,
   "metadata": {
    "collapsed": true
   },
   "outputs": [],
   "source": []
  },
  {
   "cell_type": "code",
   "execution_count": 27,
   "metadata": {},
   "outputs": [
    {
     "name": "stdout",
     "output_type": "stream",
     "text": [
      "0.521443210283\n",
      "20609 104545\n"
     ]
    }
   ],
   "source": [
    "tally_light = 0\n",
    "for row in rf_ana(df[df.process == \"WW\"]).iterrows():\n",
    "    temp_tally = 0\n",
    "    if row[1].jet1_flv == 0:\n",
    "        temp_tally += 1\n",
    "    if row[1].jet2_flv == 0:\n",
    "        temp_tally += 1\n",
    "    if row[1].jet3_flv == 0:\n",
    "        temp_tally += 1\n",
    "    if row[1].jet4_flv == 0:\n",
    "        temp_tally += 1\n",
    "    if row[1].jet5_flv == 0:\n",
    "        temp_tally += 1\n",
    "    if row[1].jet6_flv == 0:\n",
    "        temp_tally += 1\n",
    "    tally_light += temp_tally\n",
    "    \n",
    "print tally_light / float(rf_ana(df[df.process == \"WW\"]).shape[0])\n",
    "print tally_light, df[df.process == \"WW\"].shape[0]"
   ]
  },
  {
   "cell_type": "code",
   "execution_count": 32,
   "metadata": {},
   "outputs": [
    {
     "data": {
      "text/plain": [
       "<matplotlib.axes._subplots.AxesSubplot at 0x7f9284950050>"
      ]
     },
     "execution_count": 32,
     "metadata": {},
     "output_type": "execute_result"
    },
    {
     "data": {
      "image/png": "[encoded data removed]",
      "text/plain": [
       "<matplotlib.figure.Figure at 0x7f92848ed350>"
      ]
     },
     "metadata": {},
     "output_type": "display_data"
    }
   ],
   "source": [
    "df[df.process == \"Higgs\"].lep2_type.hist()"
   ]
  },
  {
   "cell_type": "code",
   "execution_count": 36,
   "metadata": {},
   "outputs": [
    {
     "name": "stdout",
     "output_type": "stream",
     "text": [
      "DYJetsToLL_M-50 -1    379723\n",
      "-2    186800\n",
      " 1     12186\n",
      "Name: lep_Type, dtype: int64\n",
      "DYJetsToLL_M-10to50 -1    7845\n",
      "-2    3559\n",
      " 1      19\n",
      "Name: lep_Type, dtype: int64\n",
      "WW  1    44230\n",
      "-1    22025\n",
      "-2    12137\n",
      "Name: lep_Type, dtype: int64\n",
      "ttbar_leptonic  1    747781\n",
      "-1    379297\n",
      "-2    222579\n",
      "Name: lep_Type, dtype: int64\n",
      "ttbar_semileptonic  1    3700\n",
      "-1    2627\n",
      "-2     438\n",
      "Name: lep_Type, dtype: int64\n",
      "Tbar_tW-channel  1    2070\n",
      "-1    1011\n",
      "-2     607\n",
      "Name: lep_Type, dtype: int64\n",
      "Tbar_t-channel  1    74\n",
      "-1    35\n",
      "-2     1\n",
      "Name: lep_Type, dtype: int64\n",
      "T_tW-channel  1    2057\n",
      "-1    1025\n",
      "-2     620\n",
      "Name: lep_Type, dtype: int64\n",
      "T_s-channel  1    45\n",
      "-1    28\n",
      "-2     2\n",
      "Name: lep_Type, dtype: int64\n",
      "T_t-channel  1    87\n",
      "-1    71\n",
      "-2     4\n",
      "Name: lep_Type, dtype: int64\n",
      "ZZJetsTo2L2Q -1    48646\n",
      "-2    27563\n",
      " 1     2787\n",
      "Name: lep_Type, dtype: int64\n",
      "ZZJetsTo2L2Nu -1    53214\n",
      "-2    30457\n",
      " 1     2603\n",
      "Name: lep_Type, dtype: int64\n",
      "WZJetsTo2L2Q -1    91142\n",
      "-2    51995\n",
      " 1     5360\n",
      "Name: lep_Type, dtype: int64\n",
      "WZJetsTo3LNu  1    20894\n",
      "-1    10314\n",
      "-2     8580\n",
      "Name: lep_Type, dtype: int64\n",
      "W1JetsToLNu  1    99\n",
      "-2    40\n",
      "-1    25\n",
      "Name: lep_Type, dtype: int64\n",
      "W2JetsToLNu  1    166\n",
      "-2     71\n",
      "-1     38\n",
      "Name: lep_Type, dtype: int64\n",
      "W3JetsToLNu  1    165\n",
      "-2     67\n",
      "-1     46\n",
      "Name: lep_Type, dtype: int64\n",
      "W4JetsToLNu  1    128\n",
      "-2     47\n",
      "-1     34\n",
      "Name: lep_Type, dtype: int64\n",
      "WGToLNuG  1    663\n",
      "-1     56\n",
      "Name: lep_Type, dtype: int64\n",
      "GluGluHToWWTo2L2Nu  1    962\n",
      "-1    678\n",
      "Name: lep_Type, dtype: int64\n",
      "GluGluWWTo2L2Nu  1    17198\n",
      "-1     8955\n",
      "Name: lep_Type, dtype: int64\n"
     ]
    }
   ],
   "source": [
    "for process in df.process_decay.unique():\n",
    "    print process, df[df.process_decay == process].lep_Type.value_counts()"
   ]
  },
  {
   "cell_type": "code",
   "execution_count": null,
   "metadata": {
    "collapsed": true
   },
   "outputs": [],
   "source": []
  }
 ],
 "metadata": {
  "kernelspec": {
   "display_name": "Python 2",
   "language": "python",
   "name": "python2"
  },
  "language_info": {
   "codemirror_mode": {
    "name": "ipython",
    "version": 2
   },
   "file_extension": ".py",
   "mimetype": "text/x-python",
   "name": "python",
   "nbconvert_exporter": "python",
   "pygments_lexer": "ipython2",
   "version": "2.7.13"
  },
  "toc": {
   "colors": {
    "hover_highlight": "#7c7e8b",
    "navigate_num": "#d3d3d3",
    "navigate_text": "#e4e4e4",
    "running_highlight": "#FF0000",
    "selected_highlight": "#7d878b",
    "sidebar_border": "#282121",
    "wrapper_background": "#1a2028"
   },
   "moveMenuLeft": true,
   "nav_menu": {
    "height": "49px",
    "width": "254px"
   },
   "navigate_menu": true,
   "number_sections": true,
   "sideBar": true,
   "threshold": 4,
   "toc_cell": false,
   "toc_position": {
    "height": "861px",
    "left": "0px",
    "right": "1403px",
    "top": "91px",
    "width": "212px"
   },
   "toc_section_display": "block",
   "toc_window_display": true,
   "widenNotebook": false
  }
 },
 "nbformat": 4,
 "nbformat_minor": 2
}
