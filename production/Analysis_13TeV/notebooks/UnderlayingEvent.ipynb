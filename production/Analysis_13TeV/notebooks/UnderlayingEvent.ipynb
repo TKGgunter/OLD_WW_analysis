{
 "cells": [
  {
   "cell_type": "markdown",
   "metadata": {},
   "source": [
    "# Underlaying Event uncertainty"
   ]
  },
  {
   "cell_type": "code",
   "execution_count": 1,
   "metadata": {},
   "outputs": [
    {
     "name": "stdout",
     "output_type": "stream",
     "text": [
      "Welcome to JupyROOT 6.10/00\n",
      "Loading binning options...\n",
      "Loading plotting options\n",
      "unc_mc_process and scales are parameter dictionaries\n"
     ]
    }
   ],
   "source": [
    "import os, sys, time\n",
    "sys.path.append(os.getcwd() + \"/../\")\n",
    "sys.path.append(os.getcwd() + \"/../tools/\")\n",
    "sys.path.append(os.getcwd() + \"/../scripts/uncertainties_dir/\")\n",
    "\n",
    "from prep_ana_II import *\n",
    "from cross_section_calc import calc_cross_stuff, cross_calc, stat_unc_calc, normalization_unc_calc, pseudo_data_yield_sum\n",
    "from jet_scale import jec_setup, jet_scale_shift_flat, pseudo_data_yield_sum\n",
    "from sklearn.externals import joblib"
   ]
  },
  {
   "cell_type": "code",
   "execution_count": 2,
   "metadata": {},
   "outputs": [],
   "source": [
    "%matplotlib inline\n",
    "%load_ext autoreload\n",
    "%autoreload "
   ]
  },
  {
   "cell_type": "code",
   "execution_count": 3,
   "metadata": {},
   "outputs": [
    {
     "name": "stderr",
     "output_type": "stream",
     "text": [
      "Warning in <TStreamerInfo::BuildCheck>: \n",
      "   The StreamerInfo of class string read from file /home/gunter/WW_analysis/data_alpha/ww_complete.root\n",
      "   has the same version (=2) as the active class but a different checksum.\n",
      "   You should update the version to ClassDef(string,3).\n",
      "   Do not try to write objects with the current class definition,\n",
      "   the files will not be readable.\n",
      "\n",
      "Warning in <TStreamerInfo::CompareContent>: The following data member of\n",
      "the in-memory layout version 2 of class 'string' is missing from \n",
      "the on-file layout version 2:\n",
      "   string::_Alloc_hider _M_dataplus; //\n",
      "Warning in <TStreamerInfo::CompareContent>: The following data member of\n",
      "the in-memory layout version 2 of class 'string' is missing from \n",
      "the on-file layout version 2:\n",
      "   unsigned long _M_string_length; //\n",
      "Warning in <TStreamerInfo::CompareContent>: The following data member of\n",
      "the in-memory layout version 2 of class 'string' is missing from \n",
      "the on-file layout version 2:\n",
      "   string::(anonymous) ; //\n"
     ]
    }
   ],
   "source": [
    "#ToDo:\n",
    "#+?Determine why both up and down variaitions have a larger cross-section\n",
    "#jer_obj = jec_setup(unc=\"lep\")\n",
    "#jet_scale_shift_flat(jer_obj.df, jet_pt_shift=1., rf=jer_obj.rfs)\n",
    "#df = pre_cuts(jer_obj.df, diff_charge= False)\n",
    "#df_da = jer_obj.df_da\n",
    "#jet_scale_shift_flat(jer_obj.df_da, jet_pt_shift=1., rf=jer_obj.rfs)\n",
    "#df_ww = jer_obj.df_ww\n",
    "\n",
    "df = load_testset(unc=\"\")\n",
    "df_da = load_presel_w_fDY_fTT_DATA(unc=\"\")\n",
    "df_ww = rp.read_root(data_path+\"/ww_complete.root\", columns=columns)"
   ]
  },
  {
   "cell_type": "code",
   "execution_count": 4,
   "metadata": {
    "collapsed": true
   },
   "outputs": [],
   "source": [
    "def score_df(df, rfs):\n",
    "    \n",
    "    features_fDY = rfs[\"features_fDY\"]\n",
    "    features_fTT = rfs[\"features_fTT\"]\n",
    "    clf_fDY = rfs[\"clf_fDY\"]\n",
    "    clf_fTT = rfs[\"clf_fTT\"]\n",
    "    \n",
    "    #Remove undesirable measurements TT\n",
    "    temp = df[features_fTT]\n",
    "    temp = temp.replace([np.inf, -np.inf], 0)\n",
    "\n",
    "    #Predict TT\n",
    "    pred_fTT = clf_fTT.predict_proba(np.float32(temp.values))\n",
    "    df[\"pred_fTT_WW\"] = pred_fTT[:,0]\n",
    "\n",
    "    #Remove undesirable measurements DY\n",
    "    temp = df[features_fDY]\n",
    "    temp = temp.replace([np.inf, -np.inf], 0)\n",
    "    pred_fDY = clf_fDY.predict_proba(np.float32(temp.values))\n",
    "    df[\"pred_fDY_WW\"] = pred_fDY[:,0]"
   ]
  },
  {
   "cell_type": "code",
   "execution_count": 5,
   "metadata": {
    "collapsed": true
   },
   "outputs": [],
   "source": [
    "def yield_string(df, string):\n",
    "    raw_numbers = {}\n",
    "    for process in df.process.unique():\n",
    "        j0 = 0\n",
    "        j1 = 0\n",
    "        j2 = 0\n",
    "        for process_decay in df[df.process == process].process_decay.unique():\n",
    "            j0 += jer_obj.rf_ana(df[(df.process_decay == process_decay) & (df.numb_jets == 0) & (df.lep1_Charge != df.lep2_Charge)], \"pred_fDY_WW\", \"pred_fTT_WW\").weight.sum() * scales[process_decay]\n",
    "            j1 += jer_obj.rf_ana(df[(df.process_decay == process_decay) & (df.numb_jets == 1) & (df.lep1_Charge != df.lep2_Charge)], \"pred_fDY_WW\", \"pred_fTT_WW\").weight.sum() * scales[process_decay]\n",
    "            j2 += jer_obj.rf_ana(df[(df.process_decay == process_decay) & (df.numb_jets == 2) & (df.lep1_Charge != df.lep2_Charge)],\"pred_fDY_WW\", \"pred_fTT_WW\" ).weight.sum() * scales[process_decay]\n",
    "\n",
    "\n",
    "        raw_numbers[process] = np.array([j0,j1,j2], dtype=float)\n",
    "        string += process + \"\\t\" +  str(j0) + \"\\t\" + \\\n",
    "                                    str(j1) + \"\\t\" + \\\n",
    "                                    str(j2) + \"\\n\"\n",
    "    return string, raw_numbers"
   ]
  },
  {
   "cell_type": "code",
   "execution_count": 6,
   "metadata": {
    "scrolled": false
   },
   "outputs": [],
   "source": [
    "#Unpack Random forest \n",
    "random_forests = joblib.load(\"../data/RF/dec_05_fDY_fTT.jbl\")\n",
    "features_fDY = random_forests[\"features_fDY\"]\n",
    "clf_fDY = random_forests[\"clf_fDY\"]\n",
    "features_fTT = random_forests[\"features_fTT\"]\n",
    "clf_fTT = random_forests[\"clf_fTT\"]"
   ]
  },
  {
   "cell_type": "code",
   "execution_count": 7,
   "metadata": {
    "collapsed": true
   },
   "outputs": [],
   "source": [
    "#WW up and down data frames\n",
    "df_ww_up = rp.read_root(  data_path+\"/ww_up_complete.root\",   columns=columns_lep_unc)\n",
    "df_ww_down = rp.read_root(data_path+\"/ww_down_complete.root\", columns=columns_lep_unc)\n",
    "\n",
    "df_ww_up[\"process\"] = \"WW\"\n",
    "df_ww_down[\"process\"] = \"WW\"\n",
    "df_ww_up[\"process_decay\"] = \"WW\"\n",
    "df_ww_down[\"process_decay\"] = \"WW\"\n",
    "\n",
    "df_ww_up[\"gen_weight\"] = df_ww_up.gen_weight.values/ np.abs(df_ww_up.gen_weight.values)\n",
    "df_ww_up[\"weight\"] = df_ww_up.weight.values * df_ww_up.gen_weight.values\n",
    "\n",
    "df_ww_down[\"gen_weight\"] = df_ww_down.gen_weight.values/ np.abs(df_ww_down.gen_weight.values)\n",
    "df_ww_down[\"weight\"] = df_ww_down.weight.values * df_ww_down.gen_weight.values\n",
    "\n",
    "score_df(df_ww_down, random_forests)\n",
    "score_df(df_ww_up, random_forests)\n"
   ]
  },
  {
   "cell_type": "code",
   "execution_count": 8,
   "metadata": {},
   "outputs": [
    {
     "name": "stdout",
     "output_type": "stream",
     "text": [
      "(5293944, 46)\n",
      "down 0.143905201413\n",
      "(4859509, 50)\n",
      "up 0.141596851527\n",
      "(4841916, 50)\n"
     ]
    }
   ],
   "source": [
    "#produce pseudo data\n",
    "pseudo = pseudo_data_yield_sum(df, df_da)#This was the problem whtis was why you were getting different values\n",
    "cross_orig   =  cross_calc(df, df_da, df_ww, scales,  fiducial=True, pseudo=pseudo)\n",
    "\n",
    "cross_sections = {}\n",
    "print df.shape\n",
    "\n",
    "for it, ww_variant in enumerate([df_ww_down, df_ww_up]):\n",
    "    df = df[df.process != \"WW\"]\n",
    "    df = pre_cuts(pd.concat([df, ww_variant]))\n",
    "    \n",
    "    ww_type = \"\"\n",
    "    if it == 0:\n",
    "        ww_type = \"down\"\n",
    "        scales[\"WW\"] = 35.9e3 * 118.7 * (3*.108)**2 / 1987956.\n",
    "    else:\n",
    "        ww_type = \"up\"\n",
    "        scales[\"WW\"] = 35.9e3 * 118.7 * (3*.108)**2 / 1866452.\n",
    "    \n",
    "    cross_sections[ww_type] = cross_calc(df, df_da, ww_variant, scales,  fiducial=True, pseudo=pseudo)\n",
    "    \n",
    "    print ww_type, df[(df.process == \"WW\") & (df.pred_fDY_WW > .9) & (df.pred_fTT_WW > .6)].shape[0] / float(ww_variant.shape[0])\n",
    "    print df.shape"
   ]
  },
  {
   "cell_type": "code",
   "execution_count": 9,
   "metadata": {},
   "outputs": [
    {
     "name": "stdout",
     "output_type": "stream",
     "text": [
      "{'down': 2.1252523374847097, 'up': 2.0222495398114377}\n"
     ]
    }
   ],
   "source": [
    "print cross_sections"
   ]
  },
  {
   "cell_type": "code",
   "execution_count": 10,
   "metadata": {},
   "outputs": [
    {
     "data": {
      "text/plain": [
       "1.6894087625897014"
      ]
     },
     "execution_count": 10,
     "metadata": {},
     "output_type": "execute_result"
    }
   ],
   "source": [
    "cross_orig"
   ]
  },
  {
   "cell_type": "code",
   "execution_count": 11,
   "metadata": {},
   "outputs": [
    {
     "data": {
      "text/plain": [
       "0.9566279780085523"
      ]
     },
     "execution_count": 11,
     "metadata": {},
     "output_type": "execute_result"
    }
   ],
   "source": [
    "1.566/1.637"
   ]
  },
  {
   "cell_type": "markdown",
   "metadata": {},
   "source": [
    "# RF test"
   ]
  },
  {
   "cell_type": "markdown",
   "metadata": {},
   "source": [
    "<pre>\n",
    "Nominal Training\n",
    "\n",
    "  Down                Up            Nominal \n",
    "8869 1593         8759 1563       8846  1540\n",
    "</pre>"
   ]
  },
  {
   "cell_type": "code",
   "execution_count": 13,
   "metadata": {},
   "outputs": [
    {
     "data": {
      "text/plain": [
       "array(['WW'], dtype=object)"
      ]
     },
     "execution_count": 13,
     "metadata": {},
     "output_type": "execute_result"
    }
   ],
   "source": [
    "df_ww.process.unique()"
   ]
  },
  {
   "cell_type": "code",
   "execution_count": null,
   "metadata": {
    "collapsed": true
   },
   "outputs": [],
   "source": []
  }
 ],
 "metadata": {
  "kernelspec": {
   "display_name": "Python 2",
   "language": "python",
   "name": "python2"
  },
  "language_info": {
   "codemirror_mode": {
    "name": "ipython",
    "version": 2
   },
   "file_extension": ".py",
   "mimetype": "text/x-python",
   "name": "python",
   "nbconvert_exporter": "python",
   "pygments_lexer": "ipython2",
   "version": "2.7.13"
  },
  "toc": {
   "colors": {
    "hover_highlight": "#7c7e8b",
    "navigate_num": "#d3d3d3",
    "navigate_text": "#e4e4e4",
    "running_highlight": "#FF0000",
    "selected_highlight": "#7d878b",
    "sidebar_border": "#282121",
    "wrapper_background": "#1a2028"
   },
   "moveMenuLeft": true,
   "nav_menu": {
    "height": "66px",
    "width": "254px"
   },
   "navigate_menu": true,
   "number_sections": true,
   "sideBar": true,
   "threshold": 4,
   "toc_cell": false,
   "toc_position": {
    "height": "859px",
    "left": "0px",
    "right": "1403px",
    "top": "91px",
    "width": "212px"
   },
   "toc_section_display": "block",
   "toc_window_display": true,
   "widenNotebook": false
  }
 },
 "nbformat": 4,
 "nbformat_minor": 2
}
