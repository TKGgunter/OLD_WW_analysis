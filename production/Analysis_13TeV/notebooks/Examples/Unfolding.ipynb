{
 "cells": [
  {
   "cell_type": "markdown",
   "metadata": {},
   "source": [
    "# Unfolding\n",
    "\n",
    "Unfolding is a method of removing systematic effects from  adistribution of interest.\n"
   ]
  },
  {
   "cell_type": "code",
   "execution_count": 1,
   "metadata": {
    "collapsed": true
   },
   "outputs": [],
   "source": [
    "import matplotlib.pyplot as plt\n",
    "import numpy as np\n"
   ]
  },
  {
   "cell_type": "code",
   "execution_count": 2,
   "metadata": {
    "collapsed": true
   },
   "outputs": [],
   "source": [
    "%matplotlib inline"
   ]
  },
  {
   "cell_type": "markdown",
   "metadata": {},
   "source": [
    "## Large Gaussian Resolution"
   ]
  },
  {
   "cell_type": "code",
   "execution_count": 3,
   "metadata": {
    "code_folding": [
     0
    ],
    "collapsed": true
   },
   "outputs": [],
   "source": [
    "#Construct True Distribution\n",
    "x= [i for i in range(10)]\n",
    "y=  100 *( np.sin([float(i)/2. for i in range(20)]) + 1 )\n",
    "_y = []\n",
    "for it, i in enumerate(y):\n",
    "    if it%2 == 0: continue\n",
    "    _y.append(i + y[it-1])\n",
    "y = _y"
   ]
  },
  {
   "cell_type": "code",
   "execution_count": 4,
   "metadata": {
    "code_folding": [
     0
    ]
   },
   "outputs": [
    {
     "data": {
      "text/plain": [
       "array([[ 0.63,  0.21,  0.16,  0.  ,  0.  ,  0.  ,  0.  ,  0.  ,  0.  ,  0.  ],\n",
       "       [ 0.37,  0.26,  0.21,  0.16,  0.  ,  0.  ,  0.  ,  0.  ,  0.  ,  0.  ],\n",
       "       [ 0.16,  0.21,  0.26,  0.21,  0.16,  0.  ,  0.  ,  0.  ,  0.  ,  0.  ],\n",
       "       [ 0.  ,  0.16,  0.21,  0.26,  0.21,  0.16,  0.  ,  0.  ,  0.  ,  0.  ],\n",
       "       [ 0.  ,  0.  ,  0.16,  0.21,  0.26,  0.21,  0.16,  0.  ,  0.  ,  0.  ],\n",
       "       [ 0.  ,  0.  ,  0.  ,  0.16,  0.21,  0.26,  0.21,  0.16,  0.  ,  0.  ],\n",
       "       [ 0.  ,  0.  ,  0.  ,  0.  ,  0.16,  0.21,  0.26,  0.21,  0.16,  0.  ],\n",
       "       [ 0.  ,  0.  ,  0.  ,  0.  ,  0.  ,  0.16,  0.21,  0.26,  0.21,\n",
       "         0.16],\n",
       "       [ 0.  ,  0.  ,  0.  ,  0.  ,  0.  ,  0.  ,  0.16,  0.21,  0.26,\n",
       "         0.37],\n",
       "       [ 0.  ,  0.  ,  0.  ,  0.  ,  0.  ,  0.  ,  0.  ,  0.16,  0.21,\n",
       "         0.63]])"
      ]
     },
     "execution_count": 4,
     "metadata": {},
     "output_type": "execute_result"
    }
   ],
   "source": [
    "#Construst Unfolding Matrix \n",
    "R = []\n",
    "for i in range(10):\n",
    "    R.append([])\n",
    "    for j in range(10):\n",
    "        r = 0\n",
    "        if i==j:\n",
    "            r = .26\n",
    "            if (i == 0) | (i == 9):\n",
    "                r += .21 + .16\n",
    "        if abs(i-j) == 1:\n",
    "            r = .21\n",
    "            if ((i == 1) & (j == 0)) | ((i == 8) & (j == 9)):\n",
    "                r += .16\n",
    "        if abs(i-j) == 2:\n",
    "            r = .16\n",
    "        R[i].append( r )\n",
    "R = np.array(R)\n",
    "R"
   ]
  },
  {
   "cell_type": "code",
   "execution_count": 5,
   "metadata": {},
   "outputs": [
    {
     "data": {
      "text/plain": [
       "array([305, 301, 245, 186, 136, 155, 194, 275, 292, 256])"
      ]
     },
     "execution_count": 5,
     "metadata": {},
     "output_type": "execute_result"
    }
   ],
   "source": [
    "#Construct \n",
    "_y = np.dot(R, y)\n",
    "v = []\n",
    "for i in _y:\n",
    "    temp = np.random.poisson(i)\n",
    "    v.append(temp)\n",
    "v = np.array(v)\n",
    "v"
   ]
  },
  {
   "cell_type": "code",
   "execution_count": 6,
   "metadata": {
    "scrolled": true
   },
   "outputs": [
    {
     "name": "stdout",
     "output_type": "stream",
     "text": [
      "[[  29320.  -62320.  -25144.   57993.   15030.  -14780.  -56483.   22149.\n",
      "    61553.  -27487.]\n",
      " [ -62320.  172676.    3940. -114519.  -24086.   34923.  137801.  -93460.\n",
      "  -105534.   61790.]\n",
      " [ -25144.    3940.   91203.  -70209.  -22652.   11437.   27110.   41608.\n",
      "   -92184.   21678.]\n",
      " [  57993. -114519.  -70209.  134062.   23841.  -31922. -104162.   27942.\n",
      "   136560.  -56173.]\n",
      " [  15030.  -24086.  -22652.   23841.   25845.  -15884.  -31885.   11363.\n",
      "    34869.  -14736.]\n",
      " [ -14780.   34923.   11437.  -31922.  -15884.   25677.   24011.  -22602.\n",
      "   -24127.   14994.]\n",
      " [ -56483.  137801.   27110. -104162.  -31885.   24011.  134529.  -71174.\n",
      "  -113988.   58003.]\n",
      " [  22149.  -93460.   41608.   27942.   11363.  -22602.  -71174.   91730.\n",
      "     4590.  -25475.]\n",
      " [  61553. -105534.  -92184.  136560.   34869.  -24127. -113988.    4590.\n",
      "   170938.  -61795.]\n",
      " [ -27487.   61790.   21678.  -56173.  -14736.   14994.   58003.  -25475.\n",
      "   -61795.   29166.]]\n",
      "[[ 112.85 -239.79 -100.57  231.85   52.36  -53.63 -221.94   90.03  232.54\n",
      "  -105.1 ]\n",
      " [-239.79  674.76    7.98 -460.12  -69.4   127.92  527.34 -362.8  -390.85\n",
      "   232.54]\n",
      " [-100.57    7.98  376.55 -282.27  -98.31   40.13  132.49  142.68 -362.8\n",
      "    90.03]\n",
      " [ 231.85 -460.12 -282.27  547.74   85.76 -117.25 -433.44  132.49  527.34\n",
      "  -221.94]\n",
      " [  52.36  -69.4   -98.31   85.76  100.7   -57.71 -117.25   40.13  127.92\n",
      "   -53.63]\n",
      " [ -53.63  127.92   40.13 -117.25  -57.71  100.7    85.76  -98.31  -69.4\n",
      "    52.36]\n",
      " [-221.94  527.34  132.49 -433.44 -117.25   85.76  547.74 -282.27 -460.12\n",
      "   231.85]\n",
      " [  90.03 -362.8   142.68  132.49   40.13  -98.31 -282.27  376.55    7.98\n",
      "  -100.57]\n",
      " [ 232.54 -390.85 -362.8   527.34  127.92  -69.4  -460.12    7.98  674.76\n",
      "  -239.79]\n",
      " [-105.1   232.54   90.03 -221.94  -53.63   52.36  231.85 -100.57 -239.79\n",
      "   112.85]]\n"
     ]
    }
   ],
   "source": [
    "np.set_printoptions(suppress=True)\n",
    "print np.round( np.dot(np.dot(np.linalg.inv(R), np.diag(_y)), np.linalg.inv(R).T), 0)\n",
    "print np.round( np.dot(np.dot(np.linalg.inv(R), np.identity(10)), np.linalg.inv(R).T), 2)"
   ]
  },
  {
   "cell_type": "code",
   "execution_count": 7,
   "metadata": {},
   "outputs": [
    {
     "data": {
      "text/plain": [
       "<matplotlib.legend.Legend at 0x7f4c33064b10>"
      ]
     },
     "execution_count": 7,
     "metadata": {},
     "output_type": "execute_result"
    },
    {
     "data": {
      "image/png": "[encoded data removed]",
      "text/plain": [
       "<matplotlib.figure.Figure at 0x7f4c36b50450>"
      ]
     },
     "metadata": {},
     "output_type": "display_data"
    }
   ],
   "source": [
    "plt.scatter([i for i in range(len(y))], y, label=\"True\")\n",
    "plt.scatter([i for i in range(len(y))], _y, c=\"green\", label=\"Expectation\")\n",
    "plt.scatter([i for i in range(10)], np.dot(v, np.linalg.inv(R)), c=\"red\", label=\"Estimator\")\n",
    "plt.legend(framealpha=0.5)"
   ]
  },
  {
   "cell_type": "markdown",
   "metadata": {},
   "source": [
    "## Small Gaussian Resolution"
   ]
  },
  {
   "cell_type": "code",
   "execution_count": 8,
   "metadata": {},
   "outputs": [],
   "source": [
    "#Construct unfolding matrix\n",
    "R = []\n",
    "for i in range(10):\n",
    "    R.append([])\n",
    "    for j in range(10):\n",
    "        r = 0\n",
    "        if i==j:\n",
    "            r = .5\n",
    "            if (i == 0) | (i == 9):\n",
    "                r += .16 + .09\n",
    "        if abs(i-j) == 1:\n",
    "            r = .16\n",
    "            if ((i == 1) & (j == 0)) | ((i == 8) & (j == 9)):\n",
    "                r += .09\n",
    "        if abs(i-j) == 2:\n",
    "            r = .09\n",
    "        R[i].append( r )\n",
    "R = np.array(R)"
   ]
  },
  {
   "cell_type": "code",
   "execution_count": 9,
   "metadata": {
    "scrolled": true
   },
   "outputs": [
    {
     "data": {
      "text/plain": [
       "<matplotlib.legend.Legend at 0x7f4c32f06b50>"
      ]
     },
     "execution_count": 9,
     "metadata": {},
     "output_type": "execute_result"
    },
    {
     "data": {
      "image/png": "[encoded data removed]",
      "text/plain": [
       "<matplotlib.figure.Figure at 0x7f4c581edd50>"
      ]
     },
     "metadata": {},
     "output_type": "display_data"
    }
   ],
   "source": [
    "_y = np.dot(R, y)\n",
    "v = []\n",
    "for i in _y:\n",
    "    temp = np.random.poisson(i)\n",
    "    v.append(temp)\n",
    "v = np.array(v)\n",
    "\n",
    "plt.scatter([i for i in range(len(y))], y, label=\"True\")\n",
    "plt.scatter([i for i in range(len(y))], _y, c=\"green\", label=\"Expectation\")\n",
    "plt.scatter([i for i in range(10)], np.dot(v, np.linalg.inv(R)), c=\"red\", label=\"Estimator\")\n",
    "plt.legend(framealpha=0.5)"
   ]
  },
  {
   "cell_type": "code",
   "execution_count": 10,
   "metadata": {},
   "outputs": [
    {
     "name": "stdout",
     "output_type": "stream",
     "text": [
      "[[  711.  -667.   -75.   221.   -52.   -37.    26.     2.    -8.     2.]\n",
      " [ -667.  2316.  -916.  -352.   344.   -26.   -85.    38.    10.    -8.]\n",
      " [  -75.  -916.  2010.  -663.  -298.   279.   -16.   -83.    38.     2.]\n",
      " [  221.  -352.  -663.  1399.  -412.  -268.   269.   -17.   -85.    26.]\n",
      " [  -52.   344.  -298.  -412.   807.  -275.  -269.   282.   -27.   -37.]\n",
      " [  -37.   -26.   279.  -268.  -275.   835.  -432.  -301.   346.   -51.]\n",
      " [   26.   -85.   -16.   269.  -269.  -432.  1456.  -684.  -354.   221.]\n",
      " [    2.    38.   -83.   -17.   282.  -301.  -684.  2044.  -917.   -78.]\n",
      " [   -8.    10.    38.   -85.   -27.   346.  -354.  -917.  2291.  -650.]\n",
      " [    2.    -8.     2.    26.   -37.   -51.   221.   -78.  -650.   686.]]\n",
      "[[ 2.52 -2.22 -0.33  0.89 -0.2  -0.19  0.12  0.01 -0.03  0.01]\n",
      " [-2.22  7.3  -2.93 -1.51  1.56 -0.13 -0.39  0.17  0.04 -0.03]\n",
      " [-0.33 -2.93  7.11 -2.77 -1.5   1.53 -0.13 -0.38  0.17  0.01]\n",
      " [ 0.89 -1.51 -2.77  7.4  -2.93 -1.52  1.58 -0.13 -0.39  0.12]\n",
      " [-0.2   1.56 -1.5  -2.93  7.45 -2.9  -1.52  1.53 -0.13 -0.19]\n",
      " [-0.19 -0.13  1.53 -1.52 -2.9   7.45 -2.93 -1.5   1.56 -0.2 ]\n",
      " [ 0.12 -0.39 -0.13  1.58 -1.52 -2.93  7.4  -2.77 -1.51  0.89]\n",
      " [ 0.01  0.17 -0.38 -0.13  1.53 -1.5  -2.77  7.11 -2.93 -0.33]\n",
      " [-0.03  0.04  0.17 -0.39 -0.13  1.56 -1.51 -2.93  7.3  -2.22]\n",
      " [ 0.01 -0.03  0.01  0.12 -0.19 -0.2   0.89 -0.33 -2.22  2.52]]\n"
     ]
    }
   ],
   "source": [
    "np.set_printoptions(suppress=True)\n",
    "print np.round( np.dot(np.dot(np.linalg.inv(R), np.diag(_y)), np.linalg.inv(R).T), 0)\n",
    "print np.round( np.dot(np.dot(np.linalg.inv(R), np.identity(10)), np.linalg.inv(R).T), 2)"
   ]
  },
  {
   "cell_type": "code",
   "execution_count": 11,
   "metadata": {},
   "outputs": [
    {
     "data": {
      "text/plain": [
       "array([ 175.44150316,  473.71643449,  344.33071119,  221.98031624,\n",
       "         -2.96189993,   52.84836642,  194.65107483,  276.97022606,\n",
       "        501.88954202,  170.13372553])"
      ]
     },
     "execution_count": 11,
     "metadata": {},
     "output_type": "execute_result"
    }
   ],
   "source": [
    "np.dot(v, np.linalg.inv(R))"
   ]
  },
  {
   "cell_type": "code",
   "execution_count": 26,
   "metadata": {},
   "outputs": [
    {
     "data": {
      "text/plain": [
       "array([ 0.09557989,  0.14754155,  0.15452223,  0.19950052,  0.29505046,\n",
       "        0.28755806,  0.19451553,  0.15307034,  0.14831384,  0.09766101])"
      ]
     },
     "execution_count": 26,
     "metadata": {},
     "output_type": "execute_result"
    }
   ],
   "source": [
    "np.diagonal(np.dot(np.dot(np.linalg.inv(R), np.diag(_y)), np.linalg.inv(R).T))**.5 / _y"
   ]
  },
  {
   "cell_type": "code",
   "execution_count": 20,
   "metadata": {},
   "outputs": [
    {
     "data": {
      "text/plain": [
       "278.95029707627322"
      ]
     },
     "execution_count": 20,
     "metadata": {},
     "output_type": "execute_result"
    }
   ],
   "source": [
    "_y[0]"
   ]
  },
  {
   "cell_type": "code",
   "execution_count": null,
   "metadata": {
    "collapsed": true
   },
   "outputs": [],
   "source": []
  }
 ],
 "metadata": {
  "kernelspec": {
   "display_name": "Python 2",
   "language": "python",
   "name": "python2"
  },
  "language_info": {
   "codemirror_mode": {
    "name": "ipython",
    "version": 2
   },
   "file_extension": ".py",
   "mimetype": "text/x-python",
   "name": "python",
   "nbconvert_exporter": "python",
   "pygments_lexer": "ipython2",
   "version": "2.7.13"
  },
  "toc": {
   "colors": {
    "hover_highlight": "#7c7e8b",
    "navigate_num": "#d3d3d3",
    "navigate_text": "#e4e4e4",
    "running_highlight": "#FF0000",
    "selected_highlight": "#7d878b",
    "sidebar_border": "#282121",
    "wrapper_background": "#1a2028"
   },
   "moveMenuLeft": true,
   "nav_menu": {
    "height": "66px",
    "width": "254px"
   },
   "navigate_menu": true,
   "number_sections": true,
   "sideBar": true,
   "threshold": 4,
   "toc_cell": false,
   "toc_section_display": "block",
   "toc_window_display": true,
   "widenNotebook": false
  }
 },
 "nbformat": 4,
 "nbformat_minor": 2
}
