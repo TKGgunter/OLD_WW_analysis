{
 "cells": [
  {
   "cell_type": "markdown",
   "metadata": {},
   "source": [
    "# Determining the optimal RF cut"
   ]
  },
  {
   "cell_type": "code",
   "execution_count": 1,
   "metadata": {},
   "outputs": [
    {
     "name": "stdout",
     "output_type": "stream",
     "text": [
      "loading data frame named df.\n",
      "finished loading data frame\n",
      "unc_mc_process and scales are dictionaries\n",
      "scale_data = (5.27/19.7)\n"
     ]
    },
    {
     "name": "stderr",
     "output_type": "stream",
     "text": [
      "/usr/local/lib/python2.7/site-packages/matplotlib/font_manager.py:273: UserWarning: Matplotlib is building the font cache using fc-list. This may take a moment.\n",
      "  warnings.warn('Matplotlib is building the font cache using fc-list. This may take a moment.')\n"
     ]
    }
   ],
   "source": [
    "run prep_ana.py"
   ]
  },
  {
   "cell_type": "code",
   "execution_count": 83,
   "metadata": {},
   "outputs": [],
   "source": [
    "import pandas as pd"
   ]
  },
  {
   "cell_type": "code",
   "execution_count": 2,
   "metadata": {},
   "outputs": [],
   "source": [
    "bins_rf = {}\n",
    "for process in scales.keys():\n",
    "    if \"WJ\" in process:\n",
    "        continue\n",
    "    bins_rf[process] = list(np.histogram(df[(df[process]==1) ].rf_result , bins=10000, range=(-1.01,1.01)))\n",
    "    bins_rf[process][0] = np.array(bins_rf[process][0] * scales[process])"
   ]
  },
  {
   "cell_type": "code",
   "execution_count": 5,
   "metadata": {},
   "outputs": [],
   "source": [
    "def integral(data):\n",
    "    x = []\n",
    "    for i in xrange(len(data)):\n",
    "        x.append(data[i:].sum())\n",
    "    return np.array(x)"
   ]
  },
  {
   "cell_type": "code",
   "execution_count": 6,
   "metadata": {},
   "outputs": [],
   "source": [
    "integral_rf = {}\n",
    "for process in bins_rf.keys():\n",
    "    integral_rf[process]= integral(bins_rf[process][0])"
   ]
  },
  {
   "cell_type": "markdown",
   "metadata": {},
   "source": [
    "## Uncertainty procedure\n",
    "\n",
    "stat and norm were described in updated_cuts.pdf\n",
    "\n",
    "calc_stat_unc\n",
    "\n",
    "$\\large{\\frac{1}{L*eff*acc}\\sqrt{\\sum{(scaling_{process} * \\sqrt{N_{process}})^2}}} $ \n",
    "\n",
    "calc_norm_unc \n",
    "\n",
    "$\\large{\\frac{1}{L*eff*acc}\\sqrt{\\sum{(unc_{process} * N_{process})^2}}} $ \n",
    "\n",
    "\n",
    "calc_acc_unc\n",
    "\n",
    "Both stat and norm are determined from the background.  They are also quantities which are derived from the numerator of the cross-section formula. Both of these terms fall as we tighten the random forest cut. This is intuitive and easily shown given the sentence above. The acc, acceptance, uncertainty must increase as we tighten are cut as reducing the acceptance would increase the cross-section value. \n",
    "\n",
    "$\\large{ \\frac{1}{L*eff} \\sqrt{(\\frac{D-BG}{acc})^2 * (\\frac{scaling_{WW} * \\sqrt{N_{WW}}}{N_{tot WW}})^2}}$\n",
    "\n",
    "where $acc=N_{WW} / N_{totWW}$\n"
   ]
  },
  {
   "cell_type": "code",
   "execution_count": 10,
   "metadata": {
    "collapsed": true
   },
   "outputs": [],
   "source": [
    "def calc_norm_unc( data ):\n",
    "    coeff = 1./(19.4e3*.15*(3*.108)**2*(data[\"WW\"] /  data[\"WW\"][0]))\n",
    "    norm = [ unc_mc_process[process]*(data[process])**0.5 for process in data.keys() if \"WW\" not in process]\n",
    "    sum_norm = np.zeros(len(data[process]))\n",
    "    for ele in norm:\n",
    "        sum_norm += ele**2\n",
    "    return coeff*sum_norm**.5"
   ]
  },
  {
   "cell_type": "code",
   "execution_count": 7,
   "metadata": {
    "collapsed": true
   },
   "outputs": [],
   "source": [
    "def calc_stat_unc( data ):\n",
    "    coeff = 1./(19.4e3*.15*(3*.108)**2*(data[\"WW\"] /  data[\"WW\"][0]))\n",
    "    norm = [ scales[process]*(data[process]/scales[process])**0.5 for process in data.keys() if \"WW\" not in process]\n",
    "    sum_norm = np.zeros(len(data[process]))\n",
    "    for ele in norm:\n",
    "        sum_norm += ele**2\n",
    "    return coeff*sum_norm**.5"
   ]
  },
  {
   "cell_type": "code",
   "execution_count": 254,
   "metadata": {},
   "outputs": [],
   "source": [
    "def calc_acc_unc( data ):\n",
    "    coeff = 1./(19.4e3*.15*(3*.108)**2)\n",
    "    acc = (data[\"WW\"]/  data[\"WW\"][0])\n",
    "    tot = [ data[process] for process in data.keys() ]\n",
    "    bg = [ data[process] for process in data.keys() if \"WW\" not in process]\n",
    "    \n",
    "    \n",
    "    sum_tot = np.zeros(len(data[process]))\n",
    "    sum_bg = np.zeros(len(data[process]))\n",
    "    for iter in xrange(len(tot)):\n",
    "        sum_tot += tot[iter]\n",
    "    for iter in xrange(len(bg)):\n",
    "        sum_bg += bg[iter]\n",
    "        \n",
    "    acc_unc = ( ( sum_tot - sum_bg ) / acc**2 )**2 * (scales[\"WW\"] * (data[\"WW\"] / scales[\"WW\"])**.5/data[\"WW\"][0])**2\n",
    "    return coeff*acc_unc**.5"
   ]
  },
  {
   "cell_type": "code",
   "execution_count": 8,
   "metadata": {
    "collapsed": true
   },
   "outputs": [],
   "source": [
    "def full_stat( data ):\n",
    "    coeff = 1./(19.4e3*.15*(3*.108)**2*(data[\"WW\"] /  data[\"WW\"][0]))\n",
    "    stat = np.zeros(len(data[\"WW\"]))\n",
    "    for i in data.keys():\n",
    "        stat += data[i]\n",
    "        \n",
    "    return coeff*(stat)**.5"
   ]
  },
  {
   "cell_type": "code",
   "execution_count": 11,
   "metadata": {},
   "outputs": [],
   "source": [
    "unc_sum = np.power(calc_norm_unc( integral_rf )**2 + calc_stat_unc( integral_rf )**2 + full_stat( integral_rf),.5)#calc_acc_unc( integral_rf)**2  , .5)"
   ]
  },
  {
   "cell_type": "markdown",
   "metadata": {},
   "source": [
    "## Results "
   ]
  },
  {
   "cell_type": "code",
   "execution_count": 12,
   "metadata": {},
   "outputs": [
    {
     "name": "stdout",
     "output_type": "stream",
     "text": [
      "bin with min cut 9944\n",
      "uncertainty at cut 1.0829838557\n",
      "rf value at cut 0.998688\n"
     ]
    }
   ],
   "source": [
    "print \"bin with min cut\",unc_sum[np.isfinite(unc_sum)].argmin()\n",
    "print \"uncertainty at cut\",unc_sum[9944]\n",
    "print \"rf value at cut\", bins_rf[\"WW\"][1][9944]"
   ]
  },
  {
   "cell_type": "code",
   "execution_count": 13,
   "metadata": {},
   "outputs": [],
   "source": [
    "import matplotlib.pyplot as plt\n",
    "%matplotlib inline"
   ]
  },
  {
   "cell_type": "code",
   "execution_count": 14,
   "metadata": {},
   "outputs": [
    {
     "data": {
      "image/png": "[encoded data removed]",
      "text/plain": [
       "<matplotlib.figure.Figure at 0x11003f6d0>"
      ]
     },
     "metadata": {},
     "output_type": "display_data"
    }
   ],
   "source": [
    "fig , ax = plt.subplots()\n",
    "ax.scatter( bins_rf[\"WW\"][1][:-1], unc_sum)\n",
    "ax.set_xlim((-1.25, 1.25))\n",
    "ax.set_ylim(bottom=0)\n",
    "\n",
    "for label in (ax.get_xticklabels() + ax.get_yticklabels()):\n",
    "    label.set_fontname('Arial')\n",
    "    label.set_fontsize(13)\n",
    "ax.set_xlabel(\"RF value\", horizontalalignment='right', position=(1., 0.), va='bottom', ha='right', fontsize=16, fontname='Arial')\n",
    "ax.set_ylabel(\"tot uncertainty\", position=(-0.5, 1.), va='top', ha='right', fontsize=16, fontname='Arial')\n",
    "ax.xaxis.labelpad = 20\n",
    "ax.yaxis.labelpad = 20\n",
    "#ax.get_xaxis().tick_bottom()\n",
    "#ax.get_yaxis().tick_left()"
   ]
  },
  {
   "cell_type": "code",
   "execution_count": 15,
   "metadata": {},
   "outputs": [
    {
     "data": {
      "image/png": "[encoded data removed]",
      "text/plain": [
       "<matplotlib.figure.Figure at 0x11017db10>"
      ]
     },
     "metadata": {},
     "output_type": "display_data"
    }
   ],
   "source": [
    "fig , ax = plt.subplots()\n",
    "ax.scatter( bins_rf[\"WW\"][1][-201:-1], unc_sum[-200:])\n",
    "for label in (ax.get_xticklabels() + ax.get_yticklabels()):\n",
    "    label.set_fontname('Arial')\n",
    "    label.set_fontsize(13)\n",
    "ax.set_xlabel(\"RF value\", horizontalalignment='right', position=(1., 0.), va='bottom', ha='right', fontsize=16, fontname='Arial')\n",
    "ax.set_ylabel(\"tot uncertainty\", position=(-0.5, 1.), va='top', ha='right', fontsize=16, fontname='Arial')\n",
    "ax.xaxis.labelpad = 20\n",
    "ax.yaxis.labelpad = 20"
   ]
  },
  {
   "cell_type": "code",
   "execution_count": null,
   "metadata": {},
   "outputs": [],
   "source": []
  },
  {
   "cell_type": "code",
   "execution_count": null,
   "metadata": {
    "collapsed": true
   },
   "outputs": [],
   "source": []
  },
  {
   "cell_type": "code",
   "execution_count": null,
   "metadata": {
    "collapsed": true
   },
   "outputs": [],
   "source": []
  }
 ],
 "metadata": {
  "kernelspec": {
   "display_name": "Python 2",
   "language": "python",
   "name": "python2"
  },
  "language_info": {
   "codemirror_mode": {
    "name": "ipython",
    "version": 2
   },
   "file_extension": ".py",
   "mimetype": "text/x-python",
   "name": "python",
   "nbconvert_exporter": "python",
   "pygments_lexer": "ipython2",
   "version": "2.7.13"
  },
  "toc": {
   "colors": {
    "hover_highlight": "#7c7e8b",
    "navigate_num": "#d3d3d3",
    "navigate_text": "#e4e4e4",
    "running_highlight": "#FF0000",
    "selected_highlight": "#7d878b",
    "sidebar_border": "#282121",
    "wrapper_background": "#1a2028"
   },
   "moveMenuLeft": true,
   "navigate_menu": false,
   "number_sections": true,
   "sideBar": true,
   "threshold": 4,
   "toc_cell": false,
   "toc_position": {
    "height": "818px",
    "left": "0px",
    "right": "1398px",
    "top": "82px",
    "width": "282px"
   },
   "toc_section_display": "block",
   "toc_window_display": true,
   "widenNotebook": false
  }
 },
 "nbformat": 4,
 "nbformat_minor": 1
}
