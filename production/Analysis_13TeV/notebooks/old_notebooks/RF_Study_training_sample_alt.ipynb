{
 "cells": [
  {
   "cell_type": "markdown",
   "metadata": {},
   "source": [
    "# Validating the use of Random Forest for WW Cross-section Measurement ( 45% WW, n_WW*2 = DY, n_WW = TT)"
   ]
  },
  {
   "cell_type": "code",
   "execution_count": 1,
   "metadata": {
    "collapsed": false
   },
   "outputs": [
    {
     "name": "stdout",
     "output_type": "stream",
     "text": [
      "loading data frame named df.\n",
      "finished loading data frame\n",
      "unc_mc_process and scales are dictionaries\n",
      "scale_data = (5.27/19.7)\n"
     ]
    },
    {
     "name": "stderr",
     "output_type": "stream",
     "text": [
      "/usr/local/lib/python2.7/site-packages/matplotlib/font_manager.py:273: UserWarning: Matplotlib is building the font cache using fc-list. This may take a moment.\n",
      "  warnings.warn('Matplotlib is building the font cache using fc-list. This may take a moment.')\n"
     ]
    }
   ],
   "source": [
    "run prep_ana.py"
   ]
  },
  {
   "cell_type": "code",
   "execution_count": 2,
   "metadata": {
    "collapsed": true
   },
   "outputs": [],
   "source": [
    "%matplotlib inline"
   ]
  },
  {
   "cell_type": "code",
   "execution_count": 66,
   "metadata": {
    "collapsed": true
   },
   "outputs": [],
   "source": [
    "def pre_cuts( df ):\n",
    "    ht_cut = df.HT < 70\n",
    "    qT_cut = df.qT > 20\n",
    "    mll_cut = (df.mll < 76 ) | (df.mll > 106)\n",
    "    \n",
    "    diff = ( df.lep_Type > 0 ) \n",
    "    same = ( df.lep_Type < 0)\n",
    "    \n",
    "    df_s = df[ same & ht_cut & mll_cut ]\n",
    "    df_d = df[ diff & ht_cut ]\n",
    "    return pd.concat( [df_s, df_d])"
   ]
  },
  {
   "cell_type": "code",
   "execution_count": 67,
   "metadata": {
    "collapsed": false
   },
   "outputs": [],
   "source": [
    "#load root files\n",
    "df_WW = rp.read_root(\"data/WW_tot_complete.root\", \"trees_vec\")\n",
    "df_DY = rp.read_root(\"data/DY_ll_complete.root\", \"trees_vec\")\n",
    "df_TT = rp.read_root(\"data/TT_ll_complete.root\", \"trees_vec\")\n",
    "\n",
    "df = pd.concat( [df_WW, df_TT, df_DY] )\n",
    "df = pre_cuts( df)\n",
    "df = df.reset_index()"
   ]
  },
  {
   "cell_type": "code",
   "execution_count": 68,
   "metadata": {
    "collapsed": false
   },
   "outputs": [
    {
     "name": "stdout",
     "output_type": "stream",
     "text": [
      "WW (89423, 59)\n",
      "TT (185467, 59)\n",
      "DY (222528, 59)\n"
     ]
    }
   ],
   "source": [
    "for process in df.process.unique():\n",
    "    print process, df[ df.process == process].shape"
   ]
  },
  {
   "cell_type": "code",
   "execution_count": 133,
   "metadata": {
    "collapsed": false
   },
   "outputs": [
    {
     "name": "stdout",
     "output_type": "stream",
     "text": [
      "(223838, 59) (273580, 59)\n"
     ]
    }
   ],
   "source": [
    "train_WW = df[df.process==\"WW\"].sample( frac= 0.45 )\n",
    "train_DY = df[df.process==\"DY\"].sample( frac= 0.45)#n=train_WW.shape[0] )\n",
    "train_TT = df[df.process==\"TT\"].sample( frac= 0.45)#n=train_WW.shape[0] )\n",
    "train = pd.concat( [train_WW, train_DY, train_TT] )\n",
    "\n",
    "test = df.drop( train.index )\n",
    "print train.shape, test.shape"
   ]
  },
  {
   "cell_type": "code",
   "execution_count": 134,
   "metadata": {
    "collapsed": true
   },
   "outputs": [],
   "source": [
    "features = ['numb_jets', 'METProj', 'METProj_trk_sin', 'METProj_sin', 'qT', 'met_over_sET', 'dPhiLLMET', 'dPhiLLJet', 'dPhiLL', 'dPhiMETJet', 'lep_Type', 'mllMET', 'recoil' ] +\\\n",
    "            ['jetPt1', 'jet1_csv']\n",
    "#features = [ 'numb_jets', 'METProj_sin', 'met_over_sET','METProj_trk_sin', 'qT', 'mllMET', 'recoil', 'jetPt1', 'dPhiLLJet', 'dPhiLLMET', 'dPhiMETJet', 'lep_Type' ]"
   ]
  },
  {
   "cell_type": "markdown",
   "metadata": {},
   "source": [
    "# RF"
   ]
  },
  {
   "cell_type": "code",
   "execution_count": 135,
   "metadata": {
    "collapsed": false
   },
   "outputs": [],
   "source": [
    "#labels\n",
    "labels = np.empty( train.shape[0] )\n",
    "weights = np.empty( train.shape[0] )\n",
    "\n",
    "labels[(train.process == \"WW\").as_matrix()] = 1\n",
    "labels[(train.process == \"DY\").as_matrix()] = 2\n",
    "labels[(train.process == \"TT\").as_matrix()] = 2\n",
    "\n",
    "weights[(train.process == \"WW\").as_matrix()] = 1\n",
    "weights[(train.process == \"DY\").as_matrix()] = 1\n",
    "weights[(train.process == \"TT\").as_matrix()] = 1"
   ]
  },
  {
   "cell_type": "code",
   "execution_count": 136,
   "metadata": {
    "collapsed": false
   },
   "outputs": [],
   "source": [
    "from sklearn.ensemble import RandomForestClassifier\n",
    "\n",
    "clf = RandomForestClassifier(n_estimators=100, n_jobs=-1, min_samples_split=10, max_depth=15, max_features='sqrt')\n",
    "clf = clf.fit( np.float32(train[features].values) , np.float32(labels), sample_weight=weights)"
   ]
  },
  {
   "cell_type": "code",
   "execution_count": 137,
   "metadata": {
    "collapsed": false
   },
   "outputs": [
    {
     "name": "stdout",
     "output_type": "stream",
     "text": [
      "0.920728383921\n"
     ]
    }
   ],
   "source": [
    "print clf.score(np.float32(train[features].values), np.float32(labels), weights)"
   ]
  },
  {
   "cell_type": "code",
   "execution_count": 138,
   "metadata": {
    "collapsed": false
   },
   "outputs": [
    {
     "name": "stdout",
     "output_type": "stream",
     "text": [
      "0.908372837332\n"
     ]
    }
   ],
   "source": [
    "#labels and weights\n",
    "df_labels = np.empty( df.shape[0] )\n",
    "df_weights = np.empty( df.shape[0])\n",
    "\n",
    "df_labels[(df.process == \"WW\").as_matrix()] = 1\n",
    "df_labels[(df.process == \"DY\").as_matrix()] = 2\n",
    "df_labels[(df.process == \"TT\").as_matrix()] = 2\n",
    "\n",
    "df_weights[(df.process == \"WW\").as_matrix()] = 1.\n",
    "df_weights[(df.process == \"DY\").as_matrix()] = 1\n",
    "df_weights[(df.process == \"TT\").as_matrix()] = 1\n",
    "\n",
    "print clf.score(np.float32(df[features].values), np.float32(df_labels), df_weights)"
   ]
  },
  {
   "cell_type": "code",
   "execution_count": 139,
   "metadata": {
    "collapsed": false
   },
   "outputs": [],
   "source": [
    "pred = clf.predict_proba(np.float32(test[features].values))\n",
    "\n",
    "test[\"pred_WW\"] = pred[:,0]\n",
    "test[\"pred_DY\"] = pred[:,1]\n",
    "test[\"pred_TT\"] = pred[:,1]"
   ]
  },
  {
   "cell_type": "code",
   "execution_count": 140,
   "metadata": {
    "collapsed": false
   },
   "outputs": [
    {
     "data": {
      "text/plain": [
       "<matplotlib.axes._subplots.AxesSubplot at 0x16173e110>"
      ]
     },
     "execution_count": 140,
     "metadata": {},
     "output_type": "execute_result"
    },
    {
     "data": {
      "image/png": "[encoded data removed]",
      "text/plain": [
       "<matplotlib.figure.Figure at 0x166045490>"
      ]
     },
     "metadata": {},
     "output_type": "display_data"
    }
   ],
   "source": [
    "test[ (test.process == \"WW\") ].pred_WW.hist( bins= 50 )"
   ]
  },
  {
   "cell_type": "code",
   "execution_count": 143,
   "metadata": {
    "collapsed": false
   },
   "outputs": [
    {
     "name": "stdout",
     "output_type": "stream",
     "text": [
      "\tdiff \tsame\n",
      "WW 3069.87020144 1171.78956758\n",
      "DY 444.400319453 1005.09231129\n",
      "TT 193.799202702 67.1909070528\n"
     ]
    }
   ],
   "source": [
    "cut = 0.694\n",
    "feature_cuts =  (test.pred_WW > cut) & (test.numbExtraLep == 0) #& (test_df.qT > 0) & ()\n",
    "feature_cuts_diff =( test.lep_Type > 0 ) & feature_cuts & (test.qT > 20)\n",
    "feature_cuts_same = (test.lep_Type < 0) & feature_cuts #& (test.METProj_trk_sin > 30)\n",
    "print \"\\tdiff\", \"\\tsame\"\n",
    "for process in scales.keys():\n",
    "    if process in test.process.unique():\n",
    "        print process, test[ (test.process == process) & feature_cuts_diff].shape[0] * scales[process] * float(df[df.process == process].shape[0])/float(test[test.process == process].shape[0]),\\\n",
    "    test[ (test.process == process) & feature_cuts_same].shape[0] * scales[process] * float(df[df.process == process].shape[0])/float(test[test.process == process].shape[0])"
   ]
  },
  {
   "cell_type": "markdown",
   "metadata": {},
   "source": [
    "\tdiff \tsame\n",
    "WW 3822.56038396 1396.70063673\n",
    "DY 926.491382568 879.341693887\n",
    "TT 296.422420831 129.310621147"
   ]
  },
  {
   "cell_type": "code",
   "execution_count": 14,
   "metadata": {
    "collapsed": false
   },
   "outputs": [
    {
     "data": {
      "text/plain": [
       "(164657, 58)"
      ]
     },
     "execution_count": 14,
     "metadata": {},
     "output_type": "execute_result"
    }
   ],
   "source": [
    "df_DY.sample( frac=.05).shape"
   ]
  },
  {
   "cell_type": "code",
   "execution_count": 15,
   "metadata": {
    "collapsed": false
   },
   "outputs": [
    {
     "data": {
      "text/plain": [
       "(102240, 59)"
      ]
     },
     "execution_count": 15,
     "metadata": {},
     "output_type": "execute_result"
    }
   ],
   "source": [
    "train[train.process == \"DY\"].shape"
   ]
  },
  {
   "cell_type": "code",
   "execution_count": 113,
   "metadata": {
    "collapsed": false
   },
   "outputs": [],
   "source": [
    "s_ww = float(df[df.process == \"WW\"].shape[0])/float(test[test.process == \"WW\"].shape[0])\n",
    "s_dy = float(df[df.process == \"DY\"].shape[0])/float(test[test.process == \"DY\"].shape[0])\n",
    "s_tt = float(df[df.process == \"TT\"].shape[0])/float(test[test.process == \"TT\"].shape[0])"
   ]
  },
  {
   "cell_type": "code",
   "execution_count": 132,
   "metadata": {
    "collapsed": false
   },
   "outputs": [
    {
     "data": {
      "text/plain": [
       "(<matplotlib.axes._subplots.AxesSubplot at 0x167c133d0>,\n",
       " [<Container object of 50 artists>,\n",
       "  <Container object of 50 artists>,\n",
       "  <Container object of 50 artists>],\n",
       " ['DY', 'TT', 'WW'])"
      ]
     },
     "execution_count": 132,
     "metadata": {},
     "output_type": "execute_result"
    },
    {
     "data": {
      "image/png": "[encoded data removed]",
      "text/plain": [
       "<matplotlib.figure.Figure at 0x167c6d6d0>"
      ]
     },
     "metadata": {},
     "output_type": "display_data"
    }
   ],
   "source": [
    "feature = 'mll'\n",
    "range= (0,400)#(-.5,9.5)\n",
    "cut = 0.805#.954\n",
    "bins=50\n",
    "#test.METProj_trk_sin\n",
    "\n",
    "cuts = (test.pred_WW > cut) & (test.lep_Type < 0)\n",
    "\n",
    "bin_mc = bin_df( test[cuts], feature, range=range, scales={\"WW\":scales[\"WW\"] * s_ww, \"DY\":scales[\"DY\"] * s_dy, \"TT\":scales[\"TT\"] * s_tt ,\\\n",
    "                                                          'WZ_2l2q': 1, 'WZ_3ln': 1, 'ZZ':1, \"WZ\":1}, bins=bins)\n",
    "plot_hist(bin_mc, processes=[\"DY\",\"TT\",\"WW\"])#y_range=True, logy=False)"
   ]
  },
  {
   "cell_type": "code",
   "execution_count": 18,
   "metadata": {
    "collapsed": false
   },
   "outputs": [
    {
     "name": "stdout",
     "output_type": "stream",
     "text": [
      "0.0\n",
      "0.0\n"
     ]
    }
   ],
   "source": [
    "print test[ cuts & (test.process == \"DY\") & (test.METProj_trk_sin < 25)].shape[0] * s_dy * scales[\"DY\"]\n",
    "print test[ cuts & (test.process == \"WW\") & (test.METProj_trk_sin < 25)].shape[0] * s_ww * scales[\"WW\"]"
   ]
  },
  {
   "cell_type": "code",
   "execution_count": 126,
   "metadata": {
    "collapsed": false
   },
   "outputs": [
    {
     "name": "stdout",
     "output_type": "stream",
     "text": [
      "numb_jets 0.0303822711639\n",
      "METProj 0.0575080141109\n",
      "METProj_trk_sin 0.0551667657272\n",
      "METProj_sin 0.0654336110956\n",
      "qT 0.109833595986\n",
      "met_over_sET 0.0311794057858\n",
      "dPhiLLMET 0.0833446582837\n",
      "dPhiLLJet 0.0437550901164\n",
      "dPhiLL 0.045263224147\n",
      "dPhiMETJet 0.0322994126429\n",
      "lep_Type 0.152042358539\n",
      "mllMET 0.0692972986982\n",
      "recoil 0.0700483466886\n",
      "jetPt1 0.0509478495649\n",
      "jet1_csv 0.10349809745\n"
     ]
    }
   ],
   "source": [
    "for e, f in enumerate(clf.feature_importances_):\n",
    "    print features[e], f"
   ]
  },
  {
   "cell_type": "code",
   "execution_count": null,
   "metadata": {
    "collapsed": true
   },
   "outputs": [],
   "source": []
  },
  {
   "cell_type": "code",
   "execution_count": null,
   "metadata": {
    "collapsed": true
   },
   "outputs": [],
   "source": []
  },
  {
   "cell_type": "code",
   "execution_count": null,
   "metadata": {
    "collapsed": true
   },
   "outputs": [],
   "source": []
  },
  {
   "cell_type": "code",
   "execution_count": null,
   "metadata": {
    "collapsed": true
   },
   "outputs": [],
   "source": []
  },
  {
   "cell_type": "code",
   "execution_count": null,
   "metadata": {
    "collapsed": true
   },
   "outputs": [],
   "source": []
  },
  {
   "cell_type": "code",
   "execution_count": null,
   "metadata": {
    "collapsed": true
   },
   "outputs": [],
   "source": []
  },
  {
   "cell_type": "code",
   "execution_count": null,
   "metadata": {
    "collapsed": true
   },
   "outputs": [],
   "source": []
  },
  {
   "cell_type": "code",
   "execution_count": null,
   "metadata": {
    "collapsed": true
   },
   "outputs": [],
   "source": []
  },
  {
   "cell_type": "code",
   "execution_count": null,
   "metadata": {
    "collapsed": true
   },
   "outputs": [],
   "source": []
  },
  {
   "cell_type": "code",
   "execution_count": null,
   "metadata": {
    "collapsed": true
   },
   "outputs": [],
   "source": []
  },
  {
   "cell_type": "code",
   "execution_count": null,
   "metadata": {
    "collapsed": true
   },
   "outputs": [],
   "source": []
  },
  {
   "cell_type": "code",
   "execution_count": null,
   "metadata": {
    "collapsed": true
   },
   "outputs": [],
   "source": []
  },
  {
   "cell_type": "code",
   "execution_count": null,
   "metadata": {
    "collapsed": true
   },
   "outputs": [],
   "source": []
  },
  {
   "cell_type": "code",
   "execution_count": null,
   "metadata": {
    "collapsed": true
   },
   "outputs": [],
   "source": []
  }
 ],
 "metadata": {
  "kernelspec": {
   "display_name": "Python 2",
   "language": "python",
   "name": "python2"
  },
  "language_info": {
   "codemirror_mode": {
    "name": "ipython",
    "version": 2
   },
   "file_extension": ".py",
   "mimetype": "text/x-python",
   "name": "python",
   "nbconvert_exporter": "python",
   "pygments_lexer": "ipython2",
   "version": "2.7.10"
  },
  "toc": {
   "navigate_menu": false,
   "number_sections": true,
   "sideBar": true,
   "threshold": "4",
   "toc_cell": false,
   "toc_section_display": "block",
   "toc_window_display": true
  }
 },
 "nbformat": 4,
 "nbformat_minor": 0
}
