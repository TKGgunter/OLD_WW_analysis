{
 "cells": [
  {
   "cell_type": "markdown",
   "metadata": {},
   "source": [
    "# Random forest lepton flavor study\n",
    "(Sept 21, 2016)\n",
    "\n",
    "This study was done using the the same, very simliar, set-up and methodology to what was done with TMVA over during 2015-mid2016. There are a few glaring mistakes and over sights which will be noted but not corrected in this study. The issues are outlined below. \n",
    "\n",
    "### Issues \n",
    "\n",
    "There are a few issues to note. First that the original forest was not trained on 1/3 of the mc, but ~ 1/3 of WW and the rest of the same order as the WW.  ( 50,000-WW, 70,000-DY, 33,000-TT ) More importantly when producing yeild tables the entire Monte Carlo dataset set was used, including the portion of the set which had been used for training. What worse is that only ~2/3 of the WW set was avalible. So over 50% of the data set used to test on was also used to train. :( \n",
    "\n",
    "Other things: \n",
    "\n",
    "- At this point in time bagged fraction isn't known to be a tunable parameter.\n",
    "\n",
    "- Sklearn seems to cut a bit more harshly on TT then DY as the yields for TT are abit lower while DY is markedly higher then what's produced by TMVA.\n",
    "\n",
    "- 100 trees were trained for each flavor and for the combined set here.  The TMVA forest held 300 trees.\n",
    "\n",
    "### Future \n",
    "\n",
    "I plan to move away from TMVA.  Before doing so I need to determine why their is such a large difference in the DY yields. I plan on completing the analysis with 1/3 of the MC where the number of DY and TT are weighted such that the weighted sum of each process are the same magnitude.\n",
    "\n",
    "link to that note book: \n",
    "\n",
    "=========================\n"
   ]
  },
  {
   "cell_type": "markdown",
   "metadata": {},
   "source": [
    "## Set up:"
   ]
  },
  {
   "cell_type": "code",
   "execution_count": 1,
   "metadata": {},
   "outputs": [
    {
     "name": "stdout",
     "output_type": "stream",
     "text": [
      "loading data frame named df.\n",
      "finished loading data frame\n",
      "unc_mc_process and scales are dictionaries\n",
      "scale_data = (5.27/19.7)\n"
     ]
    },
    {
     "name": "stderr",
     "output_type": "stream",
     "text": [
      "/usr/local/lib/python2.7/site-packages/matplotlib/font_manager.py:273: UserWarning: Matplotlib is building the font cache using fc-list. This may take a moment.\n",
      "  warnings.warn('Matplotlib is building the font cache using fc-list. This may take a moment.')\n"
     ]
    }
   ],
   "source": [
    "run old_prep_ana.py"
   ]
  },
  {
   "cell_type": "code",
   "execution_count": 2,
   "metadata": {},
   "outputs": [],
   "source": [
    "%matplotlib inline"
   ]
  },
  {
   "cell_type": "code",
   "execution_count": 3,
   "metadata": {},
   "outputs": [
    {
     "name": "stdout",
     "output_type": "stream",
     "text": [
      "(5680272, 44)\n",
      "(5680272, 44)\n",
      "(109523, 44)\n",
      "(1618029, 44)\n",
      "(3290663, 44)\n"
     ]
    }
   ],
   "source": [
    "print df.shape\n",
    "b = np.where(np.isinf(df[[u'mll']].values))[0]\n",
    "            \n",
    "df =df.drop(df.index[b])\n",
    "print df.shape\n",
    "print df[df.WW ==1].shape\n",
    "print df[df.TT ==1].shape\n",
    "print df[df.DY ==1].shape"
   ]
  },
  {
   "cell_type": "code",
   "execution_count": 4,
   "metadata": {
    "code_folding": [
     0
    ]
   },
   "outputs": [
    {
     "name": "stdout",
     "output_type": "stream",
     "text": [
      "WW (48462, 44)\n",
      "(682896, 44)\n",
      "(3281805, 44)\n",
      "(4551241, 44)\n",
      "WW (61061, 44)\n",
      "(935133, 44)\n",
      "(8858, 44)\n",
      "(1129031, 44)\n"
     ]
    },
    {
     "data": {
      "text/plain": [
       "(153000, 44)"
      ]
     },
     "execution_count": 4,
     "metadata": {},
     "output_type": "execute_result"
    }
   ],
   "source": [
    "#concat df\n",
    "df_s = df[ df.lep_Type < 0 ]\n",
    "print \"WW\", df_s[df_s.WW ==1].shape\n",
    "print df_s[df_s.TT ==1].shape\n",
    "print df_s[df_s.DY ==1].shape\n",
    "test_s = df_s[(df_s.WW ==1) | (df_s.DY == 1) | (df_s.TT == 1) | (df_s.ZZ == 1) | (df_s.WZ == 1) ]\n",
    "print test_s.shape\n",
    "\n",
    "df_d = df[ df.lep_Type > 0 ]\n",
    "print \"WW\",df_d[df_d.WW ==1].shape\n",
    "print df_d[df_d.TT ==1].shape\n",
    "print df_d[df_d.DY ==1].shape\n",
    "test_d = df_d[(df_d.WW ==1) | (df_d.DY == 1) | (df_d.TT == 1) | (df_d.ZZ == 1) | (df_d.WZ == 1) ]\n",
    "print test_d.shape\n",
    "\n",
    "train_s = test_s[(test_s.WW ==1) | (test_s.DY == 1) | (test_s.TT == 1)]\n",
    "train_d = test_d[(test_d.WW ==1) | (test_d.DY == 1) | (test_d.TT == 1)] \n",
    "\n",
    "train = pd.concat([ train_s, train_d ])\n",
    "train = pd.concat( [train[train.WW ==1].sample(n=50000), train[train.DY == 1].sample(n=70000), train[train.TT == 1].sample(n=33000) ] )\n",
    "\n",
    "train.shape"
   ]
  },
  {
   "cell_type": "code",
   "execution_count": 5,
   "metadata": {},
   "outputs": [
    {
     "name": "stdout",
     "output_type": "stream",
     "text": [
      "(50000, 44)\n",
      "(33000, 44)\n",
      "(70000, 44)\n"
     ]
    },
    {
     "data": {
      "text/plain": [
       "(153000, 44)"
      ]
     },
     "execution_count": 5,
     "metadata": {},
     "output_type": "execute_result"
    }
   ],
   "source": [
    "print train[train.WW==1].shape\n",
    "print train[train.TT==1].shape\n",
    "print train[train.DY==1].shape\n",
    "train.shape"
   ]
  },
  {
   "cell_type": "code",
   "execution_count": 6,
   "metadata": {
    "code_folding": [
     0
    ]
   },
   "outputs": [],
   "source": [
    "#Training\n",
    "train_d = train[ train.lep_Type > 0]\n",
    "train_s = train[ train.lep_Type < 0]\n",
    "\n",
    "labels_d = np.empty( train_d.shape[0] )\n",
    "labels_s = np.empty( train_s.shape[0] )\n",
    "labels = np.empty( train.shape[0] )"
   ]
  },
  {
   "cell_type": "code",
   "execution_count": 7,
   "metadata": {
    "code_folding": [
     0
    ]
   },
   "outputs": [],
   "source": [
    "#Labels\n",
    "labels_d[(train_d.WW == 1).as_matrix()] = 1\n",
    "labels_d[(train_d.DY == 1).as_matrix()] = 2\n",
    "labels_d[(train_d.TT == 1).as_matrix()] = 2\n",
    "\n",
    "labels_s[(train_s.WW == 1).as_matrix()] = 1\n",
    "labels_s[(train_s.DY == 1).as_matrix()] = 2\n",
    "labels_s[(train_s.TT == 1).as_matrix()] = 2\n",
    "\n",
    "labels[(train.WW == 1).as_matrix()] = 1\n",
    "labels[(train.DY == 1).as_matrix()] = 2\n",
    "labels[(train.TT == 1).as_matrix()] = 2"
   ]
  },
  {
   "cell_type": "code",
   "execution_count": 8,
   "metadata": {
    "code_folding": [
     0
    ]
   },
   "outputs": [],
   "source": [
    "#weights\n",
    "weights_d = np.empty(train_d.shape[0] )\n",
    "weights_s = np.empty(train_s.shape[0] )\n",
    "weights = np.empty(train.shape[0] )\n",
    "\n",
    "weights_d[(train_d.WW == 1).as_matrix()] = 1.\n",
    "weights_d[(train_d.DY == 1).as_matrix()] = 1.#.01\n",
    "weights_d[(train_d.TT == 1).as_matrix()] = 1.#.01\n",
    "\n",
    "weights_s[(train_s.WW == 1).as_matrix()] = 1.\n",
    "weights_s[(train_s.DY == 1).as_matrix()] = 1.#.01\n",
    "weights_s[(train_s.TT == 1).as_matrix()] = 1.#.01\n",
    "\n",
    "weights[(train.WW == 1).as_matrix()] = 1.\n",
    "weights[(train.DY == 1).as_matrix()] = 1.#.01\n",
    "weights[(train.TT == 1).as_matrix()] = 1.#.01"
   ]
  },
  {
   "cell_type": "code",
   "execution_count": 9,
   "metadata": {},
   "outputs": [
    {
     "name": "stderr",
     "output_type": "stream",
     "text": [
      "/usr/local/lib/python2.7/site-packages/ipykernel/__main__.py:1: SettingWithCopyWarning: \n",
      "A value is trying to be set on a copy of a slice from a DataFrame.\n",
      "Try using .loc[row_indexer,col_indexer] = value instead\n",
      "\n",
      "See the caveats in the documentation: http://pandas.pydata.org/pandas-docs/stable/indexing.html#indexing-view-versus-copy\n",
      "  if __name__ == '__main__':\n",
      "/usr/local/lib/python2.7/site-packages/ipykernel/__main__.py:2: SettingWithCopyWarning: \n",
      "A value is trying to be set on a copy of a slice from a DataFrame.\n",
      "Try using .loc[row_indexer,col_indexer] = value instead\n",
      "\n",
      "See the caveats in the documentation: http://pandas.pydata.org/pandas-docs/stable/indexing.html#indexing-view-versus-copy\n",
      "  from ipykernel import kernelapp as app\n"
     ]
    }
   ],
   "source": [
    "train_d[\"Truth\"] = labels_d\n",
    "train_s[\"Truth\"] = labels_s"
   ]
  },
  {
   "cell_type": "code",
   "execution_count": 10,
   "metadata": {},
   "outputs": [
    {
     "data": {
      "text/html": [
       "<div>\n",
       "<table border=\"1\" class=\"dataframe\">\n",
       "  <thead>\n",
       "    <tr style=\"text-align: right;\">\n",
       "      <th></th>\n",
       "      <th>WW</th>\n",
       "      <th>DY</th>\n",
       "      <th>TT</th>\n",
       "      <th>Truth</th>\n",
       "    </tr>\n",
       "  </thead>\n",
       "  <tbody>\n",
       "    <tr>\n",
       "      <th>82093</th>\n",
       "      <td>1</td>\n",
       "      <td>0</td>\n",
       "      <td>0</td>\n",
       "      <td>1</td>\n",
       "    </tr>\n",
       "    <tr>\n",
       "      <th>48725</th>\n",
       "      <td>1</td>\n",
       "      <td>0</td>\n",
       "      <td>0</td>\n",
       "      <td>1</td>\n",
       "    </tr>\n",
       "    <tr>\n",
       "      <th>23387</th>\n",
       "      <td>1</td>\n",
       "      <td>0</td>\n",
       "      <td>0</td>\n",
       "      <td>1</td>\n",
       "    </tr>\n",
       "    <tr>\n",
       "      <th>34070</th>\n",
       "      <td>1</td>\n",
       "      <td>0</td>\n",
       "      <td>0</td>\n",
       "      <td>1</td>\n",
       "    </tr>\n",
       "    <tr>\n",
       "      <th>48782</th>\n",
       "      <td>1</td>\n",
       "      <td>0</td>\n",
       "      <td>0</td>\n",
       "      <td>1</td>\n",
       "    </tr>\n",
       "  </tbody>\n",
       "</table>\n",
       "</div>"
      ],
      "text/plain": [
       "       WW  DY  TT  Truth\n",
       "82093   1   0   0      1\n",
       "48725   1   0   0      1\n",
       "23387   1   0   0      1\n",
       "34070   1   0   0      1\n",
       "48782   1   0   0      1"
      ]
     },
     "execution_count": 10,
     "metadata": {},
     "output_type": "execute_result"
    }
   ],
   "source": [
    "train_d[[\"WW\", \"DY\", \"TT\", \"Truth\"]].head()"
   ]
  },
  {
   "cell_type": "code",
   "execution_count": 11,
   "metadata": {},
   "outputs": [
    {
     "data": {
      "text/plain": [
       "Index([u'sub_lep_eta', u'runNum', u'nBJet', u'lep_Charge', u'HT', u'WW', u'DY',\n",
       "       u'numb_jets', u'lead_lep_eta', u'Da', u'sub_lep_mother', u'WZ',\n",
       "       u'eventNumb', u'jetPt5', u'lead_lep_mother', u'TT', u'jetPt6',\n",
       "       u'jetPt1', u'lep2_pt', u'jetPt3', u'jetPt2', u'gen_npv', u'lumiSec',\n",
       "       u'metMod', u'dPhiLL', u'METProj', u'lep1_pt', u'mllMET', u'qT',\n",
       "       u'dPhiLLJet', u'sub_lep_type', u'numbExtraLep', u'MET_phi', u'ZZ',\n",
       "       u'npv', u'dPhiLLMET', u'lep_Type', u'METProj_parr', u'lep3_pt', u'mll',\n",
       "       u'rf_result', u'weights', u'jetPt4', u'lead_lep_type', u'Truth'],\n",
       "      dtype='object')"
      ]
     },
     "execution_count": 11,
     "metadata": {},
     "output_type": "execute_result"
    }
   ],
   "source": [
    "train_d.keys()"
   ]
  },
  {
   "cell_type": "code",
   "execution_count": 12,
   "metadata": {},
   "outputs": [],
   "source": [
    "features = ['nBJet', 'numb_jets', 'lep1_pt', 'lep2_pt', 'METProj', 'qT', 'mll', 'metMod', 'dPhiLLMET', 'HT', 'lep_Type'] +\\\n",
    "            ['jetPt'+str(i) for i in range(1,7)]"
   ]
  },
  {
   "cell_type": "code",
   "execution_count": 13,
   "metadata": {
    "scrolled": true
   },
   "outputs": [
    {
     "data": {
      "text/html": [
       "<div>\n",
       "<table border=\"1\" class=\"dataframe\">\n",
       "  <thead>\n",
       "    <tr style=\"text-align: right;\">\n",
       "      <th></th>\n",
       "      <th>nBJet</th>\n",
       "      <th>numb_jets</th>\n",
       "      <th>lep1_pt</th>\n",
       "      <th>lep2_pt</th>\n",
       "      <th>METProj</th>\n",
       "      <th>qT</th>\n",
       "      <th>mll</th>\n",
       "      <th>metMod</th>\n",
       "      <th>dPhiLLMET</th>\n",
       "      <th>HT</th>\n",
       "      <th>lep_Type</th>\n",
       "      <th>jetPt1</th>\n",
       "      <th>jetPt2</th>\n",
       "      <th>jetPt3</th>\n",
       "      <th>jetPt4</th>\n",
       "      <th>jetPt5</th>\n",
       "      <th>jetPt6</th>\n",
       "    </tr>\n",
       "  </thead>\n",
       "  <tbody>\n",
       "    <tr>\n",
       "      <th>77245</th>\n",
       "      <td>0</td>\n",
       "      <td>0</td>\n",
       "      <td>92.646919</td>\n",
       "      <td>73.081146</td>\n",
       "      <td>22.693611</td>\n",
       "      <td>19.699148</td>\n",
       "      <td>250.309448</td>\n",
       "      <td>26.166655</td>\n",
       "      <td>3.125406</td>\n",
       "      <td>0</td>\n",
       "      <td>1</td>\n",
       "      <td>0</td>\n",
       "      <td>0</td>\n",
       "      <td>0</td>\n",
       "      <td>0</td>\n",
       "      <td>0</td>\n",
       "      <td>0</td>\n",
       "    </tr>\n",
       "    <tr>\n",
       "      <th>89856</th>\n",
       "      <td>0</td>\n",
       "      <td>0</td>\n",
       "      <td>43.951981</td>\n",
       "      <td>27.753130</td>\n",
       "      <td>48.764740</td>\n",
       "      <td>41.757965</td>\n",
       "      <td>79.673615</td>\n",
       "      <td>57.103016</td>\n",
       "      <td>2.939965</td>\n",
       "      <td>0</td>\n",
       "      <td>1</td>\n",
       "      <td>0</td>\n",
       "      <td>0</td>\n",
       "      <td>0</td>\n",
       "      <td>0</td>\n",
       "      <td>0</td>\n",
       "      <td>0</td>\n",
       "    </tr>\n",
       "    <tr>\n",
       "      <th>3040</th>\n",
       "      <td>0</td>\n",
       "      <td>0</td>\n",
       "      <td>115.137009</td>\n",
       "      <td>107.356873</td>\n",
       "      <td>34.828148</td>\n",
       "      <td>24.379753</td>\n",
       "      <td>254.420120</td>\n",
       "      <td>35.959427</td>\n",
       "      <td>3.113331</td>\n",
       "      <td>0</td>\n",
       "      <td>1</td>\n",
       "      <td>0</td>\n",
       "      <td>0</td>\n",
       "      <td>0</td>\n",
       "      <td>0</td>\n",
       "      <td>0</td>\n",
       "      <td>0</td>\n",
       "    </tr>\n",
       "    <tr>\n",
       "      <th>67925</th>\n",
       "      <td>0</td>\n",
       "      <td>0</td>\n",
       "      <td>65.540176</td>\n",
       "      <td>58.920780</td>\n",
       "      <td>30.099834</td>\n",
       "      <td>37.065086</td>\n",
       "      <td>143.837601</td>\n",
       "      <td>33.712559</td>\n",
       "      <td>1.752216</td>\n",
       "      <td>0</td>\n",
       "      <td>1</td>\n",
       "      <td>0</td>\n",
       "      <td>0</td>\n",
       "      <td>0</td>\n",
       "      <td>0</td>\n",
       "      <td>0</td>\n",
       "      <td>0</td>\n",
       "    </tr>\n",
       "    <tr>\n",
       "      <th>25740</th>\n",
       "      <td>0</td>\n",
       "      <td>0</td>\n",
       "      <td>93.985527</td>\n",
       "      <td>39.088638</td>\n",
       "      <td>71.189888</td>\n",
       "      <td>62.276325</td>\n",
       "      <td>118.271049</td>\n",
       "      <td>82.257286</td>\n",
       "      <td>3.002865</td>\n",
       "      <td>0</td>\n",
       "      <td>1</td>\n",
       "      <td>0</td>\n",
       "      <td>0</td>\n",
       "      <td>0</td>\n",
       "      <td>0</td>\n",
       "      <td>0</td>\n",
       "      <td>0</td>\n",
       "    </tr>\n",
       "  </tbody>\n",
       "</table>\n",
       "</div>"
      ],
      "text/plain": [
       "       nBJet  numb_jets     lep1_pt     lep2_pt    METProj         qT  \\\n",
       "77245      0          0   92.646919   73.081146  22.693611  19.699148   \n",
       "89856      0          0   43.951981   27.753130  48.764740  41.757965   \n",
       "3040       0          0  115.137009  107.356873  34.828148  24.379753   \n",
       "67925      0          0   65.540176   58.920780  30.099834  37.065086   \n",
       "25740      0          0   93.985527   39.088638  71.189888  62.276325   \n",
       "\n",
       "              mll     metMod  dPhiLLMET  HT  lep_Type  jetPt1  jetPt2  jetPt3  \\\n",
       "77245  250.309448  26.166655   3.125406   0         1       0       0       0   \n",
       "89856   79.673615  57.103016   2.939965   0         1       0       0       0   \n",
       "3040   254.420120  35.959427   3.113331   0         1       0       0       0   \n",
       "67925  143.837601  33.712559   1.752216   0         1       0       0       0   \n",
       "25740  118.271049  82.257286   3.002865   0         1       0       0       0   \n",
       "\n",
       "       jetPt4  jetPt5  jetPt6  \n",
       "77245       0       0       0  \n",
       "89856       0       0       0  \n",
       "3040        0       0       0  \n",
       "67925       0       0       0  \n",
       "25740       0       0       0  "
      ]
     },
     "execution_count": 13,
     "metadata": {},
     "output_type": "execute_result"
    }
   ],
   "source": [
    "train_d[features].head()"
   ]
  },
  {
   "cell_type": "markdown",
   "metadata": {},
   "source": [
    "# Classification training and testing"
   ]
  },
  {
   "cell_type": "code",
   "execution_count": 13,
   "metadata": {
    "collapsed": true
   },
   "outputs": [],
   "source": [
    "from sklearn.ensemble import RandomForestClassifier\n"
   ]
  },
  {
   "cell_type": "markdown",
   "metadata": {},
   "source": [
    "## Different flavor "
   ]
  },
  {
   "cell_type": "code",
   "execution_count": 14,
   "metadata": {
    "collapsed": true
   },
   "outputs": [],
   "source": [
    "clf_d = RandomForestClassifier(n_estimators=100, n_jobs=-1, min_samples_split=10, max_depth=15, max_features='sqrt')\n",
    "clf_s = RandomForestClassifier(n_estimators=100, n_jobs=-1, min_samples_split=10, max_depth=15, max_features='sqrt')\n",
    "clf = RandomForestClassifier(n_estimators=100, n_jobs=-1, min_samples_split=10, max_depth=15, max_features='sqrt')\n",
    "#n_estimators=150"
   ]
  },
  {
   "cell_type": "code",
   "execution_count": 30,
   "metadata": {},
   "outputs": [],
   "source": [
    "clf_d = clf_d.fit( np.float32(train_d[features].values) , np.float32(labels_d), sample_weight=weights_d)"
   ]
  },
  {
   "cell_type": "code",
   "execution_count": 31,
   "metadata": {},
   "outputs": [
    {
     "name": "stdout",
     "output_type": "stream",
     "text": [
      "0.969689943722\n"
     ]
    }
   ],
   "source": [
    "print clf_d.score(np.float32(train_d[features].values), np.float32(labels_d), weights_d)"
   ]
  },
  {
   "cell_type": "code",
   "execution_count": 32,
   "metadata": {},
   "outputs": [],
   "source": [
    "pred_d = clf_d.predict_proba(np.float32(test_d[features].values))"
   ]
  },
  {
   "cell_type": "code",
   "execution_count": 33,
   "metadata": {},
   "outputs": [],
   "source": [
    "test_d[\"pred\"] = pred_d[:,0]"
   ]
  },
  {
   "cell_type": "code",
   "execution_count": 34,
   "metadata": {},
   "outputs": [
    {
     "data": {
      "text/plain": [
       "<matplotlib.axes._subplots.AxesSubplot at 0x11f74e790>"
      ]
     },
     "execution_count": 34,
     "metadata": {},
     "output_type": "execute_result"
    },
    {
     "data": {
      "image/png": "[encoded data removed]",
      "text/plain": [
       "<matplotlib.figure.Figure at 0x10f42d610>"
      ]
     },
     "metadata": {},
     "output_type": "display_data"
    }
   ],
   "source": [
    "test_d[ test_d.WW == 1 ].pred.hist(bins=1000)"
   ]
  },
  {
   "cell_type": "code",
   "execution_count": 46,
   "metadata": {},
   "outputs": [
    {
     "name": "stdout",
     "output_type": "stream",
     "text": [
      "TT 136.106315585\n",
      "WW 3798.55271453\n",
      "ZZ 27.15321\n",
      "DY 661.355072802\n",
      "WZ 193.81085\n"
     ]
    }
   ],
   "source": [
    "for process in scales.keys():\n",
    "    if process in test_d.keys():\n",
    "        print process, test_d[ (test_d[process] == 1) & (test_d.pred > .987929)].shape[0] *  scales[process]"
   ]
  },
  {
   "cell_type": "markdown",
   "metadata": {},
   "source": [
    "## Same Flavor"
   ]
  },
  {
   "cell_type": "code",
   "execution_count": 16,
   "metadata": {},
   "outputs": [],
   "source": [
    "clf_s = clf_s.fit( np.float32(train_s[features].values) , np.float32(labels_s), sample_weight=weights_s)"
   ]
  },
  {
   "cell_type": "code",
   "execution_count": 17,
   "metadata": {},
   "outputs": [
    {
     "name": "stdout",
     "output_type": "stream",
     "text": [
      "0.962835245412\n"
     ]
    }
   ],
   "source": [
    "print clf_s.score(np.float32(train_s[features].values), np.float32(labels_s), weights_s)"
   ]
  },
  {
   "cell_type": "code",
   "execution_count": null,
   "metadata": {},
   "outputs": [],
   "source": []
  },
  {
   "cell_type": "code",
   "execution_count": 18,
   "metadata": {},
   "outputs": [],
   "source": [
    "pred_s = clf_s.predict_proba(np.float32(test_s[features].values))"
   ]
  },
  {
   "cell_type": "code",
   "execution_count": 19,
   "metadata": {},
   "outputs": [],
   "source": [
    "test_s[\"pred\"] = pred_s[:,0]"
   ]
  },
  {
   "cell_type": "code",
   "execution_count": 20,
   "metadata": {},
   "outputs": [
    {
     "data": {
      "text/plain": [
       "<matplotlib.axes._subplots.AxesSubplot at 0x123d98c50>"
      ]
     },
     "execution_count": 20,
     "metadata": {},
     "output_type": "execute_result"
    },
    {
     "data": {
      "image/png": "[encoded data removed]",
      "text/plain": [
       "<matplotlib.figure.Figure at 0x123d27ed0>"
      ]
     },
     "metadata": {},
     "output_type": "display_data"
    }
   ],
   "source": [
    "test_s[ test_s.WW == 1 ].pred.hist(bins=1000)"
   ]
  },
  {
   "cell_type": "code",
   "execution_count": null,
   "metadata": {},
   "outputs": [],
   "source": [
    "test_s[ (test_s.WW == 1) & (test_s.pred > .98062)].shape[0] * 0.25432195464148893"
   ]
  },
  {
   "cell_type": "code",
   "execution_count": 29,
   "metadata": {},
   "outputs": [
    {
     "name": "stdout",
     "output_type": "stream",
     "text": [
      "TT 71.3255454722\n",
      "WW 1684.62862755\n",
      "ZZ 67.44507\n",
      "DY 557.877748486\n",
      "WZ 125.214875\n"
     ]
    }
   ],
   "source": [
    "for process in scales.keys():\n",
    "    if process in test_s.keys():\n",
    "        print process, test_s[ (test_s[process] == 1) & (test_s.pred > .9742)].shape[0] *  scales[process]"
   ]
  },
  {
   "cell_type": "markdown",
   "metadata": {},
   "source": [
    "## same + different flavors"
   ]
  },
  {
   "cell_type": "code",
   "execution_count": 15,
   "metadata": {},
   "outputs": [],
   "source": [
    "clf = clf.fit( np.float32(train[features].values) , np.float32(labels), sample_weight=weights)"
   ]
  },
  {
   "cell_type": "code",
   "execution_count": 32,
   "metadata": {},
   "outputs": [
    {
     "name": "stdout",
     "output_type": "stream",
     "text": [
      "0.961823529412\n"
     ]
    }
   ],
   "source": [
    "print clf.score(np.float32(train[features].values), np.float32(labels), weights)"
   ]
  },
  {
   "cell_type": "code",
   "execution_count": 16,
   "metadata": {},
   "outputs": [],
   "source": [
    "pred = clf.predict_proba(np.float32(df[features].values))"
   ]
  },
  {
   "cell_type": "code",
   "execution_count": 34,
   "metadata": {
    "collapsed": true
   },
   "outputs": [],
   "source": [
    "df[\"pred\"] = pred[:,0]"
   ]
  },
  {
   "cell_type": "code",
   "execution_count": 55,
   "metadata": {},
   "outputs": [
    {
     "data": {
      "text/plain": [
       "<matplotlib.axes._subplots.AxesSubplot at 0x124affc10>"
      ]
     },
     "execution_count": 55,
     "metadata": {},
     "output_type": "execute_result"
    },
    {
     "data": {
      "image/png": "[encoded data removed]",
      "text/plain": [
       "<matplotlib.figure.Figure at 0x124ab3f90>"
      ]
     },
     "metadata": {},
     "output_type": "display_data"
    }
   ],
   "source": [
    "df[ df.WW == 1 ].pred.hist(bins=1000)"
   ]
  },
  {
   "cell_type": "code",
   "execution_count": 36,
   "metadata": {},
   "outputs": [
    {
     "name": "stdout",
     "output_type": "stream",
     "text": [
      "TT 305.853610245 103.674244062\n",
      "WW 3821.73461124 1266.56442707\n",
      "ZZ 37.6287318207 40.7927629525\n",
      "DY 1365.45077956 778.32943942\n",
      "WZ 261.823028882 105.08718277\n"
     ]
    }
   ],
   "source": [
    "\n",
    "scales = {\"WW\": 19.7e3 * 59.8 /  10000431.0 ,\\\n",
    "          \"DY\": 19.7e3 * 3531.9 / 30459500. ,\\\n",
    "          \"TT\": 19.7e3 * 25.81 / 12011428.,\\\n",
    "          \"ZZ\": 19.7e3 * 9.03 / 9799908.,\\\n",
    "          \"WZ\": 19.7e3 * 1.07 / 2017979., \"WJ\": 1 }\n",
    "\n",
    "\n",
    "for process in scales.keys():\n",
    "    if process in df.keys():\n",
    "        print process, df[ (df[process] == 1) & (df.pred > .96912) & (df.lep_Type > 0)].shape[0] *  scales[process],\\\n",
    "        df[ (df[process] == 1) & (df.pred > .96912) & (df.lep_Type < 0)].shape[0] *  scales[process]"
   ]
  },
  {
   "cell_type": "code",
   "execution_count": 51,
   "metadata": {},
   "outputs": [
    {
     "data": {
      "text/plain": [
       "(4848788, 40)"
      ]
     },
     "execution_count": 51,
     "metadata": {},
     "output_type": "execute_result"
    }
   ],
   "source": [
    "df.shape"
   ]
  },
  {
   "cell_type": "markdown",
   "metadata": {},
   "source": [
    "# Results as of sept 21 \n",
    "\n",
    "### trained seperately:\n",
    "\n",
    "Process:    | WW | DY | TT | ZZ+WZ\n",
    "---         |---| ---|--- |---\n",
    "same flavor |1684|395|71 | 192 \n",
    "diff flavor |3799|661|139 | 220 \n",
    "\n",
    "Significant differences\n",
    "\n",
    "- diff DY 661 vs 106 \n",
    "- diff TT 139 vs 433\n"
   ]
  },
  {
   "cell_type": "markdown",
   "metadata": {},
   "source": [
    "### trained together:\n",
    "\n",
    "Process:    | WW | DY | TT | ZZ+WZ\n",
    "---         |---| ---|--- |---\n",
    "same flavor |1057|182|36 | 101 \n",
    "diff flavor |4426|485|178 | 279 "
   ]
  },
  {
   "cell_type": "markdown",
   "metadata": {},
   "source": []
  },
  {
   "cell_type": "code",
   "execution_count": null,
   "metadata": {},
   "outputs": [],
   "source": []
  },
  {
   "cell_type": "code",
   "execution_count": null,
   "metadata": {},
   "outputs": [],
   "source": []
  },
  {
   "cell_type": "code",
   "execution_count": null,
   "metadata": {},
   "outputs": [],
   "source": []
  },
  {
   "cell_type": "code",
   "execution_count": null,
   "metadata": {},
   "outputs": [],
   "source": []
  },
  {
   "cell_type": "code",
   "execution_count": null,
   "metadata": {},
   "outputs": [],
   "source": []
  },
  {
   "cell_type": "code",
   "execution_count": null,
   "metadata": {
    "collapsed": true
   },
   "outputs": [],
   "source": []
  }
 ],
 "metadata": {
  "kernelspec": {
   "display_name": "Python 2",
   "language": "python",
   "name": "python2"
  },
  "language_info": {
   "codemirror_mode": {
    "name": "ipython",
    "version": 2
   },
   "file_extension": ".py",
   "mimetype": "text/x-python",
   "name": "python",
   "nbconvert_exporter": "python",
   "pygments_lexer": "ipython2",
   "version": "2.7.13"
  },
  "toc": {
   "colors": {
    "hover_highlight": "#7c7e8b",
    "navigate_num": "#d3d3d3",
    "navigate_text": "#e4e4e4",
    "running_highlight": "#FF0000",
    "selected_highlight": "#7d878b",
    "sidebar_border": "#282121",
    "wrapper_background": "#1a2028"
   },
   "moveMenuLeft": true,
   "navigate_menu": false,
   "number_sections": true,
   "sideBar": true,
   "threshold": 4,
   "toc_cell": false,
   "toc_section_display": "block",
   "toc_window_display": true,
   "widenNotebook": false
  }
 },
 "nbformat": 4,
 "nbformat_minor": 1
}
