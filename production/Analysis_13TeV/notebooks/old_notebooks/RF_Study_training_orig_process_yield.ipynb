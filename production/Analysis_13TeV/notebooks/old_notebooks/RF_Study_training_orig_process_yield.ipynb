{
 "cells": [
  {
   "cell_type": "markdown",
   "metadata": {},
   "source": [
    "# Validating the use of Random Forest for WW Cross-section Measurement ( alt)"
   ]
  },
  {
   "cell_type": "code",
   "execution_count": 2,
   "metadata": {
    "collapsed": false
   },
   "outputs": [
    {
     "name": "stdout",
     "output_type": "stream",
     "text": [
      "loading data frame named df.\n",
      "finished loading data frame\n",
      "unc_mc_process and scales are dictionaries\n",
      "scale_data = (5.27/19.7)\n"
     ]
    }
   ],
   "source": [
    "run prep_ana.py"
   ]
  },
  {
   "cell_type": "code",
   "execution_count": 1,
   "metadata": {
    "collapsed": false
   },
   "outputs": [
    {
     "name": "stderr",
     "output_type": "stream",
     "text": [
      "/usr/local/lib/python2.7/site-packages/matplotlib/font_manager.py:273: UserWarning: Matplotlib is building the font cache using fc-list. This may take a moment.\n",
      "  warnings.warn('Matplotlib is building the font cache using fc-list. This may take a moment.')\n"
     ]
    }
   ],
   "source": [
    "%matplotlib inline"
   ]
  },
  {
   "cell_type": "code",
   "execution_count": 3,
   "metadata": {
    "collapsed": true
   },
   "outputs": [],
   "source": [
    "#load root files\n",
    "df_WW = rp.read_root(\"data/WW_tot_complete.root\", \"trees_vec\")\n",
    "df_DY = rp.read_root(\"data/DY_ll_complete.root\", \"trees_vec\")\n",
    "df_TT = rp.read_root(\"data/TT_ll_complete.root\", \"trees_vec\")\n",
    "\n",
    "df = pd.concat( [df_WW, df_TT, df_DY] )\n",
    "df = df.reset_index()"
   ]
  },
  {
   "cell_type": "code",
   "execution_count": 4,
   "metadata": {
    "collapsed": false
   },
   "outputs": [
    {
     "name": "stdout",
     "output_type": "stream",
     "text": [
      "(153000, 59) (4884769, 59)\n"
     ]
    }
   ],
   "source": [
    "train_WW = df[df.process==\"WW\"].sample( n=50000 )\n",
    "train_DY = df[df.process==\"DY\"].sample( n=70000 )\n",
    "train_TT = df[df.process==\"TT\"].sample( n=33000 )\n",
    "train = pd.concat( [train_WW, train_DY, train_TT] )\n",
    "\n",
    "test = df.drop( train.index )\n",
    "print train.shape, test.shape"
   ]
  },
  {
   "cell_type": "code",
   "execution_count": 15,
   "metadata": {
    "collapsed": true
   },
   "outputs": [],
   "source": [
    "#features = ['nBJet', 'numb_jets', 'lep1_pt', 'lep2_pt', 'METProj', 'METProj_trk_sin', 'qT', 'mll', 'metMod', 'dPhiLLMET', 'dPhiLLJet', 'HT', 'lep_Type', 'mllMET', 'recoil' ] +\\\n",
    "#            ['jetPt'+str(i) for i in range(1,3)] + [ 'jet'+str(i)+'_csv' for i in range(1,3) ]\n",
    "features = ['nBJet', 'numb_jets', 'lep1_pt', 'lep2_pt', 'METProj', 'qT', 'mll', 'metMod', 'dPhiLLMET', 'HT', 'lep_Type'] +\\\n",
    "            ['jetPt'+str(i) for i in range(1,7)]"
   ]
  },
  {
   "cell_type": "markdown",
   "metadata": {},
   "source": [
    "# RF"
   ]
  },
  {
   "cell_type": "code",
   "execution_count": 6,
   "metadata": {
    "collapsed": false
   },
   "outputs": [],
   "source": [
    "#labels\n",
    "labels = np.empty( train.shape[0] )\n",
    "weights = np.empty( train.shape[0])\n",
    "\n",
    "labels[(train.process == \"WW\").as_matrix()] = 1\n",
    "labels[(train.process == \"DY\").as_matrix()] = 2\n",
    "labels[(train.process == \"TT\").as_matrix()] = 2\n",
    "\n",
    "weights[(train.process == \"WW\").as_matrix()] = 1.\n",
    "weights[(train.process == \"DY\").as_matrix()] = 1\n",
    "weights[(train.process == \"TT\").as_matrix()] = 1"
   ]
  },
  {
   "cell_type": "code",
   "execution_count": 16,
   "metadata": {
    "collapsed": false
   },
   "outputs": [],
   "source": [
    "from sklearn.ensemble import RandomForestClassifier\n",
    "\n",
    "clf = RandomForestClassifier(n_estimators=100, n_jobs=-1, min_samples_split=10, max_depth=15, max_features='sqrt')\n",
    "clf = clf.fit( np.float32(train[features].values) , np.float32(labels), sample_weight=weights)"
   ]
  },
  {
   "cell_type": "code",
   "execution_count": 17,
   "metadata": {
    "collapsed": false
   },
   "outputs": [
    {
     "name": "stdout",
     "output_type": "stream",
     "text": [
      "0.944647058824\n"
     ]
    }
   ],
   "source": [
    "print clf.score(np.float32(train[features].values), np.float32(labels), weights)"
   ]
  },
  {
   "cell_type": "code",
   "execution_count": 18,
   "metadata": {
    "collapsed": false
   },
   "outputs": [
    {
     "name": "stdout",
     "output_type": "stream",
     "text": [
      "0.943190130393\n"
     ]
    }
   ],
   "source": [
    "#labels and weights\n",
    "df_labels = np.empty( df.shape[0] )\n",
    "df_weights = np.empty( df.shape[0])\n",
    "\n",
    "df_labels[(df.process == \"WW\").as_matrix()] = 1\n",
    "df_labels[(df.process == \"DY\").as_matrix()] = 2\n",
    "df_labels[(df.process == \"TT\").as_matrix()] = 2\n",
    "\n",
    "df_weights[(df.process == \"WW\").as_matrix()] = 1.\n",
    "df_weights[(df.process == \"DY\").as_matrix()] = 1\n",
    "df_weights[(df.process == \"TT\").as_matrix()] = 1\n",
    "\n",
    "print clf.score(np.float32(df[features].values), np.float32(df_labels), df_weights)"
   ]
  },
  {
   "cell_type": "code",
   "execution_count": 19,
   "metadata": {
    "collapsed": false
   },
   "outputs": [],
   "source": [
    "pred = clf.predict_proba(np.float32(test[features].values))\n",
    "\n",
    "test[\"pred_WW\"] = pred[:,0]\n",
    "test[\"pred_DY\"] = pred[:,1]\n",
    "test[\"pred_TT\"] = pred[:,1]"
   ]
  },
  {
   "cell_type": "code",
   "execution_count": 11,
   "metadata": {
    "collapsed": false
   },
   "outputs": [
    {
     "data": {
      "text/plain": [
       "<matplotlib.axes._subplots.AxesSubplot at 0x107549750>"
      ]
     },
     "execution_count": 11,
     "metadata": {},
     "output_type": "execute_result"
    },
    {
     "data": {
      "image/png": "[encoded data removed]",
      "text/plain": [
       "<matplotlib.figure.Figure at 0x112e4cf10>"
      ]
     },
     "metadata": {},
     "output_type": "display_data"
    }
   ],
   "source": [
    "test[ (test.process == \"WW\") ].pred_WW.hist( bins= 50 )"
   ]
  },
  {
   "cell_type": "code",
   "execution_count": 20,
   "metadata": {
    "collapsed": false
   },
   "outputs": [
    {
     "name": "stdout",
     "output_type": "stream",
     "text": [
      "\tdiff \tsame\n",
      "WW 3750.4042939 1216.39852014\n",
      "DY 833.203490953 812.198360929\n",
      "TT 302.825677091 91.0334857514\n"
     ]
    }
   ],
   "source": [
    "cut = 0.969\n",
    "feature_cuts =  (test.pred_WW > cut) & (test.numbExtraLep == 0) #& (test_df.qT > 0) & ()\n",
    "feature_cuts_diff =( test.lep_Type > 0 ) & feature_cuts\n",
    "feature_cuts_same = (test.lep_Type < 0) & feature_cuts\n",
    "print \"\\tdiff\", \"\\tsame\"\n",
    "for process in scales.keys():\n",
    "    if process in test.process.unique():\n",
    "        print process, test[ (test.process == process) & feature_cuts_diff].shape[0] * scales[process] * float(df[df.process == process].shape[0])/float(test[test.process == process].shape[0]),\\\n",
    "    test[ (test.process == process) & feature_cuts_same].shape[0] * scales[process] * float(df[df.process == process].shape[0])/float(test[test.process == process].shape[0])"
   ]
  },
  {
   "cell_type": "code",
   "execution_count": 29,
   "metadata": {
    "collapsed": false
   },
   "outputs": [
    {
     "data": {
      "text/plain": [
       "(164657, 58)"
      ]
     },
     "execution_count": 29,
     "metadata": {},
     "output_type": "execute_result"
    }
   ],
   "source": [
    "df_DY.sample( frac=.05).shape"
   ]
  },
  {
   "cell_type": "code",
   "execution_count": 14,
   "metadata": {
    "collapsed": false
   },
   "outputs": [
    {
     "data": {
      "text/plain": [
       "(102240, 59)"
      ]
     },
     "execution_count": 14,
     "metadata": {},
     "output_type": "execute_result"
    }
   ],
   "source": [
    "train[train.process == \"DY\"].shape"
   ]
  },
  {
   "cell_type": "code",
   "execution_count": null,
   "metadata": {
    "collapsed": true
   },
   "outputs": [],
   "source": []
  },
  {
   "cell_type": "code",
   "execution_count": null,
   "metadata": {
    "collapsed": true
   },
   "outputs": [],
   "source": []
  },
  {
   "cell_type": "code",
   "execution_count": null,
   "metadata": {
    "collapsed": true
   },
   "outputs": [],
   "source": []
  },
  {
   "cell_type": "code",
   "execution_count": null,
   "metadata": {
    "collapsed": true
   },
   "outputs": [],
   "source": []
  },
  {
   "cell_type": "code",
   "execution_count": null,
   "metadata": {
    "collapsed": true
   },
   "outputs": [],
   "source": []
  },
  {
   "cell_type": "code",
   "execution_count": null,
   "metadata": {
    "collapsed": true
   },
   "outputs": [],
   "source": []
  },
  {
   "cell_type": "code",
   "execution_count": null,
   "metadata": {
    "collapsed": true
   },
   "outputs": [],
   "source": []
  },
  {
   "cell_type": "code",
   "execution_count": null,
   "metadata": {
    "collapsed": true
   },
   "outputs": [],
   "source": []
  },
  {
   "cell_type": "code",
   "execution_count": null,
   "metadata": {
    "collapsed": true
   },
   "outputs": [],
   "source": []
  }
 ],
 "metadata": {
  "kernelspec": {
   "display_name": "Python 2",
   "language": "python",
   "name": "python2"
  },
  "language_info": {
   "codemirror_mode": {
    "name": "ipython",
    "version": 2
   },
   "file_extension": ".py",
   "mimetype": "text/x-python",
   "name": "python",
   "nbconvert_exporter": "python",
   "pygments_lexer": "ipython2",
   "version": "2.7.10"
  },
  "toc": {
   "navigate_menu": false,
   "number_sections": true,
   "sideBar": true,
   "threshold": "4",
   "toc_cell": false,
   "toc_section_display": "block",
   "toc_window_display": true
  }
 },
 "nbformat": 4,
 "nbformat_minor": 0
}
