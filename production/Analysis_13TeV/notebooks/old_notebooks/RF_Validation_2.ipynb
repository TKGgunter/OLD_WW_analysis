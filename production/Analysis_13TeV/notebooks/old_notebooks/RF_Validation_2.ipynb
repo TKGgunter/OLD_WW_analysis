{
 "cells": [
  {
   "cell_type": "code",
   "execution_count": 1,
   "metadata": {},
   "outputs": [
    {
     "name": "stdout",
     "output_type": "stream",
     "text": [
      "loading data frame named df.\n",
      "finished loading data frame\n",
      "unc_mc_process and scales are dictionaries\n",
      "scale_data = (5.27/19.7)\n"
     ]
    },
    {
     "name": "stderr",
     "output_type": "stream",
     "text": [
      "/usr/local/lib/python2.7/site-packages/matplotlib/font_manager.py:273: UserWarning: Matplotlib is building the font cache using fc-list. This may take a moment.\n",
      "  warnings.warn('Matplotlib is building the font cache using fc-list. This may take a moment.')\n"
     ]
    }
   ],
   "source": [
    "run prep_ana.py"
   ]
  },
  {
   "cell_type": "code",
   "execution_count": 2,
   "metadata": {},
   "outputs": [],
   "source": [
    "%matplotlib inline"
   ]
  },
  {
   "cell_type": "code",
   "execution_count": 54,
   "metadata": {},
   "outputs": [
    {
     "name": "stdout",
     "output_type": "stream",
     "text": [
      "(5680272, 48)\n"
     ]
    },
    {
     "data": {
      "text/plain": [
       "(5527272, 48)"
      ]
     },
     "execution_count": 54,
     "metadata": {},
     "output_type": "execute_result"
    }
   ],
   "source": [
    "#training_df = df[ (df.WW == 1) | (df.DY == 1) | (df.TT == 1)].sample(frac=.33)\n",
    "training_df = pd.concat( [df[df.WW ==1].sample(n=50000), df[df.DY == 1].sample(n=70000), df[df.TT == 1].sample(n=33000) ] )\n",
    "test_df = df.drop( training_df.index )\n",
    "print df.shape\n",
    "test_df.shape"
   ]
  },
  {
   "cell_type": "code",
   "execution_count": 45,
   "metadata": {},
   "outputs": [],
   "source": [
    "testing_scales = {\"WW\": float(df[df.WW == 1].shape[0]) / (df[df.WW == 1].shape[0] - training_df[ training_df.WW == 1 ].shape[0]) ,\\\n",
    "          \"DY\":  float(df[df.DY == 1].shape[0]) / (df[df.DY == 1].shape[0] - training_df[ training_df.DY == 1 ].shape[0]) ,\\\n",
    "          \"TT\": float(df[df.TT == 1].shape[0]) / (df[df.TT == 1].shape[0] - training_df[ training_df.TT == 1 ].shape[0]) ,\\\n",
    "          \"ZZ\": 1,\\\n",
    "          \"WZ\": 1, \"WJ\": 1 }\n",
    "\n",
    "s = {}\n",
    "for key in scales.keys():\n",
    "    s[key] = scales[key] * testing_scales[key]"
   ]
  },
  {
   "cell_type": "code",
   "execution_count": 69,
   "metadata": {},
   "outputs": [],
   "source": [
    "labels = np.empty( training_df.shape[0] )\n",
    "labels[(training_df.WW == 1).as_matrix()] = 1\n",
    "labels[(training_df.DY == 1).as_matrix()] = 2\n",
    "labels[(training_df.TT == 1).as_matrix()] = 2"
   ]
  },
  {
   "cell_type": "code",
   "execution_count": 56,
   "metadata": {},
   "outputs": [],
   "source": [
    "weights = np.empty(training_df.shape[0] )\n",
    "weights[(training_df.WW == 1).as_matrix()] = 1.\n",
    "weights[(training_df.DY == 1).as_matrix()] = 1.#.05\n",
    "weights[(training_df.TT == 1).as_matrix()] = 1.#.05"
   ]
  },
  {
   "cell_type": "code",
   "execution_count": 51,
   "metadata": {
    "collapsed": true
   },
   "outputs": [],
   "source": [
    "features = ['nBJet', 'numb_jets', 'lep1_pt', 'lep2_pt', 'METProj', 'qT', 'mll', 'metMod', 'dPhiLLMET', 'HT', 'lep_Type', 'numbExtraLep', 'metDIVET'] +\\\n",
    "            ['jetPt'+str(i) for i in range(1,3)]\n",
    "#features = ['nBJet', 'numb_jets', 'lep1_pt', 'lep2_pt', 'METProj', 'qT', 'mll', 'metMod', 'dPhiLLMET', 'HT', 'lep_Type', 'numbExtraLep', 'mllMET'] +\\\n",
    "#            ['jetPt'+str(i) for i in range(1,7)]"
   ]
  },
  {
   "cell_type": "code",
   "execution_count": 8,
   "metadata": {
    "collapsed": true
   },
   "outputs": [],
   "source": [
    "from sklearn.ensemble import RandomForestClassifier"
   ]
  },
  {
   "cell_type": "code",
   "execution_count": 49,
   "metadata": {
    "collapsed": true
   },
   "outputs": [],
   "source": [
    "clf = RandomForestClassifier(n_estimators=100, n_jobs=-1, min_samples_split=10, max_depth=15, max_features='sqrt')"
   ]
  },
  {
   "cell_type": "code",
   "execution_count": 70,
   "metadata": {},
   "outputs": [],
   "source": [
    "clf = clf.fit( np.float32(training_df[features].values) , np.float32(labels), sample_weight=weights)"
   ]
  },
  {
   "cell_type": "code",
   "execution_count": 71,
   "metadata": {},
   "outputs": [
    {
     "name": "stdout",
     "output_type": "stream",
     "text": [
      "0.962026143791\n"
     ]
    }
   ],
   "source": [
    "print clf.score(np.float32(training_df[features].values), np.float32(labels), weights)"
   ]
  },
  {
   "cell_type": "code",
   "execution_count": 72,
   "metadata": {
    "collapsed": true
   },
   "outputs": [],
   "source": [
    "pred = clf.predict_proba(np.float32(test_df[features].values))"
   ]
  },
  {
   "cell_type": "code",
   "execution_count": 73,
   "metadata": {
    "collapsed": true
   },
   "outputs": [],
   "source": [
    "test_df[\"pred_WW\"] = pred[:,0]\n",
    "test_df[\"pred_DY\"] = pred[:,1]\n",
    "test_df[\"pred_TT\"] = pred[:,1]"
   ]
  },
  {
   "cell_type": "code",
   "execution_count": 76,
   "metadata": {},
   "outputs": [
    {
     "name": "stdout",
     "output_type": "stream",
     "text": [
      "TT 268.00743179 117.109630404\n",
      "WW 3254.53627069 1312.9568178\n",
      "ZZ 12.0840962997 44.9578434818\n",
      "DY 719.398984212 995.206901481\n",
      "WZ 158.001089209 100.45824461\n"
     ]
    }
   ],
   "source": [
    "cut = .97092\n",
    "feature_cuts =  (test_df.pred_WW > cut) & (test_df.numbExtraLep == 0) #& (test_df.qT > 0) & ()\n",
    "feature_cuts_diff = feature_cuts & (test_df.lep_Type > 0) \n",
    "feature_cuts_same = feature_cuts & (test_df.lep_Type < 0) \n",
    "for process in scales.keys():\n",
    "    if process in test_df.keys():\n",
    "        print process, test_df[ (test_df[process] == 1) & feature_cuts_diff].shape[0] * s[process],\\\n",
    "        test_df[ (test_df[process] == 1) & feature_cuts_same].shape[0] * s[process]"
   ]
  },
  {
   "cell_type": "code",
   "execution_count": 15,
   "metadata": {},
   "outputs": [],
   "source": [
    "pred_oh_god = clf.predict_proba(np.float32(df[features].values))\n",
    "df[\"pred_WW\"] = pred_oh_god[:,0]\n",
    "df[\"pred_DY\"] = pred_oh_god[:,1]\n",
    "df[\"pred_TT\"] = pred_oh_god[:,2]"
   ]
  },
  {
   "cell_type": "code",
   "execution_count": 29,
   "metadata": {},
   "outputs": [
    {
     "name": "stdout",
     "output_type": "stream",
     "text": [
      "TT 307.937933608 117.931015863\n",
      "WW 3651.43633509 1392.08400118\n",
      "ZZ 13.2460286362 102.303673259\n",
      "DY 771.580918269 996.531623303\n",
      "WZ 171.157560113 133.405997783\n"
     ]
    }
   ],
   "source": [
    "#cut = .96992\n",
    "feature_cuts =  (df.pred_WW > cut) & (df.numbExtraLep == 0) #& (test_df.qT > 0) & ()\n",
    "feature_cuts_diff = feature_cuts & (df.lep_Type > 0) \n",
    "feature_cuts_same = feature_cuts & (df.lep_Type < 0) \n",
    "for process in scales.keys():\n",
    "    if process in df.keys():\n",
    "        print process, df[ (df[process] == 1) & feature_cuts_diff].shape[0] * scales[process],\\\n",
    "        df[ (df[process] == 1) & feature_cuts_same].shape[0] * scales[process]"
   ]
  },
  {
   "cell_type": "markdown",
   "metadata": {},
   "source": [
    "# seperate rand .33\n",
    "TT 312.52600363 139.570494957\n",
    "\n",
    "WW 3603.62260426 1476.99380174\n",
    "\n",
    "ZZ 13.4069115751 133.050190471\n",
    "\n",
    "DY 890.092215518 1236.05258608\n",
    "\n",
    "WZ 170.406643478 160.202406467\n"
   ]
  },
  {
   "cell_type": "markdown",
   "metadata": {},
   "source": [
    "# together rand .33\n",
    "\n",
    "TT 293.972967078 136.398120856\n",
    "\n",
    "WW 3833.68333225 1553.68175232\n",
    "\n",
    "ZZ 13.4069115751 133.050190471\n",
    "\n",
    "DY 812.072045175 1165.24465208\n",
    "\n",
    "WZ 170.406643478 160.202406467"
   ]
  },
  {
   "cell_type": "markdown",
   "metadata": {},
   "source": [
    "# Seperate not-rand\n",
    "\n",
    "TT 313.753381166 120.130990782\n",
    "\n",
    "WW 3447.92578084 1345.82876544\n",
    "\n",
    "ZZ 13.2460286362 102.303673259\n",
    "\n",
    "DY 788.350963529 1015.89249528\n",
    "\n",
    "WZ 171.157560113 133.405997783\n",
    "\n",
    "# NEW\n",
    "Process:    | WW | DY | TT | ZZ+WZ\n",
    "---         |--- | ---|--- |---\n",
    "same flavor |1345|788 |313 | 235 \n",
    "diff flavor |3447|1015|120 | 184 \n",
    "\n",
    "# OLD\n",
    "Process:    | WW | DY | TT | ZZ+WZ\n",
    "---         |---| ---|--- |---\n",
    "same flavor |1057|182|36 | 101 \n",
    "diff flavor |4426|485|178 | 279 "
   ]
  },
  {
   "cell_type": "markdown",
   "metadata": {},
   "source": [
    "# together not rand\n",
    "\n",
    "TT 307.937933608 117.931015863\n",
    "\n",
    "WW 3651.43633509 1392.08400118\n",
    "\n",
    "ZZ 13.2460286362 102.303673259\n",
    "\n",
    "DY 771.580918269 996.531623303\n",
    "\n",
    "WZ 171.157560113 133.405997783\n"
   ]
  },
  {
   "cell_type": "code",
   "execution_count": null,
   "metadata": {
    "collapsed": true
   },
   "outputs": [],
   "source": []
  },
  {
   "cell_type": "code",
   "execution_count": 49,
   "metadata": {},
   "outputs": [],
   "source": [
    "from sklearn.externals import joblib"
   ]
  },
  {
   "cell_type": "code",
   "execution_count": 51,
   "metadata": {},
   "outputs": [
    {
     "data": {
      "text/plain": [
       "['rforest/rf_sept.pkl']"
      ]
     },
     "execution_count": 51,
     "metadata": {},
     "output_type": "execute_result"
    }
   ],
   "source": [
    "joblib.dump(clf, 'rforest/rf_sept.pkl', compress=3) "
   ]
  },
  {
   "cell_type": "code",
   "execution_count": 50,
   "metadata": {
    "collapsed": true
   },
   "outputs": [],
   "source": [
    "joblib.dump?"
   ]
  },
  {
   "cell_type": "code",
   "execution_count": 24,
   "metadata": {},
   "outputs": [
    {
     "data": {
      "text/plain": [
       "<matplotlib.axes._subplots.AxesSubplot at 0x12a121d10>"
      ]
     },
     "execution_count": 24,
     "metadata": {},
     "output_type": "execute_result"
    },
    {
     "data": {
      "image/png": "[encoded data removed]",
      "text/plain": [
       "<matplotlib.figure.Figure at 0x12a063b10>"
      ]
     },
     "metadata": {},
     "output_type": "display_data"
    }
   ],
   "source": [
    "df[df.DY == 1].mll.hist( range=(0, 250))"
   ]
  },
  {
   "cell_type": "code",
   "execution_count": null,
   "metadata": {},
   "outputs": [],
   "source": []
  },
  {
   "cell_type": "code",
   "execution_count": 25,
   "metadata": {
    "collapsed": true
   },
   "outputs": [],
   "source": [
    "s = {}\n",
    "for key in scales.keys():\n",
    "    s[key] = scales[key] * testing_scales[key]"
   ]
  },
  {
   "cell_type": "code",
   "execution_count": null,
   "metadata": {},
   "outputs": [],
   "source": []
  },
  {
   "cell_type": "code",
   "execution_count": null,
   "metadata": {
    "collapsed": true
   },
   "outputs": [],
   "source": []
  },
  {
   "cell_type": "code",
   "execution_count": null,
   "metadata": {
    "collapsed": true
   },
   "outputs": [],
   "source": []
  },
  {
   "cell_type": "code",
   "execution_count": null,
   "metadata": {
    "collapsed": true
   },
   "outputs": [],
   "source": [
    "df_data = rp.read_root(\"pan_data_Sept.root\")"
   ]
  },
  {
   "cell_type": "code",
   "execution_count": null,
   "metadata": {},
   "outputs": [],
   "source": [
    "df_data.head()"
   ]
  },
  {
   "cell_type": "code",
   "execution_count": null,
   "metadata": {},
   "outputs": [],
   "source": [
    "data_bins = bin_df( df_data[df_data.mll > 50. ], \"mll\", scales={\"Da\": 1}, range=(50, 250))"
   ]
  },
  {
   "cell_type": "code",
   "execution_count": null,
   "metadata": {},
   "outputs": [],
   "source": [
    "x_data = []\n",
    "for iter, ele in enumerate(data_bins[\"Da\"][1]):\n",
    "    if iter+1 < data_bins[\"Da\"][1].shape[0]: \n",
    "        x = ( data_bins[\"Da\"][1][iter+1] - ele ) / 2 + ele\n",
    "        x_data.append( x )\n",
    "print x_data"
   ]
  },
  {
   "cell_type": "code",
   "execution_count": null,
   "metadata": {},
   "outputs": [],
   "source": []
  },
  {
   "cell_type": "code",
   "execution_count": null,
   "metadata": {},
   "outputs": [],
   "source": [
    "\n",
    "plt.errorbar( x_data, data_bins[\"Da\"][0], yerr=np.sqrt(data_bins[\"Da\"][0]), color=\"black\")"
   ]
  },
  {
   "cell_type": "code",
   "execution_count": null,
   "metadata": {
    "collapsed": true
   },
   "outputs": [],
   "source": [
    "def plot_hist( bins, processes=[ \"WW\", \"TT\", \"WZ\", \"ZZ\", \"DY\"], x_range=None, y_range=None, title=None, y_label=None, color=colors, logy=True, x_minor_ticks=True):\n",
    "    \"\"\"\n",
    "    Histogramming stuffs\n",
    "    plot_hist( bins, processes=[ \"WW\", \"TT\", \"WZ\", \"ZZ\", \"DY\"], x_range=None, y_range=None, title=None, y_label=None, color=colors, logy=True, x_minor_ticks=True)\n",
    "    \"\"\"\n",
    "    fig, ax = plt.subplots(figsize=(16, 9))\n",
    "\n",
    "    rect = []\n",
    "    sum_bins = np.zeros(len(bins[processes[0]][0]))\n",
    "    for process in processes:\n",
    "\n",
    "        bottom = sum_bins\n",
    "        rect.append(ax.bar( bins[process][1][:-1], bins[process][0],\n",
    "                          bins[process][1][1]-bins[process][1][0] , color = colors[process],\n",
    "                          edgecolor = colors[process], bottom=bottom ))\n",
    "        sum_bins +=bins[process][0]\n",
    "\n",
    "\n",
    "    #Configurables\n",
    "    ax.set_yscale(\"log\", nonposy='clip')\n",
    "    if x_range!=None:ax.set_xlim(x_range)\n",
    "    if y_range==None:ax.set_ylim( bottom=1,  top= sum_bins.max()*30.)\n",
    "\n",
    "    if y_label != None:\n",
    "        plt.ylabel(y_label, position=(-0.25, 1.), va='top', ha='right', fontsize=18, fontname='Arial')\n",
    "    if title != None:\n",
    "        plt.xlabel( title, position=(1., 0.), va='bottom', ha='right', fontsize=18, fontname='Arial')\n",
    "\n",
    "    ###################################\n",
    "    #Increase major tick label sizes\n",
    "    for label in (ax.get_xticklabels() + ax.get_yticklabels()):\n",
    "        label.set_fontsize(16)\n",
    "    ###################################\n",
    "    # alter tick lengths\n",
    "    ax.yaxis.set_tick_params(length=10)\n",
    "    ax.yaxis.set_tick_params(which='minor',length=5)\n",
    "    ax.xaxis.set_tick_params(length=10)\n",
    "    ax.xaxis.set_tick_params(which='minor',length=5)\n",
    "\n",
    "\n",
    "    ax.xaxis.labelpad = 20\n",
    "    ax.yaxis.labelpad = 20\n",
    "\n",
    "    return rect, processes\n",
    "\n"
   ]
  },
  {
   "cell_type": "code",
   "execution_count": null,
   "metadata": {},
   "outputs": [],
   "source": [
    "plot_hist( stuff, processes=[\"WW\", \"TT\", \"DY\"] )\n",
    "plt.errorbar( x_data, data_bins[\"Da\"][0], yerr=np.sqrt(data_bins[\"Da\"][0]), color=\"black\", ecolor=\"black\", label=\"asdf\", fmt=\"o\")\n",
    "plt.legend(frameon=False)"
   ]
  },
  {
   "cell_type": "code",
   "execution_count": null,
   "metadata": {
    "collapsed": true
   },
   "outputs": [],
   "source": [
    "plt.errorbar?"
   ]
  },
  {
   "cell_type": "code",
   "execution_count": null,
   "metadata": {
    "collapsed": true
   },
   "outputs": [],
   "source": [
    "stuff = bin_df(df[df.mll > 50], \"mll\", range=(50,250), scales=scales) "
   ]
  },
  {
   "cell_type": "code",
   "execution_count": null,
   "metadata": {
    "collapsed": true
   },
   "outputs": [],
   "source": []
  },
  {
   "cell_type": "code",
   "execution_count": null,
   "metadata": {
    "collapsed": true
   },
   "outputs": [],
   "source": []
  },
  {
   "cell_type": "code",
   "execution_count": 42,
   "metadata": {},
   "outputs": [
    {
     "data": {
      "text/plain": [
       "(<matplotlib.figure.Figure at 0x12d1f3c50>,\n",
       " <matplotlib.axes._subplots.AxesSubplot at 0x12bbcd910>)"
      ]
     },
     "execution_count": 42,
     "metadata": {},
     "output_type": "execute_result"
    },
    {
     "data": {
      "image/png": "[encoded data removed]",
      "text/plain": [
       "<matplotlib.figure.Figure at 0x12d1f3c50>"
      ]
     },
     "metadata": {},
     "output_type": "display_data"
    }
   ],
   "source": [
    "plot_hist( bin_df(test_df[(test_df.mll > 50) & (test_df.pred_WW > cut)], \"qT\", scales=s, range=(0, 250)) )"
   ]
  },
  {
   "cell_type": "code",
   "execution_count": 42,
   "metadata": {},
   "outputs": [
    {
     "data": {
      "text/plain": [
       "(<matplotlib.figure.Figure at 0x126196610>,\n",
       " <matplotlib.axes._subplots.AxesSubplot at 0x12458a090>)"
      ]
     },
     "execution_count": 42,
     "metadata": {},
     "output_type": "execute_result"
    },
    {
     "data": {
      "image/png": "[encoded data removed]",
      "text/plain": [
       "<matplotlib.figure.Figure at 0x126196610>"
      ]
     },
     "metadata": {},
     "output_type": "display_data"
    }
   ],
   "source": [
    "plot_hist( bin_df(test_df[(test_df.mll > 50)], \"HT\", scales=s, range=(0, 250)) )"
   ]
  },
  {
   "cell_type": "code",
   "execution_count": 14,
   "metadata": {},
   "outputs": [
    {
     "ename": "AttributeError",
     "evalue": "'DataFrame' object has no attribute 'pred_WW'",
     "output_type": "error",
     "traceback": [
      "\u001b[0;31m---------------------------------------------------------------------------\u001b[0m",
      "\u001b[0;31mAttributeError\u001b[0m                            Traceback (most recent call last)",
      "\u001b[0;32m<ipython-input-14-c53d87f9d966>\u001b[0m in \u001b[0;36m<module>\u001b[0;34m()\u001b[0m\n\u001b[0;32m----> 1\u001b[0;31m \u001b[0mplot_hist\u001b[0m\u001b[0;34m(\u001b[0m \u001b[0mbin_df\u001b[0m\u001b[0;34m(\u001b[0m\u001b[0mtest_df\u001b[0m\u001b[0;34m[\u001b[0m\u001b[0;34m(\u001b[0m\u001b[0mtest_df\u001b[0m\u001b[0;34m.\u001b[0m\u001b[0mmll\u001b[0m \u001b[0;34m>\u001b[0m \u001b[0;36m50\u001b[0m\u001b[0;34m)\u001b[0m \u001b[0;34m&\u001b[0m \u001b[0;34m(\u001b[0m\u001b[0mtest_df\u001b[0m\u001b[0;34m.\u001b[0m\u001b[0mpred_WW\u001b[0m \u001b[0;34m>\u001b[0m \u001b[0mcut\u001b[0m\u001b[0;34m)\u001b[0m\u001b[0;34m]\u001b[0m\u001b[0;34m,\u001b[0m \u001b[0;34m\"qT\"\u001b[0m\u001b[0;34m,\u001b[0m \u001b[0mscales\u001b[0m\u001b[0;34m=\u001b[0m\u001b[0ms\u001b[0m\u001b[0;34m,\u001b[0m \u001b[0mrange\u001b[0m\u001b[0;34m=\u001b[0m\u001b[0;34m(\u001b[0m\u001b[0;36m0\u001b[0m\u001b[0;34m,\u001b[0m \u001b[0;36m250\u001b[0m\u001b[0;34m)\u001b[0m\u001b[0;34m)\u001b[0m \u001b[0;34m)\u001b[0m\u001b[0;34m\u001b[0m\u001b[0m\n\u001b[0m",
      "\u001b[0;32m/usr/local/lib/python2.7/site-packages/pandas/core/generic.pyc\u001b[0m in \u001b[0;36m__getattr__\u001b[0;34m(self, name)\u001b[0m\n\u001b[1;32m   2358\u001b[0m                 \u001b[0;32mreturn\u001b[0m \u001b[0mself\u001b[0m\u001b[0;34m[\u001b[0m\u001b[0mname\u001b[0m\u001b[0;34m]\u001b[0m\u001b[0;34m\u001b[0m\u001b[0m\n\u001b[1;32m   2359\u001b[0m             raise AttributeError(\"'%s' object has no attribute '%s'\" %\n\u001b[0;32m-> 2360\u001b[0;31m                                  (type(self).__name__, name))\n\u001b[0m\u001b[1;32m   2361\u001b[0m \u001b[0;34m\u001b[0m\u001b[0m\n\u001b[1;32m   2362\u001b[0m     \u001b[0;32mdef\u001b[0m \u001b[0m__setattr__\u001b[0m\u001b[0;34m(\u001b[0m\u001b[0mself\u001b[0m\u001b[0;34m,\u001b[0m \u001b[0mname\u001b[0m\u001b[0;34m,\u001b[0m \u001b[0mvalue\u001b[0m\u001b[0;34m)\u001b[0m\u001b[0;34m:\u001b[0m\u001b[0;34m\u001b[0m\u001b[0m\n",
      "\u001b[0;31mAttributeError\u001b[0m: 'DataFrame' object has no attribute 'pred_WW'"
     ]
    }
   ],
   "source": [
    "plot_hist( bin_df(test_df[(test_df.mll > 50) & (test_df.pred_WW > cut)], \"qT\", scales=s, range=(0, 250)) )"
   ]
  },
  {
   "cell_type": "code",
   "execution_count": 1,
   "metadata": {},
   "outputs": [
    {
     "ename": "NameError",
     "evalue": "name 'plot_hist' is not defined",
     "output_type": "error",
     "traceback": [
      "\u001b[0;31m---------------------------------------------------------------------------\u001b[0m",
      "\u001b[0;31mNameError\u001b[0m                                 Traceback (most recent call last)",
      "\u001b[0;32m<ipython-input-1-9b6588b32335>\u001b[0m in \u001b[0;36m<module>\u001b[0;34m()\u001b[0m\n\u001b[0;32m----> 1\u001b[0;31m \u001b[0mplot_hist\u001b[0m\u001b[0;34m(\u001b[0m \u001b[0mbin_df\u001b[0m\u001b[0;34m(\u001b[0m\u001b[0mdf\u001b[0m\u001b[0;34m[\u001b[0m\u001b[0;34m(\u001b[0m\u001b[0mdf\u001b[0m\u001b[0;34m.\u001b[0m\u001b[0mmll\u001b[0m \u001b[0;34m>\u001b[0m \u001b[0;36m50\u001b[0m\u001b[0;34m)\u001b[0m \u001b[0;34m]\u001b[0m\u001b[0;34m,\u001b[0m \u001b[0;34m\"MET_Phi\"\u001b[0m\u001b[0;34m,\u001b[0m \u001b[0mrange\u001b[0m\u001b[0;34m=\u001b[0m\u001b[0;34m(\u001b[0m\u001b[0;36m0\u001b[0m\u001b[0;34m,\u001b[0m \u001b[0;36m250\u001b[0m\u001b[0;34m)\u001b[0m\u001b[0;34m)\u001b[0m \u001b[0;34m)\u001b[0m\u001b[0;34m\u001b[0m\u001b[0m\n\u001b[0m",
      "\u001b[0;31mNameError\u001b[0m: name 'plot_hist' is not defined"
     ]
    }
   ],
   "source": [
    "plot_hist( bin_df(df[(df.mll > 50) ], \"MET_Phi\", range=(0, 250)) )"
   ]
  },
  {
   "cell_type": "code",
   "execution_count": 40,
   "metadata": {
    "scrolled": true
   },
   "outputs": [
    {
     "data": {
      "text/plain": [
       "(<matplotlib.figure.Figure at 0x129998950>,\n",
       " <matplotlib.axes._subplots.AxesSubplot at 0x1299c9510>)"
      ]
     },
     "execution_count": 40,
     "metadata": {},
     "output_type": "execute_result"
    },
    {
     "data": {
      "image/png": "[encoded data removed]",
      "text/plain": [
       "<matplotlib.figure.Figure at 0x129998950>"
      ]
     },
     "metadata": {},
     "output_type": "display_data"
    }
   ],
   "source": [
    "plot_hist( bin_df(df[(df.mll > 50)], \"mll\", range=(50, 250)) )"
   ]
  },
  {
   "cell_type": "code",
   "execution_count": 81,
   "metadata": {
    "scrolled": true
   },
   "outputs": [
    {
     "data": {
      "text/plain": [
       "(<matplotlib.figure.Figure at 0x1174f0e90>,\n",
       " <matplotlib.axes._subplots.AxesSubplot at 0x11693bd50>)"
      ]
     },
     "execution_count": 81,
     "metadata": {},
     "output_type": "execute_result"
    },
    {
     "data": {
      "image/png": "[encoded data removed]",
      "text/plain": [
       "<matplotlib.figure.Figure at 0x1174f0e90>"
      ]
     },
     "metadata": {},
     "output_type": "display_data"
    }
   ],
   "source": [
    "plot_hist( bin_df(df[(df.mll > 50) ], \"metMod\", range=(0, 250)) )"
   ]
  },
  {
   "cell_type": "code",
   "execution_count": 96,
   "metadata": {
    "scrolled": true
   },
   "outputs": [
    {
     "data": {
      "text/plain": [
       "(<matplotlib.figure.Figure at 0x140d0bc90>,\n",
       " <matplotlib.axes._subplots.AxesSubplot at 0x13bbb96d0>)"
      ]
     },
     "execution_count": 96,
     "metadata": {},
     "output_type": "execute_result"
    },
    {
     "data": {
      "image/png": "[encoded data removed]",
      "text/plain": [
       "<matplotlib.figure.Figure at 0x140d0bc90>"
      ]
     },
     "metadata": {},
     "output_type": "display_data"
    }
   ],
   "source": [
    "plot_hist( bin_df(df[(df.mll > 50) & ((df.mll > 105) | (df.mll < 75)) & (df.lep2_pt > 45) & (df.metMod > 20) & (df.numb_jets > 0)], \"metDIVET\", range=(0, 25)) )"
   ]
  },
  {
   "cell_type": "code",
   "execution_count": 88,
   "metadata": {},
   "outputs": [
    {
     "data": {
      "text/plain": [
       "(<matplotlib.figure.Figure at 0x12f85a550>,\n",
       " <matplotlib.axes._subplots.AxesSubplot at 0x12fb8d790>)"
      ]
     },
     "execution_count": 88,
     "metadata": {},
     "output_type": "execute_result"
    },
    {
     "data": {
      "image/png": "[encoded data removed]",
      "text/plain": [
       "<matplotlib.figure.Figure at 0x12f85a550>"
      ]
     },
     "metadata": {},
     "output_type": "display_data"
    }
   ],
   "source": [
    "plot_hist( bin_df(df[(df.mll > 50) ], \"lep2_pt\", range=(0, 250)) )"
   ]
  },
  {
   "cell_type": "code",
   "execution_count": 65,
   "metadata": {},
   "outputs": [
    {
     "data": {
      "text/plain": [
       "(<matplotlib.figure.Figure at 0x110992a10>,\n",
       " <matplotlib.axes._subplots.AxesSubplot at 0x12590a990>)"
      ]
     },
     "execution_count": 65,
     "metadata": {},
     "output_type": "execute_result"
    },
    {
     "data": {
      "image/png": "[encoded data removed]",
      "text/plain": [
       "<matplotlib.figure.Figure at 0x110992a10>"
      ]
     },
     "metadata": {},
     "output_type": "display_data"
    }
   ],
   "source": [
    "plot_hist( bin_df(df[(df.mll > 50) & (df.metDIVET > .4)], \"mll\", range=(50, 250)) )"
   ]
  },
  {
   "cell_type": "code",
   "execution_count": 91,
   "metadata": {
    "collapsed": true
   },
   "outputs": [],
   "source": [
    "df[\"metDIVET\"] = df.metMod / np.sqrt(df.mll + 1)"
   ]
  },
  {
   "cell_type": "code",
   "execution_count": 37,
   "metadata": {},
   "outputs": [
    {
     "data": {
      "text/plain": [
       "531351.5613480195"
      ]
     },
     "execution_count": 37,
     "metadata": {},
     "output_type": "execute_result"
    }
   ],
   "source": [
    "df[ (df.metDIVET > .4) & (df.DY == 1) ].shape[0] * scales[\"DY\"]"
   ]
  },
  {
   "cell_type": "code",
   "execution_count": 68,
   "metadata": {},
   "outputs": [
    {
     "name": "stdout",
     "output_type": "stream",
     "text": [
      "4535.29366884\n",
      "75223.5157636\n"
     ]
    },
    {
     "data": {
      "text/plain": [
       "35266.62623777956"
      ]
     },
     "execution_count": 68,
     "metadata": {},
     "output_type": "execute_result"
    }
   ],
   "source": [
    "print df[ (df.metDIVET > .4) & (df.WW == 1) & ((df.mll > 105) | (df.mll < 75))].shape[0] * scales[\"WW\"]\n",
    "print df[ (df.metDIVET > .4) & (df.DY == 1) & ((df.mll > 105) | (df.mll < 75))].shape[0] * scales[\"DY\"]\n",
    "df[ (df.metDIVET > .4) & (df.TT == 1) & ((df.mll > 105) | (df.mll < 75))].shape[0] * scales[\"TT\"]"
   ]
  },
  {
   "cell_type": "code",
   "execution_count": null,
   "metadata": {},
   "outputs": [],
   "source": []
  },
  {
   "cell_type": "code",
   "execution_count": null,
   "metadata": {},
   "outputs": [],
   "source": []
  },
  {
   "cell_type": "code",
   "execution_count": null,
   "metadata": {},
   "outputs": [],
   "source": []
  },
  {
   "cell_type": "code",
   "execution_count": null,
   "metadata": {},
   "outputs": [],
   "source": []
  },
  {
   "cell_type": "code",
   "execution_count": 47,
   "metadata": {},
   "outputs": [
    {
     "data": {
      "text/plain": [
       "array([  2.20735228e-01,   3.91340197e-02,   2.29630460e-02,\n",
       "         1.62518651e-02,   5.83029131e-02,   6.28935166e-02,\n",
       "         9.82916571e-02,   9.52935051e-02,   2.25945541e-02,\n",
       "         8.41998495e-02,   1.37022486e-01,   5.01787694e-04,\n",
       "         6.99536309e-02,   3.98097962e-02,   2.64242523e-02,\n",
       "         4.72603970e-03,   8.67912839e-04,   3.07746896e-05,\n",
       "         3.16536694e-06])"
      ]
     },
     "execution_count": 47,
     "metadata": {},
     "output_type": "execute_result"
    }
   ],
   "source": [
    "clf.feature_importances_"
   ]
  },
  {
   "cell_type": "code",
   "execution_count": 48,
   "metadata": {},
   "outputs": [
    {
     "data": {
      "text/plain": [
       "['nBJet',\n",
       " 'numb_jets',\n",
       " 'lep1_pt',\n",
       " 'lep2_pt',\n",
       " 'METProj',\n",
       " 'qT',\n",
       " 'mll',\n",
       " 'metMod',\n",
       " 'dPhiLLMET',\n",
       " 'HT',\n",
       " 'lep_Type',\n",
       " 'numbExtraLep',\n",
       " 'mllMET',\n",
       " 'jetPt1',\n",
       " 'jetPt2',\n",
       " 'jetPt3',\n",
       " 'jetPt4',\n",
       " 'jetPt5',\n",
       " 'jetPt6']"
      ]
     },
     "execution_count": 48,
     "metadata": {},
     "output_type": "execute_result"
    }
   ],
   "source": [
    "features"
   ]
  },
  {
   "cell_type": "code",
   "execution_count": 49,
   "metadata": {},
   "outputs": [
    {
     "name": "stdout",
     "output_type": "stream",
     "text": [
      "{'METProj': 0.058302913079655419, 'mllMET': 0.069953630940226497, 'qT': 0.062893516612915021, 'nBJet': 0.22073522845933322, 'dPhiLLMET': 0.022594554082241491, 'jetPt5': 3.0774689643886696e-05, 'jetPt1': 0.039809796182747104, 'lep2_pt': 0.016251865057051694, 'mll': 0.098291657061822815, 'jetPt2': 0.026424252262018378, 'metMod': 0.095293505057085864, 'numbExtraLep': 0.00050178769385153543, 'HT': 0.084199849512851546, 'jetPt6': 3.1653669439483328e-06, 'jetPt4': 0.00086791283854740348, 'numb_jets': 0.039134019746328283, 'lep1_pt': 0.022963046020170338, 'lep_Type': 0.13702248564123021, 'jetPt3': 0.0047260396953353462}\n"
     ]
    }
   ],
   "source": [
    "f = {}\n",
    "for iter, i in enumerate(features):\n",
    "    f[i] = clf.feature_importances_[iter]\n",
    "print f"
   ]
  },
  {
   "cell_type": "code",
   "execution_count": 50,
   "metadata": {
    "collapsed": true
   },
   "outputs": [],
   "source": [
    "f_ = {'METProj': 0.064878221823268772, 'jetPt6': 6.6200854869756748e-06, 'qT': 0.092343212144567921, 'nBJet': 0.17810713864543012, 'dPhiLLMET': 0.063858276550805601, 'jetPt5': 3.2160560492117525e-05, 'jetPt1': 0.038101006131645777, 'lep2_pt': 0.028776965160000386, 'mll': 0.13780490185672728, 'jetPt2': 0.031335497624313181, 'metMod': 0.081532951417751215, 'HT': 0.049539720595083055, 'jetPt4': 0.00099894793542223146, 'numb_jets': 0.041636796481798584, 'lep1_pt': 0.021577049342251228, 'lep_Type': 0.16138964190224908, 'jetPt3': 0.0080808917427064968}"
   ]
  },
  {
   "cell_type": "code",
   "execution_count": 52,
   "metadata": {},
   "outputs": [
    {
     "name": "stdout",
     "output_type": "stream",
     "text": [
      " METProj 0.00657530874361\n",
      "lep1_pt -0.00138599667792\n",
      "qT 0.0294496955317\n",
      "nBJet -0.0426280898139\n",
      "jetPt4 0.000131035096875\n",
      "jetPt6 3.45471854303e-06\n",
      "jetPt1 -0.0017087900511\n",
      "lep2_pt 0.0125251001029\n",
      "mll 0.0395132447949\n",
      "jetPt2 0.00491124536229\n",
      "jetPt5 1.38587084823e-06\n",
      "HT -0.0346601289178\n",
      "numb_jets 0.00250277673547\n",
      "metMod -0.0137605536393\n",
      "dPhiLLMET 0.0412637224686\n",
      "lep_Type 0.024367156261\n",
      "jetPt3 0.00335485204737\n"
     ]
    }
   ],
   "source": [
    "for k in f_.keys():\n",
    "    print k, f_[k] - f[k]"
   ]
  },
  {
   "cell_type": "code",
   "execution_count": 36,
   "metadata": {},
   "outputs": [
    {
     "data": {
      "text/plain": [
       "{'DY': 3.3588385491246258,\n",
       " 'TT': 0.062169485504297954,\n",
       " 'WJ': 1,\n",
       " 'WW': 0.17305141203712404,\n",
       " 'WZ': 0.010286529245348936,\n",
       " 'ZZ': 0.017875882100117674}"
      ]
     },
     "execution_count": 36,
     "metadata": {},
     "output_type": "execute_result"
    }
   ],
   "source": [
    "s"
   ]
  },
  {
   "cell_type": "code",
   "execution_count": 37,
   "metadata": {},
   "outputs": [
    {
     "data": {
      "text/plain": [
       "{'DY': 2.249507050345541,\n",
       " 'TT': 0.04168646725435144,\n",
       " 'WJ': 1,\n",
       " 'WW': 0.11600700009829576,\n",
       " 'WZ': 0.010286529245348936,\n",
       " 'ZZ': 0.017875882100117674}"
      ]
     },
     "execution_count": 37,
     "metadata": {},
     "output_type": "execute_result"
    }
   ],
   "source": [
    "scales"
   ]
  },
  {
   "cell_type": "code",
   "execution_count": 38,
   "metadata": {},
   "outputs": [
    {
     "data": {
      "text/plain": [
       "{'DY': 1.4931442640327282,\n",
       " 'TT': 1.4913589373013707,\n",
       " 'WJ': 1,\n",
       " 'WW': 1.49173249795696,\n",
       " 'WZ': 1,\n",
       " 'ZZ': 1}"
      ]
     },
     "execution_count": 38,
     "metadata": {},
     "output_type": "execute_result"
    }
   ],
   "source": [
    "testing_scales"
   ]
  },
  {
   "cell_type": "code",
   "execution_count": null,
   "metadata": {
    "collapsed": true
   },
   "outputs": [],
   "source": []
  },
  {
   "cell_type": "code",
   "execution_count": null,
   "metadata": {
    "collapsed": true
   },
   "outputs": [],
   "source": []
  },
  {
   "cell_type": "code",
   "execution_count": null,
   "metadata": {
    "collapsed": true
   },
   "outputs": [],
   "source": []
  },
  {
   "cell_type": "code",
   "execution_count": null,
   "metadata": {
    "collapsed": true
   },
   "outputs": [],
   "source": []
  },
  {
   "cell_type": "code",
   "execution_count": 27,
   "metadata": {},
   "outputs": [
    {
     "data": {
      "text/plain": [
       "5527272"
      ]
     },
     "execution_count": 27,
     "metadata": {},
     "output_type": "execute_result"
    }
   ],
   "source": [
    "test_df.shape[0]"
   ]
  },
  {
   "cell_type": "code",
   "execution_count": 30,
   "metadata": {},
   "outputs": [
    {
     "data": {
      "text/plain": [
       "[1]"
      ]
     },
     "execution_count": 30,
     "metadata": {},
     "output_type": "execute_result"
    }
   ],
   "source": [
    "range(1,2)"
   ]
  },
  {
   "cell_type": "code",
   "execution_count": 62,
   "metadata": {},
   "outputs": [
    {
     "name": "stdout",
     "output_type": "stream",
     "text": [
      "{'METProj': 0.072322819986879339, 'qT': 0.056317522236765477, 'nBJet': 0.20709971081440093, 'dPhiLLMET': 0.021633607208930438, 'jetPt1': 0.030889157579597634, 'lep2_pt': 0.023705580472715725, 'mll': 0.10496611329227018, 'jetPt2': 0.060274350881734211, 'metDIVET': 0.041366138272305536, 'metMod': 0.1103292942128586, 'numbExtraLep': 0.00062639811687104725, 'HT': 0.061162095987932631, 'numb_jets': 0.033070774760643691, 'lep1_pt': 0.021567961707390376, 'lep_Type': 0.15466847446870405}\n"
     ]
    }
   ],
   "source": [
    "f = {}\n",
    "for iter, i in enumerate(features):\n",
    "    f[i] = clf.feature_importances_[iter]\n",
    "print f"
   ]
  },
  {
   "cell_type": "code",
   "execution_count": null,
   "metadata": {
    "collapsed": true
   },
   "outputs": [],
   "source": []
  }
 ],
 "metadata": {
  "kernelspec": {
   "display_name": "Python 2",
   "language": "python",
   "name": "python2"
  },
  "language_info": {
   "codemirror_mode": {
    "name": "ipython",
    "version": 2
   },
   "file_extension": ".py",
   "mimetype": "text/x-python",
   "name": "python",
   "nbconvert_exporter": "python",
   "pygments_lexer": "ipython2",
   "version": "2.7.13"
  },
  "toc": {
   "colors": {
    "hover_highlight": "#7c7e8b",
    "navigate_num": "#d3d3d3",
    "navigate_text": "#e4e4e4",
    "running_highlight": "#FF0000",
    "selected_highlight": "#7d878b",
    "sidebar_border": "#282121",
    "wrapper_background": "#1a2028"
   },
   "moveMenuLeft": true,
   "navigate_menu": false,
   "number_sections": true,
   "sideBar": true,
   "threshold": 4,
   "toc_cell": false,
   "toc_section_display": "block",
   "toc_window_display": true,
   "widenNotebook": false
  }
 },
 "nbformat": 4,
 "nbformat_minor": 1
}
