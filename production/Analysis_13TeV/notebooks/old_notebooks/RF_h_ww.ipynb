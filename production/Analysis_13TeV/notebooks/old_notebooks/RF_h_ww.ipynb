{
 "cells": [
  {
   "cell_type": "markdown",
   "metadata": {},
   "source": [
    "# Drell Yan rejection ( based on CMS Higg &rarr; WW method)\n",
    "\n",
    "Oct. 21"
   ]
  },
  {
   "cell_type": "code",
   "execution_count": 1,
   "metadata": {},
   "outputs": [
    {
     "name": "stdout",
     "output_type": "stream",
     "text": [
      "loading data frame named df.\n",
      "finished loading data frame\n",
      "unc_mc_process and scales are dictionaries\n",
      "scale_data = (5.27/19.7)\n"
     ]
    },
    {
     "name": "stderr",
     "output_type": "stream",
     "text": [
      "/usr/local/lib/python2.7/site-packages/matplotlib/font_manager.py:273: UserWarning: Matplotlib is building the font cache using fc-list. This may take a moment.\n",
      "  warnings.warn('Matplotlib is building the font cache using fc-list. This may take a moment.')\n"
     ]
    }
   ],
   "source": [
    "run old_prep_ana.py"
   ]
  },
  {
   "cell_type": "code",
   "execution_count": 2,
   "metadata": {
    "collapsed": true
   },
   "outputs": [],
   "source": [
    "%matplotlib inline"
   ]
  },
  {
   "cell_type": "code",
   "execution_count": 31,
   "metadata": {},
   "outputs": [],
   "source": [
    "def pre_cuts( df ):\n",
    "    dif_lep = df.lep_Type > 0\n",
    "    sam_lep = df.lep_Type < 0\n",
    "    z_mass = (df.mll < 76) | (df.mll > 106 )\n",
    "    qt_s = (df.qT > 45)\n",
    "    qt_d = (df.qT > 30)\n",
    "    met_prj = df.METProj_sin > 20\n",
    "    nbjet = df.nBJet == 0\n",
    "    \n",
    "    s_df = df[ sam_lep & met_prj & qt_s & z_mass & nbjet]\n",
    "    d_df = df[ dif_lep & met_prj & qt_d & nbjet]\n",
    "    \n",
    "    return pd.concat([ s_df, d_df])\n",
    "    "
   ]
  },
  {
   "cell_type": "code",
   "execution_count": 4,
   "metadata": {
    "collapsed": true
   },
   "outputs": [],
   "source": [
    "#load root files\n",
    "df_WW = rp.read_root(\"data/WW_tot_complete.root\", \"trees_vec\")\n",
    "df_DY = rp.read_root(\"data/DY_ll_complete.root\", \"trees_vec\")\n",
    "df_TT = rp.read_root(\"data/TT_ll_complete.root\", \"trees_vec\")"
   ]
  },
  {
   "cell_type": "code",
   "execution_count": 32,
   "metadata": {},
   "outputs": [],
   "source": [
    "df = pd.concat( [df_WW, df_TT, df_DY] )\n",
    "df = pre_cuts(df)\n",
    "df = df.reset_index()"
   ]
  },
  {
   "cell_type": "code",
   "execution_count": 33,
   "metadata": {},
   "outputs": [
    {
     "name": "stdout",
     "output_type": "stream",
     "text": [
      "WW 6043.0695377\n",
      "TT 15833.3989022\n",
      "DY 13205.4992311\n",
      "(1631022, 58) (627533, 58)\n"
     ]
    }
   ],
   "source": [
    "for process in df.process.unique():\n",
    "    print process, df[(df.process==process) ].shape[0] * scales[process]\n",
    "print df_TT.shape, df_TT[(df_TT.nBJet==0) ].shape"
   ]
  },
  {
   "cell_type": "code",
   "execution_count": 7,
   "metadata": {},
   "outputs": [
    {
     "name": "stdout",
     "output_type": "stream",
     "text": [
      "(2680, 59)\n",
      "(5360, 59)\n",
      "(10720, 59)\n",
      "(8040, 59) (1017271, 59)\n"
     ]
    }
   ],
   "source": [
    "train_DY = df[df.process==\"DY\"].sample( frac= 0.45 )\n",
    "train_WW = df[df.process==\"WW\"].sample( n=train_DY.shape[0]*2 )\n",
    "train_TT = df[df.process==\"TT\"].sample( n=train_WW.shape[0]*2 )\n",
    "train = pd.concat( [train_WW, train_DY, ] )\n",
    "\n",
    "print train_DY.shape\n",
    "print train_WW.shape\n",
    "print train_TT.shape\n",
    "\n",
    "test = df.drop( train.index )\n",
    "print train.shape, test.shape"
   ]
  },
  {
   "cell_type": "code",
   "execution_count": 8,
   "metadata": {},
   "outputs": [
    {
     "name": "stdout",
     "output_type": "stream",
     "text": [
      "(46269, 59)\n",
      "(3275, 59)\n",
      "(967727, 59)\n"
     ]
    }
   ],
   "source": [
    "print test[test.process == \"WW\"].shape\n",
    "print test[test.process == \"DY\"].shape\n",
    "print test[test.process == \"TT\"].shape"
   ]
  },
  {
   "cell_type": "code",
   "execution_count": 9,
   "metadata": {
    "collapsed": true
   },
   "outputs": [],
   "source": [
    "features = [  'METProj_sin', 'met_over_sET','METProj_trk_sin', 'qT', 'mllMET', 'recoil', 'jetPt1', 'dPhiLLJet', 'dPhiLLMET', 'dPhiMETJet', 'lep_Type' ]"
   ]
  },
  {
   "cell_type": "code",
   "execution_count": 10,
   "metadata": {
    "collapsed": true
   },
   "outputs": [],
   "source": [
    "#labels\n",
    "labels = np.empty( train.shape[0] )\n",
    "weights = np.empty( train.shape[0])\n",
    "\n",
    "labels[(train.process == \"WW\").as_matrix()] = 1\n",
    "labels[(train.process == \"DY\").as_matrix()] = 2\n",
    "\n",
    "weights[(train.process == \"WW\").as_matrix()] = 1\n",
    "weights[(train.process == \"DY\").as_matrix()] = 1"
   ]
  },
  {
   "cell_type": "code",
   "execution_count": 11,
   "metadata": {
    "collapsed": true
   },
   "outputs": [],
   "source": [
    "#labels\n",
    "train_0 = train[train.numb_jets==0]\n",
    "\n",
    "labels_0 = np.empty( train_0.shape[0] )\n",
    "weights_0 = np.empty( train_0.shape[0])\n",
    "\n",
    "labels_0[(train_0.process == \"WW\").as_matrix()] = 1\n",
    "labels_0[(train_0.process == \"DY\").as_matrix()] = 2\n",
    "\n",
    "weights_0[(train_0.process == \"WW\").as_matrix()] = 1\n",
    "weights_0[(train_0.process == \"DY\").as_matrix()] = 1"
   ]
  },
  {
   "cell_type": "code",
   "execution_count": 12,
   "metadata": {
    "collapsed": true
   },
   "outputs": [],
   "source": [
    "#labels\n",
    "train_1 = train[train.numb_jets==1]\n",
    "labels_1 = np.empty( train_1.shape[0] )\n",
    "weights_1 = np.empty( train_1.shape[0])\n",
    "\n",
    "labels_1[(train_1.process == \"WW\").as_matrix()] = 1\n",
    "labels_1[(train_1.process == \"DY\").as_matrix()] = 2\n",
    "\n",
    "weights_1[(train_1.process == \"WW\").as_matrix()] = 1\n",
    "weights_1[(train_1.process == \"DY\").as_matrix()] = 1"
   ]
  },
  {
   "cell_type": "code",
   "execution_count": 13,
   "metadata": {},
   "outputs": [],
   "source": [
    "from sklearn.ensemble import RandomForestClassifier\n",
    "\n",
    "clf = RandomForestClassifier(n_estimators=50, n_jobs=-1, min_samples_split=10, max_depth=15, max_features='sqrt')\n",
    "clf = clf.fit( np.float32(train[features].values) , np.float32(labels), sample_weight=weights)\n",
    "\n",
    "clf_0 = RandomForestClassifier(n_estimators=50, n_jobs=-1, min_samples_split=10, max_depth=15, max_features='sqrt')\n",
    "clf_0 = clf_0.fit( np.float32(train_0[features].values) , np.float32(labels_0), sample_weight=weights_0)\n",
    "\n",
    "clf_1 = RandomForestClassifier(n_estimators=50, n_jobs=-1, min_samples_split=10, max_depth=15, max_features='sqrt')\n",
    "clf_1 = clf_1.fit( np.float32(train_1[features].values) , np.float32(labels_1), sample_weight=weights_1)"
   ]
  },
  {
   "cell_type": "code",
   "execution_count": 14,
   "metadata": {},
   "outputs": [
    {
     "name": "stdout",
     "output_type": "stream",
     "text": [
      "0.974004975124\n"
     ]
    }
   ],
   "source": [
    "print clf.score(np.float32(train[features].values), np.float32(labels), weights)"
   ]
  },
  {
   "cell_type": "code",
   "execution_count": 57,
   "metadata": {},
   "outputs": [
    {
     "name": "stdout",
     "output_type": "stream",
     "text": [
      "0.0450790052969\n"
     ]
    }
   ],
   "source": [
    "#labels and weights\n",
    "df_labels = np.empty( df.shape[0] )\n",
    "df_weights = np.empty( df.shape[0])\n",
    "\n",
    "df_labels[(df.process == \"WW\").as_matrix()] = 1\n",
    "df_labels[(df.process == \"DY\").as_matrix()] = 2\n",
    "df_labels[(df.process == \"TT\").as_matrix()] = 3\n",
    "\n",
    "df_weights[(df.process == \"WW\").as_matrix()] = 1.\n",
    "df_weights[(df.process == \"DY\").as_matrix()] = 1\n",
    "df_weights[(df.process == \"TT\").as_matrix()] = 1\n",
    "\n",
    "print clf.score(np.float32(df[features].values), np.float32(df_labels), df_weights)"
   ]
  },
  {
   "cell_type": "code",
   "execution_count": 15,
   "metadata": {},
   "outputs": [],
   "source": [
    "pred = clf.predict_proba(np.float32(test[features].values))\n",
    "pred_0 = clf_0.predict_proba(np.float32(test[features].values))\n",
    "pred_1 = clf_1.predict_proba(np.float32(test[features].values))\n",
    "\n",
    "test[\"pred_WW_0\"] = pred_0[:,0]\n",
    "test[\"pred_WW_1\"] = pred_1[:,0]\n",
    "test[\"pred_WW\"] = pred[:,0]\n",
    "#test[\"pred_TT\"] = pred[:,1]"
   ]
  },
  {
   "cell_type": "code",
   "execution_count": 29,
   "metadata": {},
   "outputs": [
    {
     "data": {
      "text/plain": [
       "array([  1.00000000e+000,   1.00000000e+000,   1.00000000e+000, ...,\n",
       "         3.43217523e-319,   3.43301514e-319,   3.43770876e-319])"
      ]
     },
     "execution_count": 29,
     "metadata": {},
     "output_type": "execute_result"
    }
   ],
   "source": [
    "labels_0"
   ]
  },
  {
   "cell_type": "markdown",
   "metadata": {},
   "source": [
    "# Results"
   ]
  },
  {
   "cell_type": "code",
   "execution_count": 16,
   "metadata": {},
   "outputs": [
    {
     "data": {
      "text/plain": [
       "<matplotlib.axes._subplots.AxesSubplot at 0x100ba7610>"
      ]
     },
     "execution_count": 16,
     "metadata": {},
     "output_type": "execute_result"
    },
    {
     "data": {
      "image/png": "[encoded data removed]",
      "text/plain": [
       "<matplotlib.figure.Figure at 0x100ba7990>"
      ]
     },
     "metadata": {},
     "output_type": "display_data"
    }
   ],
   "source": [
    "test[ (test.process == \"WW\") ].pred_WW_0.hist( bins= 50)"
   ]
  },
  {
   "cell_type": "code",
   "execution_count": 28,
   "metadata": {},
   "outputs": [
    {
     "data": {
      "text/plain": [
       "<matplotlib.axes._subplots.AxesSubplot at 0x116e185d0>"
      ]
     },
     "execution_count": 28,
     "metadata": {},
     "output_type": "execute_result"
    },
    {
     "data": {
      "image/png": "[encoded data removed]",
      "text/plain": [
       "<matplotlib.figure.Figure at 0x119d34410>"
      ]
     },
     "metadata": {},
     "output_type": "display_data"
    }
   ],
   "source": [
    "test[ (test.process == \"DY\")&(test.numb_jets==1) ].pred_WW_1.hist( bins= 50)"
   ]
  },
  {
   "cell_type": "code",
   "execution_count": 43,
   "metadata": {},
   "outputs": [
    {
     "name": "stdout",
     "output_type": "stream",
     "text": [
      "\tdiff \tsame\n",
      "WW 2794.21274913 941.417476664\n",
      "DY 60.4832025852 68.5476295966\n",
      "TT 178.33960201 68.7998189404\n"
     ]
    }
   ],
   "source": [
    "cut = 0.4\n",
    "jets_cuts_0 = (test.pred_WW_0 > .9) & (test.numb_jets==0)\n",
    "jets_cuts_1 = (test.pred_WW_1 > .8) & (test.numb_jets==1)\n",
    "feature_cuts = (test.numbExtraLep == 0) & jets_cuts_0 & (test.nBJet ==0)\n",
    "feature_cuts_diff =( test.lep_Type > 0 ) & feature_cuts\n",
    "feature_cuts_same = (test.lep_Type < 0) & feature_cuts #& (test.METProj_trk_sin > 30)\n",
    "print \"\\tdiff\", \"\\tsame\"\n",
    "for process in scales.keys():\n",
    "    if process in test.process.unique():\n",
    "        print process, test[ (test.process == process) & feature_cuts_diff].shape[0] * scales[process] * float(df[df.process == process].shape[0])/float(test[test.process == process].shape[0]),\\\n",
    "    test[ (test.process == process) & feature_cuts_same].shape[0] * scales[process] * float(df[df.process == process].shape[0])/float(test[test.process == process].shape[0])"
   ]
  },
  {
   "cell_type": "code",
   "execution_count": null,
   "metadata": {
    "collapsed": true
   },
   "outputs": [],
   "source": [
    "WW vs DY \n",
    "\n",
    "~.9\n",
    "diff \tsame\n",
    "WW 3855.29613889 1342.28560569\n",
    "DY 261.675381398 211.832451608\n",
    "TT 5308.53201509 1709.83792635\n",
    "\n",
    "0.001\n",
    "\tdiff \tsame\n",
    "WW 3942.68285137 1664.63119953\n",
    "DY 677.033129648 8290.54065507\n",
    "TT 5727.48294491 2725.99606217"
   ]
  },
  {
   "cell_type": "code",
   "execution_count": 62,
   "metadata": {},
   "outputs": [
    {
     "data": {
      "text/plain": [
       "(40964.95164763091,)"
      ]
     },
     "execution_count": 62,
     "metadata": {},
     "output_type": "execute_result"
    }
   ],
   "source": [
    "process = \"TT\"\n",
    "test[ (test.process == process) ].shape[0] * scales[process] * float(df[df.process == process].shape[0])/float(test[test.process == process].shape[0]),\\"
   ]
  },
  {
   "cell_type": "code",
   "execution_count": 63,
   "metadata": {},
   "outputs": [
    {
     "name": "stdout",
     "output_type": "stream",
     "text": [
      "6081.94384222\n",
      "13602.9662552\n",
      "40964.9516476\n"
     ]
    }
   ],
   "source": [
    "print df[df.process == \"WW\"].shape[0] * scales[\"WW\"]\n",
    "print df[df.process == \"DY\"].shape[0] * scales[\"DY\"]\n",
    "print df[df.process == \"TT\"].shape[0] * scales[\"TT\"]"
   ]
  },
  {
   "cell_type": "markdown",
   "metadata": {},
   "source": [
    "\tdiff \tsame\n",
    "WW 2204.78826763 1369.25184188\n",
    "DY 16.6144293589 319.82776516\n",
    "TT 16570.9933715 9587.59438988\n"
   ]
  },
  {
   "cell_type": "code",
   "execution_count": 97,
   "metadata": {
    "collapsed": true
   },
   "outputs": [],
   "source": [
    "s_ww = float(df[df.process == \"WW\"].shape[0])/float(test[test.process == \"WW\"].shape[0])\n",
    "s_dy = float(df[df.process == \"DY\"].shape[0])/float(test[test.process == \"DY\"].shape[0])\n",
    "s_tt = float(df[df.process == \"TT\"].shape[0])/float(test[test.process == \"TT\"].shape[0])"
   ]
  },
  {
   "cell_type": "code",
   "execution_count": 99,
   "metadata": {},
   "outputs": [
    {
     "data": {
      "text/plain": [
       "(<matplotlib.axes._subplots.AxesSubplot at 0x117bbea90>,\n",
       " [<Container object of 50 artists>,\n",
       "  <Container object of 50 artists>,\n",
       "  <Container object of 50 artists>,\n",
       "  <Container object of 50 artists>,\n",
       "  <Container object of 50 artists>,\n",
       "  <Container object of 50 artists>,\n",
       "  <Container object of 50 artists>],\n",
       " ['WW', 'TT', 'WZ', 'ZZ', 'DY'])"
      ]
     },
     "execution_count": 99,
     "metadata": {},
     "output_type": "execute_result"
    },
    {
     "data": {
      "image/png": "[encoded data removed]",
      "text/plain": [
       "<matplotlib.figure.Figure at 0x11653f110>"
      ]
     },
     "metadata": {},
     "output_type": "display_data"
    }
   ],
   "source": [
    "feature = 'mll'\n",
    "range= (0,400)#(-.5,9.5)\n",
    "cut = 0.905#.954\n",
    "bins=50\n",
    "#test.METProj_trk_sin\n",
    "\n",
    "cuts = (test.pred_WW > cut) & (test.lep_Type < 0)\n",
    "\n",
    "bin_mc = bin_df( test[cuts], feature, range=range, scales={\"WW\":scales[\"WW\"] * s_ww, \"DY\":scales[\"DY\"] * s_dy, \"TT\":scales[\"TT\"] * s_tt ,\\\n",
    "                                                          'WZ_2l2q': 1, 'WZ_3ln': 1, 'ZZ':1, \"WZ\":1}, bins=bins)\n",
    "plot_hist(bin_mc, )#processes=[\"DY\",\"TT\",\"WW\"])#y_range=True, logy=False)"
   ]
  },
  {
   "cell_type": "code",
   "execution_count": 85,
   "metadata": {},
   "outputs": [
    {
     "data": {
      "text/plain": [
       "<matplotlib.axes._subplots.AxesSubplot at 0x12486d490>"
      ]
     },
     "execution_count": 85,
     "metadata": {},
     "output_type": "execute_result"
    },
    {
     "data": {
      "image/png": "[encoded data removed]",
      "text/plain": [
       "<matplotlib.figure.Figure at 0x1293dab50>"
      ]
     },
     "metadata": {},
     "output_type": "display_data"
    }
   ],
   "source": [
    "train[train.mllMET < 800].mllMET.hist()"
   ]
  },
  {
   "cell_type": "code",
   "execution_count": 18,
   "metadata": {},
   "outputs": [
    {
     "data": {
      "text/plain": [
       "{'DY': 2.2842932418457296,\n",
       " 'Da': 1,\n",
       " 'TT': 0.04233110334591358,\n",
       " 'WJ': 1,\n",
       " 'WW': 0.11780092278022818,\n",
       " 'WZ': 0.010445599285225466,\n",
       " 'WZ_2l2q': 0.013721435700981659,\n",
       " 'WZ_3ln': 0.010445599285225466,\n",
       " 'ZZ': 0.018152313266614338}"
      ]
     },
     "execution_count": 18,
     "metadata": {},
     "output_type": "execute_result"
    }
   ],
   "source": [
    "scales"
   ]
  },
  {
   "cell_type": "markdown",
   "metadata": {},
   "source": [
    "# END\n"
   ]
  },
  {
   "cell_type": "code",
   "execution_count": 22,
   "metadata": {},
   "outputs": [
    {
     "data": {
      "text/plain": [
       "6405"
      ]
     },
     "execution_count": 22,
     "metadata": {},
     "output_type": "execute_result"
    }
   ],
   "source": [
    "3516 + 1390 + 1113 + 386"
   ]
  },
  {
   "cell_type": "code",
   "execution_count": 37,
   "metadata": {},
   "outputs": [
    {
     "name": "stdout",
     "output_type": "stream",
     "text": [
      "numb_jets 0.124136276537\n",
      "METProj_sin 0.108295603378\n",
      "met_over_sET 0.0643512460966\n",
      "METProj_trk_sin 0.0880652792855\n",
      "qT 0.0486501765046\n",
      "mllMET 0.0502196537317\n",
      "recoil 0.0729385073004\n",
      "jetPt1 0.151214760348\n",
      "dPhiLLJet 0.142864325925\n",
      "dPhiLLMET 0.0448394408675\n",
      "dPhiMETJet 0.104424730025\n"
     ]
    }
   ],
   "source": [
    "for e, f in enumerate( features ):\n",
    "    print f, clf.feature_importances_[e]"
   ]
  },
  {
   "cell_type": "code",
   "execution_count": 41,
   "metadata": {},
   "outputs": [
    {
     "name": "stdout",
     "output_type": "stream",
     "text": [
      "(1631022, 58)\n",
      "(203697, 58)\n",
      "org is  8.00709877907 x larger\n"
     ]
    }
   ],
   "source": [
    "print df_TT.shape\n",
    "print df_TT[df_TT.HT < 70].shape\n",
    "print \"org is \", float(df_TT.shape[0]) / float(df_TT[df_TT.HT < 70].shape[0]), \"x larger\""
   ]
  },
  {
   "cell_type": "code",
   "execution_count": 42,
   "metadata": {},
   "outputs": [
    {
     "name": "stdout",
     "output_type": "stream",
     "text": [
      "(113599, 58)\n",
      "(99701, 58)\n",
      "org is  1.13939679642 x larger\n"
     ]
    }
   ],
   "source": [
    "print df_WW.shape\n",
    "print df_WW[df_WW.HT < 70].shape\n",
    "print \"org is \", float(df_WW.shape[0]) / float(df_WW[df_WW.HT < 70].shape[0]), \"x larger\""
   ]
  },
  {
   "cell_type": "code",
   "execution_count": null,
   "metadata": {},
   "outputs": [],
   "source": []
  },
  {
   "cell_type": "code",
   "execution_count": null,
   "metadata": {
    "collapsed": true
   },
   "outputs": [],
   "source": []
  }
 ],
 "metadata": {
  "kernelspec": {
   "display_name": "Python 2",
   "language": "python",
   "name": "python2"
  },
  "language_info": {
   "codemirror_mode": {
    "name": "ipython",
    "version": 2
   },
   "file_extension": ".py",
   "mimetype": "text/x-python",
   "name": "python",
   "nbconvert_exporter": "python",
   "pygments_lexer": "ipython2",
   "version": "2.7.13"
  },
  "toc": {
   "colors": {
    "hover_highlight": "#7c7e8b",
    "navigate_num": "#d3d3d3",
    "navigate_text": "#e4e4e4",
    "running_highlight": "#FF0000",
    "selected_highlight": "#7d878b",
    "sidebar_border": "#282121",
    "wrapper_background": "#1a2028"
   },
   "moveMenuLeft": true,
   "navigate_menu": false,
   "number_sections": true,
   "sideBar": true,
   "threshold": 4,
   "toc_cell": false,
   "toc_section_display": "block",
   "toc_window_display": true,
   "widenNotebook": false
  }
 },
 "nbformat": 4,
 "nbformat_minor": 1
}
