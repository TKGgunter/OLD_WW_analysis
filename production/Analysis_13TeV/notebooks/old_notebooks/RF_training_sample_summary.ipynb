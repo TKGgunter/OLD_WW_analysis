{
 "cells": [
  {
   "cell_type": "markdown",
   "metadata": {},
   "source": [
    "# RF summary"
   ]
  },
  {
   "cell_type": "markdown",
   "metadata": {},
   "source": [
    "Sept( ~ 50,000 WW ; 70,000 DY ; 33,000 TT)\n",
    "\n",
    "Process:| \tWW| \tDY| \tTT| \tZZ+WZ\n",
    "--------|-----|-------|-------|-----------\n",
    "same flavor| \t1057| \t182| \t36| \t101\n",
    "diff flavor| \t4426| \t485| \t178| \t279 \n",
    "\n",
    "\n",
    "Oct. ( ~ 50,000 WW ; 70,000 DY ; 33,000 TT)\n",
    "\n",
    "Process:| \tWW| \tDY| \tTT| \tZZ+WZ\n",
    "--------|-----|-------|-------|-----------\n",
    "same flavor| \t1216| \t812| \t91| \tN/A\n",
    "diff flavor| \t3750| \t833| \t302| \tN/A \n",
    "\n",
    "---\n",
    "\n",
    "*Different feature set*\n",
    "Oct ( 33% across processes )\n",
    "\n",
    "Process:| \tWW| \tDY| \tTT| \tZZ+WZ\n",
    "--------|-----|-------|-------|-----------\n",
    "same flavor| \t1299| \t698| \t84| \tN/A\n",
    "diff flavor| \t3959| \t1203| \t244| \tN/A \n",
    "\n",
    "Oct ( 45% WW, N_WW = DY, N_WW = TT ) *51120=WW=TT=DY*\n",
    "\n",
    "Process:| \tWW| \tDY| \tTT| \tZZ+WZ\n",
    "--------|-----|-------|-------|-----------\n",
    "same flavor| \t1530| \t1983| \t123| \tN/A\n",
    "diff flavor| \t3559| \t1213| \t253| \tN/A \n",
    "\n",
    "\n",
    "Oct ( 45% WW, N_WW x 2 = DY, N_WW = TT )  *102240=DY, 51120=WW=TT*\n",
    "\n",
    "Process:| \tWW| \tDY| \tTT| \tZZ+WZ\n",
    "--------|-----|-------|-------|-----------\n",
    "same flavor| \t1350| \t983| \t105| \tN/A\n",
    "diff flavor| \t3796| \t829| \t287| \tN/A \n"
   ]
  },
  {
   "cell_type": "markdown",
   "metadata": {
    "collapsed": true
   },
   "source": [
    "CMS WW styled training ( 45% DY, n_dy x 2 = WW, n_dy = TT)\n",
    "\n",
    "Process:| \tWW| \tDY| \tTT| \tZZ+WZ\n",
    "--------|-----|-------|-------|-----------\n",
    "same flavor| \t1429| \t797| \t1186| \tN/A\n",
    "diff flavor| \t3483| \t178| \t2588| \tN/A \n",
    "\n",
    "CMS WW styled training ( 45% DY, n_dy x 2 = WW, n_dy = TT)\n",
    "\n",
    "Process:| \tWW| \tDY| \tTT| \tZZ+WZ\n",
    "--------|-----|-------|-------|-----------\n",
    "same flavor| \t1307| \t502| \t608| \tN/A\n",
    "diff flavor| \t3440| \t161| \t1676| \tN/A "
   ]
  },
  {
   "cell_type": "markdown",
   "metadata": {
    "collapsed": true
   },
   "source": [
    "\tdiff \tsame\n",
    "WW 3632.15700033 1354.96071075\n",
    "DY 215.98602909 519.197185313\n",
    "TT 2620.67196105 877.856574289\n"
   ]
  },
  {
   "cell_type": "code",
   "execution_count": null,
   "metadata": {
    "collapsed": true
   },
   "outputs": [],
   "source": []
  },
  {
   "cell_type": "code",
   "execution_count": null,
   "metadata": {
    "collapsed": true
   },
   "outputs": [],
   "source": []
  }
 ],
 "metadata": {
  "kernelspec": {
   "display_name": "Python 2",
   "language": "python",
   "name": "python2"
  },
  "language_info": {
   "codemirror_mode": {
    "name": "ipython",
    "version": 2
   },
   "file_extension": ".py",
   "mimetype": "text/x-python",
   "name": "python",
   "nbconvert_exporter": "python",
   "pygments_lexer": "ipython2",
   "version": "2.7.10"
  },
  "toc": {
   "navigate_menu": false,
   "number_sections": true,
   "sideBar": true,
   "threshold": "4",
   "toc_cell": false,
   "toc_section_display": "block",
   "toc_window_display": true
  }
 },
 "nbformat": 4,
 "nbformat_minor": 0
}
