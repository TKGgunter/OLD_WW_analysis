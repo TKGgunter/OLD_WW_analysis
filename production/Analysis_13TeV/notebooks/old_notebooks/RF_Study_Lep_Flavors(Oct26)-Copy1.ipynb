{
 "cells": [
  {
   "cell_type": "markdown",
   "metadata": {},
   "source": [
    "# Random forest lepton flavor study\n",
    "(Oct 26, 2016)\n",
    "\n",
    "This study was done using the the same, very simliar, set-up and methodology to what was done with TMVA over during 2015-mid2016. There are a few glaring mistakes and over sights which will be noted but not corrected in this study. The issues are outlined below. \n",
    "\n",
    "### Issues \n",
    "\n",
    "There are a few issues to note. First that the original forest was not trained on 1/3 of the mc, but ~ 1/3 of WW and the rest of the same order as the WW.  ( 50,000-WW, 70,000-DY, 33,000-TT ) More importantly when producing yeild tables the entire Monte Carlo dataset set was used, including the portion of the set which had been used for training. What worse is that only ~2/3 of the WW set was avalible. So over 50% of the data set used to test on was also used to train. :( \n",
    "\n",
    "Other things: \n",
    "\n",
    "- At this point in time bagged fraction isn't known to be a tunable parameter.\n",
    "\n",
    "- Sklearn seems to cut a bit more harshly on TT then DY as the yields for TT are abit lower while DY is markedly higher then what's produced by TMVA.\n",
    "\n",
    "- 100 trees were trained for each flavor and for the combined set here.  The TMVA forest held 300 trees.\n",
    "\n",
    "### Future \n",
    "\n",
    "I plan to move away from TMVA.  Before doing so I need to determine why their is such a large difference in the DY yields. I plan on completing the analysis with 1/3 of the MC where the number of DY and TT are weighted such that the weighted sum of each process are the same magnitude.\n",
    "\n",
    "link to that note book: \n",
    "\n",
    "=========================\n"
   ]
  },
  {
   "cell_type": "markdown",
   "metadata": {},
   "source": [
    "## Set up:"
   ]
  },
  {
   "cell_type": "code",
   "execution_count": 1,
   "metadata": {
    "collapsed": false
   },
   "outputs": [
    {
     "name": "stdout",
     "output_type": "stream",
     "text": [
      "loading data frame named df.\n",
      "finished loading data frame\n",
      "unc_mc_process and scales are dictionaries\n",
      "scale_data = (5.27/19.7)\n"
     ]
    },
    {
     "name": "stderr",
     "output_type": "stream",
     "text": [
      "/usr/local/lib/python2.7/site-packages/matplotlib/font_manager.py:273: UserWarning: Matplotlib is building the font cache using fc-list. This may take a moment.\n",
      "  warnings.warn('Matplotlib is building the font cache using fc-list. This may take a moment.')\n"
     ]
    }
   ],
   "source": [
    "run prep_ana.py"
   ]
  },
  {
   "cell_type": "code",
   "execution_count": 2,
   "metadata": {
    "collapsed": false
   },
   "outputs": [],
   "source": [
    "%matplotlib inline"
   ]
  },
  {
   "cell_type": "code",
   "execution_count": 3,
   "metadata": {
    "collapsed": false
   },
   "outputs": [],
   "source": [
    "df_WW = rp.read_root(\"data/WW_tot_complete_10.root\", \"trees_vec\")\n",
    "df_DY = rp.read_root(\"data/DY_ll_complete_10.root\", \"trees_vec\")\n",
    "df_TT = rp.read_root(\"data/TT_ll_complete_10.root\", \"trees_vec\")"
   ]
  },
  {
   "cell_type": "code",
   "execution_count": 69,
   "metadata": {
    "collapsed": true
   },
   "outputs": [],
   "source": [
    "def pre_cuts( df ):\n",
    "    dif_lep = df.lep_Type > 0\n",
    "    sam_lep = df.lep_Type < 0\n",
    "    z_mass = (df.mll < 76) | (df.mll > 106 )\n",
    "    qt_s = (df.qT > 45)\n",
    "    qt_d = (df.qT > 30)\n",
    "    met_prj = (df.METProj_sin > 20) & (df.METProj_trk_sin > 20)\n",
    "    nBjet = df.numb_BJet == 0\n",
    "    extra_lep = df.numbExtraLep == 0\n",
    "    \n",
    "    s_df = df[ sam_lep & z_mass & nBjet & extra_lep & met_prj & qt_s ]\n",
    "    d_df = df[ dif_lep & nBjet & extra_lep ]#& met_prj & qt_d]\n",
    "    \n",
    "    return pd.concat([ s_df, d_df])"
   ]
  },
  {
   "cell_type": "code",
   "execution_count": 70,
   "metadata": {
    "collapsed": true
   },
   "outputs": [],
   "source": [
    "df = pd.concat( [df_WW, df_TT, df_DY] )\n",
    "df = pre_cuts(df)\n",
    "df = df.reset_index()"
   ]
  },
  {
   "cell_type": "code",
   "execution_count": 72,
   "metadata": {
    "code_folding": [],
    "collapsed": false
   },
   "outputs": [
    {
     "name": "stdout",
     "output_type": "stream",
     "text": [
      "(4436, 62) (2218, 62) (4436, 62)\n",
      "(11748, 62) (5874, 62) (11748, 62)\n"
     ]
    }
   ],
   "source": [
    "\n",
    "train_same_DY = df[(df.lep_Type < 0) & (df.process == \"DY\")].sample( frac=.4)\n",
    "train_same_WW = df[(df.lep_Type < 0) & (df.process == \"WW\")].sample( n=train_same_DY.shape[0]*2 )\n",
    "train_same_TT = df[(df.lep_Type < 0) & (df.process == \"TT\")].sample( n=train_same_DY.shape[0]*2 )\n",
    "train_same = pd.concat([ train_same_WW, train_same_DY, train_same_TT])\n",
    "\n",
    "train_diff_DY = df[(df.lep_Type > 0) & (df.process == \"DY\")].sample( frac=.4 )\n",
    "train_diff_WW = df[(df.lep_Type > 0) & (df.process == \"WW\")].sample( n=train_diff_DY.shape[0]*2 )\n",
    "train_diff_TT = df[(df.lep_Type > 0) & (df.process == \"TT\")].sample( n=train_diff_DY.shape[0]*2 )\n",
    "train_diff = pd.concat([ train_diff_WW, train_diff_DY, train_diff_TT])\n",
    "\n",
    "print train_same[train_same.process == \"WW\"].shape, train_same[train_same.process == \"DY\"].shape, train_same[train_same.process == \"TT\"].shape\n",
    "print train_diff[train_diff.process == \"WW\"].shape, train_diff[train_diff.process == \"DY\"].shape, train_diff[train_diff.process == \"TT\"].shape"
   ]
  },
  {
   "cell_type": "code",
   "execution_count": 73,
   "metadata": {
    "code_folding": [],
    "collapsed": false
   },
   "outputs": [],
   "source": [
    "#Testing\n",
    "test = df.drop( train_same.index )\n",
    "test = test.drop( train_diff.index )"
   ]
  },
  {
   "cell_type": "code",
   "execution_count": 74,
   "metadata": {
    "code_folding": [],
    "collapsed": false
   },
   "outputs": [],
   "source": [
    "#Labels\n",
    "labels_s = np.empty( train_same.shape[0] )\n",
    "labels_d = np.empty( train_diff.shape[0] )\n",
    "\n",
    "labels_d[(train_diff.process == \"WW\").as_matrix()] = 1\n",
    "labels_d[(train_diff.process == \"DY\").as_matrix()] = 2\n",
    "labels_d[(train_diff.process == \"TT\").as_matrix()] = 2\n",
    "\n",
    "labels_s[(train_same.process == \"WW\").as_matrix()] = 1\n",
    "labels_s[(train_same.process == \"DY\").as_matrix()] = 2\n",
    "labels_s[(train_same.process == \"TT\").as_matrix()] = 2\n"
   ]
  },
  {
   "cell_type": "code",
   "execution_count": 75,
   "metadata": {
    "code_folding": [],
    "collapsed": false
   },
   "outputs": [],
   "source": [
    "#weights\n",
    "weights_d = np.empty(train_diff.shape[0] )\n",
    "weights_s = np.empty(train_same.shape[0] )\n",
    "\n",
    "\n",
    "\n",
    "weights_d[(train_diff.process == \"WW\").as_matrix()] = 1\n",
    "weights_d[(train_diff.process == \"DY\").as_matrix()] = 1\n",
    "weights_d[(train_diff.process == \"TT\").as_matrix()] = 1\n",
    "\n",
    "weights_s[(train_same.process == \"WW\").as_matrix()] = 1\n",
    "weights_s[(train_same.process == \"DY\").as_matrix()] = 1\n",
    "weights_s[(train_same.process == \"TT\").as_matrix()] = 1\n"
   ]
  },
  {
   "cell_type": "code",
   "execution_count": 76,
   "metadata": {
    "collapsed": false
   },
   "outputs": [],
   "source": [
    "features = ['numb_jets', 'lep2_pt', 'METProj', 'METProj_trk_sin', 'qT', 'mll', 'mllMET', 'metMod', 'dPhiLLMET', 'dPhiLLJet', 'dPhiMETJet', 'dPhiLL', 'HT', 'recoil'] +\\\n",
    "           ['jet1_csv', 'lep_Type']"
   ]
  },
  {
   "cell_type": "code",
   "execution_count": 77,
   "metadata": {
    "collapsed": false,
    "scrolled": true
   },
   "outputs": [
    {
     "data": {
      "text/html": [
       "<div>\n",
       "<table border=\"1\" class=\"dataframe\">\n",
       "  <thead>\n",
       "    <tr style=\"text-align: right;\">\n",
       "      <th></th>\n",
       "      <th>numb_jets</th>\n",
       "      <th>lep2_pt</th>\n",
       "      <th>METProj</th>\n",
       "      <th>METProj_trk_sin</th>\n",
       "      <th>qT</th>\n",
       "      <th>mll</th>\n",
       "      <th>mllMET</th>\n",
       "      <th>metMod</th>\n",
       "      <th>dPhiLLMET</th>\n",
       "      <th>dPhiLLJet</th>\n",
       "      <th>dPhiMETJet</th>\n",
       "      <th>dPhiLL</th>\n",
       "      <th>HT</th>\n",
       "      <th>recoil</th>\n",
       "      <th>jet1_csv</th>\n",
       "      <th>lep_Type</th>\n",
       "    </tr>\n",
       "  </thead>\n",
       "  <tbody>\n",
       "    <tr>\n",
       "      <th>198580</th>\n",
       "      <td>0</td>\n",
       "      <td>41.110065</td>\n",
       "      <td>22.181072</td>\n",
       "      <td>5.467548</td>\n",
       "      <td>17.882412</td>\n",
       "      <td>109.361435</td>\n",
       "      <td>150.720428</td>\n",
       "      <td>31.733803</td>\n",
       "      <td>2.827090</td>\n",
       "      <td>0.000000</td>\n",
       "      <td>0.000000</td>\n",
       "      <td>2.981962</td>\n",
       "      <td>0.000000</td>\n",
       "      <td>15.733088</td>\n",
       "      <td>-2.000000</td>\n",
       "      <td>1</td>\n",
       "    </tr>\n",
       "    <tr>\n",
       "      <th>168866</th>\n",
       "      <td>1</td>\n",
       "      <td>39.514809</td>\n",
       "      <td>52.153618</td>\n",
       "      <td>30.676060</td>\n",
       "      <td>29.925282</td>\n",
       "      <td>93.416214</td>\n",
       "      <td>172.354935</td>\n",
       "      <td>64.837433</td>\n",
       "      <td>2.887120</td>\n",
       "      <td>0.118858</td>\n",
       "      <td>3.005978</td>\n",
       "      <td>2.599808</td>\n",
       "      <td>31.929033</td>\n",
       "      <td>36.658241</td>\n",
       "      <td>-1.000000</td>\n",
       "      <td>1</td>\n",
       "    </tr>\n",
       "    <tr>\n",
       "      <th>203348</th>\n",
       "      <td>0</td>\n",
       "      <td>38.171062</td>\n",
       "      <td>20.024984</td>\n",
       "      <td>18.303606</td>\n",
       "      <td>44.265953</td>\n",
       "      <td>65.591751</td>\n",
       "      <td>102.448792</td>\n",
       "      <td>22.788109</td>\n",
       "      <td>2.039417</td>\n",
       "      <td>0.000000</td>\n",
       "      <td>0.000000</td>\n",
       "      <td>1.945958</td>\n",
       "      <td>0.000000</td>\n",
       "      <td>39.592514</td>\n",
       "      <td>-2.000000</td>\n",
       "      <td>1</td>\n",
       "    </tr>\n",
       "    <tr>\n",
       "      <th>209561</th>\n",
       "      <td>0</td>\n",
       "      <td>11.005165</td>\n",
       "      <td>85.409874</td>\n",
       "      <td>85.409874</td>\n",
       "      <td>73.065025</td>\n",
       "      <td>17.773783</td>\n",
       "      <td>160.187653</td>\n",
       "      <td>85.409874</td>\n",
       "      <td>3.090837</td>\n",
       "      <td>0.000000</td>\n",
       "      <td>0.000000</td>\n",
       "      <td>0.617532</td>\n",
       "      <td>0.000000</td>\n",
       "      <td>12.979522</td>\n",
       "      <td>-2.000000</td>\n",
       "      <td>1</td>\n",
       "    </tr>\n",
       "    <tr>\n",
       "      <th>165403</th>\n",
       "      <td>1</td>\n",
       "      <td>35.230034</td>\n",
       "      <td>56.762665</td>\n",
       "      <td>53.691147</td>\n",
       "      <td>36.694717</td>\n",
       "      <td>95.611862</td>\n",
       "      <td>185.682678</td>\n",
       "      <td>59.765289</td>\n",
       "      <td>2.880779</td>\n",
       "      <td>1.224048</td>\n",
       "      <td>2.178359</td>\n",
       "      <td>2.679896</td>\n",
       "      <td>37.757317</td>\n",
       "      <td>26.088093</td>\n",
       "      <td>0.578647</td>\n",
       "      <td>1</td>\n",
       "    </tr>\n",
       "  </tbody>\n",
       "</table>\n",
       "</div>"
      ],
      "text/plain": [
       "        numb_jets    lep2_pt    METProj  METProj_trk_sin         qT  \\\n",
       "198580          0  41.110065  22.181072         5.467548  17.882412   \n",
       "168866          1  39.514809  52.153618        30.676060  29.925282   \n",
       "203348          0  38.171062  20.024984        18.303606  44.265953   \n",
       "209561          0  11.005165  85.409874        85.409874  73.065025   \n",
       "165403          1  35.230034  56.762665        53.691147  36.694717   \n",
       "\n",
       "               mll      mllMET     metMod  dPhiLLMET  dPhiLLJet  dPhiMETJet  \\\n",
       "198580  109.361435  150.720428  31.733803   2.827090   0.000000    0.000000   \n",
       "168866   93.416214  172.354935  64.837433   2.887120   0.118858    3.005978   \n",
       "203348   65.591751  102.448792  22.788109   2.039417   0.000000    0.000000   \n",
       "209561   17.773783  160.187653  85.409874   3.090837   0.000000    0.000000   \n",
       "165403   95.611862  185.682678  59.765289   2.880779   1.224048    2.178359   \n",
       "\n",
       "          dPhiLL         HT     recoil  jet1_csv  lep_Type  \n",
       "198580  2.981962   0.000000  15.733088 -2.000000         1  \n",
       "168866  2.599808  31.929033  36.658241 -1.000000         1  \n",
       "203348  1.945958   0.000000  39.592514 -2.000000         1  \n",
       "209561  0.617532   0.000000  12.979522 -2.000000         1  \n",
       "165403  2.679896  37.757317  26.088093  0.578647         1  "
      ]
     },
     "execution_count": 77,
     "metadata": {},
     "output_type": "execute_result"
    }
   ],
   "source": [
    "train_diff[features].head()"
   ]
  },
  {
   "cell_type": "markdown",
   "metadata": {},
   "source": [
    "# Classification training and testing"
   ]
  },
  {
   "cell_type": "code",
   "execution_count": 58,
   "metadata": {
    "collapsed": true
   },
   "outputs": [],
   "source": [
    "from sklearn.ensemble import RandomForestClassifier\n"
   ]
  },
  {
   "cell_type": "markdown",
   "metadata": {},
   "source": [
    "## Different flavor "
   ]
  },
  {
   "cell_type": "code",
   "execution_count": 21,
   "metadata": {
    "collapsed": true
   },
   "outputs": [],
   "source": [
    "clf_d = RandomForestClassifier(n_estimators=100, n_jobs=-1, min_samples_split=10, max_depth=15, max_features='sqrt')\n",
    "clf_s = RandomForestClassifier(n_estimators=100, n_jobs=-1, min_samples_split=10, max_depth=15, max_features='sqrt')\n",
    "#n_estimators=150"
   ]
  },
  {
   "cell_type": "code",
   "execution_count": 22,
   "metadata": {
    "collapsed": false
   },
   "outputs": [],
   "source": [
    "clf_d = clf_d.fit( np.float32(train_diff[features].values) , np.float32(labels_d), sample_weight=weights_d)"
   ]
  },
  {
   "cell_type": "code",
   "execution_count": 24,
   "metadata": {
    "collapsed": false
   },
   "outputs": [
    {
     "name": "stdout",
     "output_type": "stream",
     "text": [
      "0.941743275451\n"
     ]
    }
   ],
   "source": [
    "print clf_d.score(np.float32(train_diff[features].values), np.float32(labels_d), weights_d)"
   ]
  },
  {
   "cell_type": "code",
   "execution_count": 25,
   "metadata": {
    "collapsed": false
   },
   "outputs": [],
   "source": [
    "test_d = test[test.lep_Type > 0]\n",
    "pred_d = clf_d.predict_proba(np.float32(test_d[features].values))"
   ]
  },
  {
   "cell_type": "code",
   "execution_count": 26,
   "metadata": {
    "collapsed": false
   },
   "outputs": [
    {
     "name": "stderr",
     "output_type": "stream",
     "text": [
      "/usr/local/lib/python2.7/site-packages/ipykernel/__main__.py:1: SettingWithCopyWarning: \n",
      "A value is trying to be set on a copy of a slice from a DataFrame.\n",
      "Try using .loc[row_indexer,col_indexer] = value instead\n",
      "\n",
      "See the caveats in the documentation: http://pandas.pydata.org/pandas-docs/stable/indexing.html#indexing-view-versus-copy\n",
      "  if __name__ == '__main__':\n"
     ]
    }
   ],
   "source": [
    "test_d[\"pred\"] = pred_d[:,0]"
   ]
  },
  {
   "cell_type": "code",
   "execution_count": 28,
   "metadata": {
    "collapsed": false
   },
   "outputs": [
    {
     "data": {
      "text/plain": [
       "<matplotlib.axes._subplots.AxesSubplot at 0x11c802c50>"
      ]
     },
     "execution_count": 28,
     "metadata": {},
     "output_type": "execute_result"
    },
    {
     "data": {
      "image/png": "[encoded data removed]",
      "text/plain": [
       "<matplotlib.figure.Figure at 0x11c30afd0>"
      ]
     },
     "metadata": {},
     "output_type": "display_data"
    }
   ],
   "source": [
    "test_d[ test_d.process == \"WW\" ].pred.hist(bins=1000)"
   ]
  },
  {
   "cell_type": "code",
   "execution_count": 49,
   "metadata": {
    "collapsed": false
   },
   "outputs": [
    {
     "name": "stdout",
     "output_type": "stream",
     "text": [
      "WW 4588.31247463\n",
      "DY 376.908384905\n",
      "TT 454.19777286\n"
     ]
    }
   ],
   "source": [
    "for process in scales.keys():\n",
    "    if process in test_d.process.unique():\n",
    "        print process, test_d[ (test_d.process == process) & (test_d.pred > .8429)].shape[0] *  scales[process] * float(df[(df.process == process) & (df.lep_Type > 0)].shape[0])/float(test_d[test_d.process == process].shape[0])"
   ]
  },
  {
   "cell_type": "markdown",
   "metadata": {
    "collapsed": false
   },
   "source": [
    "## Same Flavor"
   ]
  },
  {
   "cell_type": "code",
   "execution_count": 78,
   "metadata": {
    "collapsed": false
   },
   "outputs": [],
   "source": [
    "clf_s = clf_s.fit( np.float32(train_same[features].values) , np.float32(labels_s), sample_weight=weights_s)"
   ]
  },
  {
   "cell_type": "code",
   "execution_count": 79,
   "metadata": {
    "collapsed": false
   },
   "outputs": [
    {
     "name": "stdout",
     "output_type": "stream",
     "text": [
      "0.948963029757\n"
     ]
    }
   ],
   "source": [
    "print clf_s.score(np.float32(train_same[features].values), np.float32(labels_s), weights_s)"
   ]
  },
  {
   "cell_type": "code",
   "execution_count": 80,
   "metadata": {
    "collapsed": false
   },
   "outputs": [],
   "source": [
    "test_s = test[test.lep_Type < 0]\n",
    "pred_s = clf_s.predict_proba(np.float32(test_s[features].values))"
   ]
  },
  {
   "cell_type": "code",
   "execution_count": 81,
   "metadata": {
    "collapsed": false
   },
   "outputs": [
    {
     "name": "stderr",
     "output_type": "stream",
     "text": [
      "/usr/local/lib/python2.7/site-packages/ipykernel/__main__.py:1: SettingWithCopyWarning: \n",
      "A value is trying to be set on a copy of a slice from a DataFrame.\n",
      "Try using .loc[row_indexer,col_indexer] = value instead\n",
      "\n",
      "See the caveats in the documentation: http://pandas.pydata.org/pandas-docs/stable/indexing.html#indexing-view-versus-copy\n",
      "  if __name__ == '__main__':\n"
     ]
    }
   ],
   "source": [
    "test_s[\"pred\"] = pred_s[:,0]"
   ]
  },
  {
   "cell_type": "code",
   "execution_count": 82,
   "metadata": {
    "collapsed": false
   },
   "outputs": [
    {
     "data": {
      "text/plain": [
       "<matplotlib.axes._subplots.AxesSubplot at 0x12553ab50>"
      ]
     },
     "execution_count": 82,
     "metadata": {},
     "output_type": "execute_result"
    },
    {
     "data": {
      "image/png": "[encoded data removed]",
      "text/plain": [
       "<matplotlib.figure.Figure at 0x11e3e5910>"
      ]
     },
     "metadata": {},
     "output_type": "display_data"
    }
   ],
   "source": [
    "test_s[ test_s.process == \"WW\" ].pred.hist(bins=1000)"
   ]
  },
  {
   "cell_type": "code",
   "execution_count": 87,
   "metadata": {
    "code_folding": [],
    "collapsed": false
   },
   "outputs": [
    {
     "name": "stdout",
     "output_type": "stream",
     "text": [
      "WW 1357.90658827\n",
      "DY 285.536655231\n",
      "TT 216.555729053\n"
     ]
    }
   ],
   "source": [
    "for process in scales.keys():\n",
    "    if process in test_s.process.unique():\n",
    "        print process, test_s[ (test_s.process == process) & (test_s.pred > .75)].shape[0] *  scales[process] * float(df[(df.process == process) & (df.lep_Type < 0)].shape[0])/float(test_s[test_s.process == process].shape[0])"
   ]
  },
  {
   "cell_type": "code",
   "execution_count": null,
   "metadata": {
    "collapsed": true
   },
   "outputs": [],
   "source": [
    "    diff                same\n",
    "WW 4588.31247463     1357.90658827\n",
    "DY 376.908384905     285.536655231\n",
    "TT 454.19777286      216.555729053\n",
    "\n"
   ]
  },
  {
   "cell_type": "code",
   "execution_count": 89,
   "metadata": {
    "collapsed": false
   },
   "outputs": [
    {
     "ename": "KeyError",
     "evalue": "'WZ_2l2q'",
     "output_type": "error",
     "traceback": [
      "\u001b[0;31m---------------------------------------------------------------------------\u001b[0m",
      "\u001b[0;31mKeyError\u001b[0m                                  Traceback (most recent call last)",
      "\u001b[0;32m<ipython-input-89-554045f0c11f>\u001b[0m in \u001b[0;36m<module>\u001b[0;34m()\u001b[0m\n\u001b[0;32m----> 1\u001b[0;31m \u001b[0mplot_hist\u001b[0m\u001b[0;34m(\u001b[0m\u001b[0mbin_df\u001b[0m\u001b[0;34m(\u001b[0m \u001b[0mdf\u001b[0m\u001b[0;34m,\u001b[0m \u001b[0;34m\"mll\"\u001b[0m\u001b[0;34m)\u001b[0m\u001b[0;34m)\u001b[0m\u001b[0;34m\u001b[0m\u001b[0m\n\u001b[0m",
      "\u001b[0;32m/Users/thothgunter/Documents/WW Prob/Analysis/prep_ana.py\u001b[0m in \u001b[0;36mplot_hist\u001b[0;34m(bins, processes, x_range, y_range, title, y_label, color, logy, x_minor_ticks, ax)\u001b[0m\n\u001b[1;32m    315\u001b[0m         \u001b[0mbottom\u001b[0m \u001b[0;34m=\u001b[0m \u001b[0msum_bins\u001b[0m\u001b[0;34m\u001b[0m\u001b[0m\n\u001b[1;32m    316\u001b[0m         \u001b[0;31m#print process_\u001b[0m\u001b[0;34m\u001b[0m\u001b[0;34m\u001b[0m\u001b[0m\n\u001b[0;32m--> 317\u001b[0;31m         rect.append(ax.bar( bins[process_][1][:-1], bins[process_][0],\n\u001b[0m\u001b[1;32m    318\u001b[0m                       \u001b[0mbins\u001b[0m\u001b[0;34m[\u001b[0m\u001b[0mprocess_\u001b[0m\u001b[0;34m]\u001b[0m\u001b[0;34m[\u001b[0m\u001b[0;36m1\u001b[0m\u001b[0;34m]\u001b[0m\u001b[0;34m[\u001b[0m\u001b[0;36m1\u001b[0m\u001b[0;34m]\u001b[0m\u001b[0;34m-\u001b[0m\u001b[0mbins\u001b[0m\u001b[0;34m[\u001b[0m\u001b[0mprocess_\u001b[0m\u001b[0;34m]\u001b[0m\u001b[0;34m[\u001b[0m\u001b[0;36m1\u001b[0m\u001b[0;34m]\u001b[0m\u001b[0;34m[\u001b[0m\u001b[0;36m0\u001b[0m\u001b[0;34m]\u001b[0m \u001b[0;34m,\u001b[0m \u001b[0mcolor\u001b[0m \u001b[0;34m=\u001b[0m \u001b[0mcolors\u001b[0m\u001b[0;34m[\u001b[0m\u001b[0mprocess_\u001b[0m\u001b[0;34m]\u001b[0m\u001b[0;34m,\u001b[0m\u001b[0;34m\u001b[0m\u001b[0m\n\u001b[1;32m    319\u001b[0m                       edgecolor = colors[process_], bottom=bottom ))\n",
      "\u001b[0;31mKeyError\u001b[0m: 'WZ_2l2q'"
     ]
    },
    {
     "data": {
      "image/png": "[encoded data removed]",
      "text/plain": [
       "<matplotlib.figure.Figure at 0x12539b290>"
      ]
     },
     "metadata": {},
     "output_type": "display_data"
    }
   ],
   "source": [
    "plot_hist(bin_df( df, \"mll\"))"
   ]
  },
  {
   "cell_type": "code",
   "execution_count": null,
   "metadata": {
    "collapsed": false
   },
   "outputs": [],
   "source": []
  },
  {
   "cell_type": "code",
   "execution_count": 93,
   "metadata": {
    "collapsed": false
   },
   "outputs": [
    {
     "data": {
      "text/plain": [
       "[<matplotlib.lines.Line2D at 0x11e9e3f10>]"
      ]
     },
     "execution_count": 93,
     "metadata": {},
     "output_type": "execute_result"
    },
    {
     "data": {
      "image/png": "[encoded data removed]",
      "text/plain": [
       "<matplotlib.figure.Figure at 0x11ca91990>"
      ]
     },
     "metadata": {},
     "output_type": "display_data"
    }
   ],
   "source": [
    "b = plt.pcolor(a[0])#[35:,10:])\n",
    "plt.colorbar(b)"
   ]
  },
  {
   "cell_type": "code",
   "execution_count": 98,
   "metadata": {
    "collapsed": false
   },
   "outputs": [
    {
     "data": {
      "text/plain": [
       "(0.3333333333333333, 2, 3)"
      ]
     },
     "execution_count": 98,
     "metadata": {},
     "output_type": "execute_result"
    }
   ],
   "source": [
    "eval(\"(1./3.,2,3)\")"
   ]
  },
  {
   "cell_type": "code",
   "execution_count": null,
   "metadata": {
    "collapsed": false
   },
   "outputs": [],
   "source": []
  },
  {
   "cell_type": "code",
   "execution_count": null,
   "metadata": {
    "collapsed": true
   },
   "outputs": [],
   "source": []
  },
  {
   "cell_type": "code",
   "execution_count": null,
   "metadata": {
    "collapsed": true
   },
   "outputs": [],
   "source": []
  },
  {
   "cell_type": "code",
   "execution_count": null,
   "metadata": {
    "collapsed": true
   },
   "outputs": [],
   "source": []
  },
  {
   "cell_type": "code",
   "execution_count": null,
   "metadata": {
    "collapsed": true
   },
   "outputs": [],
   "source": []
  },
  {
   "cell_type": "code",
   "execution_count": null,
   "metadata": {
    "collapsed": true
   },
   "outputs": [],
   "source": []
  },
  {
   "cell_type": "code",
   "execution_count": null,
   "metadata": {
    "collapsed": true
   },
   "outputs": [],
   "source": []
  },
  {
   "cell_type": "code",
   "execution_count": null,
   "metadata": {
    "collapsed": true
   },
   "outputs": [],
   "source": []
  },
  {
   "cell_type": "markdown",
   "metadata": {},
   "source": [
    "## same + different flavors"
   ]
  },
  {
   "cell_type": "code",
   "execution_count": 15,
   "metadata": {
    "collapsed": false
   },
   "outputs": [],
   "source": [
    "clf = clf.fit( np.float32(train[features].values) , np.float32(labels), sample_weight=weights)"
   ]
  },
  {
   "cell_type": "code",
   "execution_count": 32,
   "metadata": {
    "collapsed": false
   },
   "outputs": [
    {
     "name": "stdout",
     "output_type": "stream",
     "text": [
      "0.961823529412\n"
     ]
    }
   ],
   "source": [
    "print clf.score(np.float32(train[features].values), np.float32(labels), weights)"
   ]
  },
  {
   "cell_type": "code",
   "execution_count": 16,
   "metadata": {
    "collapsed": false
   },
   "outputs": [],
   "source": [
    "pred = clf.predict_proba(np.float32(df[features].values))"
   ]
  },
  {
   "cell_type": "code",
   "execution_count": 34,
   "metadata": {
    "collapsed": true
   },
   "outputs": [],
   "source": [
    "df[\"pred\"] = pred[:,0]"
   ]
  },
  {
   "cell_type": "code",
   "execution_count": 55,
   "metadata": {
    "collapsed": false
   },
   "outputs": [
    {
     "data": {
      "text/plain": [
       "<matplotlib.axes._subplots.AxesSubplot at 0x124affc10>"
      ]
     },
     "execution_count": 55,
     "metadata": {},
     "output_type": "execute_result"
    },
    {
     "data": {
      "image/png": "[encoded data removed]",
      "text/plain": [
       "<matplotlib.figure.Figure at 0x124ab3f90>"
      ]
     },
     "metadata": {},
     "output_type": "display_data"
    }
   ],
   "source": [
    "df[ df.WW == 1 ].pred.hist(bins=1000)"
   ]
  },
  {
   "cell_type": "code",
   "execution_count": 36,
   "metadata": {
    "collapsed": false
   },
   "outputs": [
    {
     "name": "stdout",
     "output_type": "stream",
     "text": [
      "TT 305.853610245 103.674244062\n",
      "WW 3821.73461124 1266.56442707\n",
      "ZZ 37.6287318207 40.7927629525\n",
      "DY 1365.45077956 778.32943942\n",
      "WZ 261.823028882 105.08718277\n"
     ]
    }
   ],
   "source": [
    "\n",
    "scales = {\"WW\": 19.7e3 * 59.8 /  10000431.0 ,\\\n",
    "          \"DY\": 19.7e3 * 3531.9 / 30459500. ,\\\n",
    "          \"TT\": 19.7e3 * 25.81 / 12011428.,\\\n",
    "          \"ZZ\": 19.7e3 * 9.03 / 9799908.,\\\n",
    "          \"WZ\": 19.7e3 * 1.07 / 2017979., \"WJ\": 1 }\n",
    "\n",
    "\n",
    "for process in scales.keys():\n",
    "    if process in df.keys():\n",
    "        print process, df[ (df[process] == 1) & (df.pred > .96912) & (df.lep_Type > 0)].shape[0] *  scales[process],\\\n",
    "        df[ (df[process] == 1) & (df.pred > .96912) & (df.lep_Type < 0)].shape[0] *  scales[process]"
   ]
  },
  {
   "cell_type": "code",
   "execution_count": 51,
   "metadata": {
    "collapsed": false
   },
   "outputs": [
    {
     "data": {
      "text/plain": [
       "(4848788, 40)"
      ]
     },
     "execution_count": 51,
     "metadata": {},
     "output_type": "execute_result"
    }
   ],
   "source": [
    "df.shape"
   ]
  },
  {
   "cell_type": "markdown",
   "metadata": {
    "collapsed": false
   },
   "source": [
    "# Results as of sept 21 \n",
    "\n",
    "### trained seperately:\n",
    "\n",
    "Process:    | WW | DY | TT | ZZ+WZ\n",
    "---         |---| ---|--- |---\n",
    "same flavor |1684|395|71 | 192 \n",
    "diff flavor |3799|661|139 | 220 \n",
    "\n",
    "Significant differences\n",
    "\n",
    "- diff DY 661 vs 106 \n",
    "- diff TT 139 vs 433\n"
   ]
  },
  {
   "cell_type": "markdown",
   "metadata": {},
   "source": [
    "### trained together:\n",
    "\n",
    "Process:    | WW | DY | TT | ZZ+WZ\n",
    "---         |---| ---|--- |---\n",
    "same flavor |1057|182|36 | 101 \n",
    "diff flavor |4426|485|178 | 279 "
   ]
  },
  {
   "cell_type": "markdown",
   "metadata": {
    "collapsed": false
   },
   "source": []
  },
  {
   "cell_type": "code",
   "execution_count": null,
   "metadata": {
    "collapsed": false
   },
   "outputs": [],
   "source": []
  },
  {
   "cell_type": "code",
   "execution_count": null,
   "metadata": {
    "collapsed": false
   },
   "outputs": [],
   "source": []
  },
  {
   "cell_type": "code",
   "execution_count": null,
   "metadata": {
    "collapsed": false
   },
   "outputs": [],
   "source": []
  },
  {
   "cell_type": "code",
   "execution_count": null,
   "metadata": {
    "collapsed": false
   },
   "outputs": [],
   "source": []
  },
  {
   "cell_type": "code",
   "execution_count": null,
   "metadata": {
    "collapsed": false
   },
   "outputs": [],
   "source": []
  },
  {
   "cell_type": "code",
   "execution_count": null,
   "metadata": {
    "collapsed": true
   },
   "outputs": [],
   "source": []
  }
 ],
 "metadata": {
  "kernelspec": {
   "display_name": "Python 2",
   "language": "python",
   "name": "python2"
  },
  "language_info": {
   "codemirror_mode": {
    "name": "ipython",
    "version": 2
   },
   "file_extension": ".py",
   "mimetype": "text/x-python",
   "name": "python",
   "nbconvert_exporter": "python",
   "pygments_lexer": "ipython2",
   "version": "2.7.10"
  },
  "toc": {
   "navigate_menu": false,
   "number_sections": true,
   "sideBar": true,
   "threshold": "4",
   "toc_cell": false,
   "toc_section_display": "block",
   "toc_window_display": true
  }
 },
 "nbformat": 4,
 "nbformat_minor": 0
}
