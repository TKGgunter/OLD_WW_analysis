{
 "cells": [
  {
   "cell_type": "markdown",
   "metadata": {},
   "source": [
    "# Measure Jet multiplicity"
   ]
  },
  {
   "cell_type": "code",
   "execution_count": 1,
   "metadata": {},
   "outputs": [
    {
     "name": "stdout",
     "output_type": "stream",
     "text": [
      "Welcome to JupyROOT 6.10/00\n",
      "home /home/gunter/WW_analysis/production/Analysis_13TeV\n",
      "Loading binning options...\n",
      "Loading plotting options\n",
      "unc_mc_process and scales are parameter dictionaries\n"
     ]
    }
   ],
   "source": [
    "import os, sys\n",
    "sys.path.append(os.getcwd() + \"/../\")\n",
    "from prep_ana_II import *\n",
    "sys.path.append(os.getcwd() + \"/../tools/\")\n",
    "sys.path.append(os.getcwd() + \"/../tools/jecsys/\")\n",
    "from JECUncertainty import JECUncertainty, jecUncertainties\n",
    "from lepton_eff import muonEff, electronEff\n",
    "from cross_section_calc import calc_cross_stuff, cross_calc, stat_unc_calc, normalization_unc_calc"
   ]
  },
  {
   "cell_type": "code",
   "execution_count": 2,
   "metadata": {
    "collapsed": true
   },
   "outputs": [],
   "source": [
    "%matplotlib inline"
   ]
  },
  {
   "cell_type": "code",
   "execution_count": 3,
   "metadata": {
    "collapsed": true
   },
   "outputs": [],
   "source": [
    "matplotlib.rcParams.update({'font.size': 26})\n",
    "\n",
    "scales, df = load_testset() \n",
    "df_da = load_presel_w_fDY_fTT_DATA()\n",
    "rfs = load_randomForest()\n",
    "\n",
    "fDY = rfs[\"clf_fDY\"]\n",
    "fTT = rfs[\"clf_fTT\"]\n",
    "\n",
    "features_fDY = rfs[\"features_fDY\"]\n",
    "features_fTT = rfs[\"features_fTT\"]"
   ]
  },
  {
   "cell_type": "markdown",
   "metadata": {},
   "source": [
    "##  Est. Measurements"
   ]
  },
  {
   "cell_type": "code",
   "execution_count": 63,
   "metadata": {},
   "outputs": [
    {
     "name": "stdout",
     "output_type": "stream",
     "text": [
      "Skipping Higgs not in data frame\n"
     ]
    }
   ],
   "source": [
    "#Number of jets \n",
    "def table_jet_multi(df, scales=scales):\n",
    "    a = []\n",
    "    for i in range(3):\n",
    "        query = \"pred_fDY_WW > 0.9 & pred_fTT_WW > 0.6 & numb_jets == \" + str(i)\n",
    "        if i == 2:\n",
    "            query= \"pred_fDY_WW > 0.9 & pred_fTT_WW > 0.6 &  numb_jets >= \" + str(i)\n",
    "        a.append(process_yields(pre_cuts(df), df_da, query=query, scales=scales))\n",
    "    return a\n",
    "a = table_jet_multi(df)"
   ]
  },
  {
   "cell_type": "code",
   "execution_count": 64,
   "metadata": {},
   "outputs": [],
   "source": [
    "#Construct measurements\n",
    "def measure_jet_multi(tables):\n",
    "    total = []\n",
    "    bkg = []\n",
    "\n",
    "    for i, ele in enumerate(tables):\n",
    "        bkg.append(0)\n",
    "        for process in ele.Process.unique():\n",
    "            if process == \"DATA\":\n",
    "                continue\n",
    "            if \"WW\" in process:\n",
    "                continue \n",
    "            if \"Total\" not in process:\n",
    "                bkg[i] += ele[ele.Process == process][\"Diff Flavor\"].values[0] + ele[ele.Process == process][\"Same Flavor\"].values[0]\n",
    "            else:\n",
    "                total.append(ele[ele.Process == process][\"Diff Flavor\"].values[0] + ele[ele.Process == process][\"Same Flavor\"].values[0] )\n",
    "    bkg = np.array(bkg)\n",
    "    return total, bkg\n",
    "total, bkg = measure_jet_multi(a)"
   ]
  },
  {
   "cell_type": "markdown",
   "metadata": {},
   "source": [
    "### Fake data"
   ]
  },
  {
   "cell_type": "code",
   "execution_count": 47,
   "metadata": {},
   "outputs": [],
   "source": [
    "# construct fake data\n",
    "fake_data = []\n",
    "for i in range(3):\n",
    "    fake_data.append( float(np.random.poisson(total[i],1)[0]) )\n",
    "fake_data = np.array(fake_data)"
   ]
  },
  {
   "cell_type": "markdown",
   "metadata": {},
   "source": [
    "### Measurement"
   ]
  },
  {
   "cell_type": "code",
   "execution_count": 52,
   "metadata": {},
   "outputs": [
    {
     "name": "stdout",
     "output_type": "stream",
     "text": [
      "[0.66063955989518852, 0.27952391505559981, 0.059836525049211976]\n"
     ]
    }
   ],
   "source": [
    "# construct measurement\n",
    "import pickle\n",
    "matrices = pickle.load(open(\"../data/Unfolding/june13.pkl\", \"r\"))\n",
    "sf = matrices[\"sf\"]\n",
    "\n",
    "fake_measurement = []\n",
    "for i in range(3):\n",
    "    fake_measurement.append( sf[i] * float(fake_data[i] - bkg[i]) / ((sf*fake_data).sum() - (sf*bkg).sum())  )\n",
    "np.array(fake_measurement)\n",
    "print fake_measurement"
   ]
  },
  {
   "cell_type": "markdown",
   "metadata": {},
   "source": [
    "## Unfold Est. "
   ]
  },
  {
   "cell_type": "code",
   "execution_count": 54,
   "metadata": {},
   "outputs": [
    {
     "data": {
      "text/plain": [
       "array([ 0.71293043,  0.26083944,  0.02623012])"
      ]
     },
     "execution_count": 54,
     "metadata": {},
     "output_type": "execute_result"
    }
   ],
   "source": [
    "np.dot(np.linalg.inv(matrices[\"tot_matrix\"]), fake_measurement)"
   ]
  },
  {
   "cell_type": "markdown",
   "metadata": {},
   "source": [
    "### nomalization unc"
   ]
  },
  {
   "cell_type": "code",
   "execution_count": 68,
   "metadata": {
    "collapsed": true
   },
   "outputs": [
    {
     "name": "stdout",
     "output_type": "stream",
     "text": [
      "Skipping Higgs not in data frame\n",
      "Skipping Higgs not in data frame\n",
      "Skipping Higgs not in data frame\n",
      "Skipping Higgs not in data frame\n",
      "Skipping Higgs not in data frame\n",
      "Skipping Higgs not in data frame\n",
      "Skipping Higgs not in data frame\n",
      "Skipping Higgs not in data frame\n",
      "Skipping Higgs not in data frame\n",
      "Skipping Higgs not in data frame\n",
      "Skipping Higgs not in data frame\n",
      "Skipping Higgs not in data frame\n",
      "Skipping Higgs not in data frame\n",
      "Skipping Higgs not in data frame\n",
      "Skipping Higgs not in data frame\n",
      "Skipping Higgs not in data frame\n",
      "Skipping Higgs not in data frame\n",
      "Skipping Higgs not in data frame\n",
      "Skipping Higgs not in data frame\n",
      "Skipping Higgs not in data frame\n",
      "Skipping Higgs not in data frame\n",
      "Skipping Higgs not in data frame\n",
      "Skipping Higgs not in data frame\n",
      "Skipping Higgs not in data frame\n",
      "Skipping Higgs not in data frame\n",
      "Skipping Higgs not in data frame\n",
      "Skipping Higgs not in data frame\n",
      "Skipping Higgs not in data frame\n",
      "Skipping Higgs not in data frame\n",
      "Skipping Higgs not in data frame\n",
      "Skipping Higgs not in data frame\n",
      "Skipping Higgs not in data frame\n",
      "Skipping Higgs not in data frame\n",
      "Skipping Higgs not in data frame\n",
      "Skipping Higgs not in data frame\n",
      "Skipping Higgs not in data frame\n",
      "Skipping Higgs not in data frame\n",
      "Skipping Higgs not in data frame\n",
      "Skipping Higgs not in data frame\n",
      "Skipping Higgs not in data frame\n",
      "Skipping Higgs not in data frame\n",
      "Skipping Higgs not in data frame\n",
      "Skipping Higgs not in data frame\n",
      "Skipping Higgs not in data frame\n",
      "Skipping Higgs not in data frame\n",
      "Skipping Higgs not in data frame\n",
      "Skipping Higgs not in data frame\n",
      "Skipping Higgs not in data frame\n",
      "Skipping Higgs not in data frame\n",
      "Skipping Higgs not in data frame\n",
      "Skipping Higgs not in data frame\n",
      "Skipping Higgs not in data frame\n",
      "Skipping Higgs not in data frame\n",
      "Skipping Higgs not in data frame\n",
      "Skipping Higgs not in data frame\n",
      "Skipping Higgs not in data frame\n",
      "Skipping Higgs not in data frame\n",
      "Skipping Higgs not in data frame\n"
     ]
    }
   ],
   "source": [
    "import copy\n",
    "up = []\n",
    "down = []\n",
    "for process in scales:\n",
    "    if process == \"Data\":\n",
    "        continue\n",
    "    if \"WW\" in process:\n",
    "        continue\n",
    "    if process not in df.process_decay.unique():\n",
    "        continue\n",
    "    alt_scales = copy.copy(scales)\n",
    "    alt_scales[process] = scales[process] * (1. + unc_mc_process[process])\n",
    "    a = table_jet_multi(df, scales=alt_scales)\n",
    "    temp_, bkg = measure_jet_multi(a)\n",
    "    fake_measurement = []\n",
    "    for i in range(3):\n",
    "        fake_measurement.append( sf[i] * float(fake_data[i] - bkg[i]) / ((sf*fake_data).sum() - (sf*bkg).sum())  )\n",
    "    up.append(np.array(fake_measurement))\n",
    "    \n",
    "    alt_scales = copy.copy(scales)\n",
    "    alt_scales[process] = scales[process] * (1. - unc_mc_process[process])\n",
    "    a = table_jet_multi(df, scales=alt_scales)\n",
    "    temp_, bkg = measure_jet_multi(a)\n",
    "    fake_measurement = []\n",
    "    for i in range(3):\n",
    "        fake_measurement.append( sf[i] * float(fake_data[i] - bkg[i]) / ((sf*fake_data).sum() - (sf*bkg).sum())  )\n",
    "    down.append(np.array(fake_measurement))\n",
    "up = np.array(up)\n",
    "down = np.array(down)"
   ]
  },
  {
   "cell_type": "code",
   "execution_count": 76,
   "metadata": {},
   "outputs": [
    {
     "name": "stdout",
     "output_type": "stream",
     "text": [
      "[ 0.00774534  0.00510496  0.00299589]\n"
     ]
    }
   ],
   "source": [
    "norm_unc =  ((np.abs( up - down ) / 2.)**2.).sum(0)**.5\n",
    "print norm_unc"
   ]
  },
  {
   "cell_type": "markdown",
   "metadata": {},
   "source": [
    "### Stat"
   ]
  },
  {
   "cell_type": "code",
   "execution_count": null,
   "metadata": {
    "collapsed": true
   },
   "outputs": [],
   "source": []
  },
  {
   "cell_type": "code",
   "execution_count": null,
   "metadata": {
    "collapsed": true
   },
   "outputs": [],
   "source": []
  },
  {
   "cell_type": "code",
   "execution_count": null,
   "metadata": {
    "collapsed": true
   },
   "outputs": [],
   "source": []
  }
 ],
 "metadata": {
  "kernelspec": {
   "display_name": "Python 2",
   "language": "python",
   "name": "python2"
  },
  "language_info": {
   "codemirror_mode": {
    "name": "ipython",
    "version": 2
   },
   "file_extension": ".py",
   "mimetype": "text/x-python",
   "name": "python",
   "nbconvert_exporter": "python",
   "pygments_lexer": "ipython2",
   "version": "2.7.13"
  },
  "toc": {
   "colors": {
    "hover_highlight": "#7c7e8b",
    "navigate_num": "#d3d3d3",
    "navigate_text": "#e4e4e4",
    "running_highlight": "#FF0000",
    "selected_highlight": "#7d878b",
    "sidebar_border": "#282121",
    "wrapper_background": "#1a2028"
   },
   "moveMenuLeft": true,
   "nav_menu": {
    "height": "125px",
    "width": "254px"
   },
   "navigate_menu": true,
   "number_sections": true,
   "sideBar": true,
   "threshold": 4,
   "toc_cell": false,
   "toc_section_display": "block",
   "toc_window_display": true,
   "widenNotebook": false
  }
 },
 "nbformat": 4,
 "nbformat_minor": 2
}
