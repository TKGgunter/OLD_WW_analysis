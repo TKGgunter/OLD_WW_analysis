{
 "cells": [
  {
   "cell_type": "markdown",
   "metadata": {},
   "source": [
    "# Second fit\n",
    "\n",
    "We wish to use a fit to contrain our uncertainties.\n",
    "We can construct our chi squared as the sum of two functions; we construct a yield chi squared and a chi squared to constrain the scale factors.\n",
    "\n",
    "We can write the chisquared as:\n",
    "\n",
    "$$\\mathrm{y}_{\\chi} = \\big(N_{\\mathrm{obs_{sig}}} - \\sum_{i}^{process} \\mathrm{SF}_{i} N_{i} \\big)^2\n",
    "                      + \\big(N_{\\mathrm{obs_{control}}} - \\sum_{i}^{process} \\mathrm{SF}_{i} N_{i} \\big)^2$$\n",
    "\n",
    "$$\\mathrm{c}_{\\chi} = \\bigg(\\frac{\\mathrm{aTT} - \\mathrm{eTT}} {sig_{att}} \\bigg)^2 + \\bigg(\\frac{\\mathrm{aDY} - \\mathrm{eDY}} {sig_{ady}} \\bigg)^2$$\n",
    "\n",
    "$$\\chi^2 = \\mathrm{y}_{\\chi} + \\mathrm{c}_{\\chi}$$\n",
    "\n",
    "## Clean Up\n",
    "- <s>reformat chi-squares so that we can easily include higher order terms.</s>\n",
    "- <s>New plotting function </s>\n",
    "- make sure that the yields are calculated correctly.\n"
   ]
  },
  {
   "cell_type": "code",
   "execution_count": 1,
   "metadata": {},
   "outputs": [
    {
     "name": "stdout",
     "output_type": "stream",
     "text": [
      "Welcome to JupyROOT 6.10/00\n",
      "home /home/gunter/WW_analysis/production/Analysis_13TeV\n",
      "Loading binning options...\n",
      "Loading plotting options\n",
      "unc_mc_process and scales are parameter dictionaries\n"
     ]
    }
   ],
   "source": [
    "#Set up\n",
    "import os, sys\n",
    "sys.path.append(os.getcwd() + \"/../\")\n",
    "from prep_ana_II import *\n",
    "sys.path.append(os.getcwd() + \"/../tools/\")\n",
    "sys.path.append(os.getcwd() + \"/../tools/bjetsys/\")\n",
    "from lepton_eff import muonEff, electronEff\n",
    "from pile_up import pileUpFunction, Min_Bias\n",
    "from cross_section_calc import calc_cross_stuff, cross_calc, stat_unc_calc, normalization_unc_calc\n",
    "import pile_up\n",
    "import BTagCalibrationStandalone as BT\n",
    "\n",
    "\n",
    "import matplotlib\n",
    "import warnings\n"
   ]
  },
  {
   "cell_type": "code",
   "execution_count": 2,
   "metadata": {
    "collapsed": true
   },
   "outputs": [],
   "source": [
    "%matplotlib inline"
   ]
  },
  {
   "cell_type": "code",
   "execution_count": 3,
   "metadata": {
    "collapsed": true
   },
   "outputs": [],
   "source": [
    "scales, df    = load_testset()\n",
    "#df = load_presel_w_fDY_fTT_MC(unc=\"jet\")\n",
    "df = pre_cuts(df[(df.lep2_pt > 25) & (df.mll > 30)], diff_charge=False)\n",
    "df_da = pre_cuts(load_presel_w_fDY_fTT_DATA(), diff_charge=False)\n",
    "df_da = df_da[(df_da.lep2_pt > 25) & (df_da.mll > 30)]\n",
    "\n",
    "df = df[df.metFilter_flag == 0]\n",
    "df_da = df_da[df_da.metFilter_flag == 0]\n",
    "\n",
    "df_da[\"weight\"] = np.array([1.0] * df_da.shape[0]) \n",
    "warnings.filterwarnings('ignore')"
   ]
  },
  {
   "cell_type": "code",
   "execution_count": 4,
   "metadata": {
    "collapsed": true
   },
   "outputs": [],
   "source": [
    "from scipy.optimize import curve_fit, minimize\n",
    "\n",
    "def c_dy(df, charge_state=\"\"):\n",
    "    dy_cuts = (df.pred_fDY_WW < .6) & (df.pred_fTT_WW > .6)\n",
    "    if charge_state == \"diff\":\n",
    "        dy_cuts = dy_cuts & (df.lep1_Charge != df.lep2_Charge)\n",
    "    if charge_state == \"same\":\n",
    "        dy_cuts = dy_cuts & (df.lep1_Charge == df.lep2_Charge)\n",
    "    \n",
    "    return df[dy_cuts]\n",
    "\n",
    "def c_tt(df, charge_state=\"\"):\n",
    "    tt_cuts = (df.pred_fDY_WW > .6) & (df.pred_fTT_WW < .6)\n",
    "    if charge_state == \"diff\":\n",
    "        tt_cuts = tt_cuts & (df.lep1_Charge != df.lep2_Charge)\n",
    "    if charge_state == \"same\":\n",
    "        tt_cuts = tt_cuts & (df.lep1_Charge == df.lep2_Charge)\n",
    "    \n",
    "    return df[tt_cuts]\n",
    "\n",
    "def c_ww(df, charge_state=\"\"):\n",
    "    ww_cuts = (df.pred_fDY_WW > .9) & (df.pred_fTT_WW > .6)\n",
    "    if charge_state == \"diff\":\n",
    "        ww_cuts = ww_cuts & (df.lep1_Charge != df.lep2_Charge)\n",
    "    if charge_state == \"same\":\n",
    "        ww_cuts = ww_cuts & (df.lep1_Charge == df.lep2_Charge)\n",
    "    \n",
    "    return df[ww_cuts]\n",
    "    "
   ]
  },
  {
   "cell_type": "code",
   "execution_count": 5,
   "metadata": {
    "collapsed": true
   },
   "outputs": [],
   "source": [
    "data_control_dic = {}\n",
    "mc_control_dic   = {}\n",
    "\n",
    "def pack_data_dic(data_dic, df_da):\n",
    "    charge = \"diff\"\n",
    "    data_dic[\"dy\"] = float(c_dy(df_da, charge).shape[0])\n",
    "    data_dic[\"tt\"] = float(c_tt(df_da, charge).shape[0])\n",
    "    data_dic[\"sig\"]= float(c_ww(df_da, charge).shape[0])\n",
    "    \n",
    "def pack_mc_dic(mc_dic, df, df_da):\n",
    "    mc_c_dy = {'W1JetsToLNu':0}\n",
    "    mc_c_tt = {'W1JetsToLNu':0}\n",
    "    mc_s    = {'W1JetsToLNu':0}\n",
    "    \n",
    "    for p in df.process_decay.unique():\n",
    "        h = 1\n",
    "        if 'DYJetsToLL_M-50' in p:\n",
    "            h *= 1\n",
    "        if 'ttbar_leptonic' in p:\n",
    "            h *= 1\n",
    "        if p in df[df.process == \"WJ\"].process_decay.unique(): continue\n",
    "        mc_c_dy[p] = c_dy(df[(df.process_decay == p)], \"diff\").weight.sum() * h * scales[p]\n",
    "        mc_c_tt[p] = c_tt(df[(df.process_decay == p)], \"diff\").weight.sum() * h * scales[p] \n",
    "        mc_s[p]    = c_ww(df[(df.process_decay == p)], \"diff\").weight.sum() * h * scales[p]\n",
    "\n",
    "\n",
    "        mc_c_dy['W1JetsToLNu'] += c_dy(df[(df.process_decay == p)], \"same\").weight.sum() * h * scales[p]\n",
    "        mc_c_tt['W1JetsToLNu'] += c_tt(df[(df.process_decay == p)], \"same\").weight.sum() * h * scales[p] \n",
    "        mc_s['W1JetsToLNu']    += c_ww(df[(df.process_decay == p)], \"same\").weight.sum() * h * scales[p]\n",
    "\n",
    "\n",
    "    mc_c_dy['W1JetsToLNu'] -= c_dy(df_da, \"same\").shape[0]\n",
    "    mc_c_tt['W1JetsToLNu'] -= c_tt(df_da, \"same\").shape[0] \n",
    "    mc_s['W1JetsToLNu']    -= c_ww(df_da, \"same\").shape[0]\n",
    "\n",
    "    mc_dic[\"dy\"] = mc_c_dy\n",
    "    mc_dic[\"tt\"] = mc_c_tt\n",
    "    mc_dic[\"sig\"]= mc_s \n",
    "    "
   ]
  },
  {
   "cell_type": "code",
   "execution_count": 6,
   "metadata": {
    "collapsed": true
   },
   "outputs": [],
   "source": [
    "pack_data_dic(data_control_dic, df_da)\n",
    "pack_mc_dic(mc_control_dic, df, df_da)"
   ]
  },
  {
   "cell_type": "code",
   "execution_count": 7,
   "metadata": {
    "collapsed": true
   },
   "outputs": [],
   "source": [
    "#data_control_dic \n",
    "#mc_control_dic\n",
    "def func_c_dy(mc_dic, aWW, aTT, aDY):\n",
    "    every_thing_else = 0\n",
    "    mc_c_dy = mc_dic[\"dy\"]\n",
    "    \n",
    "    for i in mc_c_dy:\n",
    "        if i == \"WW\" or i == 'ttbar_leptonic' or i == 'DYJetsToLL_M-50':\n",
    "            continue\n",
    "        every_thing_else += mc_c_dy[i]\n",
    "    return aWW * mc_c_dy[\"WW\"] + aTT * mc_c_dy['ttbar_leptonic'] +  aDY * mc_c_dy['DYJetsToLL_M-50'] + every_thing_else \n",
    "###########\n",
    "def func_c_tt(mc_dic, aWW, aTT, aDY):\n",
    "    every_thing_else = 0\n",
    "    mc_c_tt = mc_dic[\"tt\"]\n",
    "    \n",
    "    for i in mc_c_tt:\n",
    "        if i == \"WW\" or i == 'ttbar_leptonic' or i == 'DYJetsToLL_M-50':\n",
    "            continue\n",
    "        every_thing_else += mc_c_tt[i]\n",
    "    return aWW * mc_c_tt[\"WW\"] + aTT * mc_c_tt['ttbar_leptonic'] +  aDY * mc_c_tt['DYJetsToLL_M-50'] + every_thing_else \n",
    "##########\n",
    "def func_s(mc_dic, aWW, aTT, aDY):\n",
    "    every_thing_else = 0\n",
    "    mc_s = mc_dic[\"sig\"]\n",
    "    \n",
    "    for i in mc_s:\n",
    "        if i == \"WW\" or i == 'ttbar_leptonic' or i == 'DYJetsToLL_M-50':\n",
    "            continue\n",
    "        every_thing_else += mc_s[i]\n",
    "    return aWW * mc_s[\"WW\"] + aTT * mc_s['ttbar_leptonic'] +  aDY * mc_s['DYJetsToLL_M-50'] + every_thing_else\n",
    "\n"
   ]
  },
  {
   "cell_type": "code",
   "execution_count": 8,
   "metadata": {
    "scrolled": false
   },
   "outputs": [
    {
     "name": "stdout",
     "output_type": "stream",
     "text": [
      "[ 1.  1.  1.] 3.24840233619 53.6891407828 1280.2062896 0.0\n",
      "[ 1.  1.  1.] 3.24840233619 53.6891407828 1280.2062896 0.0\n",
      "[ 1.00000001  1.          1.        ] 3.24840260753 53.6891349317 1280.20620958 0.0\n",
      "[ 1.          1.00000001  1.        ] 3.24840240098 53.689095801 1280.20626731 8.881784197e-14\n",
      "[ 1.          1.          1.00000001] 3.2484582869 53.6891335016 1280.20627721 2.46716227694e-13\n",
      "[ 5745.53549194  4510.89595032 -2433.74711609] 6.25837787999e+12 1.00344129633e+12 247028071541.0 14722324059.0\n",
      "[ 575.45354919  451.98959503 -242.47471161] 62582967209.5 10033091827.6 2467080752.65 147223240.59\n",
      "[ 58.44535492  46.0989595  -23.34747116] 625748515.95 100198852.545 24351951.9141 1472232.4059\n",
      "[ 6.74453549  5.50989595 -1.43474712] 6249372.43937 988829.789383 212774.621707 14722.324059\n",
      "[ 1.57445355  1.4509896   0.75652529] 61685.3467073 8620.26131143 193.920277649 147.22324059\n",
      "[ 1.05744535  1.04509896  0.97565253] 538.910024911 7.23597931198 949.220412867 1.4722324059\n",
      "[ 1.02262607  1.01776318  0.99041023] 64.8194388677 11.436403707 1143.94216982 0.228394071113\n",
      "[ 1.02262607  1.01776318  0.99041023] 64.8194388677 11.436403707 1143.94216982 0.228394071113\n",
      "[ 1.02262609  1.01776318  0.99041023] 64.8194376556 11.4364010065 1143.94209418 0.228394071113\n",
      "[ 1.02262607  1.0177632   0.99041023] 64.8194385783 11.4363829465 1143.94214875 0.228394282867\n",
      "[ 1.02262607  1.01776318  0.99041025] 64.8191889362 11.4364003465 1143.94215811 0.228393753561\n",
      "[ 39597.84178059  29708.3079928    3286.55426398] 1.33826946119e+13 5.31424840244e+13 1.31803640796e+13 365003955740.0\n",
      "[ 3960.70454152  2971.74678614   329.54679561] 133821644694.0 531420402756.0 131781539383.0 3650071250.18\n",
      "[ 396.99081762  298.09066548   33.84604877] 1337686362.19 5313760288.87 1315606271.8 36503881.9831\n",
      "[ 40.61944523  30.72505341   4.27597409] 13323912.9015 53093239.2103 12936169.7677 365355.97146\n",
      "[ 4.98230799  3.9884922   1.31896662] 128001.811093 526506.214095 108391.655119 3685.47837666\n",
      "[ 1.41859426  1.31483608  1.02326587] 814.040438775 4832.63417587 6.16476867787 40.2501490896\n",
      "[ 1.11001865  1.08332897  0.99766167] 0.000525101772184 161.479504962 666.128064167 2.7835620828\n",
      "[ 1.11001865  1.08332897  0.99766167] 0.000525101772184 161.479504962 666.128064167 2.7835620828\n",
      "[ 1.11001866  1.08332897  0.99766167] 0.000525105222068 161.47951511 666.128006445 2.7835620828\n",
      "[ 1.11001865  1.08332898  0.99766167] 0.000525102595919 161.479582973 666.128048091 2.78356307616\n",
      "[ 1.11001865  1.08332897  0.99766169] 0.000525813374877 161.47951759 666.12805523 2.78356200537\n",
      "[ 6342.7968115  -1859.29674287   -27.92989951] 115759.700601 45901460231.8 190669408132.0 1385211520.92\n",
      "[ 635.27869793 -184.95467822   -1.89509445] 1156.1940589 458524678.527 1904666042.1 13840969.7977\n",
      "[ 64.52688657 -17.52047175   0.70838606] 11.4221137435 4536398.28442 18844450.0187 137297.636975\n",
      "[ 7.45170544 -0.7770511   0.96873411] 0.100706318571 40623.0109986 168816.980065 1264.25042343\n",
      "[ 1.74418733  0.89729096  0.99476891] 0.000123446978262 76.0111643441 318.937893646 4.2500634178\n",
      "[ 1.74418733  0.89729096  0.99476891] 0.000123446978262 76.0111643441 318.937893646 4.2500634178\n",
      "[ 1.74418734  0.89729096  0.99476891] 0.000123445305551 76.0111573821 318.937933587 4.2500634178\n",
      "[ 1.74418733  0.89729098  0.99476891] 0.000123446578864 76.0111108222 318.93790477 4.25006219341\n",
      "[ 1.74418733  0.89729096  0.99476893] 0.000123102306618 76.0111556805 318.93789983 4.25006324458\n",
      "[ 1.484554    0.9734563   0.99595322] 7.90733506113e-06 0.00286041175932 0.000371973702637 0.300023274102\n",
      "[ 1.484554    0.9734563   0.99595322] 7.90733506113e-06 0.00286041175932 0.000371973702637 0.300023274102\n",
      "[ 1.48455402  0.9734563   0.99595322] 7.90775841562e-06 0.00286045446763 0.000371930570138 0.300023274102\n",
      "[ 1.484554    0.97345631  0.99595322] 7.90743614629e-06 0.00286074009642 0.000371961689972 0.300022957676\n",
      "[ 1.484554    0.9734563   0.99595324] 7.99486987568e-06 0.00286046490598 0.000371967024604 0.300023140098\n"
     ]
    }
   ],
   "source": [
    "def min_func(x):\n",
    "    data_c_dy = data_control_dic[\"dy\"]\n",
    "    data_c_tt = data_control_dic[\"tt\"]\n",
    "    data_s    = data_control_dic[\"sig\"]\n",
    "    \n",
    "    fit_c_dy = (func_c_dy(mc_control_dic, x[0], x[1], x[2]) - data_c_dy) / data_c_dy**0.5\n",
    "    fit_c_tt = (func_c_tt(mc_control_dic, x[0], x[1], x[2]) - data_c_tt) / data_c_tt**0.5\n",
    "    fit_s =    (func_s(mc_control_dic, x[0], x[1], x[2]) - data_s)    / data_s**0.5\n",
    "    \n",
    "    constraint_fit = (x[1] - 1)**2/0.05**2 + (x[2] - 1)**2/0.03**2\n",
    "\n",
    "    print x, fit_c_dy**2 , fit_c_tt**2 , fit_s**2, constraint_fit\n",
    "    return fit_c_dy**2 + fit_c_tt**2 + fit_s**2 + constraint_fit\n",
    "    \n",
    "temp1 = minimize(min_func, [1.,1., 1.], method='SLSQP')"
   ]
  },
  {
   "cell_type": "code",
   "execution_count": 9,
   "metadata": {},
   "outputs": [
    {
     "name": "stdout",
     "output_type": "stream",
     "text": [
      "     fun: 0.30326356689885586\n",
      "     jac: array([ -5.59128821e-05,   8.94069672e-07,  -3.25217843e-06])\n",
      " message: 'Optimization terminated successfully.'\n",
      "    nfev: 41\n",
      "     nit: 5\n",
      "    njev: 5\n",
      "  status: 0\n",
      " success: True\n",
      "       x: array([ 1.484554  ,  0.9734563 ,  0.99595322])\n",
      "24263.9955557\n",
      "1113795.96768\n",
      "104588.294974\n"
     ]
    }
   ],
   "source": [
    "print temp1\n",
    "print func_s(mc_control_dic,   temp1.x[0], temp1.x[1], temp1.x[2])\n",
    "print func_c_dy(mc_control_dic,temp1.x[0], temp1.x[1], temp1.x[2])\n",
    "print func_c_tt(mc_control_dic,temp1.x[0], temp1.x[1], temp1.x[2])"
   ]
  },
  {
   "cell_type": "markdown",
   "metadata": {},
   "source": [
    "# Make plots"
   ]
  },
  {
   "cell_type": "code",
   "execution_count": 5,
   "metadata": {},
   "outputs": [
    {
     "data": {
      "image/png": "[encoded data removed]",
      "text/plain": [
       "<matplotlib.figure.Figure at 0x7f447c18d110>"
      ]
     },
     "metadata": {},
     "output_type": "display_data"
    }
   ],
   "source": [
    "a = full_bin_plot(df, df_da, \"dPhiLLMET\",scales=scales, x_range=None, y_range=None)"
   ]
  },
  {
   "cell_type": "code",
   "execution_count": 11,
   "metadata": {
    "scrolled": true
   },
   "outputs": [
    {
     "data": {
      "text/plain": [
       "{'DYJetsToLL_M-10to50': [array([-0.70903265,  0.        ,  0.        ,  0.        ,  0.        ,\n",
       "          0.        ,  0.        ,  0.        ,  0.        ,  0.        ], dtype=float32),\n",
       "  array([-0.5,  0.5,  1.5,  2.5,  3.5,  4.5,  5.5,  6.5,  7.5,  8.5,  9.5]),\n",
       "  array([ 0.,  1.,  2.,  3.,  4.,  5.,  6.,  7.,  8.,  9.]),\n",
       "  array([ 499.74850464,    0.        ,    0.        ,    0.        ,\n",
       "            0.        ,    0.        ,    0.        ,    0.        ,\n",
       "            0.        ,    0.        ], dtype=float32)],\n",
       " 'DYJetsToLL_M-50': [array([ 879.88818359,    0.        ,    0.        ,    0.        ,\n",
       "            0.        ,    0.        ,    0.        ,    0.        ,\n",
       "            0.        ,    0.        ], dtype=float32),\n",
       "  array([-0.5,  0.5,  1.5,  2.5,  3.5,  4.5,  5.5,  6.5,  7.5,  8.5,  9.5]),\n",
       "  array([ 0.,  1.,  2.,  3.,  4.,  5.,  6.,  7.,  8.,  9.]),\n",
       "  array([ 4108.87597656,     0.        ,     0.        ,     0.        ,\n",
       "             0.        ,     0.        ,     0.        ,     0.        ,\n",
       "             0.        ,     0.        ], dtype=float32)],\n",
       " 'GluGluHToWWTo2L2Nu': [array([ 79.58130646,   0.        ,   0.        ,   0.        ,\n",
       "           0.        ,   0.        ,   0.        ,   0.        ,\n",
       "           0.        ,   0.        ], dtype=float32),\n",
       "  array([-0.5,  0.5,  1.5,  2.5,  3.5,  4.5,  5.5,  6.5,  7.5,  8.5,  9.5]),\n",
       "  array([ 0.,  1.,  2.,  3.,  4.,  5.,  6.,  7.,  8.,  9.]),\n",
       "  array([ 29.16496468,   0.        ,   0.        ,   0.        ,\n",
       "           0.        ,   0.        ,   0.        ,   0.        ,\n",
       "           0.        ,   0.        ], dtype=float32)],\n",
       " 'GluGluWWTo2L2Nu': [array([ 453.11193848,    0.        ,    0.        ,    0.        ,\n",
       "            0.        ,    0.        ,    0.        ,    0.        ,\n",
       "            0.        ,    0.        ], dtype=float32),\n",
       "  array([-0.5,  0.5,  1.5,  2.5,  3.5,  4.5,  5.5,  6.5,  7.5,  8.5,  9.5]),\n",
       "  array([ 0.,  1.,  2.,  3.,  4.,  5.,  6.,  7.,  8.,  9.]),\n",
       "  array([ 47.56612778,   0.        ,   0.        ,   0.        ,\n",
       "           0.        ,   0.        ,   0.        ,   0.        ,\n",
       "           0.        ,   0.        ], dtype=float32)],\n",
       " 'T_s-channel': [array([ 2.22641397,  0.        ,  0.        ,  0.        ,  0.        ,\n",
       "          0.        ,  0.        ,  0.        ,  0.        ,  0.        ], dtype=float32),\n",
       "  array([-0.5,  0.5,  1.5,  2.5,  3.5,  4.5,  5.5,  6.5,  7.5,  8.5,  9.5]),\n",
       "  array([ 0.,  1.,  2.,  3.,  4.,  5.,  6.,  7.,  8.,  9.]),\n",
       "  array([ 0.38051313,  0.        ,  0.        ,  0.        ,  0.        ,\n",
       "          0.        ,  0.        ,  0.        ,  0.        ,  0.        ], dtype=float32)],\n",
       " 'T_t-channel': [array([ 23.80618095,   0.        ,   0.        ,   0.        ,\n",
       "           0.        ,   0.        ,   0.        ,   0.        ,\n",
       "           0.        ,   0.        ], dtype=float32),\n",
       "  array([-0.5,  0.5,  1.5,  2.5,  3.5,  4.5,  5.5,  6.5,  7.5,  8.5,  9.5]),\n",
       "  array([ 0.,  1.,  2.,  3.,  4.,  5.,  6.,  7.,  8.,  9.]),\n",
       "  array([ 9.63106728,  0.        ,  0.        ,  0.        ,  0.        ,\n",
       "          0.        ,  0.        ,  0.        ,  0.        ,  0.        ], dtype=float32)],\n",
       " 'T_tW-channel': [array([ 55.25374222,   0.        ,   0.        ,   0.        ,\n",
       "           0.        ,   0.        ,   0.        ,   0.        ,\n",
       "           0.        ,   0.        ], dtype=float32),\n",
       "  array([-0.5,  0.5,  1.5,  2.5,  3.5,  4.5,  5.5,  6.5,  7.5,  8.5,  9.5]),\n",
       "  array([ 0.,  1.,  2.,  3.,  4.,  5.,  6.,  7.,  8.,  9.]),\n",
       "  array([ 27.24829102,   0.        ,   0.        ,   0.        ,\n",
       "           0.        ,   0.        ,   0.        ,   0.        ,\n",
       "           0.        ,   0.        ], dtype=float32)],\n",
       " 'Tbar_t-channel': [array([ 13.20624542,   0.        ,   0.        ,   0.        ,\n",
       "           0.        ,   0.        ,   0.        ,   0.        ,\n",
       "           0.        ,   0.        ], dtype=float32),\n",
       "  array([-0.5,  0.5,  1.5,  2.5,  3.5,  4.5,  5.5,  6.5,  7.5,  8.5,  9.5]),\n",
       "  array([ 0.,  1.,  2.,  3.,  4.,  5.,  6.,  7.,  8.,  9.]),\n",
       "  array([ 4.27667141,  0.        ,  0.        ,  0.        ,  0.        ,\n",
       "          0.        ,  0.        ,  0.        ,  0.        ,  0.        ], dtype=float32)],\n",
       " 'Tbar_tW-channel': [array([ 59.26997375,   0.        ,   0.        ,   0.        ,\n",
       "           0.        ,   0.        ,   0.        ,   0.        ,\n",
       "           0.        ,   0.        ], dtype=float32),\n",
       "  array([-0.5,  0.5,  1.5,  2.5,  3.5,  4.5,  5.5,  6.5,  7.5,  8.5,  9.5]),\n",
       "  array([ 0.,  1.,  2.,  3.,  4.,  5.,  6.,  7.,  8.,  9.]),\n",
       "  array([ 30.07800865,   0.        ,   0.        ,   0.        ,\n",
       "           0.        ,   0.        ,   0.        ,   0.        ,\n",
       "           0.        ,   0.        ], dtype=float32)],\n",
       " 'W1JetsToLNu': [array([ 0.,  0.,  0.,  0.,  0.,  0.,  0.,  0.,  0.,  0.], dtype=float32),\n",
       "  array([-0.5,  0.5,  1.5,  2.5,  3.5,  4.5,  5.5,  6.5,  7.5,  8.5,  9.5]),\n",
       "  array([ 0.,  1.,  2.,  3.,  4.,  5.,  6.,  7.,  8.,  9.]),\n",
       "  array([ 0.,  0.,  0.,  0.,  0.,  0.,  0.,  0.,  0.,  0.], dtype=float32)],\n",
       " 'W2JetsToLNu': [array([ 0.,  0.,  0.,  0.,  0.,  0.,  0.,  0.,  0.,  0.], dtype=float32),\n",
       "  array([-0.5,  0.5,  1.5,  2.5,  3.5,  4.5,  5.5,  6.5,  7.5,  8.5,  9.5]),\n",
       "  array([ 0.,  1.,  2.,  3.,  4.,  5.,  6.,  7.,  8.,  9.]),\n",
       "  array([ 0.,  0.,  0.,  0.,  0.,  0.,  0.,  0.,  0.,  0.], dtype=float32)],\n",
       " 'W3JetsToLNu': [array([ 0.,  0.,  0.,  0.,  0.,  0.,  0.,  0.,  0.,  0.], dtype=float32),\n",
       "  array([-0.5,  0.5,  1.5,  2.5,  3.5,  4.5,  5.5,  6.5,  7.5,  8.5,  9.5]),\n",
       "  array([ 0.,  1.,  2.,  3.,  4.,  5.,  6.,  7.,  8.,  9.]),\n",
       "  array([ 0.,  0.,  0.,  0.,  0.,  0.,  0.,  0.,  0.,  0.], dtype=float32)],\n",
       " 'W4JetsToLNu': [array([ 505.07858956,    0.        ,    0.        ,    0.        ,\n",
       "            0.        ,    0.        ,    0.        ,    0.        ,\n",
       "            0.        ,    0.        ]),\n",
       "  array([-0.5,  0.5,  1.5,  2.5,  3.5,  4.5,  5.5,  6.5,  7.5,  8.5,  9.5]),\n",
       "  array([ 0.,  1.,  2.,  3.,  4.,  5.,  6.,  7.,  8.,  9.]),\n",
       "  array([ 22.47395358,   0.        ,   0.        ,   0.        ,\n",
       "           0.        ,   0.        ,   0.        ,   0.        ,\n",
       "           0.        ,   0.        ])],\n",
       " 'WGToLNuG': [array([ 374.26098633,    0.        ,    0.        ,    0.        ,\n",
       "            0.        ,    0.        ,    0.        ,    0.        ,\n",
       "            0.        ,    0.        ], dtype=float32),\n",
       "  array([-0.5,  0.5,  1.5,  2.5,  3.5,  4.5,  5.5,  6.5,  7.5,  8.5,  9.5]),\n",
       "  array([ 0.,  1.,  2.,  3.,  4.,  5.,  6.,  7.,  8.,  9.]),\n",
       "  array([ 3581.58837891,     0.        ,     0.        ,     0.        ,\n",
       "             0.        ,     0.        ,     0.        ,     0.        ,\n",
       "             0.        ,     0.        ], dtype=float32)],\n",
       " 'WW': [array([ 6244.79101562,     0.        ,     0.        ,     0.        ,\n",
       "             0.        ,     0.        ,     0.        ,     0.        ,\n",
       "             0.        ,     0.        ], dtype=float32),\n",
       "  array([-0.5,  0.5,  1.5,  2.5,  3.5,  4.5,  5.5,  6.5,  7.5,  8.5,  9.5]),\n",
       "  array([ 0.,  1.,  2.,  3.,  4.,  5.,  6.,  7.,  8.,  9.]),\n",
       "  array([ 2459.82617188,     0.        ,     0.        ,     0.        ,\n",
       "             0.        ,     0.        ,     0.        ,     0.        ,\n",
       "             0.        ,     0.        ], dtype=float32)],\n",
       " 'WZJetsTo2L2Q': [array([ 0.06936596,  0.        ,  0.        ,  0.        ,  0.        ,\n",
       "          0.        ,  0.        ,  0.        ,  0.        ,  0.        ], dtype=float32),\n",
       "  array([-0.5,  0.5,  1.5,  2.5,  3.5,  4.5,  5.5,  6.5,  7.5,  8.5,  9.5]),\n",
       "  array([ 0.,  1.,  2.,  3.,  4.,  5.,  6.,  7.,  8.,  9.]),\n",
       "  array([ 0.00073565,  0.        ,  0.        ,  0.        ,  0.        ,\n",
       "          0.        ,  0.        ,  0.        ,  0.        ,  0.        ], dtype=float32)],\n",
       " 'WZJetsTo3LNu': [array([ 133.68113708,    0.        ,    0.        ,    0.        ,\n",
       "            0.        ,    0.        ,    0.        ,    0.        ,\n",
       "            0.        ,    0.        ], dtype=float32),\n",
       "  array([-0.5,  0.5,  1.5,  2.5,  3.5,  4.5,  5.5,  6.5,  7.5,  8.5,  9.5]),\n",
       "  array([ 0.,  1.,  2.,  3.,  4.,  5.,  6.,  7.,  8.,  9.]),\n",
       "  array([ 13.45202255,   0.        ,   0.        ,   0.        ,\n",
       "           0.        ,   0.        ,   0.        ,   0.        ,\n",
       "           0.        ,   0.        ], dtype=float32)],\n",
       " 'ZZJetsTo2L2Nu': [array([ 8.5759697,  0.       ,  0.       ,  0.       ,  0.       ,\n",
       "          0.       ,  0.       ,  0.       ,  0.       ,  0.       ], dtype=float32),\n",
       "  array([-0.5,  0.5,  1.5,  2.5,  3.5,  4.5,  5.5,  6.5,  7.5,  8.5,  9.5]),\n",
       "  array([ 0.,  1.,  2.,  3.,  4.,  5.,  6.,  7.,  8.,  9.]),\n",
       "  array([ 0.02096233,  0.        ,  0.        ,  0.        ,  0.        ,\n",
       "          0.        ,  0.        ,  0.        ,  0.        ,  0.        ], dtype=float32)],\n",
       " 'ZZJetsTo2L2Q': [array([ 0.21258621,  0.        ,  0.        ,  0.        ,  0.        ,\n",
       "          0.        ,  0.        ,  0.        ,  0.        ,  0.        ], dtype=float32),\n",
       "  array([-0.5,  0.5,  1.5,  2.5,  3.5,  4.5,  5.5,  6.5,  7.5,  8.5,  9.5]),\n",
       "  array([ 0.,  1.,  2.,  3.,  4.,  5.,  6.,  7.,  8.,  9.]),\n",
       "  array([ 0.00180494,  0.        ,  0.        ,  0.        ,  0.        ,\n",
       "          0.        ,  0.        ,  0.        ,  0.        ,  0.        ], dtype=float32)],\n",
       " 'plotting': {'title': 'numb BJet', 'y_label': 'Entries'},\n",
       " 'ttbar_leptonic': [array([ 489.06036377,    0.        ,    0.        ,    0.        ,\n",
       "            0.        ,    0.        ,    0.        ,    0.        ,\n",
       "            0.        ,    0.        ], dtype=float32),\n",
       "  array([-0.5,  0.5,  1.5,  2.5,  3.5,  4.5,  5.5,  6.5,  7.5,  8.5,  9.5]),\n",
       "  array([ 0.,  1.,  2.,  3.,  4.,  5.,  6.,  7.,  8.,  9.]),\n",
       "  array([ 26.18054581,   0.        ,   0.        ,   0.        ,\n",
       "           0.        ,   0.        ,   0.        ,   0.        ,\n",
       "           0.        ,   0.        ], dtype=float32)],\n",
       " 'ttbar_semileptonic': [array([ 5.15727329,  0.        ,  0.        ,  0.        ,  0.        ,\n",
       "          0.        ,  0.        ,  0.        ,  0.        ,  0.        ], dtype=float32),\n",
       "  array([-0.5,  0.5,  1.5,  2.5,  3.5,  4.5,  5.5,  6.5,  7.5,  8.5,  9.5]),\n",
       "  array([ 0.,  1.,  2.,  3.,  4.,  5.,  6.,  7.,  8.,  9.]),\n",
       "  array([ 0.83550048,  0.        ,  0.        ,  0.        ,  0.        ,\n",
       "          0.        ,  0.        ,  0.        ,  0.        ,  0.        ], dtype=float32)]}"
      ]
     },
     "execution_count": 11,
     "metadata": {},
     "output_type": "execute_result"
    }
   ],
   "source": [
    "df_bin"
   ]
  },
  {
   "cell_type": "code",
   "execution_count": 12,
   "metadata": {},
   "outputs": [
    {
     "data": {
      "text/plain": [
       "{'Da': [array([ 11005.,      0.,      0.,      0.,      0.,      0.,      0.,\n",
       "              0.,      0.,      0.]),\n",
       "  array([-0.5,  0.5,  1.5,  2.5,  3.5,  4.5,  5.5,  6.5,  7.5,  8.5,  9.5]),\n",
       "  array([ 0.,  1.,  2.,  3.,  4.,  5.,  6.,  7.,  8.,  9.]),\n",
       "  array([ 11005.,      0.,      0.,      0.,      0.,      0.,      0.,\n",
       "              0.,      0.,      0.])],\n",
       " 'plotting': {'title': 'numb BJet', 'y_label': 'Entries'}}"
      ]
     },
     "execution_count": 12,
     "metadata": {},
     "output_type": "execute_result"
    }
   ],
   "source": [
    "df_da_bin"
   ]
  },
  {
   "cell_type": "code",
   "execution_count": 13,
   "metadata": {},
   "outputs": [
    {
     "data": {
      "text/plain": [
       "1258"
      ]
     },
     "execution_count": 13,
     "metadata": {},
     "output_type": "execute_result"
    }
   ],
   "source": [
    "df_da.query(\"lep1_Charge == lep2_Charge & pred_fDY_WW > .9 & pred_fTT_WW > .9\").shape[0]"
   ]
  },
  {
   "cell_type": "code",
   "execution_count": 14,
   "metadata": {},
   "outputs": [
    {
     "name": "stdout",
     "output_type": "stream",
     "text": [
      "752.921368018\n"
     ]
    }
   ],
   "source": [
    "tot = 0\n",
    "for process in df.process_decay.unique():\n",
    "    tot += df[df.process_decay == process].query(\"lep1_Charge == lep2_Charge & pred_fDY_WW > .9 & pred_fTT_WW > .9 & process != 'WJ'\").weight.sum() *\\\n",
    "    scales[process]\n",
    "    \n",
    "print tot    "
   ]
  },
  {
   "cell_type": "code",
   "execution_count": 15,
   "metadata": {},
   "outputs": [
    {
     "data": {
      "text/plain": [
       "506"
      ]
     },
     "execution_count": 15,
     "metadata": {},
     "output_type": "execute_result"
    }
   ],
   "source": [
    "1258 - 752"
   ]
  },
  {
   "cell_type": "code",
   "execution_count": 16,
   "metadata": {
    "scrolled": false
   },
   "outputs": [
    {
     "data": {
      "text/plain": [
       "(<matplotlib.figure.Figure at 0x7f5f4ebfad90>,\n",
       " array([<matplotlib.axes._subplots.AxesSubplot object at 0x7f5f412e3790>,\n",
       "        <matplotlib.axes._subplots.AxesSubplot object at 0x7f5f412147d0>], dtype=object))"
      ]
     },
     "execution_count": 16,
     "metadata": {},
     "output_type": "execute_result"
    },
    {
     "data": {
      "image/png": "[encoded data removed]",
      "text/plain": [
       "<matplotlib.figure.Figure at 0x7f5f4ebfad90>"
      ]
     },
     "metadata": {},
     "output_type": "display_data"
    }
   ],
   "source": [
    "df_bin = bin_df(df[(df.pred_fDY_WW > .6) & (df.pred_fTT_WW < .6) & (df.lep1_Charge != df.lep2_Charge)], scales=scales,\\\n",
    "                binned_feature='numb_jets',)\n",
    "df_da_bin = bin_df(df_da[(df_da.pred_fDY_WW > .6) & (df_da.pred_fTT_WW < .6) & (df_da.lep1_Charge != df_da.lep2_Charge)],\\\n",
    "                   binned_feature='numb_jets')\n",
    "df_bin['ttbar_leptonic'][0] *= .65\n",
    "for i in df_bin:\n",
    "    if i in ['W1JetsToLNu', 'W2JetsToLNu', 'W3JetsToLNu', 'W4JetsToLNu']:\n",
    "        df_bin[i][0] *= 2.5\n",
    "full_plot(df_bin, df_da_bin, color=\"color_1\",  logy=False,)# y_range=(0, 24000))"
   ]
  },
  {
   "cell_type": "code",
   "execution_count": 17,
   "metadata": {},
   "outputs": [
    {
     "data": {
      "text/plain": [
       "(<matplotlib.figure.Figure at 0x7f5f41764710>,\n",
       " array([<matplotlib.axes._subplots.AxesSubplot object at 0x7f5f411e5410>,\n",
       "        <matplotlib.axes._subplots.AxesSubplot object at 0x7f5f41465bd0>], dtype=object))"
      ]
     },
     "execution_count": 17,
     "metadata": {},
     "output_type": "execute_result"
    },
    {
     "data": {
      "image/png": "[encoded data removed]",
      "text/plain": [
       "<matplotlib.figure.Figure at 0x7f5f41764710>"
      ]
     },
     "metadata": {},
     "output_type": "display_data"
    }
   ],
   "source": [
    "df_bin = bin_df(df[(df.pred_fDY_WW > .9) & (df.pred_fTT_WW > .6)], scales=scales, binned_feature='numb_BJet',)\n",
    "df_da_bin = bin_df(df_da[(df_da.pred_fDY_WW > .9) & (df_da.pred_fTT_WW > .6)], binned_feature='numb_BJet')\n",
    "\n",
    "full_plot(df_bin, df_da_bin, color=\"color_1\", logy=False, x_range=(-2.5, 2.5))"
   ]
  },
  {
   "cell_type": "code",
   "execution_count": 18,
   "metadata": {},
   "outputs": [
    {
     "name": "stdout",
     "output_type": "stream",
     "text": [
      "WW 32.9185641409\n",
      "GluGluWWTo2L2Nu 2.09576367473\n",
      "DYJetsToLL_M-50 1051.65633084\n",
      "DYJetsToLL_M-10to50 109.386615129\n",
      "ttbar_leptonic 3074.62174347\n",
      "ttbar_semileptonic 9733.96581719\n",
      "Tbar_tW-channel 143.10931471\n",
      "Tbar_t-channel 73.5760132405\n",
      "T_tW-channel 173.49183\n",
      "T_s-channel 26.2445740847\n",
      "T_t-channel 156.351107502\n",
      "WZJetsTo2L2Q 6.08773026875\n",
      "WZJetsTo3LNu 416.701405057\n",
      "ZZJetsTo2L2Q 3.98921150525\n",
      "ZZJetsTo2L2Nu 0.311890276447\n",
      "WGToLNuG 472.570298591\n",
      "GluGluHToWWTo2L2Nu 0.0\n",
      "15958 15477.0788535\n"
     ]
    },
    {
     "data": {
      "text/html": [
       "<div>\n",
       "<style>\n",
       "    .dataframe thead tr:only-child th {\n",
       "        text-align: right;\n",
       "    }\n",
       "\n",
       "    .dataframe thead th {\n",
       "        text-align: left;\n",
       "    }\n",
       "\n",
       "    .dataframe tbody tr th {\n",
       "        vertical-align: top;\n",
       "    }\n",
       "</style>\n",
       "<table border=\"1\" class=\"dataframe\">\n",
       "  <thead>\n",
       "    <tr style=\"text-align: right;\">\n",
       "      <th></th>\n",
       "      <th>Diff Flavor</th>\n",
       "      <th>Process</th>\n",
       "      <th>Same Flavor</th>\n",
       "    </tr>\n",
       "  </thead>\n",
       "  <tbody>\n",
       "    <tr>\n",
       "      <th>0</th>\n",
       "      <td>2362</td>\n",
       "      <td>WW</td>\n",
       "      <td>988</td>\n",
       "    </tr>\n",
       "    <tr>\n",
       "      <th>1</th>\n",
       "      <td>281</td>\n",
       "      <td>GluGluWWTo2L2Nu</td>\n",
       "      <td>87</td>\n",
       "    </tr>\n",
       "    <tr>\n",
       "      <th>2</th>\n",
       "      <td>2643</td>\n",
       "      <td>WW</td>\n",
       "      <td>1075</td>\n",
       "    </tr>\n",
       "    <tr>\n",
       "      <th>3</th>\n",
       "      <td>2038</td>\n",
       "      <td>DY</td>\n",
       "      <td>3475</td>\n",
       "    </tr>\n",
       "    <tr>\n",
       "      <th>4</th>\n",
       "      <td>44825</td>\n",
       "      <td>Top</td>\n",
       "      <td>14525</td>\n",
       "    </tr>\n",
       "    <tr>\n",
       "      <th>5</th>\n",
       "      <td>352</td>\n",
       "      <td>WZ</td>\n",
       "      <td>138</td>\n",
       "    </tr>\n",
       "    <tr>\n",
       "      <th>6</th>\n",
       "      <td>9</td>\n",
       "      <td>ZZ</td>\n",
       "      <td>23</td>\n",
       "    </tr>\n",
       "    <tr>\n",
       "      <th>7</th>\n",
       "      <td>297</td>\n",
       "      <td>WG(*)</td>\n",
       "      <td>68</td>\n",
       "    </tr>\n",
       "    <tr>\n",
       "      <th>8</th>\n",
       "      <td>65</td>\n",
       "      <td>Higgs</td>\n",
       "      <td>16</td>\n",
       "    </tr>\n",
       "    <tr>\n",
       "      <th>9</th>\n",
       "      <td>241</td>\n",
       "      <td>WJ</td>\n",
       "      <td>240</td>\n",
       "    </tr>\n",
       "    <tr>\n",
       "      <th>10</th>\n",
       "      <td>50470</td>\n",
       "      <td>Total</td>\n",
       "      <td>19561</td>\n",
       "    </tr>\n",
       "    <tr>\n",
       "      <th>11</th>\n",
       "      <td>44844</td>\n",
       "      <td>DATA</td>\n",
       "      <td>16676</td>\n",
       "    </tr>\n",
       "  </tbody>\n",
       "</table>\n",
       "</div>"
      ],
      "text/plain": [
       "    Diff Flavor          Process  Same Flavor\n",
       "0          2362               WW          988\n",
       "1           281  GluGluWWTo2L2Nu           87\n",
       "2          2643               WW         1075\n",
       "3          2038               DY         3475\n",
       "4         44825              Top        14525\n",
       "5           352               WZ          138\n",
       "6             9               ZZ           23\n",
       "7           297            WG(*)           68\n",
       "8            65            Higgs           16\n",
       "9           241               WJ          240\n",
       "10        50470            Total        19561\n",
       "11        44844             DATA        16676"
      ]
     },
     "execution_count": 18,
     "metadata": {},
     "output_type": "execute_result"
    }
   ],
   "source": [
    "process_yields(df[(df.pred_fDY_WW > .6) & (df.pred_fTT_WW < .6) & (df.numb_jets >= 2)], df_da[(df_da.pred_fDY_WW > .6) & (df_da.pred_fTT_WW < .6) &\\\n",
    "                                                                       (df_da.numb_jets >= 2)], scales=scales)"
   ]
  },
  {
   "cell_type": "code",
   "execution_count": 19,
   "metadata": {
    "scrolled": true
   },
   "outputs": [
    {
     "name": "stdout",
     "output_type": "stream",
     "text": [
      "WW 28.4060755024\n",
      "GluGluWWTo2L2Nu 0.0\n",
      "DYJetsToLL_M-50 3929.76729973\n",
      "DYJetsToLL_M-10to50 27.0591462824\n",
      "ttbar_leptonic 37.0568687665\n",
      "ttbar_semileptonic 32.1784299579\n",
      "Tbar_tW-channel 4.6329565206\n",
      "Tbar_t-channel 3.57614995782\n",
      "T_tW-channel 2.96633230809\n",
      "T_s-channel 2.12281847472\n",
      "T_t-channel 6.89035199281\n",
      "WZJetsTo2L2Q 0.754280496243\n",
      "WZJetsTo3LNu 179.720962977\n",
      "ZZJetsTo2L2Q 0.468031561546\n",
      "ZZJetsTo2L2Nu 0.330461572858\n",
      "WGToLNuG 66.1507907399\n",
      "GluGluHToWWTo2L2Nu 0.0\n",
      "6443 4322.08141421\n"
     ]
    },
    {
     "data": {
      "text/html": [
       "<div>\n",
       "<style>\n",
       "    .dataframe thead tr:only-child th {\n",
       "        text-align: right;\n",
       "    }\n",
       "\n",
       "    .dataframe thead th {\n",
       "        text-align: left;\n",
       "    }\n",
       "\n",
       "    .dataframe tbody tr th {\n",
       "        vertical-align: top;\n",
       "    }\n",
       "</style>\n",
       "<table border=\"1\" class=\"dataframe\">\n",
       "  <thead>\n",
       "    <tr style=\"text-align: right;\">\n",
       "      <th></th>\n",
       "      <th>Diff Flavor</th>\n",
       "      <th>Process</th>\n",
       "      <th>Same Flavor</th>\n",
       "    </tr>\n",
       "  </thead>\n",
       "  <tbody>\n",
       "    <tr>\n",
       "      <th>0</th>\n",
       "      <td>329</td>\n",
       "      <td>WW</td>\n",
       "      <td>5002</td>\n",
       "    </tr>\n",
       "    <tr>\n",
       "      <th>1</th>\n",
       "      <td>19</td>\n",
       "      <td>GluGluWWTo2L2Nu</td>\n",
       "      <td>220</td>\n",
       "    </tr>\n",
       "    <tr>\n",
       "      <th>2</th>\n",
       "      <td>348</td>\n",
       "      <td>WW</td>\n",
       "      <td>5222</td>\n",
       "    </tr>\n",
       "    <tr>\n",
       "      <th>3</th>\n",
       "      <td>14281</td>\n",
       "      <td>DY</td>\n",
       "      <td>1095812</td>\n",
       "    </tr>\n",
       "    <tr>\n",
       "      <th>4</th>\n",
       "      <td>87</td>\n",
       "      <td>Top</td>\n",
       "      <td>1433</td>\n",
       "    </tr>\n",
       "    <tr>\n",
       "      <th>5</th>\n",
       "      <td>13</td>\n",
       "      <td>WZ</td>\n",
       "      <td>341</td>\n",
       "    </tr>\n",
       "    <tr>\n",
       "      <th>6</th>\n",
       "      <td>2</td>\n",
       "      <td>ZZ</td>\n",
       "      <td>125</td>\n",
       "    </tr>\n",
       "    <tr>\n",
       "      <th>7</th>\n",
       "      <td>16</td>\n",
       "      <td>WG(*)</td>\n",
       "      <td>47</td>\n",
       "    </tr>\n",
       "    <tr>\n",
       "      <th>8</th>\n",
       "      <td>19</td>\n",
       "      <td>Higgs</td>\n",
       "      <td>70</td>\n",
       "    </tr>\n",
       "    <tr>\n",
       "      <th>9</th>\n",
       "      <td>420</td>\n",
       "      <td>WJ</td>\n",
       "      <td>1701</td>\n",
       "    </tr>\n",
       "    <tr>\n",
       "      <th>10</th>\n",
       "      <td>15185</td>\n",
       "      <td>Total</td>\n",
       "      <td>1104751</td>\n",
       "    </tr>\n",
       "    <tr>\n",
       "      <th>11</th>\n",
       "      <td>14871</td>\n",
       "      <td>DATA</td>\n",
       "      <td>1098922</td>\n",
       "    </tr>\n",
       "  </tbody>\n",
       "</table>\n",
       "</div>"
      ],
      "text/plain": [
       "    Diff Flavor          Process  Same Flavor\n",
       "0           329               WW         5002\n",
       "1            19  GluGluWWTo2L2Nu          220\n",
       "2           348               WW         5222\n",
       "3         14281               DY      1095812\n",
       "4            87              Top         1433\n",
       "5            13               WZ          341\n",
       "6             2               ZZ          125\n",
       "7            16            WG(*)           47\n",
       "8            19            Higgs           70\n",
       "9           420               WJ         1701\n",
       "10        15185            Total      1104751\n",
       "11        14871             DATA      1098922"
      ]
     },
     "execution_count": 19,
     "metadata": {},
     "output_type": "execute_result"
    }
   ],
   "source": [
    "process_yields(df[(df.pred_fDY_WW < .6) & (df.pred_fTT_WW > .6)], df_da[(df_da.pred_fDY_WW < .6) & (df_da.pred_fTT_WW > .6)], scales=scales)"
   ]
  },
  {
   "cell_type": "code",
   "execution_count": 20,
   "metadata": {
    "scrolled": true
   },
   "outputs": [
    {
     "name": "stdout",
     "output_type": "stream",
     "text": [
      "WW 46.8187249758\n",
      "GluGluWWTo2L2Nu 1.3012418968\n",
      "DYJetsToLL_M-50 71.7190053428\n",
      "DYJetsToLL_M-10to50 -0.0427601769169\n",
      "ttbar_leptonic 22.7429752609\n",
      "ttbar_semileptonic 7.96501083821\n",
      "Tbar_tW-channel 3.38655756579\n",
      "Tbar_t-channel 2.88699653559\n",
      "T_tW-channel 3.31278316234\n",
      "T_s-channel 0.883142622851\n",
      "T_t-channel 4.2648513023\n",
      "WZJetsTo2L2Q 0.0309894165637\n",
      "WZJetsTo3LNu 133.645493105\n",
      "ZZJetsTo2L2Q 0.116575221372\n",
      "ZZJetsTo2L2Nu 0.0723839191209\n",
      "WGToLNuG 453.817397029\n",
      "GluGluHToWWTo2L2Nu 0.0\n",
      "1258 752.92138909\n"
     ]
    },
    {
     "data": {
      "text/html": [
       "<div>\n",
       "<style>\n",
       "    .dataframe thead tr:only-child th {\n",
       "        text-align: right;\n",
       "    }\n",
       "\n",
       "    .dataframe thead th {\n",
       "        text-align: left;\n",
       "    }\n",
       "\n",
       "    .dataframe tbody tr th {\n",
       "        vertical-align: top;\n",
       "    }\n",
       "</style>\n",
       "<table border=\"1\" class=\"dataframe\">\n",
       "  <thead>\n",
       "    <tr style=\"text-align: right;\">\n",
       "      <th></th>\n",
       "      <th>Diff Flavor</th>\n",
       "      <th>Process</th>\n",
       "      <th>Same Flavor</th>\n",
       "    </tr>\n",
       "  </thead>\n",
       "  <tbody>\n",
       "    <tr>\n",
       "      <th>0</th>\n",
       "      <td>5552</td>\n",
       "      <td>WW</td>\n",
       "      <td>693</td>\n",
       "    </tr>\n",
       "    <tr>\n",
       "      <th>1</th>\n",
       "      <td>390</td>\n",
       "      <td>GluGluWWTo2L2Nu</td>\n",
       "      <td>63</td>\n",
       "    </tr>\n",
       "    <tr>\n",
       "      <th>2</th>\n",
       "      <td>5942</td>\n",
       "      <td>WW</td>\n",
       "      <td>756</td>\n",
       "    </tr>\n",
       "    <tr>\n",
       "      <th>3</th>\n",
       "      <td>821</td>\n",
       "      <td>DY</td>\n",
       "      <td>59</td>\n",
       "    </tr>\n",
       "    <tr>\n",
       "      <th>4</th>\n",
       "      <td>570</td>\n",
       "      <td>Top</td>\n",
       "      <td>78</td>\n",
       "    </tr>\n",
       "    <tr>\n",
       "      <th>5</th>\n",
       "      <td>113</td>\n",
       "      <td>WZ</td>\n",
       "      <td>21</td>\n",
       "    </tr>\n",
       "    <tr>\n",
       "      <th>6</th>\n",
       "      <td>1</td>\n",
       "      <td>ZZ</td>\n",
       "      <td>8</td>\n",
       "    </tr>\n",
       "    <tr>\n",
       "      <th>7</th>\n",
       "      <td>374</td>\n",
       "      <td>WG(*)</td>\n",
       "      <td>0</td>\n",
       "    </tr>\n",
       "    <tr>\n",
       "      <th>8</th>\n",
       "      <td>67</td>\n",
       "      <td>Higgs</td>\n",
       "      <td>12</td>\n",
       "    </tr>\n",
       "    <tr>\n",
       "      <th>9</th>\n",
       "      <td>479</td>\n",
       "      <td>WJ</td>\n",
       "      <td>26</td>\n",
       "    </tr>\n",
       "    <tr>\n",
       "      <th>10</th>\n",
       "      <td>8368</td>\n",
       "      <td>Total</td>\n",
       "      <td>959</td>\n",
       "    </tr>\n",
       "    <tr>\n",
       "      <th>11</th>\n",
       "      <td>9923</td>\n",
       "      <td>DATA</td>\n",
       "      <td>1082</td>\n",
       "    </tr>\n",
       "  </tbody>\n",
       "</table>\n",
       "</div>"
      ],
      "text/plain": [
       "    Diff Flavor          Process  Same Flavor\n",
       "0          5552               WW          693\n",
       "1           390  GluGluWWTo2L2Nu           63\n",
       "2          5942               WW          756\n",
       "3           821               DY           59\n",
       "4           570              Top           78\n",
       "5           113               WZ           21\n",
       "6             1               ZZ            8\n",
       "7           374            WG(*)            0\n",
       "8            67            Higgs           12\n",
       "9           479               WJ           26\n",
       "10         8368            Total          959\n",
       "11         9923             DATA         1082"
      ]
     },
     "execution_count": 20,
     "metadata": {},
     "output_type": "execute_result"
    }
   ],
   "source": [
    "process_yields(df[(df.pred_fDY_WW > .9) & (df.pred_fTT_WW > .9)], df_da[(df_da.pred_fDY_WW > .9) & (df_da.pred_fTT_WW > .9)], scales=scales)"
   ]
  },
  {
   "cell_type": "markdown",
   "metadata": {},
   "source": [
    "# End"
   ]
  },
  {
   "cell_type": "code",
   "execution_count": 21,
   "metadata": {},
   "outputs": [
    {
     "data": {
      "text/plain": [
       "<matplotlib.axes._subplots.AxesSubplot at 0x7f5f416e1a10>"
      ]
     },
     "execution_count": 21,
     "metadata": {},
     "output_type": "execute_result"
    },
    {
     "data": {
      "image/png": "[encoded data removed]",
      "text/plain": [
       "<matplotlib.figure.Figure at 0x7f5f40f429d0>"
      ]
     },
     "metadata": {},
     "output_type": "display_data"
    }
   ],
   "source": [
    "df_da.weight.hist()"
   ]
  },
  {
   "cell_type": "code",
   "execution_count": 22,
   "metadata": {
    "collapsed": true
   },
   "outputs": [],
   "source": [
    "df_da[\"weight\"] = np.array([1.0] * df_da.shape[0]) "
   ]
  },
  {
   "cell_type": "code",
   "execution_count": 23,
   "metadata": {},
   "outputs": [
    {
     "name": "stdout",
     "output_type": "stream",
     "text": [
      "WW 46.8187249758\n",
      "GluGluWWTo2L2Nu 1.3012418968\n",
      "DYJetsToLL_M-50 71.7190053428\n",
      "DYJetsToLL_M-10to50 -0.0427601769169\n",
      "ttbar_leptonic 22.7429752609\n",
      "ttbar_semileptonic 7.96501083821\n",
      "Tbar_tW-channel 3.38655756579\n",
      "Tbar_t-channel 2.88699653559\n",
      "T_tW-channel 3.31278316234\n",
      "T_s-channel 0.883142622851\n",
      "T_t-channel 4.2648513023\n",
      "WZJetsTo2L2Q 0.0309894165637\n",
      "WZJetsTo3LNu 133.645493105\n",
      "ZZJetsTo2L2Q 0.116575221372\n",
      "ZZJetsTo2L2Nu 0.0723839191209\n",
      "WGToLNuG 453.817397029\n",
      "GluGluHToWWTo2L2Nu 0.0\n",
      "1258 752.92138909\n"
     ]
    },
    {
     "data": {
      "text/html": [
       "<div>\n",
       "<style>\n",
       "    .dataframe thead tr:only-child th {\n",
       "        text-align: right;\n",
       "    }\n",
       "\n",
       "    .dataframe thead th {\n",
       "        text-align: left;\n",
       "    }\n",
       "\n",
       "    .dataframe tbody tr th {\n",
       "        vertical-align: top;\n",
       "    }\n",
       "</style>\n",
       "<table border=\"1\" class=\"dataframe\">\n",
       "  <thead>\n",
       "    <tr style=\"text-align: right;\">\n",
       "      <th></th>\n",
       "      <th>Diff Flavor</th>\n",
       "      <th>Process</th>\n",
       "      <th>Same Flavor</th>\n",
       "    </tr>\n",
       "  </thead>\n",
       "  <tbody>\n",
       "    <tr>\n",
       "      <th>0</th>\n",
       "      <td>5552</td>\n",
       "      <td>WW</td>\n",
       "      <td>693</td>\n",
       "    </tr>\n",
       "    <tr>\n",
       "      <th>1</th>\n",
       "      <td>390</td>\n",
       "      <td>GluGluWWTo2L2Nu</td>\n",
       "      <td>63</td>\n",
       "    </tr>\n",
       "    <tr>\n",
       "      <th>2</th>\n",
       "      <td>5942</td>\n",
       "      <td>WW</td>\n",
       "      <td>756</td>\n",
       "    </tr>\n",
       "    <tr>\n",
       "      <th>3</th>\n",
       "      <td>821</td>\n",
       "      <td>DY</td>\n",
       "      <td>59</td>\n",
       "    </tr>\n",
       "    <tr>\n",
       "      <th>4</th>\n",
       "      <td>570</td>\n",
       "      <td>Top</td>\n",
       "      <td>78</td>\n",
       "    </tr>\n",
       "    <tr>\n",
       "      <th>5</th>\n",
       "      <td>113</td>\n",
       "      <td>WZ</td>\n",
       "      <td>21</td>\n",
       "    </tr>\n",
       "    <tr>\n",
       "      <th>6</th>\n",
       "      <td>1</td>\n",
       "      <td>ZZ</td>\n",
       "      <td>8</td>\n",
       "    </tr>\n",
       "    <tr>\n",
       "      <th>7</th>\n",
       "      <td>374</td>\n",
       "      <td>WG(*)</td>\n",
       "      <td>0</td>\n",
       "    </tr>\n",
       "    <tr>\n",
       "      <th>8</th>\n",
       "      <td>67</td>\n",
       "      <td>Higgs</td>\n",
       "      <td>12</td>\n",
       "    </tr>\n",
       "    <tr>\n",
       "      <th>9</th>\n",
       "      <td>479</td>\n",
       "      <td>WJ</td>\n",
       "      <td>26</td>\n",
       "    </tr>\n",
       "    <tr>\n",
       "      <th>10</th>\n",
       "      <td>8368</td>\n",
       "      <td>Total</td>\n",
       "      <td>959</td>\n",
       "    </tr>\n",
       "    <tr>\n",
       "      <th>11</th>\n",
       "      <td>9923</td>\n",
       "      <td>DATA</td>\n",
       "      <td>1082</td>\n",
       "    </tr>\n",
       "  </tbody>\n",
       "</table>\n",
       "</div>"
      ],
      "text/plain": [
       "    Diff Flavor          Process  Same Flavor\n",
       "0          5552               WW          693\n",
       "1           390  GluGluWWTo2L2Nu           63\n",
       "2          5942               WW          756\n",
       "3           821               DY           59\n",
       "4           570              Top           78\n",
       "5           113               WZ           21\n",
       "6             1               ZZ            8\n",
       "7           374            WG(*)            0\n",
       "8            67            Higgs           12\n",
       "9           479               WJ           26\n",
       "10         8368            Total          959\n",
       "11         9923             DATA         1082"
      ]
     },
     "execution_count": 23,
     "metadata": {},
     "output_type": "execute_result"
    }
   ],
   "source": [
    "process_yields(df.query(\"pred_fDY_WW > .9 & pred_fTT_WW > .9\"),\\\n",
    "               df_da.query(\"pred_fDY_WW > .9 & pred_fTT_WW > .9\"),\\\n",
    "               scales=scales)"
   ]
  },
  {
   "cell_type": "code",
   "execution_count": null,
   "metadata": {
    "collapsed": true
   },
   "outputs": [],
   "source": []
  },
  {
   "cell_type": "code",
   "execution_count": null,
   "metadata": {
    "collapsed": true
   },
   "outputs": [],
   "source": []
  },
  {
   "cell_type": "code",
   "execution_count": null,
   "metadata": {
    "collapsed": true
   },
   "outputs": [],
   "source": []
  },
  {
   "cell_type": "code",
   "execution_count": null,
   "metadata": {
    "collapsed": true
   },
   "outputs": [],
   "source": []
  },
  {
   "cell_type": "code",
   "execution_count": null,
   "metadata": {
    "collapsed": true
   },
   "outputs": [],
   "source": []
  }
 ],
 "metadata": {
  "kernelspec": {
   "display_name": "Python 2",
   "language": "python",
   "name": "python2"
  },
  "language_info": {
   "codemirror_mode": {
    "name": "ipython",
    "version": 2
   },
   "file_extension": ".py",
   "mimetype": "text/x-python",
   "name": "python",
   "nbconvert_exporter": "python",
   "pygments_lexer": "ipython2",
   "version": "2.7.13"
  },
  "toc": {
   "colors": {
    "hover_highlight": "#7c7e8b",
    "navigate_num": "#d3d3d3",
    "navigate_text": "#e4e4e4",
    "running_highlight": "#FF0000",
    "selected_highlight": "#7d878b",
    "sidebar_border": "#282121",
    "wrapper_background": "#1a2028"
   },
   "moveMenuLeft": true,
   "nav_menu": {
    "height": "21px",
    "width": "254px"
   },
   "navigate_menu": true,
   "number_sections": true,
   "sideBar": true,
   "threshold": 4,
   "toc_cell": false,
   "toc_position": {
    "height": "861px",
    "left": "0px",
    "right": "1403px",
    "top": "91px",
    "width": "212px"
   },
   "toc_section_display": "block",
   "toc_window_display": true,
   "widenNotebook": false
  }
 },
 "nbformat": 4,
 "nbformat_minor": 2
}
