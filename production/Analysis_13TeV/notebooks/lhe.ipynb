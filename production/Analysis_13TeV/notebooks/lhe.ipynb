{
 "cells": [
  {
   "cell_type": "markdown",
   "metadata": {},
   "source": [
    "# LHE pdf-variations and qcd weights"
   ]
  },
  {
   "cell_type": "code",
   "execution_count": 6,
   "metadata": {},
   "outputs": [],
   "source": [
    "import os, sys, pickle, copy\n",
    "import datetime\n",
    "sys.path.append(os.getcwd() + \"/../\")\n",
    "from prep_ana_II import *\n",
    "sys.path.append(os.getcwd() + \"/../tools/PdfQcd_unc_tools\")\n",
    "from pdf_qcd_tools import get_pdf_weights, calc_unc, calc_qcd_unc, calc_qcd_unc_min_max\n",
    "sys.path.append(os.getcwd() + \"/../scripts/uncertainties_dir/\")\n",
    "from jet_scale import jec_setup, jet_scale_shift_flat, pseudo_data_yield_sum\n",
    "from cross_section_calc import calc_cross_stuff, cross_calc, stat_unc_calc, normalization_unc_calc\n",
    "import warnings\n",
    "from tools import x_per_jet_bin, yield_string\n",
    "import pdf_qcd_tools\n",
    "warnings.filterwarnings(\"ignore\")"
   ]
  },
  {
   "cell_type": "code",
   "execution_count": 2,
   "metadata": {
    "collapsed": true
   },
   "outputs": [],
   "source": [
    "%matplotlib inline\n",
    "%load_ext autoreload\n",
    "%autoreload "
   ]
  },
  {
   "cell_type": "code",
   "execution_count": 3,
   "metadata": {
    "collapsed": true
   },
   "outputs": [],
   "source": [
    "def calc_lhe_weight(df, element):\n",
    "  weights = np.array(get_pdf_weights(list(df.lhe_weight_string.values), element))\n",
    "  return weights\n",
    "\n",
    "\n",
    "def calc_rmsd(some_dic, nominal, jet_bin = 'tot'):\n",
    "  result = 0\n",
    "  it = 0.\n",
    "  for pdf in some_dic:\n",
    "    print pdf, some_dic[pdf][jet_bin]\n",
    "    it += 1.\n",
    "    result += (nominal - some_dic[pdf][jet_bin]) **2.\n",
    "\n",
    "  result = (result / it)**.5\n",
    "  return result"
   ]
  },
  {
   "cell_type": "code",
   "execution_count": 4,
   "metadata": {},
   "outputs": [
    {
     "name": "stderr",
     "output_type": "stream",
     "text": [
      "Warning in <TStreamerInfo::BuildCheck>: \n",
      "   The StreamerInfo of class string read from file /home/gunter/WW_analysis/data_alpha/ww_complete.root\n",
      "   has the same version (=2) as the active class but a different checksum.\n",
      "   You should update the version to ClassDef(string,3).\n",
      "   Do not try to write objects with the current class definition,\n",
      "   the files will not be readable.\n",
      "\n",
      "Warning in <TStreamerInfo::CompareContent>: The following data member of\n",
      "the in-memory layout version 2 of class 'string' is missing from \n",
      "the on-file layout version 2:\n",
      "   string::_Alloc_hider _M_dataplus; //\n",
      "Warning in <TStreamerInfo::CompareContent>: The following data member of\n",
      "the in-memory layout version 2 of class 'string' is missing from \n",
      "the on-file layout version 2:\n",
      "   unsigned long _M_string_length; //\n",
      "Warning in <TStreamerInfo::CompareContent>: The following data member of\n",
      "the in-memory layout version 2 of class 'string' is missing from \n",
      "the on-file layout version 2:\n",
      "   string::(anonymous) ; //\n"
     ]
    }
   ],
   "source": [
    "jer_obj = jec_setup(unc=\"lhe\")\n",
    "jet_scale_shift_flat(jer_obj.df, jet_pt_shift=1., rf=jer_obj.rfs)#?Doesn't work. FIX tools.py\n",
    "df = pre_cuts(jer_obj.df, diff_charge= False)\n",
    "df_ww = jer_obj.df_ww\n",
    "warnings.filterwarnings(\"ignore\")"
   ]
  },
  {
   "cell_type": "markdown",
   "metadata": {},
   "source": [
    "# QCD scale variations"
   ]
  },
  {
   "cell_type": "code",
   "execution_count": null,
   "metadata": {
    "scrolled": false
   },
   "outputs": [
    {
     "name": "stdout",
     "output_type": "stream",
     "text": [
      "orig, top    Diff Flavor Process  Same Flavor\n",
      "3         5611     Top         1056\n",
      "process Top\n"
     ]
    }
   ],
   "source": [
    "#Create copy of weights for future use\n",
    "static_weights_df = copy.copy(df.weight)\n",
    "static_weights_ww = copy.copy(jer_obj.df_ww.weight)\n",
    "\n",
    "\n",
    "pseudo = {}\n",
    "x_per_jet_bin(pseudo, df, jer_obj.df_da, jer_obj.df_ww, pseudo_data_yield_sum)\n",
    "\n",
    "df_process_yields = process_yields(df[(df.pred_fTT_WW > .6) & (df.pred_fDY_WW > .9)])\n",
    "print \"orig, top\", df_process_yields[df_process_yields.Process == \"Top\"]\n",
    "nominal_dic = {}\n",
    "x_per_jet_bin(nominal_dic, df, jer_obj.df_da, jer_obj.df_ww, cross_calc, args={\"scales\": scales, \"fiducial\":True, \"pseudo\":pseudo})\n",
    "orig_values = df[(df.process == process) & (df.pred_fTT_WW > .6) & (df.pred_fDY_WW > .9)].weight.mean()\n",
    "\n",
    "##\n",
    "impacts = []\n",
    "for process in [\"Top\"]:#df.process.unique():\n",
    "    print \"process\", process\n",
    "    post_dic = {}\n",
    "    diff_cross_section = []\n",
    "\n",
    "    temp_weights = np.array(calc_qcd_unc(list(df[df.process == process].lhe_weight_string)))\n",
    "    temp_weights = np.array(calc_qcd_unc_min_max(list(df[df.process == process].lhe_weight_string), 0))\n",
    "    temp_weights[temp_weights > 20] = temp_weights[temp_weights < 20].mean()\n",
    "    df.weight.values[df.process == process] = df.weight.values[df.process == process] * temp_weights\n",
    "\n",
    "    if process == \"WW\":\n",
    "        temp_weights_ww = np.array(calc_qcd_unc(list(df_ww[df_ww.process == process].lhe_weight_string), element))\n",
    "        temp_weights_ww[temp_weights_ww > 20] = temp_weights_ww[temp_weights_ww < 20].mean()\n",
    "        jer_obj.df_ww[\"weight\"] = jer_obj.df_ww.weight * temp_weights_ww\n",
    "\n",
    "    plt.hist(temp_weights[(df[df.process == \"Top\"].pred_fTT_WW > .6) & (df[df.process == \"Top\"].pred_fDY_WW > .9)], bins=50, range=(0, 2))\n",
    "    plt.yscale(\"log\")\n",
    "    plt.title(\"Max diff\")\n",
    "    plt.show()\n",
    "\n",
    "    x_per_jet_bin(post_dic, df, jer_obj.df_da, jer_obj.df_ww, cross_calc, args={\"scales\": scales, \"fiducial\":True, \"pseudo\":pseudo})\n",
    "    impacts.append((nominal_dic[\"tot\"] - post_dic[\"tot\"]) / nominal_dic[\"tot\"])\n",
    "    \n",
    "    max_diff_values = df[(df.process == process) & (df.pred_fTT_WW > .6) & (df.pred_fDY_WW > .9)].weight.mean()\n",
    "    temp_weights_mean = temp_weights[(df[df.process == \"Top\"].pred_fTT_WW > .6) & (df[df.process == \"Top\"].pred_fDY_WW > .9)].mean()\n",
    "    print \"Max Diff\", temp_weights_mean, nominal_dic[\"tot\"],\\\n",
    "    (max_diff_values - orig_values) / orig_values,\\\n",
    "    (nominal_dic[\"tot\"] - post_dic[\"tot\"]) / nominal_dic[\"tot\"]\n",
    "    \n",
    "    df_process_yields = process_yields(df[(df.pred_fTT_WW > .6) & (df.pred_fDY_WW > .9)])\n",
    "    print df_process_yields[df_process_yields.Process == \"Top\"]\n",
    "    \n",
    "    print \"mean\\tmax\\tmin\\tdiff in Xs\"\n",
    "    #\"\"\"\n",
    "    for element in range(1, 9):\n",
    "      df[\"weight\"]    = 1 * static_weights_df[:]\n",
    "      df_ww[\"weight\"] = 1 * static_weights_ww[:]\n",
    "\n",
    "      if element == 5:\n",
    "        continue\n",
    "      if element == 7:\n",
    "        continue\n",
    "      temp_weights = np.array(get_pdf_weights(list(df[df.process == process].lhe_weight_string), element))\n",
    "      temp_weights[temp_weights > 20] = temp_weights[temp_weights < 20].mean()\n",
    "      pre_weight_mean = df.weight.values[(df.process == process) & (df.pred_fTT_WW > .6) & (df.pred_fDY_WW > .9) ].mean()\n",
    "      pre_weight_mean_ = df.weight.values[(df.process == process) ].mean()\n",
    "      df.weight.values[df.process == process] = df.weight.values[df.process == process] * temp_weights\n",
    "      post_weight_mean = df.weight.values[(df.process == process) & (df.pred_fTT_WW > .6) & (df.pred_fDY_WW > .9)].mean()\n",
    "      post_weight_mean_ = df.weight.values[(df.process == process) ].mean()\n",
    "\n",
    "      if process == \"WW\":\n",
    "        temp_weights_ww = np.array(get_pdf_weights(list(df_ww[df_ww.process == process].lhe_weight_string), element))\n",
    "        temp_weights_ww[temp_weights_ww > 20] = temp_weights_ww[temp_weights_ww < 20].mean()\n",
    "        jer_obj.df_ww[\"weight\"] = jer_obj.df_ww.weight * temp_weights_ww\n",
    "\n",
    "      post_dic = {}\n",
    "      x_per_jet_bin(post_dic, df, jer_obj.df_da, jer_obj.df_ww, cross_calc, args={\"scales\": scales, \"fiducial\":True, \"pseudo\":pseudo})\n",
    "\n",
    "      print \"element\", element,\\\n",
    "        temp_weights.mean(),\\\n",
    "        temp_weights.max(),\\\n",
    "        (nominal_dic[\"tot\"] - post_dic[\"tot\"]) / nominal_dic[\"tot\"],\\\n",
    "        (pre_weight_mean_ - post_weight_mean_) / pre_weight_mean\n",
    "\n",
    "      df_process_yields = process_yields(df[(df.pred_fTT_WW > .6) & (df.pred_fDY_WW > .9)])\n",
    "      #print df_process_yields[df_process_yields.Process == \"Top\"]\n",
    "\n",
    "      plt.hist(temp_weights[(df[df.process == \"Top\"].pred_fTT_WW > .6) & (df[df.process == \"Top\"].pred_fDY_WW > .9) ], bins=50, range=(0,5))\n",
    "      plt.yscale(\"log\")\n",
    "      plt.title(\"element \" + str(element))\n",
    "      plt.show()\n",
    "    #\"\"\"\n",
    "\n",
    "\n",
    "    df[\"weight\"]    = 1 * static_weights_df[:]\n",
    "    df_ww[\"weight\"] = 1 * static_weights_ww[:]\n",
    "\n",
    "\n",
    "sumquad_impacts = sum([impact**2 for impact in impacts])**.5\n",
    "print \"FIN\", sumquad_impacts\n"
   ]
  },
  {
   "cell_type": "code",
   "execution_count": null,
   "metadata": {
    "collapsed": true
   },
   "outputs": [],
   "source": []
  },
  {
   "cell_type": "code",
   "execution_count": null,
   "metadata": {
    "collapsed": true
   },
   "outputs": [],
   "source": []
  },
  {
   "cell_type": "code",
   "execution_count": null,
   "metadata": {
    "collapsed": true
   },
   "outputs": [],
   "source": []
  },
  {
   "cell_type": "code",
   "execution_count": null,
   "metadata": {
    "collapsed": true
   },
   "outputs": [],
   "source": []
  },
  {
   "cell_type": "code",
   "execution_count": null,
   "metadata": {
    "collapsed": true
   },
   "outputs": [],
   "source": []
  },
  {
   "cell_type": "code",
   "execution_count": null,
   "metadata": {
    "collapsed": true
   },
   "outputs": [],
   "source": []
  }
 ],
 "metadata": {
  "kernelspec": {
   "display_name": "Python 2",
   "language": "python",
   "name": "python2"
  },
  "language_info": {
   "codemirror_mode": {
    "name": "ipython",
    "version": 2
   },
   "file_extension": ".py",
   "mimetype": "text/x-python",
   "name": "python",
   "nbconvert_exporter": "python",
   "pygments_lexer": "ipython2",
   "version": "2.7.13"
  },
  "toc": {
   "colors": {
    "hover_highlight": "#7c7e8b",
    "navigate_num": "#d3d3d3",
    "navigate_text": "#e4e4e4",
    "running_highlight": "#FF0000",
    "selected_highlight": "#7d878b",
    "sidebar_border": "#282121",
    "wrapper_background": "#1a2028"
   },
   "moveMenuLeft": true,
   "nav_menu": {
    "height": "31px",
    "width": "254px"
   },
   "navigate_menu": true,
   "number_sections": true,
   "sideBar": true,
   "threshold": 4,
   "toc_cell": false,
   "toc_position": {
    "height": "820px",
    "left": "0px",
    "right": "1403px",
    "top": "91px",
    "width": "212px"
   },
   "toc_section_display": "block",
   "toc_window_display": true,
   "widenNotebook": false
  }
 },
 "nbformat": 4,
 "nbformat_minor": 2
}
