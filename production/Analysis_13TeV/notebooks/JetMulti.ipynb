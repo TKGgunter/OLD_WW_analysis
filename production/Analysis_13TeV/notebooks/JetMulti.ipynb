{
 "cells": [
  {
   "cell_type": "markdown",
   "metadata": {},
   "source": [
    "# Measure Jet multiplicity\n",
    "\n",
    "We measure the jet multiplicity.\n",
    "$$ \\rho_i = \\frac{S_i - B_i}{\\sum_{i}{S_i - B_i}} $$\n",
    "\n",
    "We unfold to a \"truth\" level distribution using a reponse matrix.\n",
    "The response matrix is defined as $\\nu = $"
   ]
  },
  {
   "cell_type": "code",
   "execution_count": 1,
   "metadata": {},
   "outputs": [
    {
     "name": "stdout",
     "output_type": "stream",
     "text": [
      "Welcome to JupyROOT 6.10/00\n",
      "home /home/gunter/WW_analysis/production/Analysis_13TeV\n",
      "Loading binning options...\n",
      "Loading plotting options\n",
      "unc_mc_process and scales are parameter dictionaries\n"
     ]
    }
   ],
   "source": [
    "import os, sys\n",
    "sys.path.append(os.getcwd() + \"/../\")\n",
    "from prep_ana_II import *\n",
    "sys.path.append(os.getcwd() + \"/../tools/\")\n",
    "sys.path.append(os.getcwd() + \"/../tools/jecsys/\")\n",
    "from JECUncertainty import JECUncertainty, jecUncertainties\n",
    "from lepton_eff import muonEff, electronEff\n",
    "from cross_section_calc import calc_cross_stuff, cross_calc, stat_unc_calc, normalization_unc_calc"
   ]
  },
  {
   "cell_type": "code",
   "execution_count": 2,
   "metadata": {
    "collapsed": true
   },
   "outputs": [],
   "source": [
    "%matplotlib inline"
   ]
  },
  {
   "cell_type": "code",
   "execution_count": 3,
   "metadata": {
    "code_folding": [
     0
    ],
    "collapsed": true
   },
   "outputs": [],
   "source": [
    "#Setup\n",
    "matplotlib.rcParams.update({'font.size': 26})\n",
    "\n",
    "scales, df = load_testset() \n",
    "df_da = load_presel_w_fDY_fTT_DATA()\n",
    "\n",
    "#df = pre_cuts(df)\n",
    "#df_da = pre_cuts(df_da)\n",
    "\n",
    "rfs = load_randomForest()\n",
    "\n",
    "fDY = rfs[\"clf_fDY\"]\n",
    "fTT = rfs[\"clf_fTT\"]\n",
    "\n",
    "features_fDY = rfs[\"features_fDY\"]\n",
    "features_fTT = rfs[\"features_fTT\"]\n",
    "\n",
    "def load_ww(file_path=\"../data/gen_jets/WW_WW_36.root\", rfs=rfs):\n",
    "    df_ww = rp.read_root(file_path)\n",
    "    \n",
    "    fDY = rfs[\"clf_fDY\"]\n",
    "    fTT = rfs[\"clf_fTT\"]\n",
    "    features_fDY = rfs[\"features_fDY\"]\n",
    "    features_fTT = rfs[\"features_fTT\"]\n",
    "    pred_fTT = fTT.predict_proba(np.float32(df_ww[features_fTT].values))\n",
    "    df_ww[\"pred_fTT_WW\"] = pred_fTT[:,0]\n",
    "    pred_fDY = fDY.predict_proba(np.float32(df_ww[features_fDY].values))\n",
    "    df_ww[\"pred_fDY_WW\"] = pred_fDY[:,0]\n",
    "\n",
    "    df_ww = pre_cuts(df_ww)\n",
    "\n",
    "    return df_ww\n",
    "df_ww = pre_cuts(load_ww())"
   ]
  },
  {
   "cell_type": "markdown",
   "metadata": {},
   "source": [
    "##  Est. Measurements"
   ]
  },
  {
   "cell_type": "code",
   "execution_count": 4,
   "metadata": {
    "code_folding": [
     1
    ]
   },
   "outputs": [
    {
     "name": "stdout",
     "output_type": "stream",
     "text": [
      "scale factors [ 1.67685166  1.86150668  2.87568617]\n"
     ]
    }
   ],
   "source": [
    "def produce_jsf(df_ww, fdy, ftt):\n",
    "    def jet_bin_conv(arr):\n",
    "        l = np.zeros(3)\n",
    "        for it in range(arr.shape[0]):\n",
    "            if it < 2:\n",
    "                l[it] += arr[it] \n",
    "            else:\n",
    "                l[2] += arr[it]\n",
    "        return l\n",
    "    a = np.histogram(df_ww.numb_jets_24.values, \n",
    "                     weights=df_ww.weight.values,\n",
    "                     range=(-0.5, 9.5), bins=10)\n",
    "    b = np.histogram(df_ww.query(\"pred_fDY_WW > \" + str(fdy) + \" & pred_fTT_WW > \" + str(ftt) ).numb_jets_24.values, \n",
    "                     weights=df_ww.query(\"pred_fDY_WW > \" + str(fdy) + \" & pred_fTT_WW > \" + str(ftt)).weight.values,\n",
    "                     range=(-0.5, 9.5), bins=10)\n",
    "\n",
    "    sf = jet_bin_conv(a[0]) / jet_bin_conv(b[0])\n",
    "    return sf\n",
    "sf = produce_jsf(df_ww, 0.9, 0.2)\n",
    "print \"scale factors\", sf"
   ]
  },
  {
   "cell_type": "code",
   "execution_count": 5,
   "metadata": {
    "collapsed": true
   },
   "outputs": [],
   "source": [
    "#Number of jets \n",
    "def table_jet_multi(df, scales=scales, fdy=0.9, ftt=0.2, printable=False):\n",
    "    a = []\n",
    "    for i in range(3):\n",
    "        query = \"pred_fDY_WW > \" + str(fdy) + \" & pred_fTT_WW > \" + str(ftt) + \" & numb_jets == \" + str(i)\n",
    "        if i == 2:\n",
    "            query= \"pred_fDY_WW > \" + str(fdy) + \" & pred_fTT_WW > \" + str(ftt) + \" &  numb_jets >= \" + str(i)\n",
    "            \n",
    "        yields = process_yields(pre_cuts(df, False), pre_cuts(df_da, False), query=query, scales=scales)\n",
    "        if printable == True: print \"Jets: \", i, \"\\n\", yields\n",
    "        a.append(yields)\n",
    "    return a\n",
    "a = table_jet_multi(df)"
   ]
  },
  {
   "cell_type": "code",
   "execution_count": 6,
   "metadata": {
    "code_folding": [
     1
    ],
    "collapsed": true
   },
   "outputs": [],
   "source": [
    "#Construct measurements\n",
    "def measure_jet_multi(tables):\n",
    "    total = []\n",
    "    bkg = []\n",
    "\n",
    "    for i, ele in enumerate(tables):\n",
    "        bkg.append(0)\n",
    "        for process in ele.Process.unique():\n",
    "            if process == \"DATA\":\n",
    "                continue\n",
    "            if \"WW\" in process:\n",
    "                continue \n",
    "            if \"Total\" not in process:\n",
    "                bkg[i] += ele[ele.Process == process][\"Diff Flavor\"].values[0] + ele[ele.Process == process][\"Same Flavor\"].values[0]\n",
    "            else:\n",
    "                total.append(ele[ele.Process == process][\"Diff Flavor\"].values[0] + ele[ele.Process == process][\"Same Flavor\"].values[0] )\n",
    "    bkg = np.array(bkg, dtype=float)\n",
    "    total = np.array(total, dtype=float)\n",
    "    return total, bkg\n",
    "total, bkg = measure_jet_multi(a)"
   ]
  },
  {
   "cell_type": "code",
   "execution_count": 7,
   "metadata": {},
   "outputs": [
    {
     "name": "stdout",
     "output_type": "stream",
     "text": [
      "Total [ 21212.  19145.   7874.]\n",
      "Background [  8959.  13526.   5901.]\n"
     ]
    }
   ],
   "source": [
    "print \"Total\", total\n",
    "print \"Background\", bkg"
   ]
  },
  {
   "cell_type": "code",
   "execution_count": 20,
   "metadata": {
    "collapsed": true
   },
   "outputs": [
    {
     "name": "stdout",
     "output_type": "stream",
     "text": [
      "Jets:  0 \n",
      "    Diff Flavor          Process  Same Flavor\n",
      "0         10561               WW         1851\n",
      "1           636  GluGluWWTo2L2Nu          192\n",
      "2         11197        Total: WW         2043\n",
      "3          1543               DY          404\n",
      "4          3260              Top          885\n",
      "5           255               WZ           73\n",
      "6             3               ZZ           48\n",
      "7           386            WG(*)           21\n",
      "8           129            Higgs           27\n",
      "9          1756               WJ          169\n",
      "10        17629            Total         3583\n",
      "11        20334             DATA         4109\n",
      "Jets:  1 \n",
      "    Diff Flavor          Process  Same Flavor\n",
      "0          4936               WW          887\n",
      "1           412  GluGluWWTo2L2Nu           98\n",
      "2          5348        Total: WW          985\n",
      "3           878               DY          854\n",
      "4          7831              Top         1720\n",
      "5           367               WZ           65\n",
      "6             2               ZZ           19\n",
      "7           283            WG(*)           27\n",
      "8            73            Higgs           12\n",
      "9          1274               WJ          121\n",
      "10        15404            Total         3741\n",
      "11        16672             DATA         3784\n",
      "Jets:  2 \n",
      "    Diff Flavor          Process  Same Flavor\n",
      "0          1578               WW          423\n",
      "1           111  GluGluWWTo2L2Nu           26\n",
      "2          1688        Total: WW          448\n",
      "3           166               DY           87\n",
      "4          4028              Top          993\n",
      "5           137               WZ           27\n",
      "6             1               ZZ            5\n",
      "7           111            WG(*)            8\n",
      "8            11            Higgs            4\n",
      "9           238               WJ           85\n",
      "10         6260            Total         1614\n",
      "11         6205             DATA         1512\n"
     ]
    }
   ],
   "source": [
    "_temp_ASDFAEFAKGNAEWRGF = table_jet_multi(df, printable=True)"
   ]
  },
  {
   "cell_type": "markdown",
   "metadata": {},
   "source": [
    "### Fake data"
   ]
  },
  {
   "cell_type": "code",
   "execution_count": 8,
   "metadata": {
    "collapsed": true
   },
   "outputs": [],
   "source": [
    "# construct fake data\n",
    "def construct_fake_data(total_table):\n",
    "    np.random.seed(0)\n",
    "    fake_data = []\n",
    "    for i in range(3):\n",
    "        fake_data.append( float(np.random.poisson(total_table[i],1)[0]) )\n",
    "    fake_data = np.array(fake_data)\n",
    "    return fake_data\n",
    "fake_data = construct_fake_data(total)"
   ]
  },
  {
   "cell_type": "code",
   "execution_count": 9,
   "metadata": {},
   "outputs": [
    {
     "data": {
      "text/plain": [
       "array([ 12273.,   5659.,   1954.])"
      ]
     },
     "execution_count": 9,
     "metadata": {},
     "output_type": "execute_result"
    }
   ],
   "source": [
    "fake_data - bkg"
   ]
  },
  {
   "cell_type": "markdown",
   "metadata": {},
   "source": [
    "### Measurement"
   ]
  },
  {
   "cell_type": "code",
   "execution_count": 11,
   "metadata": {},
   "outputs": [
    {
     "name": "stdout",
     "output_type": "stream",
     "text": [
      "[ 0.56013143  0.28684071  0.15302786]\n"
     ]
    }
   ],
   "source": [
    "# construct measurement\n",
    "import pickle\n",
    "matrices = pickle.load(open(\"../data/Unfolding/july2.pkl\", \"r\"))\n",
    "sf = matrices[\"sf\"]\n",
    "\n",
    "\n",
    "fake_measurement = []\n",
    "for i in range(3):\n",
    "    fake_measurement.append( sf[i] * float(fake_data[i] - bkg[i]) / ((sf*fake_data).sum() - (sf*bkg).sum())  )\n",
    "fm = np.array(fake_measurement)\n",
    "print fm"
   ]
  },
  {
   "cell_type": "markdown",
   "metadata": {},
   "source": [
    "## Unfold Est. "
   ]
  },
  {
   "cell_type": "code",
   "execution_count": 12,
   "metadata": {
    "scrolled": true
   },
   "outputs": [
    {
     "data": {
      "text/plain": [
       "array([ 0.57192884,  0.28015913,  0.14791209])"
      ]
     },
     "execution_count": 12,
     "metadata": {},
     "output_type": "execute_result"
    }
   ],
   "source": [
    "np.dot(np.linalg.inv(matrices[\"tot_matrix\"]), fm)"
   ]
  },
  {
   "cell_type": "code",
   "execution_count": 9,
   "metadata": {},
   "outputs": [
    {
     "data": {
      "text/plain": [
       "array([ 0.02183075,  0.02361004,  0.02135922])"
      ]
     },
     "execution_count": 9,
     "metadata": {},
     "output_type": "execute_result"
    }
   ],
   "source": [
    "a = np.dot(np.linalg.inv(matrices[\"tot_matrix\"]), fake_measurement - np.array([0.0222, 0.0237, 0.0209]))\n",
    "b = np.dot(np.linalg.inv(matrices[\"tot_matrix\"]), fake_measurement + np.array([0.0222, 0.0237, 0.0209]))\n",
    "np.abs(a-b)/2."
   ]
  },
  {
   "cell_type": "markdown",
   "metadata": {},
   "source": [
    "### nomalization unc"
   ]
  },
  {
   "cell_type": "code",
   "execution_count": 10,
   "metadata": {
    "collapsed": true
   },
   "outputs": [],
   "source": [
    "import copy\n",
    "up = []\n",
    "down = []\n",
    "for process in scales:\n",
    "    if process == \"Data\":\n",
    "        continue\n",
    "    if \"WW\" in process:\n",
    "        continue\n",
    "    if process not in df.process_decay.unique():\n",
    "        continue\n",
    "    alt_scales = copy.copy(scales)\n",
    "    alt_scales[process] = scales[process] * (1. + unc_mc_process[process])\n",
    "    a = table_jet_multi(df, scales=alt_scales)\n",
    "    temp_, bkg = measure_jet_multi(a)\n",
    "    fake_measurement = []\n",
    "    for i in range(3):\n",
    "        fake_measurement.append( sf[i] * float(fake_data[i] - bkg[i]) / ((sf*fake_data).sum() - (sf*bkg).sum())  )\n",
    "    up.append(np.array(fake_measurement))\n",
    "    \n",
    "    alt_scales = copy.copy(scales)\n",
    "    alt_scales[process] = scales[process] * (1. - unc_mc_process[process])\n",
    "    a = table_jet_multi(df, scales=alt_scales)\n",
    "    temp_, bkg = measure_jet_multi(a)\n",
    "    fake_measurement = []\n",
    "    for i in range(3):\n",
    "        fake_measurement.append( sf[i] * float(fake_data[i] - bkg[i]) / ((sf*fake_data).sum() - (sf*bkg).sum())  )\n",
    "    down.append(np.array(fake_measurement))\n",
    "up = np.array(up)\n",
    "down = np.array(down)"
   ]
  },
  {
   "cell_type": "code",
   "execution_count": 11,
   "metadata": {},
   "outputs": [
    {
     "name": "stdout",
     "output_type": "stream",
     "text": [
      "norm unc [ 0.02438183  0.01056802  0.01386222] \n",
      "norm unc (%) [  4.10569444   3.92101368  10.14629642]\n"
     ]
    }
   ],
   "source": [
    "np.set_printoptions(suppress=True)\n",
    "norm_unc =  ((np.abs( up - down ) / 2.)**2.).sum(0)**.5\n",
    "temp_results = sf* (fake_data - bkg)/(sf*fake_data - sf*bkg).sum()\n",
    "\n",
    "print \"norm unc\", norm_unc,\\\n",
    "\"\\nnorm unc (%)\", norm_unc / temp_results * 100. "
   ]
  },
  {
   "cell_type": "markdown",
   "metadata": {},
   "source": [
    "### Stat"
   ]
  },
  {
   "cell_type": "code",
   "execution_count": 12,
   "metadata": {
    "collapsed": true
   },
   "outputs": [],
   "source": [
    "def calc_stats(df):\n",
    "    stats = 0.0\n",
    "    for process in df.process_decay.unique():\n",
    "        #if \"WJ\" in process: continue\n",
    "        temp_df = pre_cuts(df, False)\n",
    "        temp_df = temp_df[temp_df.process_decay == process]\n",
    "        process_stats =( (temp_df.weight.values**2).sum()**.5/\\\n",
    "        temp_df.weight.values.sum() * scales[process] * temp_df.shape[0] )**2\n",
    "        if temp_df.weight.values.sum() < 1.0:\n",
    "            process_stats = 0\n",
    "        if \"WJ\" in process: process_stats *= 2.0\n",
    "        #print process, process_stats\n",
    "        stats += process_stats\n",
    "    return stats**.5\n"
   ]
  },
  {
   "cell_type": "code",
   "execution_count": 13,
   "metadata": {},
   "outputs": [
    {
     "name": "stdout",
     "output_type": "stream",
     "text": [
      "[ 22272.  20227.   8285.] [ 11084.  15655.   6785.]\n"
     ]
    },
    {
     "name": "stderr",
     "output_type": "stream",
     "text": [
      "/home/gunter/anaconda2/lib/python2.7/site-packages/ipykernel_launcher.py:7: RuntimeWarning: invalid value encountered in double_scalars\n",
      "  import sys\n"
     ]
    },
    {
     "name": "stdout",
     "output_type": "stream",
     "text": [
      "a 4317.0262659 b 31597.9945532 a/b 0.136623425852\n",
      "sigma_a 142.999875065 sigma_b 458.908145389\n",
      "term 1 0.0130247552185\n",
      "term 2 0.00571064087404\n",
      "stat unc [ 0.02101199  0.02146401  0.01422166] \n",
      "stat unc (%) [  3.53824206   7.96371445  10.40938758]\n"
     ]
    }
   ],
   "source": [
    "stat_unc = []\n",
    "stats_b = calc_stats(df.query(\"pred_fDY_WW > 0.9 & pred_fTT_WW > 0.2\"))\n",
    "temp_results = []\n",
    "\n",
    "print fake_data, bkg\n",
    "\n",
    "for i in range(3):\n",
    "    stats_a = calc_stats(df.query(\"pred_fDY_WW > 0.9 & pred_fTT_WW > 0.2 & numb_jets_24 == \" + str(i)))\n",
    "    if i == 2:\n",
    "        stats_a = calc_stats(df.query(\"pred_fDY_WW > 0.9 & pred_fTT_WW > 0.2 & numb_jets_24 >= \" + str(i)))\n",
    "    a, sigma_a = sf[i] * (fake_data[i] - bkg[i]), (fake_data[i] + stats_a**2.)**.5 \n",
    "    b, sigma_b = (sf*fake_data - sf*bkg).sum(), (fake_data.sum() + stats_b**2.)**.5\n",
    "    \n",
    "    #print a, b, a/b, sigma_a, sigma_b\n",
    "    stat_unc.append( ( (sf[i] / b * sigma_a)**2. + ((sf[i] * a) / b**2. * sigma_b)**2. )**.5 )\n",
    "    if i == 2:\n",
    "        print \"a\", a, \"b\", b, \"a/b\", a/b\n",
    "        print \"sigma_a\", sigma_a, \"sigma_b\", sigma_b\n",
    "        print \"term 1\", sf[i] / b * sigma_a\n",
    "        print \"term 2\", (sf[i] * a) / b**2. * sigma_b \n",
    "    temp_results.append(a/b)\n",
    "\n",
    "#temp_results = ((fake_data - bkg)/(fake_data - bkg).sum())\n",
    "temp_results = np.array(temp_results)\n",
    "print \"stat unc\", np.array(stat_unc),\\\n",
    "\"\\nstat unc (%)\", np.array(stat_unc) / temp_results * 100."
   ]
  },
  {
   "cell_type": "code",
   "execution_count": 15,
   "metadata": {},
   "outputs": [
    {
     "data": {
      "text/plain": [
       "array([ 0.66461167,  0.24025808,  0.09513024])"
      ]
     },
     "execution_count": 15,
     "metadata": {},
     "output_type": "execute_result"
    }
   ],
   "source": [
    "process_yields()"
   ]
  },
  {
   "cell_type": "code",
   "execution_count": 16,
   "metadata": {},
   "outputs": [
    {
     "data": {
      "text/plain": [
       "array([ 1.67720709,  1.86272428,  2.87801751])"
      ]
     },
     "execution_count": 16,
     "metadata": {},
     "output_type": "execute_result"
    }
   ],
   "source": [
    "sf"
   ]
  },
  {
   "cell_type": "code",
   "execution_count": null,
   "metadata": {
    "collapsed": true
   },
   "outputs": [],
   "source": []
  },
  {
   "cell_type": "code",
   "execution_count": null,
   "metadata": {
    "collapsed": true
   },
   "outputs": [],
   "source": []
  },
  {
   "cell_type": "markdown",
   "metadata": {},
   "source": [
    "# Test"
   ]
  },
  {
   "cell_type": "markdown",
   "metadata": {},
   "source": [
    "## Stat"
   ]
  },
  {
   "cell_type": "code",
   "execution_count": 14,
   "metadata": {
    "collapsed": true
   },
   "outputs": [],
   "source": [
    "def calc_tot_stat_unc(df, fdy, ftt, scales=scales):\n",
    "    np.random.seed(0)\n",
    "    total, bkg = measure_jet_multi(table_jet_multi(df, scales=scales, fdy=fdy, ftt=ftt))\n",
    "    print total, bkg, fdy, ftt\n",
    "    fake_data = construct_fake_data(total)\n",
    "\n",
    "    \n",
    "    tot_total, tot_bkg = measure_jet_multi(table_jet_multi(df, scales=scales, fdy=-1, ftt=-1))\n",
    "    \n",
    "    sf = produce_jsf(df_ww, fdy, ftt)\n",
    "    print tot_total, tot_bkg, sf\n",
    "    \n",
    "    temp_results = []\n",
    "    stat_unc = []\n",
    "    query = \"pred_fDY_WW > \"+ str(fdy) +\" & pred_fTT_WW > \" + str(ftt)\n",
    "    stats_b = calc_stats(df.query(query))\n",
    "    for i in range(3):\n",
    "        stats_a = calc_stats(df.query(query + \" & numb_jets_24 == \" + str(i)))\n",
    "        a, sigma_a = sf[i] * (fake_data[i] - bkg[i]), (fake_data[i] + stats_a**2.)**.5 \n",
    "        b, sigma_b = (sf*fake_data - sf*bkg).sum(), (fake_data.sum() + stats_b**2.)**.5\n",
    "\n",
    "        stat_unc.append( ( (sf[i] / b * sigma_a)**2. + ((sf[i] * a) / b**2. * sigma_b)**2. )**.5 )\n",
    "        temp_results.append(a/b)\n",
    "\n",
    "    temp_results = np.array(temp_results)\n",
    "    #print \"========= \" + str(fdy) + \" \" + str(ftt) +\"  =========\"\n",
    "    #print \"stat unc\", np.array(stat_unc),\\\n",
    "    #\"\\nstat unc (%)\", np.array(stat_unc) / temp_results * 100.,\\\n",
    "    #\"\\n sf\", sf\n",
    "    return stat_unc, temp_results, sf"
   ]
  },
  {
   "cell_type": "code",
   "execution_count": 15,
   "metadata": {},
   "outputs": [
    {
     "name": "stdout",
     "output_type": "stream",
     "text": [
      "[ 22424.  27104.  47434.] [ 11258.  22453.  46205.] 0.9 0.0\n",
      "[ 1334659.   402214.   231758.] [ 1321892.   396596.   231015.] [ 1.66746998  1.66131644  1.61105854]\n",
      "[ 22424.  26130.  33028.] [ 11258.  21477.  31463.] 0.9 0.03\n",
      "[ 1334659.   402214.   231758.] [ 1321892.   396596.   231015.] [ 1.66762635  1.67008333  1.66687967]\n",
      "[ 22424.  24614.  25079.] [ 11258.  19973.  23321.] 0.9 0.06\n",
      "[ 1334659.   402214.   231758.] [ 1321892.   396596.   231015.] [ 1.66792994  1.68816083  1.76249068]\n",
      "[ 22415.  23428.  19684.] [ 11249.  18786.  17866.] 0.9 0.09\n",
      "[ 1334659.   402214.   231758.] [ 1321892.   396596.   231015.] [ 1.66869618  1.7133562   1.89884627]\n"
     ]
    },
    {
     "name": "stderr",
     "output_type": "stream",
     "text": [
      "/home/gunter/anaconda2/lib/python2.7/site-packages/ipykernel_launcher.py:7: RuntimeWarning: invalid value encountered in double_scalars\n",
      "  import sys\n"
     ]
    },
    {
     "name": "stdout",
     "output_type": "stream",
     "text": [
      "[ 22390.  22424.  15735.] [ 11225.  17801.  13920.] 0.9 0.12\n",
      "[ 1334659.   402214.   231758.] [ 1321892.   396596.   231015.] [ 1.67019132  1.74189889  2.0760327 ]\n",
      "[ 22354.  21536.  12573.] [ 11188.  16931.  10824.] 0.9 0.15\n",
      "[ 1334659.   402214.   231758.] [ 1321892.   396596.   231015.] [ 1.67196869  1.77686833  2.31405937]\n",
      "[ 22303.  20714.   9897.] [ 11138.  16149.   8264.] 0.9 0.18\n",
      "[ 1334659.   402214.   231758.] [ 1321892.   396596.   231015.] [ 1.67475712  1.82544713  2.6062763 ]\n",
      "[ 22224.  19933.   7586.] [ 11061.  15429.   6131.] 0.9 0.21\n",
      "[ 1334659.   402214.   231758.] [ 1321892.   396596.   231015.] [ 1.67798674  1.8824445   3.02922258]\n",
      "[ 22140.  19055.   5703.] [ 10984.  14615.   4461.] 0.9 0.24\n",
      "[ 1334659.   402214.   231758.] [ 1321892.   396596.   231015.] [ 1.68196213  1.94854286  3.54719092]\n",
      "[ 22043.  18115.   4164.] [ 10897.  13758.   3117.] 0.9 0.27\n",
      "[ 1334659.   402214.   231758.] [ 1321892.   396596.   231015.] [ 1.68711985  2.03070357  4.25243062]\n",
      "[ 21944.  17099.   3003.] [ 10808.  12864.   2131.] 0.9 0.3\n",
      "[ 1334659.   402214.   231758.] [ 1321892.   396596.   231015.] [ 1.69249934  2.12388124  5.18088946]\n",
      "[ 21813.  15987.   2183.] [ 10696.  11876.   1471.] 0.9 0.33\n",
      "[ 1334659.   402214.   231758.] [ 1321892.   396596.   231015.] [ 1.6991196   2.22938262  6.43544264]\n",
      "[ 21654.  14753.   1574.] [ 10556.  10813.   1004.] 0.9 0.36\n",
      "[ 1334659.   402214.   231758.] [ 1321892.   396596.   231015.] [ 1.70876827  2.3594769   7.97033392]\n",
      "[ 21493.  13462.   1160.] [ 10419.   9726.    712.] 0.9 0.39\n",
      "[ 1334659.   402214.   231758.] [ 1321892.   396596.   231015.] [ 1.72023876  2.51566738  9.92173602]\n",
      "[ 21323.  12040.    875.] [ 10290.   8584.    512.] 0.9 0.42\n",
      "[ 1334659.   402214.   231758.] [ 1321892.   396596.   231015.] [  1.7340725    2.7251111   12.36508204]\n",
      "Skipping Higgs not in data frame\n",
      "[ 21108.  10573.    681.] [ 10117.   7406.    391.] 0.9 0.45\n",
      "[ 1334659.   402214.   231758.] [ 1321892.   396596.   231015.] [  1.75094403   3.00257716  14.99133082]\n",
      "Skipping Higgs not in data frame\n",
      "[ 20864.   9101.    530.] [ 9909.  6255.   302.] 0.9 0.48\n",
      "[ 1334659.   402214.   231758.] [ 1321892.   396596.   231015.] [  1.7707325    3.37038377  18.36625236]\n",
      "Skipping Higgs not in data frame\n",
      "[ 20597.   7670.    396.] [ 9710.  5191.   218.] 0.9 0.51\n",
      "[ 1334659.   402214.   231758.] [ 1321892.   396596.   231015.] [  1.79195928   3.87912101  23.59486464]\n",
      "Skipping Higgs not in data frame\n",
      "[ 20292.   6226.    301.] [ 9490.  4101.   170.] 0.9 0.54\n",
      "[ 1334659.   402214.   231758.] [ 1321892.   396596.   231015.] [  1.81829902   4.6065388   30.12331494]\n",
      "Skipping Higgs not in data frame\n",
      "[ 19910.   4920.    229.] [ 9222.  3153.   131.] 0.9 0.57\n",
      "[ 1334659.   402214.   231758.] [ 1321892.   396596.   231015.] [  1.84959506   5.57141118  39.44241598]\n",
      "Skipping Higgs not in data frame\n",
      "[ 19440.   3663.    166.] [ 8927.  2239.    98.] 0.9 0.6\n",
      "[ 1334659.   402214.   231758.] [ 1321892.   396596.   231015.] [  1.88979532   7.08275185  51.51600034]\n"
     ]
    }
   ],
   "source": [
    "results = []\n",
    "cuts = []\n",
    "for i in range(0,21):\n",
    "    ftt = 0.6 *  i / 20.0\n",
    "    cuts.append(ftt)\n",
    "    results.append( calc_tot_stat_unc(df, 0.9, ftt, scales=scales) )\n",
    "results = np.array(results)\n",
    "cuts = np.array(cuts)"
   ]
  },
  {
   "cell_type": "code",
   "execution_count": 16,
   "metadata": {},
   "outputs": [
    {
     "data": {
      "text/plain": [
       "<matplotlib.text.Text at 0x7f2985159590>"
      ]
     },
     "execution_count": 16,
     "metadata": {},
     "output_type": "execute_result"
    },
    {
     "data": {
      "image/png": "[encoded data removed]",
      "text/plain": [
       "<matplotlib.figure.Figure at 0x7f298e37c710>"
      ]
     },
     "metadata": {},
     "output_type": "display_data"
    }
   ],
   "source": [
    "#Scale factors\n",
    "fig , (ax1, ax2) = plt.subplots(1 ,2, figsize=(8*2,6))\n",
    "\n",
    "ax1.plot( cuts, results[:,2,0], label=\"0 Jets\" )\n",
    "ax1.plot( cuts, results[:,2,1], label=\"1 Jets\" )\n",
    "ax1.plot( cuts, results[:,2,2], label=\"2 and greater\" )\n",
    "ax1.set_title(\"Jet $1/\\epsilon$\")\n",
    "ax1.legend(frameon= False, fontsize=\"small\", loc=1)\n",
    "ax1.grid(True)\n",
    "\n",
    "ax2.set_title(\"Jet $\\epsilon$\")\n",
    "ax2.plot( cuts, results[:,2,0]**-1, label=\"0 Jets\" )\n",
    "ax2.plot( cuts, results[:,2,1]**-1, label=\"1 Jets\" )\n",
    "ax2.plot( cuts, results[:,2,2]**-1, label=\"2 and greater\" )\n",
    "plt.grid(True)\n",
    "\n",
    "plt.xlabel(\"Top RF cut\")\n"
   ]
  },
  {
   "cell_type": "code",
   "execution_count": 17,
   "metadata": {},
   "outputs": [
    {
     "data": {
      "text/plain": [
       "<matplotlib.text.Text at 0x7f298e37c2d0>"
      ]
     },
     "execution_count": 17,
     "metadata": {},
     "output_type": "execute_result"
    },
    {
     "data": {
      "image/png": "[encoded data removed]",
      "text/plain": [
       "<matplotlib.figure.Figure at 0x7f298e366ed0>"
      ]
     },
     "metadata": {},
     "output_type": "display_data"
    }
   ],
   "source": [
    "#Stat unc factors\n",
    "plt.figure(figsize=(8,6))\n",
    "plt.plot( cuts, results[:,0,0] / results[:,1,0], label=\"0 Jets\" )\n",
    "plt.plot( cuts, results[:,0,1] / results[:,1,1], label=\"1 Jets\" )\n",
    "a = plt.plot( cuts, results[:,0,2] / results[:,1,2], label=\"2 and greater\" )\n",
    "\n",
    "plt.grid(True)\n",
    "plt.legend(frameon= False, fontsize=\"small\")\n",
    "plt.title(\"Jet Stat Unc\")\n",
    "plt.xlabel(\"Top RF cut\")"
   ]
  },
  {
   "cell_type": "markdown",
   "metadata": {},
   "source": [
    "## Norm"
   ]
  },
  {
   "cell_type": "code",
   "execution_count": 10,
   "metadata": {
    "code_folding": [],
    "collapsed": true
   },
   "outputs": [],
   "source": [
    "def calc_normie(df, fdy, ftt):\n",
    "    total, bkg = measure_jet_multi(table_jet_multi(df, scales=scales, fdy=fdy, ftt=ftt))\n",
    "    print total, bkg, fdy, ftt\n",
    "    fake_data = construct_fake_data(total)\n",
    "\n",
    "    \n",
    "    tot_total, tot_bkg = measure_jet_multi(table_jet_multi(df, scales=scales, fdy=-1, ftt=-1))\n",
    "    \n",
    "    sf = produce_jsf(df_ww, fdy, ftt)\n",
    "    print tot_total, tot_bkg, sf\n",
    "    print fake_data\n",
    "    temp_results = sf * (fake_data - bkg)/(sf*fake_data - sf*bkg).sum()\n",
    "    \n",
    "    up   = []\n",
    "    down = []\n",
    "    for process in scales.keys():\n",
    "        #print process\n",
    "        if process == \"Data\":\n",
    "            continue\n",
    "        if \"WW\" in process:\n",
    "            continue\n",
    "        if process not in df.process_decay.unique():\n",
    "            continue\n",
    "        def construct_fake_measurement(df, scales, fdy, ftt, sign):\n",
    "            alt_scales = copy.copy(scales)\n",
    "            alt_scales[process] = scales[process] * (1. + sign*unc_mc_process[process])\n",
    "            a = table_jet_multi(df, fdy=fdy, ftt=ftt, scales=alt_scales)\n",
    "            temp_, bkg = measure_jet_multi(a)\n",
    "            fake_measurement = []\n",
    "            for i in range(3):\n",
    "                fake_measurement.append( sf[i] * float(fake_data[i] - bkg[i]) / ((sf*fake_data).sum() - (sf*bkg).sum())  )\n",
    "            #print sign, bkg, (1. + sign*unc_mc_process[process]), scales[process], alt_scales[process]\n",
    "            return fake_measurement\n",
    "        \n",
    "        fake_measurement = construct_fake_measurement(df, scales, fdy, ftt, 1)\n",
    "        up.append(np.array(fake_measurement))\n",
    "\n",
    "        fake_measurement = construct_fake_measurement(df, scales, fdy, ftt, -1)\n",
    "        down.append(np.array(fake_measurement))\n",
    "    up = np.array(up)\n",
    "    down = np.array(down)\n",
    "    \n",
    "    np.set_printoptions(suppress=True)\n",
    "    norm_unc =  ((np.abs( up - down ) / 2.)**2.).sum(0)**.5\n",
    "    \n",
    "\n",
    "    \n",
    "    print \"========= \" + str(fdy) + \" \" + str(ftt) +\"  =========\"\n",
    "    print \"norm unc\", norm_unc,\\\n",
    "    \"\\nnorm unc (%)\", norm_unc / temp_results * 100.\n",
    "    return norm_unc, temp_results, sf"
   ]
  },
  {
   "cell_type": "code",
   "execution_count": 11,
   "metadata": {
    "code_folding": []
   },
   "outputs": [
    {
     "name": "stdout",
     "output_type": "stream",
     "text": [
      "[ 21382.  25932.  45945.] [  9122.  20050.  43152.] 0.9 0.0\n",
      "[ 1328013.   398486.   228052.] [ 1308266.   388955.   223419.] [ 1.66746998  1.66131644  1.61105854]\n",
      "[ 21402.  25979.  45899.]\n",
      "========= 0.9 0.0  =========\n",
      "norm unc [ 0.06862007  0.00343742  0.07153975] \n",
      "norm unc (%) [ 11.64595844   1.2127739   56.17692165]\n",
      "[ 21382.  24968.  31843.] [  9122.  19094.  29033.] 0.9 0.03\n",
      "[ 1328013.   398486.   228052.] [ 1308266.   388955.   223419.] [ 1.66762635  1.67008333  1.66687967]\n",
      "[ 21402.  25014.  31804.]\n",
      "========= 0.9 0.03  =========\n",
      "norm unc [ 0.04955552  0.00419423  0.04571181] \n",
      "norm unc (%) [  8.46579365   1.48410621  34.62265893]\n",
      "[ 21381.  23479.  24091.] [  9122.  17648.  21294.] 0.9 0.06\n",
      "[ 1328013.   398486.   228052.] [ 1308266.   388955.   223419.] [ 1.66792994  1.68816083  1.76249068]\n",
      "[ 21401.  23524.  24057.]\n",
      "========= 0.9 0.06  =========\n",
      "norm unc [ 0.03889619  0.00595931  0.03314327] \n",
      "norm unc (%) [  6.69839231   2.11887277  24.0044582 ]\n",
      "[ 21372.  22318.  18876.] [  9113.  16510.  16206.] 0.9 0.09\n",
      "[ 1328013.   398486.   228052.] [ 1308266.   388955.   223419.] [ 1.66869618  1.7133562   1.89884627]\n",
      "[ 21392.  22362.  18846.]\n",
      "========= 0.9 0.09  =========\n",
      "norm unc [ 0.03217378  0.00688799  0.02544031] \n",
      "norm unc (%) [  5.57892032   2.4407818   18.03088089]\n",
      "[ 21349.  21334.  15040.] [  9090.  15568.  12495.] 0.9 0.12\n",
      "[ 1328013.   398486.   228052.] [ 1308266.   388955.   223419.] [ 1.67019132  1.74189889  2.0760327 ]\n",
      "[ 21369.  21377.  15013.]\n",
      "========= 0.9 0.12  =========\n",
      "norm unc [ 0.02733252  0.00741431  0.02008923] \n",
      "norm unc (%) [  4.77851663   2.62717454  13.77895049]\n",
      "[ 21313.  20471.  11987.] [  9054.  14749.   9622.] 0.9 0.15\n",
      "[ 1328013.   398486.   228052.] [ 1308266.   388955.   223419.] [ 1.67196869  1.77686833  2.31405937]\n",
      "[ 21333.  20513.  11963.]\n"
     ]
    },
    {
     "ename": "KeyError",
     "evalue": "MemoryError()",
     "output_type": "error",
     "traceback": [
      "\u001b[0;31m\u001b[0m",
      "\u001b[0;31mKeyError\u001b[0mTraceback (most recent call last)",
      "\u001b[0;32m<ipython-input-11-19c296ce9438>\u001b[0m in \u001b[0;36m<module>\u001b[0;34m()\u001b[0m\n\u001b[1;32m      5\u001b[0m     \u001b[0mftt\u001b[0m \u001b[0;34m=\u001b[0m \u001b[0;36m0.6\u001b[0m \u001b[0;34m*\u001b[0m  \u001b[0mi\u001b[0m \u001b[0;34m/\u001b[0m \u001b[0;36m20.0\u001b[0m\u001b[0;34m\u001b[0m\u001b[0m\n\u001b[1;32m      6\u001b[0m     \u001b[0mcuts\u001b[0m\u001b[0;34m.\u001b[0m\u001b[0mappend\u001b[0m\u001b[0;34m(\u001b[0m\u001b[0mftt\u001b[0m\u001b[0;34m)\u001b[0m\u001b[0;34m\u001b[0m\u001b[0m\n\u001b[0;32m----> 7\u001b[0;31m     \u001b[0mresults\u001b[0m\u001b[0;34m.\u001b[0m\u001b[0mappend\u001b[0m\u001b[0;34m(\u001b[0m\u001b[0mcalc_normie\u001b[0m\u001b[0;34m(\u001b[0m\u001b[0mdf\u001b[0m\u001b[0;34m,\u001b[0m \u001b[0;36m0.9\u001b[0m\u001b[0;34m,\u001b[0m \u001b[0mftt\u001b[0m\u001b[0;34m)\u001b[0m\u001b[0;34m)\u001b[0m\u001b[0;34m\u001b[0m\u001b[0m\n\u001b[0m\u001b[1;32m      8\u001b[0m \u001b[0;34m\u001b[0m\u001b[0m\n\u001b[1;32m      9\u001b[0m \u001b[0mcuts\u001b[0m \u001b[0;34m=\u001b[0m \u001b[0mnp\u001b[0m\u001b[0;34m.\u001b[0m\u001b[0marray\u001b[0m\u001b[0;34m(\u001b[0m\u001b[0mcuts\u001b[0m\u001b[0;34m)\u001b[0m\u001b[0;34m\u001b[0m\u001b[0m\n",
      "\u001b[0;32m<ipython-input-10-b3b6ba7cbce4>\u001b[0m in \u001b[0;36mcalc_normie\u001b[0;34m(df, fdy, ftt)\u001b[0m\n\u001b[1;32m     33\u001b[0m             \u001b[0;32mreturn\u001b[0m \u001b[0mfake_measurement\u001b[0m\u001b[0;34m\u001b[0m\u001b[0m\n\u001b[1;32m     34\u001b[0m \u001b[0;34m\u001b[0m\u001b[0m\n\u001b[0;32m---> 35\u001b[0;31m         \u001b[0mfake_measurement\u001b[0m \u001b[0;34m=\u001b[0m \u001b[0mconstruct_fake_measurement\u001b[0m\u001b[0;34m(\u001b[0m\u001b[0mdf\u001b[0m\u001b[0;34m,\u001b[0m \u001b[0mscales\u001b[0m\u001b[0;34m,\u001b[0m \u001b[0mfdy\u001b[0m\u001b[0;34m,\u001b[0m \u001b[0mftt\u001b[0m\u001b[0;34m,\u001b[0m \u001b[0;36m1\u001b[0m\u001b[0;34m)\u001b[0m\u001b[0;34m\u001b[0m\u001b[0m\n\u001b[0m\u001b[1;32m     36\u001b[0m         \u001b[0mup\u001b[0m\u001b[0;34m.\u001b[0m\u001b[0mappend\u001b[0m\u001b[0;34m(\u001b[0m\u001b[0mnp\u001b[0m\u001b[0;34m.\u001b[0m\u001b[0marray\u001b[0m\u001b[0;34m(\u001b[0m\u001b[0mfake_measurement\u001b[0m\u001b[0;34m)\u001b[0m\u001b[0;34m)\u001b[0m\u001b[0;34m\u001b[0m\u001b[0m\n\u001b[1;32m     37\u001b[0m \u001b[0;34m\u001b[0m\u001b[0m\n",
      "\u001b[0;32m<ipython-input-10-b3b6ba7cbce4>\u001b[0m in \u001b[0;36mconstruct_fake_measurement\u001b[0;34m(df, scales, fdy, ftt, sign)\u001b[0m\n\u001b[1;32m     25\u001b[0m             \u001b[0malt_scales\u001b[0m \u001b[0;34m=\u001b[0m \u001b[0mcopy\u001b[0m\u001b[0;34m.\u001b[0m\u001b[0mcopy\u001b[0m\u001b[0;34m(\u001b[0m\u001b[0mscales\u001b[0m\u001b[0;34m)\u001b[0m\u001b[0;34m\u001b[0m\u001b[0m\n\u001b[1;32m     26\u001b[0m             \u001b[0malt_scales\u001b[0m\u001b[0;34m[\u001b[0m\u001b[0mprocess\u001b[0m\u001b[0;34m]\u001b[0m \u001b[0;34m=\u001b[0m \u001b[0mscales\u001b[0m\u001b[0;34m[\u001b[0m\u001b[0mprocess\u001b[0m\u001b[0;34m]\u001b[0m \u001b[0;34m*\u001b[0m \u001b[0;34m(\u001b[0m\u001b[0;36m1.\u001b[0m \u001b[0;34m+\u001b[0m \u001b[0msign\u001b[0m\u001b[0;34m*\u001b[0m\u001b[0munc_mc_process\u001b[0m\u001b[0;34m[\u001b[0m\u001b[0mprocess\u001b[0m\u001b[0;34m]\u001b[0m\u001b[0;34m)\u001b[0m\u001b[0;34m\u001b[0m\u001b[0m\n\u001b[0;32m---> 27\u001b[0;31m             \u001b[0ma\u001b[0m \u001b[0;34m=\u001b[0m \u001b[0mtable_jet_multi\u001b[0m\u001b[0;34m(\u001b[0m\u001b[0mdf\u001b[0m\u001b[0;34m,\u001b[0m \u001b[0mfdy\u001b[0m\u001b[0;34m=\u001b[0m\u001b[0mfdy\u001b[0m\u001b[0;34m,\u001b[0m \u001b[0mftt\u001b[0m\u001b[0;34m=\u001b[0m\u001b[0mftt\u001b[0m\u001b[0;34m,\u001b[0m \u001b[0mscales\u001b[0m\u001b[0;34m=\u001b[0m\u001b[0malt_scales\u001b[0m\u001b[0;34m)\u001b[0m\u001b[0;34m\u001b[0m\u001b[0m\n\u001b[0m\u001b[1;32m     28\u001b[0m             \u001b[0mtemp_\u001b[0m\u001b[0;34m,\u001b[0m \u001b[0mbkg\u001b[0m \u001b[0;34m=\u001b[0m \u001b[0mmeasure_jet_multi\u001b[0m\u001b[0;34m(\u001b[0m\u001b[0ma\u001b[0m\u001b[0;34m)\u001b[0m\u001b[0;34m\u001b[0m\u001b[0m\n\u001b[1;32m     29\u001b[0m             \u001b[0mfake_measurement\u001b[0m \u001b[0;34m=\u001b[0m \u001b[0;34m[\u001b[0m\u001b[0;34m]\u001b[0m\u001b[0;34m\u001b[0m\u001b[0m\n",
      "\u001b[0;32m<ipython-input-5-314bd73ccc4a>\u001b[0m in \u001b[0;36mtable_jet_multi\u001b[0;34m(df, scales, fdy, ftt)\u001b[0m\n\u001b[1;32m      7\u001b[0m             \u001b[0mquery\u001b[0m\u001b[0;34m=\u001b[0m \u001b[0;34m\"pred_fDY_WW > \"\u001b[0m \u001b[0;34m+\u001b[0m \u001b[0mstr\u001b[0m\u001b[0;34m(\u001b[0m\u001b[0mfdy\u001b[0m\u001b[0;34m)\u001b[0m \u001b[0;34m+\u001b[0m \u001b[0;34m\" & pred_fTT_WW > \"\u001b[0m \u001b[0;34m+\u001b[0m \u001b[0mstr\u001b[0m\u001b[0;34m(\u001b[0m\u001b[0mftt\u001b[0m\u001b[0;34m)\u001b[0m \u001b[0;34m+\u001b[0m \u001b[0;34m\" &  numb_jets >= \"\u001b[0m \u001b[0;34m+\u001b[0m \u001b[0mstr\u001b[0m\u001b[0;34m(\u001b[0m\u001b[0mi\u001b[0m\u001b[0;34m)\u001b[0m\u001b[0;34m\u001b[0m\u001b[0m\n\u001b[1;32m      8\u001b[0m \u001b[0;34m\u001b[0m\u001b[0m\n\u001b[0;32m----> 9\u001b[0;31m         \u001b[0ma\u001b[0m\u001b[0;34m.\u001b[0m\u001b[0mappend\u001b[0m\u001b[0;34m(\u001b[0m\u001b[0mprocess_yields\u001b[0m\u001b[0;34m(\u001b[0m\u001b[0mpre_cuts\u001b[0m\u001b[0;34m(\u001b[0m\u001b[0mdf\u001b[0m\u001b[0;34m,\u001b[0m \u001b[0mFalse\u001b[0m\u001b[0;34m)\u001b[0m\u001b[0;34m,\u001b[0m \u001b[0mpre_cuts\u001b[0m\u001b[0;34m(\u001b[0m\u001b[0mdf_da\u001b[0m\u001b[0;34m,\u001b[0m \u001b[0mFalse\u001b[0m\u001b[0;34m)\u001b[0m\u001b[0;34m,\u001b[0m \u001b[0mquery\u001b[0m\u001b[0;34m=\u001b[0m\u001b[0mquery\u001b[0m\u001b[0;34m,\u001b[0m \u001b[0mscales\u001b[0m\u001b[0;34m=\u001b[0m\u001b[0mscales\u001b[0m\u001b[0;34m)\u001b[0m\u001b[0;34m)\u001b[0m\u001b[0;34m\u001b[0m\u001b[0m\n\u001b[0m\u001b[1;32m     10\u001b[0m     \u001b[0;32mreturn\u001b[0m \u001b[0ma\u001b[0m\u001b[0;34m\u001b[0m\u001b[0m\n\u001b[1;32m     11\u001b[0m \u001b[0ma\u001b[0m \u001b[0;34m=\u001b[0m \u001b[0mtable_jet_multi\u001b[0m\u001b[0;34m(\u001b[0m\u001b[0mdf\u001b[0m\u001b[0;34m)\u001b[0m\u001b[0;34m\u001b[0m\u001b[0m\n",
      "\u001b[0;32m/home/gunter/WW_analysis/production/Analysis_13TeV/notebooks/../prep_ana_II.pyc\u001b[0m in \u001b[0;36mprocess_yields\u001b[0;34m(df, df_da, query, processes, scales)\u001b[0m\n\u001b[1;32m    999\u001b[0m \u001b[0;34m\u001b[0m\u001b[0m\n\u001b[1;32m   1000\u001b[0m   \u001b[0;32mif\u001b[0m \u001b[0mtype\u001b[0m\u001b[0;34m(\u001b[0m\u001b[0mquery\u001b[0m\u001b[0;34m)\u001b[0m \u001b[0;34m==\u001b[0m \u001b[0mtype\u001b[0m\u001b[0;34m(\u001b[0m\u001b[0;34m\"\"\u001b[0m\u001b[0;34m)\u001b[0m\u001b[0;34m:\u001b[0m\u001b[0;34m\u001b[0m\u001b[0m\n\u001b[0;32m-> 1001\u001b[0;31m     \u001b[0mdf\u001b[0m \u001b[0;34m=\u001b[0m \u001b[0mdf\u001b[0m\u001b[0;34m.\u001b[0m\u001b[0mquery\u001b[0m\u001b[0;34m(\u001b[0m\u001b[0mquery\u001b[0m\u001b[0;34m)\u001b[0m\u001b[0;34m\u001b[0m\u001b[0m\n\u001b[0m\u001b[1;32m   1002\u001b[0m     \u001b[0;32mif\u001b[0m \u001b[0mtype\u001b[0m\u001b[0;34m(\u001b[0m\u001b[0mdf_da\u001b[0m\u001b[0;34m)\u001b[0m \u001b[0;34m==\u001b[0m \u001b[0mtype\u001b[0m\u001b[0;34m(\u001b[0m\u001b[0mdf\u001b[0m\u001b[0;34m)\u001b[0m\u001b[0;34m:\u001b[0m\u001b[0;34m\u001b[0m\u001b[0m\n\u001b[1;32m   1003\u001b[0m       \u001b[0mdf_da\u001b[0m \u001b[0;34m=\u001b[0m \u001b[0mdf_da\u001b[0m\u001b[0;34m.\u001b[0m\u001b[0mquery\u001b[0m\u001b[0;34m(\u001b[0m\u001b[0mquery\u001b[0m\u001b[0;34m)\u001b[0m\u001b[0;34m\u001b[0m\u001b[0m\n",
      "\u001b[0;32m/home/gunter/anaconda2/lib/python2.7/site-packages/pandas/core/frame.pyc\u001b[0m in \u001b[0;36mquery\u001b[0;34m(self, expr, inplace, **kwargs)\u001b[0m\n\u001b[1;32m   2117\u001b[0m \u001b[0;34m\u001b[0m\u001b[0m\n\u001b[1;32m   2118\u001b[0m         \u001b[0;32mtry\u001b[0m\u001b[0;34m:\u001b[0m\u001b[0;34m\u001b[0m\u001b[0m\n\u001b[0;32m-> 2119\u001b[0;31m             \u001b[0mnew_data\u001b[0m \u001b[0;34m=\u001b[0m \u001b[0mself\u001b[0m\u001b[0;34m.\u001b[0m\u001b[0mloc\u001b[0m\u001b[0;34m[\u001b[0m\u001b[0mres\u001b[0m\u001b[0;34m]\u001b[0m\u001b[0;34m\u001b[0m\u001b[0m\n\u001b[0m\u001b[1;32m   2120\u001b[0m         \u001b[0;32mexcept\u001b[0m \u001b[0mValueError\u001b[0m\u001b[0;34m:\u001b[0m\u001b[0;34m\u001b[0m\u001b[0m\n\u001b[1;32m   2121\u001b[0m             \u001b[0;31m# when res is multi-dimensional loc raises, but this is sometimes a\u001b[0m\u001b[0;34m\u001b[0m\u001b[0;34m\u001b[0m\u001b[0m\n",
      "\u001b[0;32m/home/gunter/anaconda2/lib/python2.7/site-packages/pandas/core/indexing.pyc\u001b[0m in \u001b[0;36m__getitem__\u001b[0;34m(self, key)\u001b[0m\n\u001b[1;32m   1326\u001b[0m         \u001b[0;32melse\u001b[0m\u001b[0;34m:\u001b[0m\u001b[0;34m\u001b[0m\u001b[0m\n\u001b[1;32m   1327\u001b[0m             \u001b[0mkey\u001b[0m \u001b[0;34m=\u001b[0m \u001b[0mcom\u001b[0m\u001b[0;34m.\u001b[0m\u001b[0m_apply_if_callable\u001b[0m\u001b[0;34m(\u001b[0m\u001b[0mkey\u001b[0m\u001b[0;34m,\u001b[0m \u001b[0mself\u001b[0m\u001b[0;34m.\u001b[0m\u001b[0mobj\u001b[0m\u001b[0;34m)\u001b[0m\u001b[0;34m\u001b[0m\u001b[0m\n\u001b[0;32m-> 1328\u001b[0;31m             \u001b[0;32mreturn\u001b[0m \u001b[0mself\u001b[0m\u001b[0;34m.\u001b[0m\u001b[0m_getitem_axis\u001b[0m\u001b[0;34m(\u001b[0m\u001b[0mkey\u001b[0m\u001b[0;34m,\u001b[0m \u001b[0maxis\u001b[0m\u001b[0;34m=\u001b[0m\u001b[0;36m0\u001b[0m\u001b[0;34m)\u001b[0m\u001b[0;34m\u001b[0m\u001b[0m\n\u001b[0m\u001b[1;32m   1329\u001b[0m \u001b[0;34m\u001b[0m\u001b[0m\n\u001b[1;32m   1330\u001b[0m     \u001b[0;32mdef\u001b[0m \u001b[0m_is_scalar_access\u001b[0m\u001b[0;34m(\u001b[0m\u001b[0mself\u001b[0m\u001b[0;34m,\u001b[0m \u001b[0mkey\u001b[0m\u001b[0;34m)\u001b[0m\u001b[0;34m:\u001b[0m\u001b[0;34m\u001b[0m\u001b[0m\n",
      "\u001b[0;32m/home/gunter/anaconda2/lib/python2.7/site-packages/pandas/core/indexing.pyc\u001b[0m in \u001b[0;36m_getitem_axis\u001b[0;34m(self, key, axis)\u001b[0m\n\u001b[1;32m   1506\u001b[0m             \u001b[0;32mreturn\u001b[0m \u001b[0mself\u001b[0m\u001b[0;34m.\u001b[0m\u001b[0m_get_slice_axis\u001b[0m\u001b[0;34m(\u001b[0m\u001b[0mkey\u001b[0m\u001b[0;34m,\u001b[0m \u001b[0maxis\u001b[0m\u001b[0;34m=\u001b[0m\u001b[0maxis\u001b[0m\u001b[0;34m)\u001b[0m\u001b[0;34m\u001b[0m\u001b[0m\n\u001b[1;32m   1507\u001b[0m         \u001b[0;32melif\u001b[0m \u001b[0mis_bool_indexer\u001b[0m\u001b[0;34m(\u001b[0m\u001b[0mkey\u001b[0m\u001b[0;34m)\u001b[0m\u001b[0;34m:\u001b[0m\u001b[0;34m\u001b[0m\u001b[0m\n\u001b[0;32m-> 1508\u001b[0;31m             \u001b[0;32mreturn\u001b[0m \u001b[0mself\u001b[0m\u001b[0;34m.\u001b[0m\u001b[0m_getbool_axis\u001b[0m\u001b[0;34m(\u001b[0m\u001b[0mkey\u001b[0m\u001b[0;34m,\u001b[0m \u001b[0maxis\u001b[0m\u001b[0;34m=\u001b[0m\u001b[0maxis\u001b[0m\u001b[0;34m)\u001b[0m\u001b[0;34m\u001b[0m\u001b[0m\n\u001b[0m\u001b[1;32m   1509\u001b[0m         \u001b[0;32melif\u001b[0m \u001b[0mis_list_like_indexer\u001b[0m\u001b[0;34m(\u001b[0m\u001b[0mkey\u001b[0m\u001b[0;34m)\u001b[0m\u001b[0;34m:\u001b[0m\u001b[0;34m\u001b[0m\u001b[0m\n\u001b[1;32m   1510\u001b[0m \u001b[0;34m\u001b[0m\u001b[0m\n",
      "\u001b[0;32m/home/gunter/anaconda2/lib/python2.7/site-packages/pandas/core/indexing.pyc\u001b[0m in \u001b[0;36m_getbool_axis\u001b[0;34m(self, key, axis)\u001b[0m\n\u001b[1;32m   1344\u001b[0m             \u001b[0;32mreturn\u001b[0m \u001b[0mself\u001b[0m\u001b[0;34m.\u001b[0m\u001b[0mobj\u001b[0m\u001b[0;34m.\u001b[0m\u001b[0mtake\u001b[0m\u001b[0;34m(\u001b[0m\u001b[0minds\u001b[0m\u001b[0;34m,\u001b[0m \u001b[0maxis\u001b[0m\u001b[0;34m=\u001b[0m\u001b[0maxis\u001b[0m\u001b[0;34m,\u001b[0m \u001b[0mconvert\u001b[0m\u001b[0;34m=\u001b[0m\u001b[0mFalse\u001b[0m\u001b[0;34m)\u001b[0m\u001b[0;34m\u001b[0m\u001b[0m\n\u001b[1;32m   1345\u001b[0m         \u001b[0;32mexcept\u001b[0m \u001b[0mException\u001b[0m \u001b[0;32mas\u001b[0m \u001b[0mdetail\u001b[0m\u001b[0;34m:\u001b[0m\u001b[0;34m\u001b[0m\u001b[0m\n\u001b[0;32m-> 1346\u001b[0;31m             \u001b[0;32mraise\u001b[0m \u001b[0mself\u001b[0m\u001b[0;34m.\u001b[0m\u001b[0m_exception\u001b[0m\u001b[0;34m(\u001b[0m\u001b[0mdetail\u001b[0m\u001b[0;34m)\u001b[0m\u001b[0;34m\u001b[0m\u001b[0m\n\u001b[0m\u001b[1;32m   1347\u001b[0m \u001b[0;34m\u001b[0m\u001b[0m\n\u001b[1;32m   1348\u001b[0m     \u001b[0;32mdef\u001b[0m \u001b[0m_get_slice_axis\u001b[0m\u001b[0;34m(\u001b[0m\u001b[0mself\u001b[0m\u001b[0;34m,\u001b[0m \u001b[0mslice_obj\u001b[0m\u001b[0;34m,\u001b[0m \u001b[0maxis\u001b[0m\u001b[0;34m=\u001b[0m\u001b[0;36m0\u001b[0m\u001b[0;34m)\u001b[0m\u001b[0;34m:\u001b[0m\u001b[0;34m\u001b[0m\u001b[0m\n",
      "\u001b[0;31mKeyError\u001b[0m: MemoryError()"
     ]
    }
   ],
   "source": [
    "#%%capture\n",
    "results = []\n",
    "cuts = []\n",
    "for i in range(0,6):\n",
    "    ftt = 0.6 *  i / 20.0\n",
    "    cuts.append(ftt)\n",
    "    results.append(calc_normie(df, 0.9, ftt))\n",
    "    \n",
    "cuts = np.array(cuts)\n",
    "results = np.array(results)"
   ]
  },
  {
   "cell_type": "code",
   "execution_count": null,
   "metadata": {
    "collapsed": true
   },
   "outputs": [],
   "source": [
    "results"
   ]
  },
  {
   "cell_type": "code",
   "execution_count": 22,
   "metadata": {},
   "outputs": [
    {
     "data": {
      "text/plain": [
       "<matplotlib.text.Text at 0x7f2984fc6990>"
      ]
     },
     "execution_count": 22,
     "metadata": {},
     "output_type": "execute_result"
    },
    {
     "data": {
      "image/png": "[encoded data removed]",
      "text/plain": [
       "<matplotlib.figure.Figure at 0x7f298e347290>"
      ]
     },
     "metadata": {},
     "output_type": "display_data"
    }
   ],
   "source": [
    "#Norm unc factors\n",
    "plt.figure(figsize=(8,6))\n",
    "plt.plot( cuts, results[:,0,0] / results[:,1,0], label=\"0 Jets\" )\n",
    "plt.plot( cuts, results[:,0,1] / results[:,1,1], label=\"1 Jets\" )\n",
    "a = plt.plot( cuts, results[:,0,2] / results[:,1,2], label=\"2 and greater\" )\n",
    "\n",
    "#norm unc [ 0.00648795  0.00476016  0.00209564] \n",
    "#norm unc (%) [ 0.98152573  1.81556337  2.72843057]\n",
    "\n",
    "plt.grid(True)\n",
    "plt.legend(frameon= False, fontsize=\"small\")\n",
    "plt.title(\"Jet Normalization Uncertainty\")\n",
    "plt.xlabel(\"Top RF cut\")"
   ]
  },
  {
   "cell_type": "code",
   "execution_count": 26,
   "metadata": {},
   "outputs": [
    {
     "data": {
      "text/plain": [
       "array([ 0.15,  0.18,  0.21,  0.24,  0.27,  0.3 ,  0.33,  0.36,  0.39,  0.42])"
      ]
     },
     "execution_count": 26,
     "metadata": {},
     "output_type": "execute_result"
    }
   ],
   "source": [
    "cuts"
   ]
  },
  {
   "cell_type": "code",
   "execution_count": 29,
   "metadata": {},
   "outputs": [
    {
     "data": {
      "text/plain": [
       "array([[ 0.00218148,  0.00092274,  0.00126663],\n",
       "       [ 0.29844893,  0.42700498,  0.27454608],\n",
       "       [ 1.67826634,  1.88244418,  3.02724653]])"
      ]
     },
     "execution_count": 29,
     "metadata": {},
     "output_type": "execute_result"
    }
   ],
   "source": [
    "results[2]"
   ]
  },
  {
   "cell_type": "code",
   "execution_count": 45,
   "metadata": {},
   "outputs": [
    {
     "name": "stdout",
     "output_type": "stream",
     "text": [
      "[ 24744.  21911.   8556.] [ 11982.  16789.   7257.] 0.9 0.2\n",
      "[ 1420329.   425550.   244323.] [ 1404731.   418628.   243046.] [ 1.67712852  1.86145236  2.87380154]\n"
     ]
    }
   ],
   "source": [
    "a, b, c = calc_tot_stat_unc(df, 0.9, 0.2, scales=scales)"
   ]
  },
  {
   "cell_type": "code",
   "execution_count": 47,
   "metadata": {},
   "outputs": [
    {
     "data": {
      "text/plain": [
       "array([ 0.03592418,  0.08546552,  0.19737119])"
      ]
     },
     "execution_count": 47,
     "metadata": {},
     "output_type": "execute_result"
    }
   ],
   "source": [
    "a/b"
   ]
  },
  {
   "cell_type": "code",
   "execution_count": 38,
   "metadata": {},
   "outputs": [
    {
     "data": {
      "text/plain": [
       "[    Diff Flavor          Process  Same Flavor\n",
       " 0         11622               WW         1952\n",
       " 1           977  GluGluWWTo2L2Nu          287\n",
       " 2         12599        Total: WW         2240\n",
       " 3          1955               DY          536\n",
       " 4          3491              Top          933\n",
       " 5           274               WZ           77\n",
       " 6             3               ZZ           50\n",
       " 7           411            WG(*)           22\n",
       " 8           142            Higgs           29\n",
       " 9          3678               WJ          381\n",
       " 10        20670            Total         4074\n",
       " 11        20449             DATA         4122,\n",
       "     Diff Flavor          Process  Same Flavor\n",
       " 0          5276               WW          904\n",
       " 1           609  GluGluWWTo2L2Nu          141\n",
       " 2          5885        Total: WW         1044\n",
       " 3          1094               DY         1066\n",
       " 4          8388              Top         1813\n",
       " 5           393               WZ           68\n",
       " 6             2               ZZ           20\n",
       " 7           296            WG(*)           31\n",
       " 8            78            Higgs           12\n",
       " 9          3225               WJ          303\n",
       " 10        17709            Total         4202\n",
       " 11        16766             DATA         3781,\n",
       "     Diff Flavor          Process  Same Flavor\n",
       " 0          1397               WW          364\n",
       " 1           129  GluGluWWTo2L2Nu           29\n",
       " 2          1526        Total: WW          392\n",
       " 3           195               DY          139\n",
       " 4          4339              Top         1056\n",
       " 5           144               WZ           28\n",
       " 6             1               ZZ            5\n",
       " 7           120            WG(*)            6\n",
       " 8            12            Higgs            4\n",
       " 9          1019               WJ          189\n",
       " 10         6834            Total         1722\n",
       " 11         6217             DATA         1510]"
      ]
     },
     "execution_count": 38,
     "metadata": {},
     "output_type": "execute_result"
    }
   ],
   "source": [
    "table_jet_multi(df, scales=scales, fdy=0.9, ftt=0.2)"
   ]
  },
  {
   "cell_type": "code",
   "execution_count": null,
   "metadata": {
    "collapsed": true
   },
   "outputs": [],
   "source": []
  },
  {
   "cell_type": "code",
   "execution_count": null,
   "metadata": {
    "collapsed": true
   },
   "outputs": [],
   "source": []
  },
  {
   "cell_type": "code",
   "execution_count": null,
   "metadata": {
    "collapsed": true
   },
   "outputs": [],
   "source": []
  }
 ],
 "metadata": {
  "kernelspec": {
   "display_name": "Python 2",
   "language": "python",
   "name": "python2"
  },
  "language_info": {
   "codemirror_mode": {
    "name": "ipython",
    "version": 2
   },
   "file_extension": ".py",
   "mimetype": "text/x-python",
   "name": "python",
   "nbconvert_exporter": "python",
   "pygments_lexer": "ipython2",
   "version": "2.7.13"
  },
  "toc": {
   "colors": {
    "hover_highlight": "#7c7e8b",
    "navigate_num": "#d3d3d3",
    "navigate_text": "#e4e4e4",
    "running_highlight": "#FF0000",
    "selected_highlight": "#7d878b",
    "sidebar_border": "#282121",
    "wrapper_background": "#1a2028"
   },
   "moveMenuLeft": true,
   "nav_menu": {
    "height": "125px",
    "width": "254px"
   },
   "navigate_menu": true,
   "number_sections": true,
   "sideBar": true,
   "threshold": 4,
   "toc_cell": false,
   "toc_position": {
    "height": "823px",
    "left": "0px",
    "right": "1403px",
    "top": "91px",
    "width": "212px"
   },
   "toc_section_display": "block",
   "toc_window_display": true,
   "widenNotebook": false
  }
 },
 "nbformat": 4,
 "nbformat_minor": 2
}
